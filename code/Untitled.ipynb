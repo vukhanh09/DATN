{
 "cells": [
  {
   "cell_type": "code",
   "execution_count": 1,
   "id": "bb32e2f8",
   "metadata": {},
   "outputs": [
    {
     "name": "stdout",
     "output_type": "stream",
     "text": [
      "Requirement already satisfied: tqdm in /usr/local/lib/python3.9/dist-packages (4.64.1)\n",
      "\u001b[33mWARNING: Running pip as the 'root' user can result in broken permissions and conflicting behaviour with the system package manager. It is recommended to use a virtual environment instead: https://pip.pypa.io/warnings/venv\u001b[0m\u001b[33m\n",
      "\u001b[0m"
     ]
    }
   ],
   "source": [
    "!pip install tqdm"
   ]
  },
  {
   "cell_type": "code",
   "execution_count": 2,
   "id": "cbf507fc",
   "metadata": {},
   "outputs": [
    {
     "name": "stdout",
     "output_type": "stream",
     "text": [
      "Requirement already satisfied: pandas in /usr/local/lib/python3.9/dist-packages (1.5.0)\n",
      "Requirement already satisfied: pytz>=2020.1 in /usr/local/lib/python3.9/dist-packages (from pandas) (2022.4)\n",
      "Requirement already satisfied: numpy>=1.20.3 in /usr/local/lib/python3.9/dist-packages (from pandas) (1.23.3)\n",
      "Requirement already satisfied: python-dateutil>=2.8.1 in /usr/local/lib/python3.9/dist-packages (from pandas) (2.8.2)\n",
      "Requirement already satisfied: six>=1.5 in /usr/local/lib/python3.9/dist-packages (from python-dateutil>=2.8.1->pandas) (1.16.0)\n",
      "\u001b[33mWARNING: Running pip as the 'root' user can result in broken permissions and conflicting behaviour with the system package manager. It is recommended to use a virtual environment instead: https://pip.pypa.io/warnings/venv\u001b[0m\u001b[33m\n",
      "\u001b[0m"
     ]
    }
   ],
   "source": [
    "!pip install pandas"
   ]
  },
  {
   "cell_type": "code",
   "execution_count": 11,
   "id": "d8abdf1e",
   "metadata": {},
   "outputs": [],
   "source": [
    "import requests\n",
    "import json\n",
    "import re\n",
    "from tqdm import tqdm\n",
    "import pandas as pd\n",
    "import warnings\n",
    "warnings.filterwarnings(\"ignore\")"
   ]
  },
  {
   "cell_type": "code",
   "execution_count": 4,
   "id": "eba3e947",
   "metadata": {},
   "outputs": [
    {
     "name": "stderr",
     "output_type": "stream",
     "text": [
      "22/10/12 15:14:10 WARN NativeCodeLoader: Unable to load native-hadoop library for your platform... using builtin-java classes where applicable\n",
      "Using Spark's default log4j profile: org/apache/spark/log4j-defaults.properties\n",
      "Setting default log level to \"WARN\".\n",
      "To adjust logging level use sc.setLogLevel(newLevel). For SparkR, use setLogLevel(newLevel).\n"
     ]
    }
   ],
   "source": [
    "from pyspark.sql import SparkSession\n",
    "\n",
    "spark = SparkSession.\\\n",
    "        builder.\\\n",
    "        appName(\"pyspark-notebook\").\\\n",
    "        master(\"spark://spark-master:7077\").\\\n",
    "        config(\"spark.executor.memory\", \"512m\").\\\n",
    "        getOrCreate()"
   ]
  },
  {
   "cell_type": "code",
   "execution_count": 5,
   "id": "4666d096",
   "metadata": {},
   "outputs": [],
   "source": [
    "categories = [\n",
    "    'bach-hoa-online',\n",
    "    'nha-cua-doi-song',\n",
    "    'dien-tu-dien-lanh',\n",
    "    'thiet-bi-kts-phu-kien-so',\n",
    "    'dien-thoai-may-tinh-bang',\n",
    "    'do-choi-me-be',\n",
    "    'lam-dep-suc-khoe',\n",
    "    'dien-gia-dung',\n",
    "    'thoi-trang-nu',\n",
    "    'thoi-trang-nam',\n",
    "    'giay-dep-nu',\n",
    "    'tui-vi-nu',\n",
    "    'giay-dep-nam',\n",
    "    'tui-thoi-trang-nam'\n",
    "    'balo-va-vali',\n",
    "    'phu-kien-thoi-trang',\n",
    "    'dong-ho-va-trang-suc',\n",
    "    'hang-quoc-te',\n",
    "    'laptop-may-vi-tinh-linh-kien',\n",
    "    'o-to-xe-may-xe-dap',\n",
    "    'nha-sach-tiki'\n",
    "    'the-thao-da-ngoai',\n",
    "    'may-anh',\n",
    "]\n",
    "\n",
    "api_get_id_product = 'https://tiki.vn/api/personalish/v1/blocks/listings?limit=48&include=advertisement&aggregations' \\\n",
    "                     '=2&trackity_id=3b437fb6-697c-366d-6f2b-9251936c2036&category=4221&page={}&urlKey={}'\n",
    "\n",
    "api_product = 'https://tiki.vn/api/v2/products/{}'\n",
    "product_field = [\n",
    "    'short_url', 'name', 'short_description', 'price', 'list_price', 'rating_average',\n",
    "    'rating_average', 'review_count', 'inventory_status', 'inventory_type',\n",
    "    'productset_group_name', 'all_time_quantity_sold', 'description', 'images', 'brand', 'current_seller',\n",
    "    'specifications', 'configurable_options', 'quantity_sold','categories'\n",
    "]\n",
    "\n",
    "\n",
    "def get_list_id_product(url):\n",
    "    response = requests.get(url, headers={\n",
    "        \"User-Agent\": \"Mozilla/5.0 (Windows NT 10.0; Win64; x64) AppleWebKit/537.36 (KHTML, like Gecko) \"\n",
    "                      \"Chrome/100.0.4896.127 Safari/537.36 \"\n",
    "    })\n",
    "    list_ids = []\n",
    "    if response.status_code == 200:\n",
    "        data = json.loads(response.text)['data']\n",
    "        for sample in data:\n",
    "            list_ids.append(sample['id'])\n",
    "\n",
    "    return list_ids\n",
    "\n",
    "\n",
    "def get_information_product(url):\n",
    "    response = requests.get(url, headers={\n",
    "        \"User-Agent\": \"Mozilla/5.0 (Windows NT 10.0; Win64; x64) AppleWebKit/537.36 (KHTML, like Gecko) \"\n",
    "                      \"Chrome/100.0.4896.127 Safari/537.36 \"\n",
    "    })\n",
    "    if response.status_code == 200:\n",
    "        data = json.loads(response.text)\n",
    "        item = {}\n",
    "        for field in product_field:\n",
    "            try:\n",
    "                item[field] = data[field]\n",
    "            except:\n",
    "                pass\n",
    "        return item"
   ]
  },
  {
   "cell_type": "code",
   "execution_count": 6,
   "id": "7bd27863",
   "metadata": {},
   "outputs": [],
   "source": [
    "s_category = 0\n",
    "e_category = 1\n",
    "start_page = 0\n",
    "end_page = 1"
   ]
  },
  {
   "cell_type": "code",
   "execution_count": 12,
   "id": "cae154c5",
   "metadata": {},
   "outputs": [
    {
     "name": "stderr",
     "output_type": "stream",
     "text": [
      "100%|██████████| 1/1 [00:25<00:00, 25.86s/it]\n"
     ]
    }
   ],
   "source": [
    "for i in range(s_category, e_category, 1):\n",
    "        category = categories[i]\n",
    "        for page_index in tqdm(range(start_page, end_page)):\n",
    "            category_page_url = api_get_id_product.format(page_index, category)\n",
    "            # category_name = re.search('vn\\/(.*?)\\/', category_page_url).group(1)\n",
    "            list_product_ids = get_list_id_product(category_page_url)\n",
    "            if len(list_product_ids) > 0:\n",
    "                for product_id in list_product_ids:\n",
    "                    product_url = api_product.format(product_id)\n",
    "                    item = get_information_product(product_url)\n",
    "                    item = pd.json_normalize(item)\n",
    "                    data = spark.createDataFrame(item.astype(str))\n",
    "                    data.write.mode('append').parquet('hdfs://namenode:9000/product/')"
   ]
  },
  {
   "cell_type": "code",
   "execution_count": 13,
   "id": "8cfad3bb",
   "metadata": {},
   "outputs": [],
   "source": [
    "peopleDF = spark.read.parquet(\"hdfs://namenode:9000/product/\")"
   ]
  },
  {
   "cell_type": "code",
   "execution_count": 15,
   "id": "2a0feba3",
   "metadata": {},
   "outputs": [
    {
     "name": "stderr",
     "output_type": "stream",
     "text": [
      "                                                                                \r"
     ]
    },
    {
     "data": {
      "text/plain": [
       "144"
      ]
     },
     "execution_count": 15,
     "metadata": {},
     "output_type": "execute_result"
    }
   ],
   "source": [
    "peopleDF.count()"
   ]
  },
  {
   "cell_type": "code",
   "execution_count": 17,
   "id": "25be334e",
   "metadata": {},
   "outputs": [
    {
     "name": "stdout",
     "output_type": "stream",
     "text": [
      "+--------------------+--------------------+--------------------+-------+----------+--------------+------------+----------------+--------------+---------------------+----------------------+--------------------+--------------------+--------------------+--------+-----------+-----------+-----------------+------------------+-------------------+--------------------+--------------------+--------------------+-------------------------+-----------------------+----------------------------+-----------------------------------------------+------------------+-------------------+-------------+--------------------+------------------+\n",
      "|           short_url|                name|   short_description|  price|list_price|rating_average|review_count|inventory_status|inventory_type|productset_group_name|all_time_quantity_sold|         description|              images|      specifications|brand.id| brand.name| brand.slug|current_seller.id|current_seller.sku|current_seller.name| current_seller.link| current_seller.logo|current_seller.price|current_seller.product_id|current_seller.store_id|current_seller.is_best_store|current_seller.is_offline_installment_supported|quantity_sold.text|quantity_sold.value|categories.id|     categories.name|categories.is_leaf|\n",
      "+--------------------+--------------------+--------------------+-------+----------+--------------+------------+----------------+--------------+---------------------+----------------------+--------------------+--------------------+--------------------+--------+-----------+-----------+-----------------+------------------+-------------------+--------------------+--------------------+--------------------+-------------------------+-----------------------+----------------------------+-----------------------------------------------+------------------+-------------------+-------------+--------------------+------------------+\n",
      "|https://tiki.vn/p...|Radio Sony ICF-P3...|- Kích thước (W X...| 750000|    750000|           4.5|         114|       available|       instock| Điện Tử - Điện Lạ...|                   690|<p style=\"box-siz...|[{'base_url': 'ht...|[{'name': 'Conten...|   18641|       Sony|       sony|             7800|     3516404864256|     Dientuhuyenanh|https://tiki.vn/c...|                    |              750000|                 10126333|                   7619|                       False|                                           None|        Đã bán 690|                690|         4221| Điện Tử - Điện Lạnh|             False|\n",
      "|https://tiki.vn/p...|Radio Sony ICF-P3...|- Kích thước (W X...| 750000|    750000|           4.5|         114|       available|       instock| Điện Tử - Điện Lạ...|                   690|<p style=\"box-siz...|[{'base_url': 'ht...|[{'name': 'Conten...|   18641|       Sony|       sony|             7800|     3516404864256|     Dientuhuyenanh|https://tiki.vn/c...|                    |              750000|                 10126333|                   7619|                       False|                                           None|        Đã bán 690|                690|         4221| Điện Tử - Điện Lạnh|             False|\n",
      "|https://tiki.vn/p...|Radio Sony ICF-P3...|- Kích thước (W X...| 750000|    750000|           4.5|         114|       available|       instock| Điện Tử - Điện Lạ...|                   690|<p style=\"box-siz...|[{'base_url': 'ht...|[{'name': 'Conten...|   18641|       Sony|       sony|             7800|     3516404864256|     Dientuhuyenanh|https://tiki.vn/c...|                    |              750000|                 10126333|                   7619|                       False|                                           None|        Đã bán 690|                690|         4221| Điện Tử - Điện Lạnh|             False|\n",
      "|https://tiki.vn/p...|Giá Treo Màn Hình...|NORTH BAYOUđược t...| 719000|    719000|           4.8|          48|       available|       instock| Điện Tử - Điện Lạ...|                   181|<p>NORTH BAYOUđượ...|[{'base_url': 'ht...|[{'name': 'Conten...|  168073|North Bayou|north-bayou|           100773|     8642098515286|      Smart Trading|https://tiki.vn/c...|b8/c3/c6/a81273aa...|              719000|                127350339|                  93413|                       False|                                           None|        Đã bán 181|                181|         7084|       Giá treo Tivi|              True|\n",
      "|https://tiki.vn/p...|Giá Treo Màn Hình...|NORTH BAYOUđược t...| 719000|    719000|           4.8|          48|       available|       instock| Điện Tử - Điện Lạ...|                   181|<p>NORTH BAYOUđượ...|[{'base_url': 'ht...|[{'name': 'Conten...|  168073|North Bayou|north-bayou|           100773|     8642098515286|      Smart Trading|https://tiki.vn/c...|b8/c3/c6/a81273aa...|              719000|                127350339|                  93413|                       False|                                           None|        Đã bán 181|                181|         7084|       Giá treo Tivi|              True|\n",
      "|https://tiki.vn/p...|Giá Treo Màn Hình...|NORTH BAYOUđược t...| 719000|    719000|           4.8|          48|       available|       instock| Điện Tử - Điện Lạ...|                   181|<p>NORTH BAYOUđượ...|[{'base_url': 'ht...|[{'name': 'Conten...|  168073|North Bayou|north-bayou|           100773|     8642098515286|      Smart Trading|https://tiki.vn/c...|b8/c3/c6/a81273aa...|              719000|                127350339|                  93413|                       False|                                           None|        Đã bán 181|                181|         7084|       Giá treo Tivi|              True|\n",
      "|https://tiki.vn/p...|Máy Lạnh Casper I...|GIAO HÀNG VÀ LẮP ...|5950000|   5950000|           4.5|           2|       available|     backorder| Điện Tử - Điện Lạ...|                     2|GIAO HÀNG VÀ LẮP ...|[{'base_url': 'ht...|[{'name': 'Tính n...|   48688|     Casper|     casper|           154005|     8166301629688| ĐIỆN MÁY XUÂN DIỆU|https://tiki.vn/c...|65/c1/2a/ac2348f0...|             5950000|                 84449236|                 141994|                       False|                                           None|          Đã bán 2|                  2|         3865|Máy lạnh - Máy đi...|              True|\n",
      "|https://tiki.vn/p...|Máy Lạnh Casper I...|GIAO HÀNG VÀ LẮP ...|5950000|   5950000|           4.5|           2|       available|     backorder| Điện Tử - Điện Lạ...|                     2|GIAO HÀNG VÀ LẮP ...|[{'base_url': 'ht...|[{'name': 'Tính n...|   48688|     Casper|     casper|           154005|     8166301629688| ĐIỆN MÁY XUÂN DIỆU|https://tiki.vn/c...|65/c1/2a/ac2348f0...|             5950000|                 84449236|                 141994|                       False|                                           None|          Đã bán 2|                  2|         3865|Máy lạnh - Máy đi...|              True|\n",
      "|https://tiki.vn/p...|Máy Lạnh Casper I...|GIAO HÀNG VÀ LẮP ...|5950000|   5950000|           4.5|           2|       available|     backorder| Điện Tử - Điện Lạ...|                     2|GIAO HÀNG VÀ LẮP ...|[{'base_url': 'ht...|[{'name': 'Tính n...|   48688|     Casper|     casper|           154005|     8166301629688| ĐIỆN MÁY XUÂN DIỆU|https://tiki.vn/c...|65/c1/2a/ac2348f0...|             5950000|                 84449236|                 141994|                       False|                                           None|          Đã bán 2|                  2|         3865|Máy lạnh - Máy đi...|              True|\n",
      "|https://tiki.vn/p...|Android Tivi Xiao...|Thiết kế hiện đại...|6621120|   6688000|             0|           0|       available|     backorder| Điện Tử - Điện Lạ...|                     1|<h5>Thiết kế hiện...|[{'base_url': 'ht...|[{'name': 'Conten...|   25422|     Xiaomi|     xiaomi|            58532|     1699875812844|  Trương Thiên Long|https://tiki.vn/c...|https://vcdn.tiki...|             6621120|                198413969|                  55298|                       False|                                           None|          Đã bán 1|                  1|         4239|Smart Tivi - Andr...|              True|\n",
      "|https://tiki.vn/p...|Android Tivi Xiao...|Thiết kế hiện đại...|6621120|   6688000|             0|           0|       available|     backorder| Điện Tử - Điện Lạ...|                     1|<h5>Thiết kế hiện...|[{'base_url': 'ht...|[{'name': 'Conten...|   25422|     Xiaomi|     xiaomi|            58532|     1699875812844|  Trương Thiên Long|https://tiki.vn/c...|https://vcdn.tiki...|             6621120|                198413969|                  55298|                       False|                                           None|          Đã bán 1|                  1|         4239|Smart Tivi - Andr...|              True|\n",
      "|https://tiki.vn/p...|Android Tivi Xiao...|Thiết kế hiện đại...|6621120|   6688000|             0|           0|       available|     backorder| Điện Tử - Điện Lạ...|                     1|<h5>Thiết kế hiện...|[{'base_url': 'ht...|[{'name': 'Conten...|   25422|     Xiaomi|     xiaomi|            58532|     1699875812844|  Trương Thiên Long|https://tiki.vn/c...|https://vcdn.tiki...|             6621120|                198413969|                  55298|                       False|                                           None|          Đã bán 1|                  1|         4239|Smart Tivi - Andr...|              True|\n",
      "|https://tiki.vn/p...|Remote Đa Năng Đi...|Thông tin chi tiế...|  47900|     47900|             5|           3|       available|     backorder| Điện Tử - Điện Lạ...|                    22|<p><img style=\"di...|[{'base_url': 'ht...|[{'name': 'Conten...|  111461|        OEM|        oem|           155336|     6025852244472|   Điện Tử Siêu Nhỏ|https://tiki.vn/c...|20/4d/27/d1d4ce4a...|               47900|                188940547|                 143178|                       False|                                           None|         Đã bán 22|                 22|        28886|Phụ kiện, linh ki...|              True|\n",
      "|https://tiki.vn/p...|Remote Đa Năng Đi...|Thông tin chi tiế...|  47900|     47900|             5|           3|       available|     backorder| Điện Tử - Điện Lạ...|                    22|<p><img style=\"di...|[{'base_url': 'ht...|[{'name': 'Conten...|  111461|        OEM|        oem|           155336|     6025852244472|   Điện Tử Siêu Nhỏ|https://tiki.vn/c...|20/4d/27/d1d4ce4a...|               47900|                188940547|                 143178|                       False|                                           None|         Đã bán 22|                 22|        28886|Phụ kiện, linh ki...|              True|\n",
      "|https://tiki.vn/p...|Remote Đa Năng Đi...|Thông tin chi tiế...|  47900|     47900|             5|           3|       available|     backorder| Điện Tử - Điện Lạ...|                    22|<p><img style=\"di...|[{'base_url': 'ht...|[{'name': 'Conten...|  111461|        OEM|        oem|           155336|     6025852244472|   Điện Tử Siêu Nhỏ|https://tiki.vn/c...|20/4d/27/d1d4ce4a...|               47900|                188940547|                 143178|                       False|                                           None|         Đã bán 22|                 22|        28886|Phụ kiện, linh ki...|              True|\n",
      "|https://tiki.vn/p...|Bình nước nóng Ar...|Bình nước nóng Ar...|2089000|   2820000|           4.5|          22|       available|       instock| Điện Tử - Điện Lạ...|                    66|<div id=\"detail_d...|[{'base_url': 'ht...|[{'name': 'Conten...|   47795|    Ariston|    ariston|                1|     4107717049799|       Tiki Trading|https://tiki.vn/c...|https://vcdn.tiki...|             2089000|                126818364|                  40395|                       False|                                           None|         Đã bán 66|                 66|         3866|       Máy nước nóng|              True|\n",
      "|https://tiki.vn/p...|Bình nước nóng Ar...|Bình nước nóng Ar...|2089000|   2820000|           4.5|          22|       available|       instock| Điện Tử - Điện Lạ...|                    66|<div id=\"detail_d...|[{'base_url': 'ht...|[{'name': 'Conten...|   47795|    Ariston|    ariston|                1|     4107717049799|       Tiki Trading|https://tiki.vn/c...|https://vcdn.tiki...|             2089000|                126818364|                  40395|                       False|                                           None|         Đã bán 66|                 66|         3866|       Máy nước nóng|              True|\n",
      "|https://tiki.vn/p...|Bình nước nóng Ar...|Bình nước nóng Ar...|2089000|   2820000|           4.5|          22|       available|       instock| Điện Tử - Điện Lạ...|                    66|<div id=\"detail_d...|[{'base_url': 'ht...|[{'name': 'Conten...|   47795|    Ariston|    ariston|                1|     4107717049799|       Tiki Trading|https://tiki.vn/c...|https://vcdn.tiki...|             2089000|                126818364|                  40395|                       False|                                           None|         Đã bán 66|                 66|         3866|       Máy nước nóng|              True|\n",
      "|https://tiki.vn/p...|Android Tivi Xiao...|Thiết kế hiện đại...|8327880|   8412000|             0|           0|       available|     backorder| Điện Tử - Điện Lạ...|                  null|<h5>Thiết kế hiện...|[{'base_url': 'ht...|[{'name': 'Conten...|   25422|     Xiaomi|     xiaomi|            58532|     8594949650321|  Trương Thiên Long|https://tiki.vn/c...|https://vcdn.tiki...|             8327880|                198414196|                  55298|                       False|                                           None|              null|               null|         4239|Smart Tivi - Andr...|              True|\n",
      "|https://tiki.vn/p...|Android Tivi Xiao...|Thiết kế hiện đại...|8327880|   8412000|             0|           0|       available|     backorder| Điện Tử - Điện Lạ...|                  null|<h5>Thiết kế hiện...|[{'base_url': 'ht...|[{'name': 'Conten...|   25422|     Xiaomi|     xiaomi|            58532|     8594949650321|  Trương Thiên Long|https://tiki.vn/c...|https://vcdn.tiki...|             8327880|                198414196|                  55298|                       False|                                           None|              null|               null|         4239|Smart Tivi - Andr...|              True|\n",
      "+--------------------+--------------------+--------------------+-------+----------+--------------+------------+----------------+--------------+---------------------+----------------------+--------------------+--------------------+--------------------+--------+-----------+-----------+-----------------+------------------+-------------------+--------------------+--------------------+--------------------+-------------------------+-----------------------+----------------------------+-----------------------------------------------+------------------+-------------------+-------------+--------------------+------------------+\n",
      "only showing top 20 rows\n",
      "\n"
     ]
    }
   ],
   "source": [
    "peopleDF.show()"
   ]
  },
  {
   "cell_type": "code",
   "execution_count": null,
   "id": "b9a58f75",
   "metadata": {},
   "outputs": [],
   "source": []
  }
 ],
 "metadata": {
  "kernelspec": {
   "display_name": "Python 3 (ipykernel)",
   "language": "python",
   "name": "python3"
  },
  "language_info": {
   "codemirror_mode": {
    "name": "ipython",
    "version": 3
   },
   "file_extension": ".py",
   "mimetype": "text/x-python",
   "name": "python",
   "nbconvert_exporter": "python",
   "pygments_lexer": "ipython3",
   "version": "3.9.2"
  }
 },
 "nbformat": 4,
 "nbformat_minor": 5
}
