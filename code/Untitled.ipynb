{
 "cells": [
  {
   "cell_type": "code",
   "execution_count": 1,
   "id": "62ca58a6",
   "metadata": {},
   "outputs": [],
   "source": [
    "from kafka import KafkaProducer\n",
    "from json import dumps\n",
    "from kafka import KafkaConsumer\n",
    "from json import loads\n",
    "from pyspark.sql import SparkSession"
   ]
  },
  {
   "cell_type": "code",
   "execution_count": 2,
   "id": "63e2f8b2",
   "metadata": {},
   "outputs": [],
   "source": [
    "# import os\n",
    "# kafka = \"org.apache.spark:spark-sql-kafka-0-10_2.12:3.0.0\"\n",
    "# spark = \"org.apache.spark:spark-streaming-kafka-0-8_2.11:2.1.0\"\n",
    "\n",
    "# os.environ[\"PYSPARK_SUBMIT_ARGS\"] = (\"--packages {},{} pyspark-shell\".format(kafka, spark))"
   ]
  },
  {
   "cell_type": "code",
   "execution_count": 3,
   "id": "4eda9b98",
   "metadata": {},
   "outputs": [
    {
     "name": "stderr",
     "output_type": "stream",
     "text": [
      "22/10/23 16:08:02 WARN NativeCodeLoader: Unable to load native-hadoop library for your platform... using builtin-java classes where applicable\n",
      "Using Spark's default log4j profile: org/apache/spark/log4j-defaults.properties\n",
      "Setting default log level to \"WARN\".\n",
      "To adjust logging level use sc.setLogLevel(newLevel). For SparkR, use setLogLevel(newLevel).\n",
      "22/10/23 16:08:04 WARN Utils: Service 'SparkUI' could not bind on port 4040. Attempting port 4041.\n"
     ]
    }
   ],
   "source": [
    "spark = SparkSession.\\\n",
    "        builder.\\\n",
    "        appName(\"pyspark-notebook\").\\\n",
    "        master(\"spark://spark-master:7077\").\\\n",
    "        config(\"spark.executor.memory\", \"512m\").\\\n",
    "        getOrCreate()"
   ]
  },
  {
   "cell_type": "code",
   "execution_count": 5,
   "id": "fa6022e1",
   "metadata": {},
   "outputs": [],
   "source": [
    "# KAFKA_BROKER='kafka-1:9092'\n",
    "# KAFKA_TOPIC='Product'\n",
    "# kafkaMessages = spark \\\n",
    "#   .readStream \\\n",
    "#   .format(\"kafka\") \\\n",
    "#   .option(\"kafka.bootstrap.servers\", KAFKA_BROKER) \\\n",
    "#   .option(\"subscribe\", KAFKA_TOPIC) \\\n",
    "#   .option(\"startingOffsets\", \"earliest\") \\\n",
    "#   .load()"
   ]
  },
  {
   "cell_type": "code",
   "execution_count": null,
   "id": "9083a48b",
   "metadata": {},
   "outputs": [],
   "source": [
    "message = kafkaMessages.selectExpr(\"CAST(value AS STRING)\")"
   ]
  },
  {
   "cell_type": "code",
   "execution_count": 6,
   "id": "42f34ea9",
   "metadata": {},
   "outputs": [
    {
     "name": "stderr",
     "output_type": "stream",
     "text": [
      "22/10/23 16:08:39 WARN TaskSchedulerImpl: Initial job has not accepted any resources; check your cluster UI to ensure that workers are registered and have sufficient resources\n",
      "                                                                                \r"
     ]
    }
   ],
   "source": [
    "data = spark.read.parquet('hdfs://namenode:9000/tiki/Product')"
   ]
  },
  {
   "cell_type": "code",
   "execution_count": 7,
   "id": "d758458b",
   "metadata": {},
   "outputs": [
    {
     "name": "stderr",
     "output_type": "stream",
     "text": [
      "                                                                                \r"
     ]
    },
    {
     "data": {
      "text/plain": [
       "3260"
      ]
     },
     "execution_count": 7,
     "metadata": {},
     "output_type": "execute_result"
    }
   ],
   "source": [
    "data.count()"
   ]
  },
  {
   "cell_type": "code",
   "execution_count": null,
   "id": "cd889bdf",
   "metadata": {},
   "outputs": [],
   "source": [
    "# fileStream = message.writeStream \\\n",
    "#                       .trigger(processingTime='60 seconds')\\\n",
    "#                       .queryName(\"Persist the processed data\") \\\n",
    "#                       .outputMode(\"append\") \\\n",
    "#                       .format(\"parquet\") \\\n",
    "#                       .option(\"path\", \"hdfs://namenode:9000/tiki/Product/\") \\\n",
    "#                       .option(\"checkpointLocation\", \"hdfs://namenode:9000/tiki/checkpoints\") \\\n",
    "#                       .start() \\\n",
    "#                       .awaitTermination()"
   ]
  }
 ],
 "metadata": {
  "kernelspec": {
   "display_name": "Python 3 (ipykernel)",
   "language": "python",
   "name": "python3"
  },
  "language_info": {
   "codemirror_mode": {
    "name": "ipython",
    "version": 3
   },
   "file_extension": ".py",
   "mimetype": "text/x-python",
   "name": "python",
   "nbconvert_exporter": "python",
   "pygments_lexer": "ipython3",
   "version": "3.9.2"
  }
 },
 "nbformat": 4,
 "nbformat_minor": 5
}
