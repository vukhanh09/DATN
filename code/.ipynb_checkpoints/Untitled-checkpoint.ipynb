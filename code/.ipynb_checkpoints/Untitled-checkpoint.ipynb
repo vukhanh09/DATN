{
 "cells": [
  {
   "cell_type": "code",
   "execution_count": 4,
   "id": "b614dfe4",
   "metadata": {},
   "outputs": [],
   "source": [
    "import requests\n",
    "import json\n",
    "import re\n",
    "from tqdm import tqdm\n",
    "import pandas as pd\n",
    "import warnings\n",
    "warnings.filterwarnings(\"ignore\")"
   ]
  },
  {
   "cell_type": "code",
   "execution_count": 4,
   "id": "ea8059ce",
   "metadata": {},
   "outputs": [
    {
     "name": "stderr",
     "output_type": "stream",
     "text": [
      "22/10/12 16:01:58 WARN NativeCodeLoader: Unable to load native-hadoop library for your platform... using builtin-java classes where applicable\n",
      "Using Spark's default log4j profile: org/apache/spark/log4j-defaults.properties\n",
      "Setting default log level to \"WARN\".\n",
      "To adjust logging level use sc.setLogLevel(newLevel). For SparkR, use setLogLevel(newLevel).\n"
     ]
    }
   ],
   "source": [
    "from pyspark.sql import SparkSession\n",
    "\n",
    "spark = SparkSession.\\\n",
    "        builder.\\\n",
    "        appName(\"pyspark-notebook\").\\\n",
    "        master(\"spark://spark-master:7077\").\\\n",
    "        config(\"spark.executor.memory\", \"512m\").\\\n",
    "        getOrCreate()"
   ]
  },
  {
   "cell_type": "code",
   "execution_count": 5,
   "id": "d8121f99",
   "metadata": {},
   "outputs": [],
   "source": [
    "categories_url = 'https://api.tiki.vn/shopping/v2/widgets/home-category-tab-bar?trackity_id=37b45be6-0e16-e23b-5be5-5a95e6d3f508'"
   ]
  },
  {
   "cell_type": "code",
   "execution_count": 6,
   "id": "9108484a",
   "metadata": {},
   "outputs": [],
   "source": [
    "response = requests.get(categories_url, headers={\n",
    "    \"User-Agent\": \"Mozilla/5.0 (Windows NT 10.0; Win64; x64) AppleWebKit/537.36 (KHTML, like Gecko) \"\n",
    "                  \"Chrome/100.0.4896.127 Safari/537.36 \"\n",
    "})"
   ]
  },
  {
   "cell_type": "code",
   "execution_count": 13,
   "id": "4631852b",
   "metadata": {},
   "outputs": [],
   "source": [
    "data = json.loads(response.text)['data']"
   ]
  },
  {
   "cell_type": "code",
   "execution_count": 21,
   "id": "28bd0cb1",
   "metadata": {},
   "outputs": [],
   "source": [
    "categories = []\n",
    "for item in data[1:]:\n",
    "    arr = item['url'].split('/')\n",
    "    cat_id = int(arr[-1].replace('c',''))\n",
    "    categories.append([arr[-2],cat_id])"
   ]
  },
  {
   "cell_type": "code",
   "execution_count": 25,
   "id": "a67468e6",
   "metadata": {},
   "outputs": [],
   "source": [
    "cat_info = pd.DataFrame(categories,columns=['category_name','category_id'])"
   ]
  },
  {
   "cell_type": "code",
   "execution_count": 26,
   "id": "1609203a",
   "metadata": {},
   "outputs": [
    {
     "data": {
      "text/html": [
       "<div>\n",
       "<style scoped>\n",
       "    .dataframe tbody tr th:only-of-type {\n",
       "        vertical-align: middle;\n",
       "    }\n",
       "\n",
       "    .dataframe tbody tr th {\n",
       "        vertical-align: top;\n",
       "    }\n",
       "\n",
       "    .dataframe thead th {\n",
       "        text-align: right;\n",
       "    }\n",
       "</style>\n",
       "<table border=\"1\" class=\"dataframe\">\n",
       "  <thead>\n",
       "    <tr style=\"text-align: right;\">\n",
       "      <th></th>\n",
       "      <th>category_name</th>\n",
       "      <th>category_id</th>\n",
       "    </tr>\n",
       "  </thead>\n",
       "  <tbody>\n",
       "    <tr>\n",
       "      <th>0</th>\n",
       "      <td>bach-hoa-online</td>\n",
       "      <td>4384</td>\n",
       "    </tr>\n",
       "    <tr>\n",
       "      <th>1</th>\n",
       "      <td>nha-cua-doi-song</td>\n",
       "      <td>1883</td>\n",
       "    </tr>\n",
       "    <tr>\n",
       "      <th>2</th>\n",
       "      <td>dien-tu-dien-lanh</td>\n",
       "      <td>4221</td>\n",
       "    </tr>\n",
       "    <tr>\n",
       "      <th>3</th>\n",
       "      <td>thiet-bi-kts-phu-kien-so</td>\n",
       "      <td>1815</td>\n",
       "    </tr>\n",
       "    <tr>\n",
       "      <th>4</th>\n",
       "      <td>dien-thoai-may-tinh-bang</td>\n",
       "      <td>1789</td>\n",
       "    </tr>\n",
       "    <tr>\n",
       "      <th>5</th>\n",
       "      <td>do-choi-me-be</td>\n",
       "      <td>2549</td>\n",
       "    </tr>\n",
       "    <tr>\n",
       "      <th>6</th>\n",
       "      <td>lam-dep-suc-khoe</td>\n",
       "      <td>1520</td>\n",
       "    </tr>\n",
       "    <tr>\n",
       "      <th>7</th>\n",
       "      <td>dien-gia-dung</td>\n",
       "      <td>1882</td>\n",
       "    </tr>\n",
       "    <tr>\n",
       "      <th>8</th>\n",
       "      <td>thoi-trang-nu</td>\n",
       "      <td>931</td>\n",
       "    </tr>\n",
       "    <tr>\n",
       "      <th>9</th>\n",
       "      <td>thoi-trang-nam</td>\n",
       "      <td>915</td>\n",
       "    </tr>\n",
       "    <tr>\n",
       "      <th>10</th>\n",
       "      <td>giay-dep-nu</td>\n",
       "      <td>1703</td>\n",
       "    </tr>\n",
       "    <tr>\n",
       "      <th>11</th>\n",
       "      <td>tui-vi-nu</td>\n",
       "      <td>976</td>\n",
       "    </tr>\n",
       "    <tr>\n",
       "      <th>12</th>\n",
       "      <td>giay-dep-nam</td>\n",
       "      <td>1686</td>\n",
       "    </tr>\n",
       "    <tr>\n",
       "      <th>13</th>\n",
       "      <td>tui-thoi-trang-nam</td>\n",
       "      <td>27616</td>\n",
       "    </tr>\n",
       "    <tr>\n",
       "      <th>14</th>\n",
       "      <td>balo-va-vali</td>\n",
       "      <td>6000</td>\n",
       "    </tr>\n",
       "    <tr>\n",
       "      <th>15</th>\n",
       "      <td>phu-kien-thoi-trang</td>\n",
       "      <td>27498</td>\n",
       "    </tr>\n",
       "    <tr>\n",
       "      <th>16</th>\n",
       "      <td>dong-ho-va-trang-suc</td>\n",
       "      <td>8371</td>\n",
       "    </tr>\n",
       "    <tr>\n",
       "      <th>17</th>\n",
       "      <td>laptop-may-vi-tinh-linh-kien</td>\n",
       "      <td>1846</td>\n",
       "    </tr>\n",
       "    <tr>\n",
       "      <th>18</th>\n",
       "      <td>hang-quoc-te</td>\n",
       "      <td>17166</td>\n",
       "    </tr>\n",
       "    <tr>\n",
       "      <th>19</th>\n",
       "      <td>voucher-dich-vu</td>\n",
       "      <td>11312</td>\n",
       "    </tr>\n",
       "    <tr>\n",
       "      <th>20</th>\n",
       "      <td>o-to-xe-may-xe-dap</td>\n",
       "      <td>8594</td>\n",
       "    </tr>\n",
       "    <tr>\n",
       "      <th>21</th>\n",
       "      <td>nha-sach-tiki</td>\n",
       "      <td>8322</td>\n",
       "    </tr>\n",
       "    <tr>\n",
       "      <th>22</th>\n",
       "      <td>the-thao-da-ngoai</td>\n",
       "      <td>1975</td>\n",
       "    </tr>\n",
       "    <tr>\n",
       "      <th>23</th>\n",
       "      <td>may-anh</td>\n",
       "      <td>1801</td>\n",
       "    </tr>\n",
       "  </tbody>\n",
       "</table>\n",
       "</div>"
      ],
      "text/plain": [
       "                   category_name  category_id\n",
       "0                bach-hoa-online         4384\n",
       "1               nha-cua-doi-song         1883\n",
       "2              dien-tu-dien-lanh         4221\n",
       "3       thiet-bi-kts-phu-kien-so         1815\n",
       "4       dien-thoai-may-tinh-bang         1789\n",
       "5                  do-choi-me-be         2549\n",
       "6               lam-dep-suc-khoe         1520\n",
       "7                  dien-gia-dung         1882\n",
       "8                  thoi-trang-nu          931\n",
       "9                 thoi-trang-nam          915\n",
       "10                   giay-dep-nu         1703\n",
       "11                     tui-vi-nu          976\n",
       "12                  giay-dep-nam         1686\n",
       "13            tui-thoi-trang-nam        27616\n",
       "14                  balo-va-vali         6000\n",
       "15           phu-kien-thoi-trang        27498\n",
       "16          dong-ho-va-trang-suc         8371\n",
       "17  laptop-may-vi-tinh-linh-kien         1846\n",
       "18                  hang-quoc-te        17166\n",
       "19               voucher-dich-vu        11312\n",
       "20            o-to-xe-may-xe-dap         8594\n",
       "21                 nha-sach-tiki         8322\n",
       "22             the-thao-da-ngoai         1975\n",
       "23                       may-anh         1801"
      ]
     },
     "execution_count": 26,
     "metadata": {},
     "output_type": "execute_result"
    }
   ],
   "source": [
    "cat_info"
   ]
  },
  {
   "cell_type": "code",
   "execution_count": 5,
   "id": "b0051ab2",
   "metadata": {},
   "outputs": [],
   "source": [
    "categories = [\n",
    "    'bach-hoa-online',\n",
    "    'nha-cua-doi-song',\n",
    "    'dien-tu-dien-lanh',\n",
    "    'thiet-bi-kts-phu-kien-so',\n",
    "    'dien-thoai-may-tinh-bang',\n",
    "    'do-choi-me-be',\n",
    "    'lam-dep-suc-khoe',\n",
    "    'dien-gia-dung',\n",
    "    'thoi-trang-nu',\n",
    "    'thoi-trang-nam',\n",
    "    'giay-dep-nu',\n",
    "    'tui-vi-nu',\n",
    "    'giay-dep-nam',\n",
    "    'tui-thoi-trang-nam'\n",
    "    'balo-va-vali',\n",
    "    'phu-kien-thoi-trang',\n",
    "    'dong-ho-va-trang-suc',\n",
    "    'hang-quoc-te',\n",
    "    'laptop-may-vi-tinh-linh-kien',\n",
    "    'o-to-xe-may-xe-dap',\n",
    "    'nha-sach-tiki'\n",
    "    'the-thao-da-ngoai',\n",
    "    'may-anh',\n",
    "]\n",
    "\n",
    "api_get_id_product = 'https://tiki.vn/api/personalish/v1/blocks/listings?limit=48&include=advertisement&aggregations' \\\n",
    "                     '=2&trackity_id=3b437fb6-697c-366d-6f2b-9251936c2036&category=4221&page={}&urlKey={}'\n",
    "\n",
    "api_product = 'https://tiki.vn/api/v2/products/{}'\n",
    "product_field = [\n",
    "    'short_url', 'name', 'short_description', 'price', 'list_price', 'rating_average',\n",
    "    'rating_average', 'review_count', 'inventory_status', 'inventory_type',\n",
    "    'productset_group_name', 'all_time_quantity_sold', 'description', 'images', 'brand', 'current_seller',\n",
    "    'specifications', 'configurable_options', 'quantity_sold','categories'\n",
    "]\n",
    "\n",
    "\n",
    "def get_list_id_product(url):\n",
    "    response = requests.get(url, headers={\n",
    "        \"User-Agent\": \"Mozilla/5.0 (Windows NT 10.0; Win64; x64) AppleWebKit/537.36 (KHTML, like Gecko) \"\n",
    "                      \"Chrome/100.0.4896.127 Safari/537.36 \"\n",
    "    })\n",
    "    list_ids = []\n",
    "    if response.status_code == 200:\n",
    "        data = json.loads(response.text)['data']\n",
    "        for sample in data:\n",
    "            list_ids.append(sample['id'])\n",
    "\n",
    "    return list_ids\n",
    "\n",
    "\n",
    "def get_information_product(url):\n",
    "    response = requests.get(url, headers={\n",
    "        \"User-Agent\": \"Mozilla/5.0 (Windows NT 10.0; Win64; x64) AppleWebKit/537.36 (KHTML, like Gecko) \"\n",
    "                      \"Chrome/100.0.4896.127 Safari/537.36 \"\n",
    "    })\n",
    "    if response.status_code == 200:\n",
    "        data = json.loads(response.text)\n",
    "        item = {}\n",
    "        for field in product_field:\n",
    "            try:\n",
    "                item[field] = data[field]\n",
    "            except:\n",
    "                pass\n",
    "        return item"
   ]
  },
  {
   "cell_type": "code",
   "execution_count": 6,
   "id": "7344e932",
   "metadata": {},
   "outputs": [],
   "source": [
    "s_category = 0\n",
    "e_category = 1\n",
    "start_page = 0\n",
    "end_page = 1"
   ]
  },
  {
   "cell_type": "code",
   "execution_count": 7,
   "id": "1f23dc32",
   "metadata": {},
   "outputs": [
    {
     "name": "stderr",
     "output_type": "stream",
     "text": [
      "  0%|          | 0/1 [00:00<?, ?it/s]22/10/12 16:02:04 WARN package: Truncated the string representation of a plan since it was too large. This behavior can be adjusted by setting 'spark.sql.debug.maxToStringFields'.\n",
      "100%|██████████| 1/1 [00:34<00:00, 34.41s/it]                                   \n"
     ]
    }
   ],
   "source": [
    "for i in range(s_category, e_category, 1):\n",
    "        category = categories[i]\n",
    "        for page_index in tqdm(range(start_page, end_page)):\n",
    "            category_page_url = api_get_id_product.format(page_index, category)\n",
    "            # category_name = re.search('vn\\/(.*?)\\/', category_page_url).group(1)\n",
    "            list_product_ids = get_list_id_product(category_page_url)\n",
    "            if len(list_product_ids) > 0:\n",
    "                for product_id in list_product_ids:\n",
    "                    product_url = api_product.format(product_id)\n",
    "                    item = get_information_product(product_url)\n",
    "                    item = pd.json_normalize(item)\n",
    "                    data = spark.createDataFrame(item.astype(str))\n",
    "                    data.write.mode('append').parquet('hdfs://namenode:9000/product/')"
   ]
  },
  {
   "cell_type": "code",
   "execution_count": 8,
   "id": "cc226e9c",
   "metadata": {},
   "outputs": [],
   "source": [
    "peopleDF = spark.read.parquet(\"hdfs://namenode:9000/product/\")"
   ]
  },
  {
   "cell_type": "code",
   "execution_count": 9,
   "id": "68040e12",
   "metadata": {},
   "outputs": [
    {
     "name": "stderr",
     "output_type": "stream",
     "text": [
      "                                                                                \r"
     ]
    },
    {
     "data": {
      "text/plain": [
       "48"
      ]
     },
     "execution_count": 9,
     "metadata": {},
     "output_type": "execute_result"
    }
   ],
   "source": [
    "peopleDF.count()"
   ]
  },
  {
   "cell_type": "code",
   "execution_count": null,
   "id": "0536f180",
   "metadata": {},
   "outputs": [],
   "source": []
  }
 ],
 "metadata": {
  "kernelspec": {
   "display_name": "Python 3 (ipykernel)",
   "language": "python",
   "name": "python3"
  },
  "language_info": {
   "codemirror_mode": {
    "name": "ipython",
    "version": 3
   },
   "file_extension": ".py",
   "mimetype": "text/x-python",
   "name": "python",
   "nbconvert_exporter": "python",
   "pygments_lexer": "ipython3",
   "version": "3.9.2"
  }
 },
 "nbformat": 4,
 "nbformat_minor": 5
}
