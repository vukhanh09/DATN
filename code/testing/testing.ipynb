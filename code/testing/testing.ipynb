{
 "cells": [
  {
   "cell_type": "code",
   "execution_count": 1,
   "id": "72f34f0a",
   "metadata": {},
   "outputs": [],
   "source": [
    "from json import loads\n",
    "from pyspark.sql import SparkSession\n",
    "import warnings\n",
    "from collections import defaultdict\n",
    "warnings.filterwarnings(\"ignore\")\n",
    "from sparkmeasure import StageMetrics,TaskMetrics\n",
    "from pyspark.sql.functions import col,from_json,udf\n",
    "from pyspark.sql.types import StructType,StructField, StringType, IntegerType,MapType,FloatType,ArrayType"
   ]
  },
  {
   "cell_type": "code",
   "execution_count": 2,
   "id": "d8ce02a9",
   "metadata": {},
   "outputs": [
    {
     "name": "stderr",
     "output_type": "stream",
     "text": [
      "Ivy Default Cache set to: /root/.ivy2/cache\n",
      "The jars for the packages stored in: /root/.ivy2/jars\n",
      ":: loading settings :: url = jar:file:/usr/local/lib/python3.9/dist-packages/pyspark/jars/ivy-2.4.0.jar!/org/apache/ivy/core/settings/ivysettings.xml\n",
      "ch.cern.sparkmeasure#spark-measure_2.12 added as a dependency\n",
      ":: resolving dependencies :: org.apache.spark#spark-submit-parent-62313ba2-5f6e-403e-8df8-7f46d7e284c0;1.0\n",
      "\tconfs: [default]\n",
      "\tfound ch.cern.sparkmeasure#spark-measure_2.12;0.17 in central\n",
      "\tfound com.fasterxml.jackson.module#jackson-module-scala_2.12;2.9.9 in central\n",
      "\tfound com.fasterxml.jackson.core#jackson-core;2.9.9 in central\n",
      "\tfound com.fasterxml.jackson.core#jackson-annotations;2.9.9 in central\n",
      "\tfound com.fasterxml.jackson.core#jackson-databind;2.9.9 in central\n",
      "\tfound com.fasterxml.jackson.module#jackson-module-paranamer;2.9.9 in central\n",
      "\tfound com.thoughtworks.paranamer#paranamer;2.8 in central\n",
      "\tfound org.slf4j#slf4j-api;1.7.26 in central\n",
      "\tfound org.influxdb#influxdb-java;2.14 in central\n",
      "\tfound com.squareup.retrofit2#retrofit;2.4.0 in central\n",
      "\tfound com.squareup.retrofit2#converter-moshi;2.4.0 in central\n",
      "\tfound com.squareup.moshi#moshi;1.5.0 in central\n",
      "\tfound com.squareup.okio#okio;1.13.0 in central\n",
      "\tfound org.msgpack#msgpack-core;0.8.16 in central\n",
      "\tfound com.squareup.okhttp3#okhttp;3.11.0 in central\n",
      "\tfound com.squareup.okio#okio;1.14.0 in central\n",
      "\tfound com.squareup.okhttp3#logging-interceptor;3.11.0 in central\n",
      ":: resolution report :: resolve 538ms :: artifacts dl 16ms\n",
      "\t:: modules in use:\n",
      "\tch.cern.sparkmeasure#spark-measure_2.12;0.17 from central in [default]\n",
      "\tcom.fasterxml.jackson.core#jackson-annotations;2.9.9 from central in [default]\n",
      "\tcom.fasterxml.jackson.core#jackson-core;2.9.9 from central in [default]\n",
      "\tcom.fasterxml.jackson.core#jackson-databind;2.9.9 from central in [default]\n",
      "\tcom.fasterxml.jackson.module#jackson-module-paranamer;2.9.9 from central in [default]\n",
      "\tcom.fasterxml.jackson.module#jackson-module-scala_2.12;2.9.9 from central in [default]\n",
      "\tcom.squareup.moshi#moshi;1.5.0 from central in [default]\n",
      "\tcom.squareup.okhttp3#logging-interceptor;3.11.0 from central in [default]\n",
      "\tcom.squareup.okhttp3#okhttp;3.11.0 from central in [default]\n",
      "\tcom.squareup.okio#okio;1.14.0 from central in [default]\n",
      "\tcom.squareup.retrofit2#converter-moshi;2.4.0 from central in [default]\n",
      "\tcom.squareup.retrofit2#retrofit;2.4.0 from central in [default]\n",
      "\tcom.thoughtworks.paranamer#paranamer;2.8 from central in [default]\n",
      "\torg.influxdb#influxdb-java;2.14 from central in [default]\n",
      "\torg.msgpack#msgpack-core;0.8.16 from central in [default]\n",
      "\torg.slf4j#slf4j-api;1.7.26 from central in [default]\n",
      "\t:: evicted modules:\n",
      "\tcom.fasterxml.jackson.core#jackson-annotations;2.9.0 by [com.fasterxml.jackson.core#jackson-annotations;2.9.9] in [default]\n",
      "\tcom.squareup.okhttp3#okhttp;3.10.0 by [com.squareup.okhttp3#okhttp;3.11.0] in [default]\n",
      "\tcom.squareup.okio#okio;1.13.0 by [com.squareup.okio#okio;1.14.0] in [default]\n",
      "\t---------------------------------------------------------------------\n",
      "\t|                  |            modules            ||   artifacts   |\n",
      "\t|       conf       | number| search|dwnlded|evicted|| number|dwnlded|\n",
      "\t---------------------------------------------------------------------\n",
      "\t|      default     |   19  |   0   |   0   |   3   ||   16  |   0   |\n",
      "\t---------------------------------------------------------------------\n",
      ":: retrieving :: org.apache.spark#spark-submit-parent-62313ba2-5f6e-403e-8df8-7f46d7e284c0\n",
      "\tconfs: [default]\n",
      "\t0 artifacts copied, 16 already retrieved (0kB/14ms)\n",
      "23/01/25 15:20:10 WARN NativeCodeLoader: Unable to load native-hadoop library for your platform... using builtin-java classes where applicable\n",
      "Using Spark's default log4j profile: org/apache/spark/log4j-defaults.properties\n",
      "Setting default log level to \"WARN\".\n",
      "To adjust logging level use sc.setLogLevel(newLevel). For SparkR, use setLogLevel(newLevel).\n"
     ]
    }
   ],
   "source": [
    "spark = SparkSession.\\\n",
    "        builder.\\\n",
    "        appName(\"testing\").\\\n",
    "        master(\"spark://spark-master:7077\").\\\n",
    "        config(\"spark.executor.memory\", \"2048m\").\\\n",
    "        config(\"spark.jars.packages\", \"ch.cern.sparkmeasure:spark-measure_2.12:0.17\").\\\n",
    "        getOrCreate()"
   ]
  },
  {
   "cell_type": "code",
   "execution_count": 3,
   "id": "221cf6ad",
   "metadata": {},
   "outputs": [],
   "source": [
    "stagemetrics = StageMetrics(spark)"
   ]
  },
  {
   "cell_type": "code",
   "execution_count": 4,
   "id": "9b761030",
   "metadata": {},
   "outputs": [
    {
     "name": "stderr",
     "output_type": "stream",
     "text": [
      "                                                                                \r"
     ]
    }
   ],
   "source": [
    "data = spark.read.parquet('hdfs://namenode:9000/analysis/metaData')"
   ]
  },
  {
   "cell_type": "code",
   "execution_count": 5,
   "id": "03bde111",
   "metadata": {},
   "outputs": [
    {
     "name": "stderr",
     "output_type": "stream",
     "text": [
      "23/01/25 14:21:05 WARN package: Truncated the string representation of a plan since it was too large. This behavior can be adjusted by setting 'spark.sql.debug.maxToStringFields'.\n"
     ]
    }
   ],
   "source": [
    "data.createOrReplaceTempView('data')"
   ]
  },
  {
   "cell_type": "code",
   "execution_count": 6,
   "id": "7b3e3ba2",
   "metadata": {},
   "outputs": [
    {
     "name": "stderr",
     "output_type": "stream",
     "text": [
      "                                                                                \r"
     ]
    },
    {
     "name": "stdout",
     "output_type": "stream",
     "text": [
      "+-----------+\n",
      "|category_id|\n",
      "+-----------+\n",
      "|       1975|\n",
      "|        976|\n",
      "|       4384|\n",
      "|       2549|\n",
      "|      27498|\n",
      "|       8594|\n",
      "|       4221|\n",
      "|      17166|\n",
      "|       8322|\n",
      "|       1846|\n",
      "|        931|\n",
      "|       1703|\n",
      "|       1520|\n",
      "|       1815|\n",
      "|       1789|\n",
      "|       6000|\n",
      "|       1801|\n",
      "|       1883|\n",
      "|       1686|\n",
      "|       8371|\n",
      "+-----------+\n",
      "only showing top 20 rows\n",
      "\n"
     ]
    }
   ],
   "source": [
    "spark.sql(\"\"\"\n",
    "    select distinct category_id from data\n",
    "\"\"\").show()"
   ]
  },
  {
   "cell_type": "code",
   "execution_count": 7,
   "id": "d32dc424",
   "metadata": {},
   "outputs": [],
   "source": [
    "df_testing = spark.sql(\"\"\"\n",
    "    select * from\n",
    "    (\n",
    "        (select * from data where category_id = 1975 limit 20000)\n",
    "        union all \n",
    "        (select * from data where category_id = 6000 limit 20000)\n",
    "        union all \n",
    "        (select * from data where category_id = 4384 limit 20000)\n",
    "        union all \n",
    "        (select * from data where category_id = 2549 limit 20000)\n",
    "        union all \n",
    "        (select * from data where category_id = 27498 limit 20000)\n",
    "    )\n",
    "\"\"\")"
   ]
  },
  {
   "cell_type": "code",
   "execution_count": 8,
   "id": "316a3b36",
   "metadata": {},
   "outputs": [
    {
     "name": "stderr",
     "output_type": "stream",
     "text": [
      "                                                                                \r"
     ]
    },
    {
     "data": {
      "text/plain": [
       "100000"
      ]
     },
     "execution_count": 8,
     "metadata": {},
     "output_type": "execute_result"
    }
   ],
   "source": [
    "df_testing.count()"
   ]
  },
  {
   "cell_type": "code",
   "execution_count": 9,
   "id": "3527d453",
   "metadata": {},
   "outputs": [
    {
     "data": {
      "text/plain": [
       "42"
      ]
     },
     "execution_count": 9,
     "metadata": {},
     "output_type": "execute_result"
    }
   ],
   "source": [
    "len(df_testing.columns)"
   ]
  },
  {
   "cell_type": "code",
   "execution_count": 10,
   "id": "abd0c243",
   "metadata": {},
   "outputs": [
    {
     "name": "stdout",
     "output_type": "stream",
     "text": [
      "+-----------+-----+\n",
      "|category_id|count|\n",
      "+-----------+-----+\n",
      "|       1975|20000|\n",
      "|       4384|20000|\n",
      "|       2549|20000|\n",
      "|      27498|20000|\n",
      "|       6000|20000|\n",
      "+-----------+-----+\n",
      "\n"
     ]
    }
   ],
   "source": [
    "df_testing.groupby('category_id').count().show()"
   ]
  },
  {
   "cell_type": "code",
   "execution_count": 11,
   "id": "1525f541",
   "metadata": {},
   "outputs": [
    {
     "name": "stderr",
     "output_type": "stream",
     "text": [
      "                                                                                \r"
     ]
    }
   ],
   "source": [
    "df_testing.write.partitionBy(\"category_id\").mode('overwrite').parquet('hdfs://namenode:9000/testing/df_testing')"
   ]
  },
  {
   "cell_type": "code",
   "execution_count": 13,
   "id": "9d464d63",
   "metadata": {},
   "outputs": [],
   "source": [
    "data = spark.read.parquet('hdfs://namenode:9000/testing/df_testing')"
   ]
  },
  {
   "cell_type": "code",
   "execution_count": 5,
   "id": "28cbb757",
   "metadata": {},
   "outputs": [
    {
     "name": "stderr",
     "output_type": "stream",
     "text": [
      "23/01/25 15:20:26 WARN package: Truncated the string representation of a plan since it was too large. This behavior can be adjusted by setting 'spark.sql.debug.maxToStringFields'.\n"
     ]
    }
   ],
   "source": [
    "data.createOrReplaceTempView('data')"
   ]
  },
  {
   "cell_type": "markdown",
   "id": "7efae282",
   "metadata": {},
   "source": [
    "# Storage space in variety of format"
   ]
  },
  {
   "cell_type": "markdown",
   "id": "7ad4ef6f",
   "metadata": {},
   "source": [
    "## Write statistics"
   ]
  },
  {
   "cell_type": "markdown",
   "id": "62fea5ca",
   "metadata": {},
   "source": [
    "### CSV"
   ]
  },
  {
   "cell_type": "code",
   "execution_count": 14,
   "id": "d45c87d7",
   "metadata": {},
   "outputs": [
    {
     "name": "stderr",
     "output_type": "stream",
     "text": [
      "23/01/25 14:21:30 WARN StageMetrics: Stage metrics data refreshed into temp view PerfStageMetrics\n",
      "23/01/25 14:21:34 WARN StageMetrics: Stage metrics data refreshed into temp view PerfStageMetrics\n",
      "23/01/25 14:21:38 WARN StageMetrics: Stage metrics data refreshed into temp view PerfStageMetrics\n",
      "23/01/25 14:21:41 WARN StageMetrics: Stage metrics data refreshed into temp view PerfStageMetrics\n",
      "23/01/25 14:21:45 WARN StageMetrics: Stage metrics data refreshed into temp view PerfStageMetrics\n",
      "23/01/25 14:21:48 WARN StageMetrics: Stage metrics data refreshed into temp view PerfStageMetrics\n",
      "23/01/25 14:21:51 WARN StageMetrics: Stage metrics data refreshed into temp view PerfStageMetrics\n",
      "23/01/25 14:21:54 WARN StageMetrics: Stage metrics data refreshed into temp view PerfStageMetrics\n",
      "23/01/25 14:21:57 WARN StageMetrics: Stage metrics data refreshed into temp view PerfStageMetrics\n",
      "23/01/25 14:22:00 WARN StageMetrics: Stage metrics data refreshed into temp view PerfStageMetrics\n"
     ]
    }
   ],
   "source": [
    "csv_elapsedTime = []\n",
    "for i in range(10):\n",
    "    stagemetrics.begin()\n",
    "    data.write.partitionBy(\"category_id\").option(\"header\",True).mode('overwrite').csv('hdfs://namenode:9000/testing/data/csv')\n",
    "    stagemetrics.end()\n",
    "    \n",
    "    elapsedTime = int(stagemetrics.report().replace(' ','').split('\\n')[6].split('>')[1].split('(')[0])\n",
    "    csv_elapsedTime.append(elapsedTime)"
   ]
  },
  {
   "cell_type": "code",
   "execution_count": 15,
   "id": "71a8b5b1",
   "metadata": {},
   "outputs": [
    {
     "data": {
      "text/plain": [
       "[4334, 3476, 2959, 3099, 3103, 2732, 2910, 2413, 2883, 2583]"
      ]
     },
     "execution_count": 15,
     "metadata": {},
     "output_type": "execute_result"
    }
   ],
   "source": [
    "csv_elapsedTime"
   ]
  },
  {
   "cell_type": "markdown",
   "id": "de73bde0",
   "metadata": {},
   "source": [
    "### Parquet"
   ]
  },
  {
   "cell_type": "code",
   "execution_count": 16,
   "id": "9957de5b",
   "metadata": {},
   "outputs": [
    {
     "name": "stderr",
     "output_type": "stream",
     "text": [
      "23/01/25 14:22:01 WARN StageMetrics: Stage metrics data refreshed into temp view PerfStageMetrics\n",
      "23/01/25 14:22:03 WARN StageMetrics: Stage metrics data refreshed into temp view PerfStageMetrics\n",
      "23/01/25 14:22:04 WARN StageMetrics: Stage metrics data refreshed into temp view PerfStageMetrics\n",
      "23/01/25 14:22:06 WARN StageMetrics: Stage metrics data refreshed into temp view PerfStageMetrics\n",
      "23/01/25 14:22:07 WARN StageMetrics: Stage metrics data refreshed into temp view PerfStageMetrics\n",
      "23/01/25 14:22:09 WARN StageMetrics: Stage metrics data refreshed into temp view PerfStageMetrics\n",
      "23/01/25 14:22:10 WARN StageMetrics: Stage metrics data refreshed into temp view PerfStageMetrics\n",
      "23/01/25 14:22:12 WARN StageMetrics: Stage metrics data refreshed into temp view PerfStageMetrics\n",
      "23/01/25 14:22:13 WARN StageMetrics: Stage metrics data refreshed into temp view PerfStageMetrics\n",
      "23/01/25 14:22:15 WARN StageMetrics: Stage metrics data refreshed into temp view PerfStageMetrics\n"
     ]
    }
   ],
   "source": [
    "parquet_elapsedTime = []\n",
    "for i in range(10):\n",
    "    stagemetrics.begin()\n",
    "    data.write.partitionBy(\"category_id\").mode('overwrite').parquet('hdfs://namenode:9000/testing/data/parquet')\n",
    "    stagemetrics.end()\n",
    "    \n",
    "    elapsedTime = int(stagemetrics.report().replace(' ','').split('\\n')[6].split('>')[1].split('(')[0])\n",
    "    parquet_elapsedTime.append(elapsedTime)"
   ]
  },
  {
   "cell_type": "code",
   "execution_count": 17,
   "id": "cc027cec",
   "metadata": {},
   "outputs": [
    {
     "data": {
      "text/plain": [
       "[1403, 1318, 1229, 1234, 1226, 1325, 1191, 1262, 1205, 1218]"
      ]
     },
     "execution_count": 17,
     "metadata": {},
     "output_type": "execute_result"
    }
   ],
   "source": [
    "parquet_elapsedTime"
   ]
  },
  {
   "cell_type": "markdown",
   "id": "7e3e82a9",
   "metadata": {},
   "source": [
    "### Json"
   ]
  },
  {
   "cell_type": "code",
   "execution_count": 18,
   "id": "1d63b82e",
   "metadata": {},
   "outputs": [
    {
     "name": "stderr",
     "output_type": "stream",
     "text": [
      "23/01/25 14:22:18 WARN StageMetrics: Stage metrics data refreshed into temp view PerfStageMetrics\n",
      "23/01/25 14:22:21 WARN StageMetrics: Stage metrics data refreshed into temp view PerfStageMetrics\n",
      "23/01/25 14:22:24 WARN StageMetrics: Stage metrics data refreshed into temp view PerfStageMetrics\n",
      "23/01/25 14:22:28 WARN StageMetrics: Stage metrics data refreshed into temp view PerfStageMetrics\n",
      "23/01/25 14:22:31 WARN StageMetrics: Stage metrics data refreshed into temp view PerfStageMetrics\n",
      "23/01/25 14:22:35 WARN StageMetrics: Stage metrics data refreshed into temp view PerfStageMetrics\n",
      "23/01/25 14:22:40 WARN StageMetrics: Stage metrics data refreshed into temp view PerfStageMetrics\n",
      "23/01/25 14:22:42 WARN StageMetrics: Stage metrics data refreshed into temp view PerfStageMetrics\n",
      "23/01/25 14:22:46 WARN StageMetrics: Stage metrics data refreshed into temp view PerfStageMetrics\n",
      "23/01/25 14:22:49 WARN StageMetrics: Stage metrics data refreshed into temp view PerfStageMetrics\n"
     ]
    }
   ],
   "source": [
    "json_elapsedTime = []\n",
    "for i in range(10):\n",
    "    stagemetrics.begin()\n",
    "    data.write.partitionBy(\"category_id\").mode('overwrite').json('hdfs://namenode:9000/testing/data/json')\n",
    "    stagemetrics.end()\n",
    "    \n",
    "    elapsedTime = int(stagemetrics.report().replace(' ','').split('\\n')[6].split('>')[1].split('(')[0])\n",
    "    json_elapsedTime.append(elapsedTime)"
   ]
  },
  {
   "cell_type": "code",
   "execution_count": 19,
   "id": "0550389f",
   "metadata": {},
   "outputs": [
    {
     "data": {
      "text/plain": [
       "[3101, 2852, 2797, 3294, 2791, 3871, 4054, 2538, 3791, 2794]"
      ]
     },
     "execution_count": 19,
     "metadata": {},
     "output_type": "execute_result"
    }
   ],
   "source": [
    "json_elapsedTime"
   ]
  },
  {
   "cell_type": "markdown",
   "id": "53940d08",
   "metadata": {},
   "source": [
    "### Orc"
   ]
  },
  {
   "cell_type": "code",
   "execution_count": 20,
   "id": "45869b28",
   "metadata": {},
   "outputs": [
    {
     "name": "stderr",
     "output_type": "stream",
     "text": [
      "23/01/25 14:22:52 WARN StageMetrics: Stage metrics data refreshed into temp view PerfStageMetrics\n",
      "23/01/25 14:22:53 WARN StageMetrics: Stage metrics data refreshed into temp view PerfStageMetrics\n",
      "23/01/25 14:22:55 WARN StageMetrics: Stage metrics data refreshed into temp view PerfStageMetrics\n",
      "23/01/25 14:22:56 WARN StageMetrics: Stage metrics data refreshed into temp view PerfStageMetrics\n",
      "23/01/25 14:22:58 WARN StageMetrics: Stage metrics data refreshed into temp view PerfStageMetrics\n",
      "23/01/25 14:23:00 WARN StageMetrics: Stage metrics data refreshed into temp view PerfStageMetrics\n",
      "23/01/25 14:23:01 WARN StageMetrics: Stage metrics data refreshed into temp view PerfStageMetrics\n",
      "23/01/25 14:23:03 WARN StageMetrics: Stage metrics data refreshed into temp view PerfStageMetrics\n",
      "23/01/25 14:23:04 WARN StageMetrics: Stage metrics data refreshed into temp view PerfStageMetrics\n",
      "23/01/25 14:23:05 WARN StageMetrics: Stage metrics data refreshed into temp view PerfStageMetrics\n"
     ]
    }
   ],
   "source": [
    "orc_elapsedTime = []\n",
    "for i in range(10):\n",
    "    stagemetrics.begin()\n",
    "    data.write.partitionBy(\"category_id\").mode('overwrite').orc('hdfs://namenode:9000/testing/data/orc')\n",
    "    stagemetrics.end()\n",
    "    \n",
    "    elapsedTime = int(stagemetrics.report().replace(' ','').split('\\n')[6].split('>')[1].split('(')[0])\n",
    "    orc_elapsedTime.append(elapsedTime)"
   ]
  },
  {
   "cell_type": "code",
   "execution_count": 21,
   "id": "740ce72b",
   "metadata": {},
   "outputs": [
    {
     "data": {
      "text/plain": [
       "[2180, 1364, 1223, 1285, 1238, 1572, 1407, 1256, 1333, 1170]"
      ]
     },
     "execution_count": 21,
     "metadata": {},
     "output_type": "execute_result"
    }
   ],
   "source": [
    "orc_elapsedTime"
   ]
  },
  {
   "cell_type": "code",
   "execution_count": 22,
   "id": "1fce7006",
   "metadata": {},
   "outputs": [],
   "source": [
    "# data.write.mode('overwrite').csv('hdfs://namenode:9000/testing/data/csv')\n",
    "# data.write.mode('overwrite').parquet('hdfs://namenode:9000/testing/data/parquet')\n",
    "# data.write.mode('overwrite').json('hdfs://namenode:9000/testing/data/json')\n",
    "# data.write.mode('overwrite').orc('hdfs://namenode:9000/testing/data/orc')"
   ]
  },
  {
   "cell_type": "markdown",
   "id": "3898d022",
   "metadata": {},
   "source": [
    "## Read statistics"
   ]
  },
  {
   "cell_type": "markdown",
   "id": "d533107d",
   "metadata": {},
   "source": [
    "### CSV"
   ]
  },
  {
   "cell_type": "code",
   "execution_count": 23,
   "id": "b91a1f4b",
   "metadata": {},
   "outputs": [
    {
     "name": "stderr",
     "output_type": "stream",
     "text": [
      "23/01/25 14:23:07 WARN StageMetrics: Stage metrics data refreshed into temp view PerfStageMetrics\n",
      "23/01/25 14:23:09 WARN StageMetrics: Stage metrics data refreshed into temp view PerfStageMetrics\n",
      "23/01/25 14:23:10 WARN StageMetrics: Stage metrics data refreshed into temp view PerfStageMetrics\n",
      "23/01/25 14:23:12 WARN StageMetrics: Stage metrics data refreshed into temp view PerfStageMetrics\n",
      "23/01/25 14:23:13 WARN StageMetrics: Stage metrics data refreshed into temp view PerfStageMetrics\n",
      "23/01/25 14:23:15 WARN StageMetrics: Stage metrics data refreshed into temp view PerfStageMetrics\n",
      "23/01/25 14:23:16 WARN StageMetrics: Stage metrics data refreshed into temp view PerfStageMetrics\n",
      "23/01/25 14:23:17 WARN StageMetrics: Stage metrics data refreshed into temp view PerfStageMetrics\n",
      "23/01/25 14:23:19 WARN StageMetrics: Stage metrics data refreshed into temp view PerfStageMetrics\n",
      "23/01/25 14:23:20 WARN StageMetrics: Stage metrics data refreshed into temp view PerfStageMetrics\n"
     ]
    }
   ],
   "source": [
    "csv_elapsedTime = []\n",
    "for i in range(10):\n",
    "    stagemetrics.begin()\n",
    "    tmp = spark.read.option(\"header\", \"true\").csv('hdfs://namenode:9000/testing/data/csv').take(10000)\n",
    "    stagemetrics.end()\n",
    "    \n",
    "    elapsedTime = int(stagemetrics.report().replace(' ','').split('\\n')[6].split('>')[1].split('(')[0])\n",
    "    csv_elapsedTime.append(elapsedTime)"
   ]
  },
  {
   "cell_type": "code",
   "execution_count": 24,
   "id": "7080c419",
   "metadata": {},
   "outputs": [
    {
     "data": {
      "text/plain": [
       "[1182, 863, 1124, 877, 862, 864, 854, 876, 859, 914]"
      ]
     },
     "execution_count": 24,
     "metadata": {},
     "output_type": "execute_result"
    }
   ],
   "source": [
    "csv_elapsedTime"
   ]
  },
  {
   "cell_type": "markdown",
   "id": "78b893cb",
   "metadata": {},
   "source": [
    "## 1 columns"
   ]
  },
  {
   "cell_type": "code",
   "execution_count": 25,
   "id": "c3310d39",
   "metadata": {},
   "outputs": [
    {
     "name": "stderr",
     "output_type": "stream",
     "text": [
      "23/01/25 15:49:54 WARN StageMetrics: Stage metrics data refreshed into temp view PerfStageMetrics\n",
      "23/01/25 15:49:54 WARN StageMetrics: Stage metrics data refreshed into temp view PerfStageMetrics\n",
      "23/01/25 15:49:55 WARN StageMetrics: Stage metrics data refreshed into temp view PerfStageMetrics\n",
      "23/01/25 15:49:56 WARN StageMetrics: Stage metrics data refreshed into temp view PerfStageMetrics\n",
      "23/01/25 15:49:56 WARN StageMetrics: Stage metrics data refreshed into temp view PerfStageMetrics\n",
      "23/01/25 15:49:57 WARN StageMetrics: Stage metrics data refreshed into temp view PerfStageMetrics\n",
      "23/01/25 15:49:57 WARN StageMetrics: Stage metrics data refreshed into temp view PerfStageMetrics\n",
      "23/01/25 15:49:58 WARN StageMetrics: Stage metrics data refreshed into temp view PerfStageMetrics\n",
      "23/01/25 15:49:59 WARN StageMetrics: Stage metrics data refreshed into temp view PerfStageMetrics\n",
      "23/01/25 15:49:59 WARN StageMetrics: Stage metrics data refreshed into temp view PerfStageMetrics\n"
     ]
    },
    {
     "data": {
      "text/plain": [
       "[981, 415, 451, 755, 379, 393, 383, 408, 396, 430]"
      ]
     },
     "execution_count": 25,
     "metadata": {},
     "output_type": "execute_result"
    }
   ],
   "source": [
    "csv_elapsedTime = []\n",
    "for i in range(10):\n",
    "    stagemetrics.begin()\n",
    "    tmp = spark.read.option(\"header\", \"true\").csv('hdfs://namenode:9000/testing/data/csv').select('price').take(10000)\n",
    "    stagemetrics.end()\n",
    "    \n",
    "    elapsedTime = int(stagemetrics.report().replace(' ','').split('\\n')[6].split('>')[1].split('(')[0])\n",
    "    csv_elapsedTime.append(elapsedTime)\n",
    "csv_elapsedTime"
   ]
  },
  {
   "cell_type": "markdown",
   "id": "892ab28f",
   "metadata": {},
   "source": [
    "### Parquet"
   ]
  },
  {
   "cell_type": "code",
   "execution_count": 27,
   "id": "e884760b",
   "metadata": {},
   "outputs": [
    {
     "name": "stderr",
     "output_type": "stream",
     "text": [
      "23/01/25 15:50:28 WARN StageMetrics: Stage metrics data refreshed into temp view PerfStageMetrics\n",
      "23/01/25 15:50:28 WARN StageMetrics: Stage metrics data refreshed into temp view PerfStageMetrics\n",
      "23/01/25 15:50:29 WARN StageMetrics: Stage metrics data refreshed into temp view PerfStageMetrics\n",
      "23/01/25 15:50:29 WARN StageMetrics: Stage metrics data refreshed into temp view PerfStageMetrics\n",
      "23/01/25 15:50:30 WARN StageMetrics: Stage metrics data refreshed into temp view PerfStageMetrics\n",
      "23/01/25 15:50:31 WARN StageMetrics: Stage metrics data refreshed into temp view PerfStageMetrics\n",
      "23/01/25 15:50:31 WARN StageMetrics: Stage metrics data refreshed into temp view PerfStageMetrics\n",
      "23/01/25 15:50:32 WARN StageMetrics: Stage metrics data refreshed into temp view PerfStageMetrics\n",
      "23/01/25 15:50:33 WARN StageMetrics: Stage metrics data refreshed into temp view PerfStageMetrics\n",
      "23/01/25 15:50:33 WARN StageMetrics: Stage metrics data refreshed into temp view PerfStageMetrics\n"
     ]
    }
   ],
   "source": [
    "parquet_elapsedTime = []\n",
    "for i in range(10):\n",
    "    stagemetrics.begin()\n",
    "    tmp = spark.read.parquet('hdfs://namenode:9000/testing/data/parquet').take(10000)\n",
    "    stagemetrics.end()\n",
    "    \n",
    "    elapsedTime = int(stagemetrics.report().replace(' ','').split('\\n')[6].split('>')[1].split('(')[0])\n",
    "    parquet_elapsedTime.append(elapsedTime)"
   ]
  },
  {
   "cell_type": "code",
   "execution_count": 29,
   "id": "6fadadc4",
   "metadata": {},
   "outputs": [
    {
     "data": {
      "text/plain": [
       "[269, 220, 172, 180, 197, 185, 197, 239, 170, 178]"
      ]
     },
     "execution_count": 29,
     "metadata": {},
     "output_type": "execute_result"
    }
   ],
   "source": [
    "parquet_elapsedTime"
   ]
  },
  {
   "cell_type": "code",
   "execution_count": 33,
   "id": "711ba418",
   "metadata": {},
   "outputs": [
    {
     "name": "stderr",
     "output_type": "stream",
     "text": [
      "23/01/25 15:58:03 WARN StageMetrics: Stage metrics data refreshed into temp view PerfStageMetrics\n",
      "23/01/25 15:58:03 WARN StageMetrics: Stage metrics data refreshed into temp view PerfStageMetrics\n",
      "23/01/25 15:58:03 WARN StageMetrics: Stage metrics data refreshed into temp view PerfStageMetrics\n",
      "23/01/25 15:58:03 WARN StageMetrics: Stage metrics data refreshed into temp view PerfStageMetrics\n",
      "23/01/25 15:58:04 WARN StageMetrics: Stage metrics data refreshed into temp view PerfStageMetrics\n",
      "23/01/25 15:58:04 WARN StageMetrics: Stage metrics data refreshed into temp view PerfStageMetrics\n",
      "23/01/25 15:58:04 WARN StageMetrics: Stage metrics data refreshed into temp view PerfStageMetrics\n",
      "23/01/25 15:58:05 WARN StageMetrics: Stage metrics data refreshed into temp view PerfStageMetrics\n",
      "23/01/25 15:58:05 WARN StageMetrics: Stage metrics data refreshed into temp view PerfStageMetrics\n",
      "23/01/25 15:58:05 WARN StageMetrics: Stage metrics data refreshed into temp view PerfStageMetrics\n"
     ]
    },
    {
     "data": {
      "text/plain": [
       "[76, 70, 67, 69, 68, 67, 72, 69, 70, 76]"
      ]
     },
     "execution_count": 33,
     "metadata": {},
     "output_type": "execute_result"
    }
   ],
   "source": [
    "parquet_elapsedTime = []\n",
    "for i in range(10):\n",
    "    stagemetrics.begin()\n",
    "    tmp = spark.read.parquet('hdfs://namenode:9000/testing/data/parquet').select('price').take(10000)\n",
    "    stagemetrics.end()\n",
    "    \n",
    "    elapsedTime = int(stagemetrics.report().replace(' ','').split('\\n')[6].split('>')[1].split('(')[0])\n",
    "    parquet_elapsedTime.append(elapsedTime)\n",
    "parquet_elapsedTime"
   ]
  },
  {
   "cell_type": "markdown",
   "id": "0ce8c887",
   "metadata": {},
   "source": [
    "### Json"
   ]
  },
  {
   "cell_type": "code",
   "execution_count": 27,
   "id": "dee6334e",
   "metadata": {},
   "outputs": [
    {
     "name": "stderr",
     "output_type": "stream",
     "text": [
      "23/01/25 14:23:49 WARN StageMetrics: Stage metrics data refreshed into temp view PerfStageMetrics\n",
      "23/01/25 14:24:09 WARN StageMetrics: Stage metrics data refreshed into temp view PerfStageMetrics\n",
      "23/01/25 14:24:29 WARN StageMetrics: Stage metrics data refreshed into temp view PerfStageMetrics\n",
      "23/01/25 14:24:51 WARN StageMetrics: Stage metrics data refreshed into temp view PerfStageMetrics\n",
      "23/01/25 14:25:12 WARN StageMetrics: Stage metrics data refreshed into temp view PerfStageMetrics\n",
      "23/01/25 14:25:33 WARN StageMetrics: Stage metrics data refreshed into temp view PerfStageMetrics\n",
      "23/01/25 14:25:53 WARN StageMetrics: Stage metrics data refreshed into temp view PerfStageMetrics\n",
      "23/01/25 14:26:14 WARN StageMetrics: Stage metrics data refreshed into temp view PerfStageMetrics\n",
      "23/01/25 14:26:34 WARN StageMetrics: Stage metrics data refreshed into temp view PerfStageMetrics\n",
      "23/01/25 14:26:55 WARN StageMetrics: Stage metrics data refreshed into temp view PerfStageMetrics\n"
     ]
    }
   ],
   "source": [
    "json_elapsedTime = []\n",
    "for i in range(10):\n",
    "    stagemetrics.begin()\n",
    "    tmp = spark.read.json('hdfs://namenode:9000/testing/data/json').take(10000)\n",
    "    stagemetrics.end()\n",
    "    \n",
    "    elapsedTime = int(stagemetrics.report().replace(' ','').split('\\n')[6].split('>')[1].split('(')[0])\n",
    "    json_elapsedTime.append(elapsedTime)"
   ]
  },
  {
   "cell_type": "code",
   "execution_count": 28,
   "id": "1a919672",
   "metadata": {},
   "outputs": [
    {
     "data": {
      "text/plain": [
       "[21750, 19982, 19859, 21310, 20930, 19755, 20179, 19837, 20255, 19827]"
      ]
     },
     "execution_count": 28,
     "metadata": {},
     "output_type": "execute_result"
    }
   ],
   "source": [
    "json_elapsedTime"
   ]
  },
  {
   "cell_type": "code",
   "execution_count": 31,
   "id": "48a7f447",
   "metadata": {},
   "outputs": [
    {
     "name": "stderr",
     "output_type": "stream",
     "text": [
      "23/01/25 15:51:31 WARN StageMetrics: Stage metrics data refreshed into temp view PerfStageMetrics\n",
      "23/01/25 15:51:53 WARN StageMetrics: Stage metrics data refreshed into temp view PerfStageMetrics\n",
      "23/01/25 15:52:14 WARN StageMetrics: Stage metrics data refreshed into temp view PerfStageMetrics\n",
      "23/01/25 15:52:36 WARN StageMetrics: Stage metrics data refreshed into temp view PerfStageMetrics\n",
      "23/01/25 15:52:56 WARN StageMetrics: Stage metrics data refreshed into temp view PerfStageMetrics\n",
      "23/01/25 15:53:17 WARN StageMetrics: Stage metrics data refreshed into temp view PerfStageMetrics\n",
      "23/01/25 15:53:38 WARN StageMetrics: Stage metrics data refreshed into temp view PerfStageMetrics\n",
      "23/01/25 15:53:59 WARN StageMetrics: Stage metrics data refreshed into temp view PerfStageMetrics\n",
      "23/01/25 15:54:20 WARN StageMetrics: Stage metrics data refreshed into temp view PerfStageMetrics\n",
      "23/01/25 15:54:41 WARN StageMetrics: Stage metrics data refreshed into temp view PerfStageMetrics\n"
     ]
    },
    {
     "data": {
      "text/plain": [
       "[24323, 22082, 21434, 21168, 20535, 20793, 20921, 20430, 20668, 21209]"
      ]
     },
     "execution_count": 31,
     "metadata": {},
     "output_type": "execute_result"
    }
   ],
   "source": [
    "json_elapsedTime = []\n",
    "for i in range(10):\n",
    "    stagemetrics.begin()\n",
    "    tmp = spark.read.json('hdfs://namenode:9000/testing/data/json').select('price').take(10000)\n",
    "    stagemetrics.end()\n",
    "    \n",
    "    elapsedTime = int(stagemetrics.report().replace(' ','').split('\\n')[6].split('>')[1].split('(')[0])\n",
    "    json_elapsedTime.append(elapsedTime)\n",
    "json_elapsedTime"
   ]
  },
  {
   "cell_type": "markdown",
   "id": "d7b114dc",
   "metadata": {},
   "source": [
    "### Orc"
   ]
  },
  {
   "cell_type": "code",
   "execution_count": 29,
   "id": "55957779",
   "metadata": {},
   "outputs": [
    {
     "name": "stderr",
     "output_type": "stream",
     "text": [
      "23/01/25 14:26:56 WARN StageMetrics: Stage metrics data refreshed into temp view PerfStageMetrics\n",
      "23/01/25 14:26:56 WARN StageMetrics: Stage metrics data refreshed into temp view PerfStageMetrics\n",
      "23/01/25 14:26:57 WARN StageMetrics: Stage metrics data refreshed into temp view PerfStageMetrics\n",
      "23/01/25 14:26:58 WARN StageMetrics: Stage metrics data refreshed into temp view PerfStageMetrics\n",
      "23/01/25 14:26:58 WARN StageMetrics: Stage metrics data refreshed into temp view PerfStageMetrics\n",
      "23/01/25 14:26:59 WARN StageMetrics: Stage metrics data refreshed into temp view PerfStageMetrics\n",
      "23/01/25 14:26:59 WARN StageMetrics: Stage metrics data refreshed into temp view PerfStageMetrics\n",
      "23/01/25 14:27:00 WARN StageMetrics: Stage metrics data refreshed into temp view PerfStageMetrics\n",
      "23/01/25 14:27:00 WARN StageMetrics: Stage metrics data refreshed into temp view PerfStageMetrics\n",
      "23/01/25 14:27:01 WARN StageMetrics: Stage metrics data refreshed into temp view PerfStageMetrics\n"
     ]
    }
   ],
   "source": [
    "orc_elapsedTime = []\n",
    "for i in range(10):\n",
    "    stagemetrics.begin()\n",
    "    tmp = spark.read.orc('hdfs://namenode:9000/testing/data/orc').take(10000)\n",
    "    stagemetrics.end()\n",
    "    \n",
    "    elapsedTime = int(stagemetrics.report().replace(' ','').split('\\n')[6].split('>')[1].split('(')[0])\n",
    "    orc_elapsedTime.append(elapsedTime)"
   ]
  },
  {
   "cell_type": "code",
   "execution_count": 30,
   "id": "107d538f",
   "metadata": {},
   "outputs": [
    {
     "data": {
      "text/plain": [
       "[312, 149, 382, 154, 133, 133, 149, 136, 146, 156]"
      ]
     },
     "execution_count": 30,
     "metadata": {},
     "output_type": "execute_result"
    }
   ],
   "source": [
    "orc_elapsedTime"
   ]
  },
  {
   "cell_type": "code",
   "execution_count": null,
   "id": "82484201",
   "metadata": {},
   "outputs": [
    {
     "name": "stderr",
     "output_type": "stream",
     "text": [
      "23/01/25 15:58:33 WARN StageMetrics: Stage metrics data refreshed into temp view PerfStageMetrics\n",
      "23/01/25 15:58:33 WARN StageMetrics: Stage metrics data refreshed into temp view PerfStageMetrics\n",
      "23/01/25 15:58:33 WARN StageMetrics: Stage metrics data refreshed into temp view PerfStageMetrics\n"
     ]
    }
   ],
   "source": [
    "orc_elapsedTime = []\n",
    "for i in range(10):\n",
    "    stagemetrics.begin()\n",
    "    tmp = spark.read.orc('hdfs://namenode:9000/testing/data/orc').select('price').take(10000)\n",
    "    stagemetrics.end()\n",
    "    \n",
    "    elapsedTime = int(stagemetrics.report().replace(' ','').split('\\n')[6].split('>')[1].split('(')[0])\n",
    "    orc_elapsedTime.append(elapsedTime)\n",
    "orc_elapsedTime"
   ]
  },
  {
   "cell_type": "markdown",
   "id": "fef0f679",
   "metadata": {},
   "source": [
    "# Filter performance"
   ]
  },
  {
   "cell_type": "code",
   "execution_count": 31,
   "id": "20a41c3a",
   "metadata": {},
   "outputs": [
    {
     "name": "stderr",
     "output_type": "stream",
     "text": [
      "                                                                                \r"
     ]
    }
   ],
   "source": [
    "df_csv = spark.read.option(\"header\", \"true\").csv('hdfs://namenode:9000/testing/data/csv')\n",
    "df_parquet = spark.read.parquet('hdfs://namenode:9000/testing/data/parquet')\n",
    "df_json = spark.read.json('hdfs://namenode:9000/testing/data/json')\n",
    "df_orc = spark.read.orc('hdfs://namenode:9000/testing/data/orc')"
   ]
  },
  {
   "cell_type": "code",
   "execution_count": 32,
   "id": "a39e8486",
   "metadata": {},
   "outputs": [],
   "source": [
    "df_csv.createOrReplaceTempView('df_csv')\n",
    "df_parquet.createOrReplaceTempView('df_parquet')\n",
    "df_json.createOrReplaceTempView('df_json')\n",
    "df_orc.createOrReplaceTempView('df_orc')"
   ]
  },
  {
   "cell_type": "markdown",
   "id": "329c843f",
   "metadata": {},
   "source": [
    "## CSV"
   ]
  },
  {
   "cell_type": "code",
   "execution_count": 33,
   "id": "a700f4e8",
   "metadata": {},
   "outputs": [
    {
     "name": "stderr",
     "output_type": "stream",
     "text": [
      "23/01/25 14:27:21 WARN StageMetrics: Stage metrics data refreshed into temp view PerfStageMetrics\n",
      "23/01/25 14:27:22 WARN StageMetrics: Stage metrics data refreshed into temp view PerfStageMetrics\n",
      "23/01/25 14:27:22 WARN StageMetrics: Stage metrics data refreshed into temp view PerfStageMetrics\n",
      "23/01/25 14:27:22 WARN StageMetrics: Stage metrics data refreshed into temp view PerfStageMetrics\n",
      "23/01/25 14:27:23 WARN StageMetrics: Stage metrics data refreshed into temp view PerfStageMetrics\n",
      "23/01/25 14:27:23 WARN StageMetrics: Stage metrics data refreshed into temp view PerfStageMetrics\n",
      "23/01/25 14:27:23 WARN StageMetrics: Stage metrics data refreshed into temp view PerfStageMetrics\n",
      "23/01/25 14:27:23 WARN StageMetrics: Stage metrics data refreshed into temp view PerfStageMetrics\n",
      "23/01/25 14:27:24 WARN StageMetrics: Stage metrics data refreshed into temp view PerfStageMetrics\n",
      "23/01/25 14:27:24 WARN StageMetrics: Stage metrics data refreshed into temp view PerfStageMetrics\n"
     ]
    }
   ],
   "source": [
    "csv_elapsedTime = []\n",
    "for i in range(10):\n",
    "    stagemetrics.begin()\n",
    "    tmp = spark.sql('''\n",
    "                select * from df_csv\n",
    "                where price > 100000\n",
    "            ''').take(1000)\n",
    "    stagemetrics.end()\n",
    "    \n",
    "    elapsedTime = int(stagemetrics.report().replace(' ','').split('\\n')[6].split('>')[1].split('(')[0])\n",
    "    csv_elapsedTime.append(elapsedTime)"
   ]
  },
  {
   "cell_type": "code",
   "execution_count": 34,
   "id": "0b21c0e2",
   "metadata": {},
   "outputs": [
    {
     "data": {
      "text/plain": [
       "[167, 114, 195, 111, 137, 113, 121, 114, 130, 113]"
      ]
     },
     "execution_count": 34,
     "metadata": {},
     "output_type": "execute_result"
    }
   ],
   "source": [
    "csv_elapsedTime"
   ]
  },
  {
   "cell_type": "markdown",
   "id": "b593806a",
   "metadata": {},
   "source": [
    "## Parquet"
   ]
  },
  {
   "cell_type": "code",
   "execution_count": 35,
   "id": "37fa2f45",
   "metadata": {},
   "outputs": [
    {
     "name": "stderr",
     "output_type": "stream",
     "text": [
      "23/01/25 14:27:25 WARN StageMetrics: Stage metrics data refreshed into temp view PerfStageMetrics\n",
      "23/01/25 14:27:25 WARN StageMetrics: Stage metrics data refreshed into temp view PerfStageMetrics\n",
      "23/01/25 14:27:25 WARN StageMetrics: Stage metrics data refreshed into temp view PerfStageMetrics\n",
      "23/01/25 14:27:25 WARN StageMetrics: Stage metrics data refreshed into temp view PerfStageMetrics\n",
      "23/01/25 14:27:26 WARN StageMetrics: Stage metrics data refreshed into temp view PerfStageMetrics\n",
      "23/01/25 14:27:26 WARN StageMetrics: Stage metrics data refreshed into temp view PerfStageMetrics\n",
      "23/01/25 14:27:26 WARN StageMetrics: Stage metrics data refreshed into temp view PerfStageMetrics\n",
      "23/01/25 14:27:26 WARN StageMetrics: Stage metrics data refreshed into temp view PerfStageMetrics\n",
      "23/01/25 14:27:27 WARN StageMetrics: Stage metrics data refreshed into temp view PerfStageMetrics\n",
      "23/01/25 14:27:27 WARN StageMetrics: Stage metrics data refreshed into temp view PerfStageMetrics\n"
     ]
    }
   ],
   "source": [
    "parquet_elapsedTime = []\n",
    "for i in range(10):\n",
    "    stagemetrics.begin()\n",
    "    tmp = spark.sql('''\n",
    "                select * from df_parquet\n",
    "                where price > 100000\n",
    "            ''').take(1000)\n",
    "    stagemetrics.end()\n",
    "    \n",
    "    elapsedTime = int(stagemetrics.report().replace(' ','').split('\\n')[6].split('>')[1].split('(')[0])\n",
    "    parquet_elapsedTime.append(elapsedTime)"
   ]
  },
  {
   "cell_type": "code",
   "execution_count": 36,
   "id": "02a606bc",
   "metadata": {},
   "outputs": [
    {
     "data": {
      "text/plain": [
       "[139, 118, 54, 57, 58, 73, 53, 50, 50, 56]"
      ]
     },
     "execution_count": 36,
     "metadata": {},
     "output_type": "execute_result"
    }
   ],
   "source": [
    "parquet_elapsedTime"
   ]
  },
  {
   "cell_type": "code",
   "execution_count": 37,
   "id": "c4d4daf3",
   "metadata": {},
   "outputs": [
    {
     "name": "stderr",
     "output_type": "stream",
     "text": [
      "23/01/25 14:27:27 WARN StageMetrics: Stage metrics data refreshed into temp view PerfStageMetrics\n",
      "23/01/25 14:27:28 WARN StageMetrics: Stage metrics data refreshed into temp view PerfStageMetrics\n",
      "23/01/25 14:27:28 WARN StageMetrics: Stage metrics data refreshed into temp view PerfStageMetrics\n",
      "23/01/25 14:27:28 WARN StageMetrics: Stage metrics data refreshed into temp view PerfStageMetrics\n",
      "23/01/25 14:27:28 WARN StageMetrics: Stage metrics data refreshed into temp view PerfStageMetrics\n",
      "23/01/25 14:27:29 WARN StageMetrics: Stage metrics data refreshed into temp view PerfStageMetrics\n",
      "23/01/25 14:27:29 WARN StageMetrics: Stage metrics data refreshed into temp view PerfStageMetrics\n",
      "23/01/25 14:27:29 WARN StageMetrics: Stage metrics data refreshed into temp view PerfStageMetrics\n",
      "23/01/25 14:27:30 WARN StageMetrics: Stage metrics data refreshed into temp view PerfStageMetrics\n",
      "23/01/25 14:27:30 WARN StageMetrics: Stage metrics data refreshed into temp view PerfStageMetrics\n"
     ]
    }
   ],
   "source": [
    "json_elapsedTime = []\n",
    "for i in range(10):\n",
    "    stagemetrics.begin()\n",
    "    tmp = spark.sql('''\n",
    "                select * from df_json\n",
    "                where price > 100000\n",
    "            ''').take(1000)\n",
    "    stagemetrics.end()\n",
    "    \n",
    "    elapsedTime = int(stagemetrics.report().replace(' ','').split('\\n')[6].split('>')[1].split('(')[0])\n",
    "    json_elapsedTime.append(elapsedTime)"
   ]
  },
  {
   "cell_type": "code",
   "execution_count": 38,
   "id": "077530ec",
   "metadata": {},
   "outputs": [
    {
     "data": {
      "text/plain": [
       "[116, 107, 101, 136, 103, 104, 104, 105, 107, 101]"
      ]
     },
     "execution_count": 38,
     "metadata": {},
     "output_type": "execute_result"
    }
   ],
   "source": [
    "json_elapsedTime"
   ]
  },
  {
   "cell_type": "code",
   "execution_count": 39,
   "id": "68fc9cb8",
   "metadata": {},
   "outputs": [
    {
     "name": "stderr",
     "output_type": "stream",
     "text": [
      "23/01/25 14:27:30 WARN StageMetrics: Stage metrics data refreshed into temp view PerfStageMetrics\n",
      "23/01/25 14:27:31 WARN StageMetrics: Stage metrics data refreshed into temp view PerfStageMetrics\n",
      "23/01/25 14:27:31 WARN StageMetrics: Stage metrics data refreshed into temp view PerfStageMetrics\n",
      "23/01/25 14:27:31 WARN StageMetrics: Stage metrics data refreshed into temp view PerfStageMetrics\n",
      "23/01/25 14:27:31 WARN StageMetrics: Stage metrics data refreshed into temp view PerfStageMetrics\n",
      "23/01/25 14:27:32 WARN StageMetrics: Stage metrics data refreshed into temp view PerfStageMetrics\n",
      "23/01/25 14:27:32 WARN StageMetrics: Stage metrics data refreshed into temp view PerfStageMetrics\n",
      "23/01/25 14:27:32 WARN StageMetrics: Stage metrics data refreshed into temp view PerfStageMetrics\n",
      "23/01/25 14:27:33 WARN StageMetrics: Stage metrics data refreshed into temp view PerfStageMetrics\n",
      "23/01/25 14:27:33 WARN StageMetrics: Stage metrics data refreshed into temp view PerfStageMetrics\n"
     ]
    }
   ],
   "source": [
    "orc_elapsedTime = []\n",
    "for i in range(10):\n",
    "    stagemetrics.begin()\n",
    "    tmp = spark.sql('''\n",
    "                select * from df_orc\n",
    "                where price > 100000\n",
    "            ''').take(1000)\n",
    "    stagemetrics.end()\n",
    "    \n",
    "    elapsedTime = int(stagemetrics.report().replace(' ','').split('\\n')[6].split('>')[1].split('(')[0])\n",
    "    orc_elapsedTime.append(elapsedTime)"
   ]
  },
  {
   "cell_type": "code",
   "execution_count": 40,
   "id": "f65bb8e6",
   "metadata": {},
   "outputs": [
    {
     "data": {
      "text/plain": [
       "[154, 159, 51, 68, 45, 66, 48, 48, 46, 48]"
      ]
     },
     "execution_count": 40,
     "metadata": {},
     "output_type": "execute_result"
    }
   ],
   "source": [
    "orc_elapsedTime"
   ]
  },
  {
   "cell_type": "markdown",
   "id": "ca4b843b",
   "metadata": {},
   "source": [
    " # Aggregate performance"
   ]
  },
  {
   "cell_type": "markdown",
   "id": "3bd6327e",
   "metadata": {},
   "source": [
    "## CSV"
   ]
  },
  {
   "cell_type": "code",
   "execution_count": 41,
   "id": "b1aa5e27",
   "metadata": {},
   "outputs": [
    {
     "name": "stderr",
     "output_type": "stream",
     "text": [
      "23/01/25 14:27:35 WARN StageMetrics: Stage metrics data refreshed into temp view PerfStageMetrics\n",
      "23/01/25 14:27:35 WARN StageMetrics: Stage metrics data refreshed into temp view PerfStageMetrics\n",
      "23/01/25 14:27:35 WARN StageMetrics: Stage metrics data refreshed into temp view PerfStageMetrics\n",
      "23/01/25 14:27:37 WARN StageMetrics: Stage metrics data refreshed into temp view PerfStageMetrics\n",
      "23/01/25 14:27:37 WARN StageMetrics: Stage metrics data refreshed into temp view PerfStageMetrics\n",
      "23/01/25 14:27:38 WARN StageMetrics: Stage metrics data refreshed into temp view PerfStageMetrics\n",
      "23/01/25 14:27:39 WARN StageMetrics: Stage metrics data refreshed into temp view PerfStageMetrics\n",
      "23/01/25 14:27:40 WARN StageMetrics: Stage metrics data refreshed into temp view PerfStageMetrics\n",
      "23/01/25 14:27:40 WARN StageMetrics: Stage metrics data refreshed into temp view PerfStageMetrics\n",
      "23/01/25 14:27:42 WARN StageMetrics: Stage metrics data refreshed into temp view PerfStageMetrics\n",
      "23/01/25 14:27:42 WARN StageMetrics: Stage metrics data refreshed into temp view PerfStageMetrics\n",
      "23/01/25 14:27:42 WARN StageMetrics: Stage metrics data refreshed into temp view PerfStageMetrics\n",
      "23/01/25 14:27:44 WARN StageMetrics: Stage metrics data refreshed into temp view PerfStageMetrics\n",
      "23/01/25 14:27:44 WARN StageMetrics: Stage metrics data refreshed into temp view PerfStageMetrics\n",
      "23/01/25 14:27:44 WARN StageMetrics: Stage metrics data refreshed into temp view PerfStageMetrics\n",
      "23/01/25 14:27:45 WARN StageMetrics: Stage metrics data refreshed into temp view PerfStageMetrics\n",
      "23/01/25 14:27:46 WARN StageMetrics: Stage metrics data refreshed into temp view PerfStageMetrics\n",
      "23/01/25 14:27:46 WARN StageMetrics: Stage metrics data refreshed into temp view PerfStageMetrics\n",
      "23/01/25 14:27:48 WARN StageMetrics: Stage metrics data refreshed into temp view PerfStageMetrics\n",
      "23/01/25 14:27:48 WARN StageMetrics: Stage metrics data refreshed into temp view PerfStageMetrics\n",
      "23/01/25 14:27:48 WARN StageMetrics: Stage metrics data refreshed into temp view PerfStageMetrics\n",
      "23/01/25 14:27:50 WARN StageMetrics: Stage metrics data refreshed into temp view PerfStageMetrics\n",
      "23/01/25 14:27:50 WARN StageMetrics: Stage metrics data refreshed into temp view PerfStageMetrics\n",
      "23/01/25 14:27:50 WARN StageMetrics: Stage metrics data refreshed into temp view PerfStageMetrics\n",
      "23/01/25 14:27:52 WARN StageMetrics: Stage metrics data refreshed into temp view PerfStageMetrics\n",
      "23/01/25 14:27:52 WARN StageMetrics: Stage metrics data refreshed into temp view PerfStageMetrics\n",
      "23/01/25 14:27:52 WARN StageMetrics: Stage metrics data refreshed into temp view PerfStageMetrics\n",
      "23/01/25 14:27:53 WARN StageMetrics: Stage metrics data refreshed into temp view PerfStageMetrics\n",
      "23/01/25 14:27:54 WARN StageMetrics: Stage metrics data refreshed into temp view PerfStageMetrics\n",
      "23/01/25 14:27:54 WARN StageMetrics: Stage metrics data refreshed into temp view PerfStageMetrics\n"
     ]
    }
   ],
   "source": [
    "agg_dict = defaultdict(list)\n",
    "for i in range(10):\n",
    "    stagemetrics.begin()\n",
    "    tmp = spark.sql('''\n",
    "                select category_id,sum(price) total_price from df_csv\n",
    "                group by category_id\n",
    "            ''').collect()\n",
    "    stagemetrics.end()\n",
    "    \n",
    "    elapsedTime = int(stagemetrics.report().replace(' ','').split('\\n')[6].split('>')[1].split('(')[0])\n",
    "    executorCpuTime = int(stagemetrics.report().replace(' ','').split('\\n')[9].split('>')[1].split('(')[0])\n",
    "    jvmGCTime = int(stagemetrics.report().replace(' ','').split('\\n')[13].split('>')[1].split('(')[0])\n",
    "    \n",
    "    \n",
    "    agg_dict['elapsedTime'].append(elapsedTime)\n",
    "    agg_dict['executorCpuTime'].append(executorCpuTime)\n",
    "    agg_dict['jvmGCTime'].append(jvmGCTime)"
   ]
  },
  {
   "cell_type": "code",
   "execution_count": 42,
   "id": "d918b4a3",
   "metadata": {},
   "outputs": [
    {
     "data": {
      "text/plain": [
       "defaultdict(list,\n",
       "            {'elapsedTime': [2164,\n",
       "              1742,\n",
       "              1760,\n",
       "              1668,\n",
       "              1641,\n",
       "              1597,\n",
       "              1642,\n",
       "              1622,\n",
       "              1622,\n",
       "              1587],\n",
       "             'executorCpuTime': [5040,\n",
       "              4126,\n",
       "              3899,\n",
       "              3979,\n",
       "              4176,\n",
       "              4125,\n",
       "              4484,\n",
       "              3880,\n",
       "              4135,\n",
       "              4018],\n",
       "             'jvmGCTime': [78, 51, 40, 52, 28, 36, 46, 60, 38, 45]})"
      ]
     },
     "execution_count": 42,
     "metadata": {},
     "output_type": "execute_result"
    }
   ],
   "source": [
    "agg_dict"
   ]
  },
  {
   "cell_type": "markdown",
   "id": "58f06c9c",
   "metadata": {},
   "source": [
    "## Parquet"
   ]
  },
  {
   "cell_type": "code",
   "execution_count": 43,
   "id": "b69293db",
   "metadata": {},
   "outputs": [
    {
     "name": "stderr",
     "output_type": "stream",
     "text": [
      "23/01/25 14:27:54 WARN StageMetrics: Stage metrics data refreshed into temp view PerfStageMetrics\n",
      "23/01/25 14:27:55 WARN StageMetrics: Stage metrics data refreshed into temp view PerfStageMetrics\n",
      "23/01/25 14:27:55 WARN StageMetrics: Stage metrics data refreshed into temp view PerfStageMetrics\n",
      "23/01/25 14:27:55 WARN StageMetrics: Stage metrics data refreshed into temp view PerfStageMetrics\n",
      "23/01/25 14:27:55 WARN StageMetrics: Stage metrics data refreshed into temp view PerfStageMetrics\n",
      "23/01/25 14:27:55 WARN StageMetrics: Stage metrics data refreshed into temp view PerfStageMetrics\n",
      "23/01/25 14:27:56 WARN StageMetrics: Stage metrics data refreshed into temp view PerfStageMetrics\n",
      "23/01/25 14:27:56 WARN StageMetrics: Stage metrics data refreshed into temp view PerfStageMetrics\n",
      "23/01/25 14:27:56 WARN StageMetrics: Stage metrics data refreshed into temp view PerfStageMetrics\n",
      "23/01/25 14:27:57 WARN StageMetrics: Stage metrics data refreshed into temp view PerfStageMetrics\n",
      "23/01/25 14:27:57 WARN StageMetrics: Stage metrics data refreshed into temp view PerfStageMetrics\n",
      "23/01/25 14:27:57 WARN StageMetrics: Stage metrics data refreshed into temp view PerfStageMetrics\n",
      "23/01/25 14:27:57 WARN StageMetrics: Stage metrics data refreshed into temp view PerfStageMetrics\n",
      "23/01/25 14:27:58 WARN StageMetrics: Stage metrics data refreshed into temp view PerfStageMetrics\n",
      "23/01/25 14:27:58 WARN StageMetrics: Stage metrics data refreshed into temp view PerfStageMetrics\n",
      "23/01/25 14:27:58 WARN StageMetrics: Stage metrics data refreshed into temp view PerfStageMetrics\n",
      "23/01/25 14:27:59 WARN StageMetrics: Stage metrics data refreshed into temp view PerfStageMetrics\n",
      "23/01/25 14:27:59 WARN StageMetrics: Stage metrics data refreshed into temp view PerfStageMetrics\n",
      "23/01/25 14:27:59 WARN StageMetrics: Stage metrics data refreshed into temp view PerfStageMetrics\n",
      "23/01/25 14:27:59 WARN StageMetrics: Stage metrics data refreshed into temp view PerfStageMetrics\n",
      "23/01/25 14:27:59 WARN StageMetrics: Stage metrics data refreshed into temp view PerfStageMetrics\n",
      "23/01/25 14:28:00 WARN StageMetrics: Stage metrics data refreshed into temp view PerfStageMetrics\n",
      "23/01/25 14:28:00 WARN StageMetrics: Stage metrics data refreshed into temp view PerfStageMetrics\n",
      "23/01/25 14:28:00 WARN StageMetrics: Stage metrics data refreshed into temp view PerfStageMetrics\n",
      "23/01/25 14:28:01 WARN StageMetrics: Stage metrics data refreshed into temp view PerfStageMetrics\n",
      "23/01/25 14:28:01 WARN StageMetrics: Stage metrics data refreshed into temp view PerfStageMetrics\n",
      "23/01/25 14:28:01 WARN StageMetrics: Stage metrics data refreshed into temp view PerfStageMetrics\n",
      "23/01/25 14:28:02 WARN StageMetrics: Stage metrics data refreshed into temp view PerfStageMetrics\n",
      "23/01/25 14:28:02 WARN StageMetrics: Stage metrics data refreshed into temp view PerfStageMetrics\n",
      "23/01/25 14:28:02 WARN StageMetrics: Stage metrics data refreshed into temp view PerfStageMetrics\n"
     ]
    }
   ],
   "source": [
    "agg_dict = defaultdict(list)\n",
    "for i in range(10):\n",
    "    stagemetrics.begin()\n",
    "    tmp = spark.sql('''\n",
    "                select category_id,sum(price) total_price from df_parquet\n",
    "                group by category_id\n",
    "            ''').collect()\n",
    "    stagemetrics.end()\n",
    "    \n",
    "    elapsedTime = int(stagemetrics.report().replace(' ','').split('\\n')[6].split('>')[1].split('(')[0])\n",
    "    executorCpuTime = int(stagemetrics.report().replace(' ','').split('\\n')[9].split('>')[1].split('(')[0])\n",
    "    jvmGCTime = int(stagemetrics.report().replace(' ','').split('\\n')[13].split('>')[1].split('(')[0])\n",
    "    \n",
    "    \n",
    "    agg_dict['elapsedTime'].append(elapsedTime)\n",
    "    agg_dict['executorCpuTime'].append(executorCpuTime)\n",
    "    agg_dict['jvmGCTime'].append(jvmGCTime)"
   ]
  },
  {
   "cell_type": "code",
   "execution_count": 44,
   "id": "6f9e594c",
   "metadata": {},
   "outputs": [
    {
     "data": {
      "text/plain": [
       "defaultdict(list,\n",
       "            {'elapsedTime': [527, 426, 387, 323, 448, 592, 412, 483, 559, 433],\n",
       "             'executorCpuTime': [608,\n",
       "              457,\n",
       "              426,\n",
       "              391,\n",
       "              431,\n",
       "              439,\n",
       "              402,\n",
       "              440,\n",
       "              434,\n",
       "              402],\n",
       "             'jvmGCTime': [34, 8, 0, 7, 0, 24, 16, 0, 63, 0]})"
      ]
     },
     "execution_count": 44,
     "metadata": {},
     "output_type": "execute_result"
    }
   ],
   "source": [
    "agg_dict"
   ]
  },
  {
   "cell_type": "markdown",
   "id": "754a9350",
   "metadata": {},
   "source": [
    "## Json"
   ]
  },
  {
   "cell_type": "code",
   "execution_count": 45,
   "id": "4820a10a",
   "metadata": {},
   "outputs": [
    {
     "name": "stderr",
     "output_type": "stream",
     "text": [
      "23/01/25 14:28:04 WARN StageMetrics: Stage metrics data refreshed into temp view PerfStageMetrics\n",
      "23/01/25 14:28:04 WARN StageMetrics: Stage metrics data refreshed into temp view PerfStageMetrics\n",
      "23/01/25 14:28:04 WARN StageMetrics: Stage metrics data refreshed into temp view PerfStageMetrics\n",
      "23/01/25 14:28:06 WARN StageMetrics: Stage metrics data refreshed into temp view PerfStageMetrics\n",
      "23/01/25 14:28:06 WARN StageMetrics: Stage metrics data refreshed into temp view PerfStageMetrics\n",
      "23/01/25 14:28:06 WARN StageMetrics: Stage metrics data refreshed into temp view PerfStageMetrics\n",
      "23/01/25 14:28:08 WARN StageMetrics: Stage metrics data refreshed into temp view PerfStageMetrics\n",
      "23/01/25 14:28:08 WARN StageMetrics: Stage metrics data refreshed into temp view PerfStageMetrics\n",
      "23/01/25 14:28:08 WARN StageMetrics: Stage metrics data refreshed into temp view PerfStageMetrics\n",
      "23/01/25 14:28:09 WARN StageMetrics: Stage metrics data refreshed into temp view PerfStageMetrics\n",
      "23/01/25 14:28:09 WARN StageMetrics: Stage metrics data refreshed into temp view PerfStageMetrics\n",
      "23/01/25 14:28:09 WARN StageMetrics: Stage metrics data refreshed into temp view PerfStageMetrics\n",
      "23/01/25 14:28:11 WARN StageMetrics: Stage metrics data refreshed into temp view PerfStageMetrics\n",
      "23/01/25 14:28:11 WARN StageMetrics: Stage metrics data refreshed into temp view PerfStageMetrics\n",
      "23/01/25 14:28:11 WARN StageMetrics: Stage metrics data refreshed into temp view PerfStageMetrics\n",
      "23/01/25 14:28:12 WARN StageMetrics: Stage metrics data refreshed into temp view PerfStageMetrics\n",
      "23/01/25 14:28:12 WARN StageMetrics: Stage metrics data refreshed into temp view PerfStageMetrics\n",
      "23/01/25 14:28:12 WARN StageMetrics: Stage metrics data refreshed into temp view PerfStageMetrics\n",
      "23/01/25 14:28:14 WARN StageMetrics: Stage metrics data refreshed into temp view PerfStageMetrics\n",
      "23/01/25 14:28:14 WARN StageMetrics: Stage metrics data refreshed into temp view PerfStageMetrics\n",
      "23/01/25 14:28:14 WARN StageMetrics: Stage metrics data refreshed into temp view PerfStageMetrics\n",
      "23/01/25 14:28:15 WARN StageMetrics: Stage metrics data refreshed into temp view PerfStageMetrics\n",
      "23/01/25 14:28:15 WARN StageMetrics: Stage metrics data refreshed into temp view PerfStageMetrics\n",
      "23/01/25 14:28:15 WARN StageMetrics: Stage metrics data refreshed into temp view PerfStageMetrics\n",
      "23/01/25 14:28:16 WARN StageMetrics: Stage metrics data refreshed into temp view PerfStageMetrics\n",
      "23/01/25 14:28:17 WARN StageMetrics: Stage metrics data refreshed into temp view PerfStageMetrics\n",
      "23/01/25 14:28:17 WARN StageMetrics: Stage metrics data refreshed into temp view PerfStageMetrics\n",
      "23/01/25 14:28:18 WARN StageMetrics: Stage metrics data refreshed into temp view PerfStageMetrics\n",
      "23/01/25 14:28:18 WARN StageMetrics: Stage metrics data refreshed into temp view PerfStageMetrics\n",
      "23/01/25 14:28:18 WARN StageMetrics: Stage metrics data refreshed into temp view PerfStageMetrics\n"
     ]
    }
   ],
   "source": [
    "agg_dict = defaultdict(list)\n",
    "for i in range(10):\n",
    "    stagemetrics.begin()\n",
    "    tmp = spark.sql('''\n",
    "                select category_id,sum(price) total_price from df_json\n",
    "                group by category_id\n",
    "            ''').collect()\n",
    "    stagemetrics.end()\n",
    "    \n",
    "    elapsedTime = int(stagemetrics.report().replace(' ','').split('\\n')[6].split('>')[1].split('(')[0])\n",
    "    executorCpuTime = int(stagemetrics.report().replace(' ','').split('\\n')[9].split('>')[1].split('(')[0])\n",
    "    jvmGCTime = int(stagemetrics.report().replace(' ','').split('\\n')[13].split('>')[1].split('(')[0])\n",
    "    \n",
    "    \n",
    "    agg_dict['elapsedTime'].append(elapsedTime)\n",
    "    agg_dict['executorCpuTime'].append(executorCpuTime)\n",
    "    agg_dict['jvmGCTime'].append(jvmGCTime)"
   ]
  },
  {
   "cell_type": "code",
   "execution_count": 46,
   "id": "596727df",
   "metadata": {},
   "outputs": [
    {
     "data": {
      "text/plain": [
       "defaultdict(list,\n",
       "            {'elapsedTime': [1765,\n",
       "              1292,\n",
       "              1235,\n",
       "              1169,\n",
       "              1105,\n",
       "              1168,\n",
       "              1179,\n",
       "              1057,\n",
       "              1058,\n",
       "              1083],\n",
       "             'executorCpuTime': [4293,\n",
       "              3196,\n",
       "              3333,\n",
       "              2915,\n",
       "              2618,\n",
       "              2959,\n",
       "              2698,\n",
       "              2496,\n",
       "              2494,\n",
       "              2686],\n",
       "             'jvmGCTime': [58, 50, 0, 15, 8, 0, 30, 6, 18, 0]})"
      ]
     },
     "execution_count": 46,
     "metadata": {},
     "output_type": "execute_result"
    }
   ],
   "source": [
    "agg_dict"
   ]
  },
  {
   "cell_type": "markdown",
   "id": "5c2671c9",
   "metadata": {},
   "source": [
    "## Orc"
   ]
  },
  {
   "cell_type": "code",
   "execution_count": 47,
   "id": "b57e3320",
   "metadata": {},
   "outputs": [
    {
     "name": "stderr",
     "output_type": "stream",
     "text": [
      "23/01/25 14:28:19 WARN StageMetrics: Stage metrics data refreshed into temp view PerfStageMetrics\n",
      "23/01/25 14:28:19 WARN StageMetrics: Stage metrics data refreshed into temp view PerfStageMetrics\n",
      "23/01/25 14:28:19 WARN StageMetrics: Stage metrics data refreshed into temp view PerfStageMetrics\n",
      "23/01/25 14:28:19 WARN StageMetrics: Stage metrics data refreshed into temp view PerfStageMetrics\n",
      "23/01/25 14:28:19 WARN StageMetrics: Stage metrics data refreshed into temp view PerfStageMetrics\n",
      "23/01/25 14:28:19 WARN StageMetrics: Stage metrics data refreshed into temp view PerfStageMetrics\n",
      "23/01/25 14:28:20 WARN StageMetrics: Stage metrics data refreshed into temp view PerfStageMetrics\n",
      "23/01/25 14:28:20 WARN StageMetrics: Stage metrics data refreshed into temp view PerfStageMetrics\n",
      "23/01/25 14:28:20 WARN StageMetrics: Stage metrics data refreshed into temp view PerfStageMetrics\n",
      "23/01/25 14:28:21 WARN StageMetrics: Stage metrics data refreshed into temp view PerfStageMetrics\n",
      "23/01/25 14:28:21 WARN StageMetrics: Stage metrics data refreshed into temp view PerfStageMetrics\n",
      "23/01/25 14:28:21 WARN StageMetrics: Stage metrics data refreshed into temp view PerfStageMetrics\n",
      "23/01/25 14:28:21 WARN StageMetrics: Stage metrics data refreshed into temp view PerfStageMetrics\n",
      "23/01/25 14:28:21 WARN StageMetrics: Stage metrics data refreshed into temp view PerfStageMetrics\n",
      "23/01/25 14:28:21 WARN StageMetrics: Stage metrics data refreshed into temp view PerfStageMetrics\n",
      "23/01/25 14:28:22 WARN StageMetrics: Stage metrics data refreshed into temp view PerfStageMetrics\n",
      "23/01/25 14:28:22 WARN StageMetrics: Stage metrics data refreshed into temp view PerfStageMetrics\n",
      "23/01/25 14:28:22 WARN StageMetrics: Stage metrics data refreshed into temp view PerfStageMetrics\n",
      "23/01/25 14:28:23 WARN StageMetrics: Stage metrics data refreshed into temp view PerfStageMetrics\n",
      "23/01/25 14:28:23 WARN StageMetrics: Stage metrics data refreshed into temp view PerfStageMetrics\n",
      "23/01/25 14:28:23 WARN StageMetrics: Stage metrics data refreshed into temp view PerfStageMetrics\n",
      "23/01/25 14:28:23 WARN StageMetrics: Stage metrics data refreshed into temp view PerfStageMetrics\n",
      "23/01/25 14:28:23 WARN StageMetrics: Stage metrics data refreshed into temp view PerfStageMetrics\n",
      "23/01/25 14:28:23 WARN StageMetrics: Stage metrics data refreshed into temp view PerfStageMetrics\n",
      "23/01/25 14:28:24 WARN StageMetrics: Stage metrics data refreshed into temp view PerfStageMetrics\n",
      "23/01/25 14:28:24 WARN StageMetrics: Stage metrics data refreshed into temp view PerfStageMetrics\n",
      "23/01/25 14:28:24 WARN StageMetrics: Stage metrics data refreshed into temp view PerfStageMetrics\n",
      "23/01/25 14:28:24 WARN StageMetrics: Stage metrics data refreshed into temp view PerfStageMetrics\n",
      "23/01/25 14:28:25 WARN StageMetrics: Stage metrics data refreshed into temp view PerfStageMetrics\n",
      "23/01/25 14:28:25 WARN StageMetrics: Stage metrics data refreshed into temp view PerfStageMetrics\n"
     ]
    }
   ],
   "source": [
    "agg_dict = defaultdict(list)\n",
    "for i in range(10):\n",
    "    stagemetrics.begin()\n",
    "    tmp = spark.sql('''\n",
    "                select category_id,sum(price) total_price from df_orc\n",
    "                group by category_id\n",
    "            ''').collect()\n",
    "    stagemetrics.end()\n",
    "    \n",
    "    elapsedTime = int(stagemetrics.report().replace(' ','').split('\\n')[6].split('>')[1].split('(')[0])\n",
    "    executorCpuTime = int(stagemetrics.report().replace(' ','').split('\\n')[9].split('>')[1].split('(')[0])\n",
    "    jvmGCTime = int(stagemetrics.report().replace(' ','').split('\\n')[13].split('>')[1].split('(')[0])\n",
    "    \n",
    "    \n",
    "    agg_dict['elapsedTime'].append(elapsedTime)\n",
    "    agg_dict['executorCpuTime'].append(executorCpuTime)\n",
    "    agg_dict['jvmGCTime'].append(jvmGCTime)"
   ]
  },
  {
   "cell_type": "code",
   "execution_count": 48,
   "id": "c0388fd6",
   "metadata": {},
   "outputs": [
    {
     "data": {
      "text/plain": [
       "defaultdict(list,\n",
       "            {'elapsedTime': [354, 297, 308, 330, 282, 300, 294, 296, 304, 283],\n",
       "             'executorCpuTime': [451,\n",
       "              365,\n",
       "              350,\n",
       "              360,\n",
       "              343,\n",
       "              340,\n",
       "              348,\n",
       "              343,\n",
       "              351,\n",
       "              349],\n",
       "             'jvmGCTime': [7, 0, 0, 10, 0, 0, 0, 16, 14, 0]})"
      ]
     },
     "execution_count": 48,
     "metadata": {},
     "output_type": "execute_result"
    }
   ],
   "source": [
    "agg_dict"
   ]
  },
  {
   "cell_type": "markdown",
   "id": "09d5fbcf",
   "metadata": {},
   "source": [
    "# Partition"
   ]
  },
  {
   "cell_type": "code",
   "execution_count": 14,
   "id": "b4bd87a4",
   "metadata": {},
   "outputs": [],
   "source": [
    "data = data.unionAll(data).unionAll(data).unionAll(data)"
   ]
  },
  {
   "cell_type": "code",
   "execution_count": 24,
   "id": "8f7aaf8e",
   "metadata": {},
   "outputs": [
    {
     "data": {
      "text/plain": [
       "400000"
      ]
     },
     "execution_count": 24,
     "metadata": {},
     "output_type": "execute_result"
    }
   ],
   "source": [
    "data.count()"
   ]
  },
  {
   "cell_type": "code",
   "execution_count": 20,
   "id": "7bb9d9c2",
   "metadata": {},
   "outputs": [],
   "source": [
    "list_partition = [1,8,9,20,100]"
   ]
  },
  {
   "cell_type": "code",
   "execution_count": 21,
   "id": "38c926fe",
   "metadata": {},
   "outputs": [
    {
     "name": "stderr",
     "output_type": "stream",
     "text": [
      "                                                                                \r"
     ]
    }
   ],
   "source": [
    "for ptt in list_partition:\n",
    "    data.repartition(ptt).write.mode('overwrite').parquet(f'hdfs://namenode:9000/testing/partition/partition_{ptt}')"
   ]
  },
  {
   "cell_type": "code",
   "execution_count": 22,
   "id": "244a21b6",
   "metadata": {},
   "outputs": [],
   "source": [
    "for ptt in list_partition:\n",
    "    tmp = spark.read.parquet(f'hdfs://namenode:9000/testing/partition/partition_{ptt}')\n",
    "    tmp.createOrReplaceTempView(f'partition_{ptt}')"
   ]
  },
  {
   "cell_type": "markdown",
   "id": "e8db4e19",
   "metadata": {},
   "source": [
    "## Partition 1"
   ]
  },
  {
   "cell_type": "code",
   "execution_count": 23,
   "id": "c5ea7184",
   "metadata": {},
   "outputs": [
    {
     "name": "stderr",
     "output_type": "stream",
     "text": [
      "23/01/25 15:25:55 WARN StageMetrics: Stage metrics data refreshed into temp view PerfStageMetrics\n",
      "23/01/25 15:25:55 WARN StageMetrics: Stage metrics data refreshed into temp view PerfStageMetrics\n",
      "23/01/25 15:25:55 WARN StageMetrics: Stage metrics data refreshed into temp view PerfStageMetrics\n",
      "23/01/25 15:25:56 WARN StageMetrics: Stage metrics data refreshed into temp view PerfStageMetrics\n",
      "23/01/25 15:25:56 WARN StageMetrics: Stage metrics data refreshed into temp view PerfStageMetrics\n",
      "23/01/25 15:25:56 WARN StageMetrics: Stage metrics data refreshed into temp view PerfStageMetrics\n",
      "23/01/25 15:25:57 WARN StageMetrics: Stage metrics data refreshed into temp view PerfStageMetrics\n",
      "23/01/25 15:25:57 WARN StageMetrics: Stage metrics data refreshed into temp view PerfStageMetrics\n",
      "23/01/25 15:25:57 WARN StageMetrics: Stage metrics data refreshed into temp view PerfStageMetrics\n",
      "23/01/25 15:25:57 WARN StageMetrics: Stage metrics data refreshed into temp view PerfStageMetrics\n",
      "23/01/25 15:25:58 WARN StageMetrics: Stage metrics data refreshed into temp view PerfStageMetrics\n",
      "23/01/25 15:25:58 WARN StageMetrics: Stage metrics data refreshed into temp view PerfStageMetrics\n",
      "23/01/25 15:25:58 WARN StageMetrics: Stage metrics data refreshed into temp view PerfStageMetrics\n",
      "23/01/25 15:25:59 WARN StageMetrics: Stage metrics data refreshed into temp view PerfStageMetrics\n",
      "23/01/25 15:25:59 WARN StageMetrics: Stage metrics data refreshed into temp view PerfStageMetrics\n",
      "23/01/25 15:25:59 WARN StageMetrics: Stage metrics data refreshed into temp view PerfStageMetrics\n",
      "23/01/25 15:25:59 WARN StageMetrics: Stage metrics data refreshed into temp view PerfStageMetrics\n",
      "23/01/25 15:25:59 WARN StageMetrics: Stage metrics data refreshed into temp view PerfStageMetrics\n",
      "23/01/25 15:26:00 WARN StageMetrics: Stage metrics data refreshed into temp view PerfStageMetrics\n",
      "23/01/25 15:26:00 WARN StageMetrics: Stage metrics data refreshed into temp view PerfStageMetrics\n",
      "23/01/25 15:26:00 WARN StageMetrics: Stage metrics data refreshed into temp view PerfStageMetrics\n",
      "23/01/25 15:26:00 WARN StageMetrics: Stage metrics data refreshed into temp view PerfStageMetrics\n",
      "23/01/25 15:26:01 WARN StageMetrics: Stage metrics data refreshed into temp view PerfStageMetrics\n",
      "23/01/25 15:26:01 WARN StageMetrics: Stage metrics data refreshed into temp view PerfStageMetrics\n",
      "23/01/25 15:26:01 WARN StageMetrics: Stage metrics data refreshed into temp view PerfStageMetrics\n",
      "23/01/25 15:26:01 WARN StageMetrics: Stage metrics data refreshed into temp view PerfStageMetrics\n",
      "23/01/25 15:26:01 WARN StageMetrics: Stage metrics data refreshed into temp view PerfStageMetrics\n",
      "23/01/25 15:26:02 WARN StageMetrics: Stage metrics data refreshed into temp view PerfStageMetrics\n",
      "23/01/25 15:26:02 WARN StageMetrics: Stage metrics data refreshed into temp view PerfStageMetrics\n",
      "23/01/25 15:26:02 WARN StageMetrics: Stage metrics data refreshed into temp view PerfStageMetrics\n"
     ]
    },
    {
     "name": "stdout",
     "output_type": "stream",
     "text": [
      "====================\n",
      "partition: 1\n",
      "defaultdict(<class 'list'>, {'elapsedTime': [433, 421, 316, 374, 593, 341, 270, 292, 374, 329], 'executorCpuTime': [372, 364, 340, 334, 334, 334, 303, 320, 340, 329], 'jvmGCTime': [9, 0, 0, 0, 0, 12, 12, 0, 0, 0]})\n"
     ]
    },
    {
     "name": "stderr",
     "output_type": "stream",
     "text": [
      "23/01/25 15:26:03 WARN StageMetrics: Stage metrics data refreshed into temp view PerfStageMetrics\n",
      "23/01/25 15:26:03 WARN StageMetrics: Stage metrics data refreshed into temp view PerfStageMetrics\n",
      "23/01/25 15:26:03 WARN StageMetrics: Stage metrics data refreshed into temp view PerfStageMetrics\n",
      "23/01/25 15:26:03 WARN StageMetrics: Stage metrics data refreshed into temp view PerfStageMetrics\n",
      "23/01/25 15:26:03 WARN StageMetrics: Stage metrics data refreshed into temp view PerfStageMetrics\n",
      "23/01/25 15:26:04 WARN StageMetrics: Stage metrics data refreshed into temp view PerfStageMetrics\n",
      "23/01/25 15:26:04 WARN StageMetrics: Stage metrics data refreshed into temp view PerfStageMetrics\n",
      "23/01/25 15:26:04 WARN StageMetrics: Stage metrics data refreshed into temp view PerfStageMetrics\n",
      "23/01/25 15:26:04 WARN StageMetrics: Stage metrics data refreshed into temp view PerfStageMetrics\n",
      "23/01/25 15:26:05 WARN StageMetrics: Stage metrics data refreshed into temp view PerfStageMetrics\n",
      "23/01/25 15:26:05 WARN StageMetrics: Stage metrics data refreshed into temp view PerfStageMetrics\n",
      "23/01/25 15:26:05 WARN StageMetrics: Stage metrics data refreshed into temp view PerfStageMetrics\n",
      "23/01/25 15:26:05 WARN StageMetrics: Stage metrics data refreshed into temp view PerfStageMetrics\n",
      "23/01/25 15:26:05 WARN StageMetrics: Stage metrics data refreshed into temp view PerfStageMetrics\n",
      "23/01/25 15:26:06 WARN StageMetrics: Stage metrics data refreshed into temp view PerfStageMetrics\n",
      "23/01/25 15:26:06 WARN StageMetrics: Stage metrics data refreshed into temp view PerfStageMetrics\n",
      "23/01/25 15:26:06 WARN StageMetrics: Stage metrics data refreshed into temp view PerfStageMetrics\n",
      "23/01/25 15:26:06 WARN StageMetrics: Stage metrics data refreshed into temp view PerfStageMetrics\n",
      "23/01/25 15:26:07 WARN StageMetrics: Stage metrics data refreshed into temp view PerfStageMetrics\n",
      "23/01/25 15:26:07 WARN StageMetrics: Stage metrics data refreshed into temp view PerfStageMetrics\n",
      "23/01/25 15:26:07 WARN StageMetrics: Stage metrics data refreshed into temp view PerfStageMetrics\n",
      "23/01/25 15:26:07 WARN StageMetrics: Stage metrics data refreshed into temp view PerfStageMetrics\n",
      "23/01/25 15:26:07 WARN StageMetrics: Stage metrics data refreshed into temp view PerfStageMetrics\n",
      "23/01/25 15:26:08 WARN StageMetrics: Stage metrics data refreshed into temp view PerfStageMetrics\n",
      "23/01/25 15:26:08 WARN StageMetrics: Stage metrics data refreshed into temp view PerfStageMetrics\n",
      "23/01/25 15:26:08 WARN StageMetrics: Stage metrics data refreshed into temp view PerfStageMetrics\n",
      "23/01/25 15:26:08 WARN StageMetrics: Stage metrics data refreshed into temp view PerfStageMetrics\n",
      "23/01/25 15:26:09 WARN StageMetrics: Stage metrics data refreshed into temp view PerfStageMetrics\n",
      "23/01/25 15:26:09 WARN StageMetrics: Stage metrics data refreshed into temp view PerfStageMetrics\n",
      "23/01/25 15:26:09 WARN StageMetrics: Stage metrics data refreshed into temp view PerfStageMetrics\n"
     ]
    },
    {
     "name": "stdout",
     "output_type": "stream",
     "text": [
      "====================\n",
      "partition: 8\n",
      "defaultdict(<class 'list'>, {'elapsedTime': [346, 364, 274, 310, 281, 269, 313, 295, 307, 266], 'executorCpuTime': [370, 381, 350, 371, 365, 348, 375, 356, 372, 354], 'jvmGCTime': [26, 0, 0, 7, 0, 0, 0, 8, 0, 0]})\n"
     ]
    },
    {
     "name": "stderr",
     "output_type": "stream",
     "text": [
      "23/01/25 15:26:09 WARN StageMetrics: Stage metrics data refreshed into temp view PerfStageMetrics\n",
      "23/01/25 15:26:10 WARN StageMetrics: Stage metrics data refreshed into temp view PerfStageMetrics\n",
      "23/01/25 15:26:10 WARN StageMetrics: Stage metrics data refreshed into temp view PerfStageMetrics\n",
      "23/01/25 15:26:10 WARN StageMetrics: Stage metrics data refreshed into temp view PerfStageMetrics\n",
      "23/01/25 15:26:10 WARN StageMetrics: Stage metrics data refreshed into temp view PerfStageMetrics\n",
      "23/01/25 15:26:10 WARN StageMetrics: Stage metrics data refreshed into temp view PerfStageMetrics\n",
      "23/01/25 15:26:11 WARN StageMetrics: Stage metrics data refreshed into temp view PerfStageMetrics\n",
      "23/01/25 15:26:11 WARN StageMetrics: Stage metrics data refreshed into temp view PerfStageMetrics\n",
      "23/01/25 15:26:11 WARN StageMetrics: Stage metrics data refreshed into temp view PerfStageMetrics\n",
      "23/01/25 15:26:12 WARN StageMetrics: Stage metrics data refreshed into temp view PerfStageMetrics\n",
      "23/01/25 15:26:12 WARN StageMetrics: Stage metrics data refreshed into temp view PerfStageMetrics\n",
      "23/01/25 15:26:12 WARN StageMetrics: Stage metrics data refreshed into temp view PerfStageMetrics\n",
      "23/01/25 15:26:12 WARN StageMetrics: Stage metrics data refreshed into temp view PerfStageMetrics\n",
      "23/01/25 15:26:12 WARN StageMetrics: Stage metrics data refreshed into temp view PerfStageMetrics\n",
      "23/01/25 15:26:12 WARN StageMetrics: Stage metrics data refreshed into temp view PerfStageMetrics\n",
      "23/01/25 15:26:13 WARN StageMetrics: Stage metrics data refreshed into temp view PerfStageMetrics\n",
      "23/01/25 15:26:13 WARN StageMetrics: Stage metrics data refreshed into temp view PerfStageMetrics\n",
      "23/01/25 15:26:13 WARN StageMetrics: Stage metrics data refreshed into temp view PerfStageMetrics\n",
      "23/01/25 15:26:14 WARN StageMetrics: Stage metrics data refreshed into temp view PerfStageMetrics\n",
      "23/01/25 15:26:14 WARN StageMetrics: Stage metrics data refreshed into temp view PerfStageMetrics\n",
      "23/01/25 15:26:14 WARN StageMetrics: Stage metrics data refreshed into temp view PerfStageMetrics\n",
      "23/01/25 15:26:14 WARN StageMetrics: Stage metrics data refreshed into temp view PerfStageMetrics\n",
      "23/01/25 15:26:14 WARN StageMetrics: Stage metrics data refreshed into temp view PerfStageMetrics\n",
      "23/01/25 15:26:14 WARN StageMetrics: Stage metrics data refreshed into temp view PerfStageMetrics\n",
      "23/01/25 15:26:15 WARN StageMetrics: Stage metrics data refreshed into temp view PerfStageMetrics\n",
      "23/01/25 15:26:15 WARN StageMetrics: Stage metrics data refreshed into temp view PerfStageMetrics\n",
      "23/01/25 15:26:15 WARN StageMetrics: Stage metrics data refreshed into temp view PerfStageMetrics\n",
      "23/01/25 15:26:16 WARN StageMetrics: Stage metrics data refreshed into temp view PerfStageMetrics\n",
      "23/01/25 15:26:16 WARN StageMetrics: Stage metrics data refreshed into temp view PerfStageMetrics\n",
      "23/01/25 15:26:16 WARN StageMetrics: Stage metrics data refreshed into temp view PerfStageMetrics\n"
     ]
    },
    {
     "name": "stdout",
     "output_type": "stream",
     "text": [
      "====================\n",
      "partition: 9\n",
      "defaultdict(<class 'list'>, {'elapsedTime': [338, 333, 305, 341, 333, 300, 304, 318, 310, 305], 'executorCpuTime': [383, 383, 371, 378, 379, 369, 371, 368, 372, 371], 'jvmGCTime': [0, 38, 0, 0, 0, 0, 0, 0, 12, 0]})\n"
     ]
    },
    {
     "name": "stderr",
     "output_type": "stream",
     "text": [
      "23/01/25 15:26:16 WARN StageMetrics: Stage metrics data refreshed into temp view PerfStageMetrics\n",
      "23/01/25 15:26:16 WARN StageMetrics: Stage metrics data refreshed into temp view PerfStageMetrics\n",
      "23/01/25 15:26:16 WARN StageMetrics: Stage metrics data refreshed into temp view PerfStageMetrics\n",
      "23/01/25 15:26:17 WARN StageMetrics: Stage metrics data refreshed into temp view PerfStageMetrics\n",
      "23/01/25 15:26:17 WARN StageMetrics: Stage metrics data refreshed into temp view PerfStageMetrics\n",
      "23/01/25 15:26:17 WARN StageMetrics: Stage metrics data refreshed into temp view PerfStageMetrics\n",
      "23/01/25 15:26:18 WARN StageMetrics: Stage metrics data refreshed into temp view PerfStageMetrics\n",
      "23/01/25 15:26:18 WARN StageMetrics: Stage metrics data refreshed into temp view PerfStageMetrics\n",
      "23/01/25 15:26:18 WARN StageMetrics: Stage metrics data refreshed into temp view PerfStageMetrics\n",
      "23/01/25 15:26:18 WARN StageMetrics: Stage metrics data refreshed into temp view PerfStageMetrics\n",
      "23/01/25 15:26:18 WARN StageMetrics: Stage metrics data refreshed into temp view PerfStageMetrics\n",
      "23/01/25 15:26:18 WARN StageMetrics: Stage metrics data refreshed into temp view PerfStageMetrics\n",
      "23/01/25 15:26:19 WARN StageMetrics: Stage metrics data refreshed into temp view PerfStageMetrics\n",
      "23/01/25 15:26:19 WARN StageMetrics: Stage metrics data refreshed into temp view PerfStageMetrics\n",
      "23/01/25 15:26:19 WARN StageMetrics: Stage metrics data refreshed into temp view PerfStageMetrics\n",
      "23/01/25 15:26:20 WARN StageMetrics: Stage metrics data refreshed into temp view PerfStageMetrics\n",
      "23/01/25 15:26:20 WARN StageMetrics: Stage metrics data refreshed into temp view PerfStageMetrics\n",
      "23/01/25 15:26:20 WARN StageMetrics: Stage metrics data refreshed into temp view PerfStageMetrics\n",
      "23/01/25 15:26:20 WARN StageMetrics: Stage metrics data refreshed into temp view PerfStageMetrics\n",
      "23/01/25 15:26:20 WARN StageMetrics: Stage metrics data refreshed into temp view PerfStageMetrics\n",
      "23/01/25 15:26:21 WARN StageMetrics: Stage metrics data refreshed into temp view PerfStageMetrics\n",
      "23/01/25 15:26:21 WARN StageMetrics: Stage metrics data refreshed into temp view PerfStageMetrics\n",
      "23/01/25 15:26:21 WARN StageMetrics: Stage metrics data refreshed into temp view PerfStageMetrics\n",
      "23/01/25 15:26:21 WARN StageMetrics: Stage metrics data refreshed into temp view PerfStageMetrics\n",
      "23/01/25 15:26:22 WARN StageMetrics: Stage metrics data refreshed into temp view PerfStageMetrics\n",
      "23/01/25 15:26:22 WARN StageMetrics: Stage metrics data refreshed into temp view PerfStageMetrics\n",
      "23/01/25 15:26:22 WARN StageMetrics: Stage metrics data refreshed into temp view PerfStageMetrics\n",
      "23/01/25 15:26:22 WARN StageMetrics: Stage metrics data refreshed into temp view PerfStageMetrics\n",
      "23/01/25 15:26:22 WARN StageMetrics: Stage metrics data refreshed into temp view PerfStageMetrics\n",
      "23/01/25 15:26:23 WARN StageMetrics: Stage metrics data refreshed into temp view PerfStageMetrics\n"
     ]
    },
    {
     "name": "stdout",
     "output_type": "stream",
     "text": [
      "====================\n",
      "partition: 20\n",
      "defaultdict(<class 'list'>, {'elapsedTime': [348, 330, 305, 305, 364, 320, 315, 299, 321, 294], 'executorCpuTime': [425, 419, 413, 419, 422, 408, 409, 407, 409, 394], 'jvmGCTime': [0, 38, 0, 0, 18, 22, 0, 0, 28, 0]})\n"
     ]
    },
    {
     "name": "stderr",
     "output_type": "stream",
     "text": [
      "23/01/25 15:26:23 WARN StageMetrics: Stage metrics data refreshed into temp view PerfStageMetrics\n",
      "23/01/25 15:26:23 WARN StageMetrics: Stage metrics data refreshed into temp view PerfStageMetrics\n",
      "23/01/25 15:26:23 WARN StageMetrics: Stage metrics data refreshed into temp view PerfStageMetrics\n",
      "23/01/25 15:26:24 WARN StageMetrics: Stage metrics data refreshed into temp view PerfStageMetrics\n",
      "23/01/25 15:26:25 WARN StageMetrics: Stage metrics data refreshed into temp view PerfStageMetrics\n",
      "23/01/25 15:26:25 WARN StageMetrics: Stage metrics data refreshed into temp view PerfStageMetrics\n",
      "23/01/25 15:26:25 WARN StageMetrics: Stage metrics data refreshed into temp view PerfStageMetrics\n",
      "23/01/25 15:26:26 WARN StageMetrics: Stage metrics data refreshed into temp view PerfStageMetrics\n",
      "23/01/25 15:26:26 WARN StageMetrics: Stage metrics data refreshed into temp view PerfStageMetrics\n",
      "23/01/25 15:26:26 WARN StageMetrics: Stage metrics data refreshed into temp view PerfStageMetrics\n",
      "23/01/25 15:26:26 WARN StageMetrics: Stage metrics data refreshed into temp view PerfStageMetrics\n",
      "23/01/25 15:26:27 WARN StageMetrics: Stage metrics data refreshed into temp view PerfStageMetrics\n",
      "23/01/25 15:26:27 WARN StageMetrics: Stage metrics data refreshed into temp view PerfStageMetrics\n",
      "23/01/25 15:26:27 WARN StageMetrics: Stage metrics data refreshed into temp view PerfStageMetrics\n",
      "23/01/25 15:26:27 WARN StageMetrics: Stage metrics data refreshed into temp view PerfStageMetrics\n",
      "23/01/25 15:26:28 WARN StageMetrics: Stage metrics data refreshed into temp view PerfStageMetrics\n",
      "23/01/25 15:26:28 WARN StageMetrics: Stage metrics data refreshed into temp view PerfStageMetrics\n",
      "23/01/25 15:26:28 WARN StageMetrics: Stage metrics data refreshed into temp view PerfStageMetrics\n",
      "23/01/25 15:26:29 WARN StageMetrics: Stage metrics data refreshed into temp view PerfStageMetrics\n",
      "23/01/25 15:26:29 WARN StageMetrics: Stage metrics data refreshed into temp view PerfStageMetrics\n",
      "23/01/25 15:26:29 WARN StageMetrics: Stage metrics data refreshed into temp view PerfStageMetrics\n",
      "23/01/25 15:26:30 WARN StageMetrics: Stage metrics data refreshed into temp view PerfStageMetrics\n",
      "23/01/25 15:26:30 WARN StageMetrics: Stage metrics data refreshed into temp view PerfStageMetrics\n",
      "23/01/25 15:26:30 WARN StageMetrics: Stage metrics data refreshed into temp view PerfStageMetrics\n",
      "23/01/25 15:26:31 WARN StageMetrics: Stage metrics data refreshed into temp view PerfStageMetrics\n",
      "23/01/25 15:26:31 WARN StageMetrics: Stage metrics data refreshed into temp view PerfStageMetrics\n",
      "23/01/25 15:26:31 WARN StageMetrics: Stage metrics data refreshed into temp view PerfStageMetrics\n",
      "23/01/25 15:26:32 WARN StageMetrics: Stage metrics data refreshed into temp view PerfStageMetrics\n",
      "23/01/25 15:26:32 WARN StageMetrics: Stage metrics data refreshed into temp view PerfStageMetrics\n"
     ]
    },
    {
     "name": "stdout",
     "output_type": "stream",
     "text": [
      "====================\n",
      "partition: 100\n",
      "defaultdict(<class 'list'>, {'elapsedTime': [600, 777, 585, 559, 602, 586, 594, 577, 542, 541], 'executorCpuTime': [793, 801, 778, 765, 790, 773, 768, 778, 753, 750], 'jvmGCTime': [0, 204, 0, 0, 0, 0, 24, 11, 0, 24]})\n"
     ]
    },
    {
     "name": "stderr",
     "output_type": "stream",
     "text": [
      "23/01/25 15:26:32 WARN StageMetrics: Stage metrics data refreshed into temp view PerfStageMetrics\n"
     ]
    }
   ],
   "source": [
    "for ptt in list_partition:\n",
    "    agg_dict = defaultdict(list)\n",
    "    for i in range(10):\n",
    "        stagemetrics.begin()\n",
    "        tmp = spark.sql(f'''\n",
    "                    select category_id,sum(price) total_price from partition_{ptt}\n",
    "                    group by category_id\n",
    "                ''').collect()\n",
    "        stagemetrics.end()\n",
    "\n",
    "        elapsedTime = int(stagemetrics.report().replace(' ','').split('\\n')[6].split('>')[1].split('(')[0])\n",
    "        executorCpuTime = int(stagemetrics.report().replace(' ','').split('\\n')[9].split('>')[1].split('(')[0])\n",
    "        jvmGCTime = int(stagemetrics.report().replace(' ','').split('\\n')[13].split('>')[1].split('(')[0])\n",
    "\n",
    "\n",
    "        agg_dict['elapsedTime'].append(elapsedTime)\n",
    "        agg_dict['executorCpuTime'].append(executorCpuTime)\n",
    "        agg_dict['jvmGCTime'].append(jvmGCTime)\n",
    "        \n",
    "    print('='*20)\n",
    "    print('partition:', ptt)\n",
    "    print(agg_dict)"
   ]
  },
  {
   "cell_type": "code",
   "execution_count": null,
   "id": "fc099959",
   "metadata": {},
   "outputs": [],
   "source": []
  }
 ],
 "metadata": {
  "kernelspec": {
   "display_name": "Python 3 (ipykernel)",
   "language": "python",
   "name": "python3"
  },
  "language_info": {
   "codemirror_mode": {
    "name": "ipython",
    "version": 3
   },
   "file_extension": ".py",
   "mimetype": "text/x-python",
   "name": "python",
   "nbconvert_exporter": "python",
   "pygments_lexer": "ipython3",
   "version": "3.9.2"
  }
 },
 "nbformat": 4,
 "nbformat_minor": 5
}
