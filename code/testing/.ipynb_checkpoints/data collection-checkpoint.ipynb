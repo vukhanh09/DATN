{
 "cells": [
  {
   "cell_type": "code",
   "execution_count": 1,
   "id": "bd95ac85",
   "metadata": {},
   "outputs": [],
   "source": [
    "from json import loads\n",
    "from pyspark.sql import SparkSession\n",
    "import warnings\n",
    "warnings.filterwarnings(\"ignore\")\n",
    "from pyspark.sql.functions import col,from_json,udf\n",
    "from pyspark.sql.types import StructType,StructField, StringType, IntegerType,MapType,FloatType,ArrayType"
   ]
  },
  {
   "cell_type": "code",
   "execution_count": 2,
   "id": "24afe794",
   "metadata": {},
   "outputs": [
    {
     "name": "stderr",
     "output_type": "stream",
     "text": [
      "22/12/29 14:55:15 WARN NativeCodeLoader: Unable to load native-hadoop library for your platform... using builtin-java classes where applicable\n",
      "Using Spark's default log4j profile: org/apache/spark/log4j-defaults.properties\n",
      "Setting default log level to \"WARN\".\n",
      "To adjust logging level use sc.setLogLevel(newLevel). For SparkR, use setLogLevel(newLevel).\n"
     ]
    }
   ],
   "source": [
    "spark = SparkSession.\\\n",
    "        builder.\\\n",
    "        appName(\"testing\").\\\n",
    "        master(\"spark://spark-master:7077\").\\\n",
    "        config(\"spark.executor.memory\", \"1024m\").\\\n",
    "        getOrCreate()"
   ]
  },
  {
   "cell_type": "code",
   "execution_count": 4,
   "id": "67a50884",
   "metadata": {},
   "outputs": [],
   "source": [
    "df_product = spark.read.parquet('hdfs://namenode:9000/tiki/Product')\n",
    "df_cmt = spark.read.parquet('hdfs://namenode:9000/tiki/Comment')\n",
    "df_shop = spark.read.parquet('hdfs://namenode:9000/tiki/ShopInfo')"
   ]
  },
  {
   "cell_type": "code",
   "execution_count": 9,
   "id": "4328f0d0",
   "metadata": {},
   "outputs": [
    {
     "name": "stderr",
     "output_type": "stream",
     "text": [
      "                                                                                \r"
     ]
    }
   ],
   "source": [
    "df_product.write.mode('append').csv('hdfs://namenode:9000/testing/csv/Product')\n",
    "df_cmt.write.mode('append').csv('hdfs://namenode:9000/testing/csv/Comment')\n",
    "df_shop.write.mode('append').csv('hdfs://namenode:9000/testing/csv/ShopInfo')"
   ]
  },
  {
   "cell_type": "code",
   "execution_count": 10,
   "id": "b58eccfc",
   "metadata": {},
   "outputs": [
    {
     "name": "stderr",
     "output_type": "stream",
     "text": [
      "                                                                                \r"
     ]
    }
   ],
   "source": [
    "df_product.write.mode('append').json('hdfs://namenode:9000/testing/json/Product')\n",
    "df_cmt.write.mode('append').json('hdfs://namenode:9000/testing/json/Comment')\n",
    "df_shop.write.mode('append').json('hdfs://namenode:9000/testing/json/ShopInfo')"
   ]
  },
  {
   "cell_type": "code",
   "execution_count": 11,
   "id": "692b720f",
   "metadata": {},
   "outputs": [
    {
     "name": "stderr",
     "output_type": "stream",
     "text": [
      "                                                                                \r"
     ]
    }
   ],
   "source": [
    "df_product.write.mode('append').orc('hdfs://namenode:9000/testing/orc/Product')\n",
    "df_cmt.write.mode('append').orc('hdfs://namenode:9000/testing/orc/Comment')\n",
    "df_shop.write.mode('append').orc('hdfs://namenode:9000/testing/orc/ShopInfo')"
   ]
  },
  {
   "cell_type": "code",
   "execution_count": 5,
   "id": "1e68cd5e",
   "metadata": {},
   "outputs": [
    {
     "name": "stderr",
     "output_type": "stream",
     "text": [
      "                                                                                \r"
     ]
    },
    {
     "data": {
      "text/plain": [
       "121040"
      ]
     },
     "execution_count": 5,
     "metadata": {},
     "output_type": "execute_result"
    }
   ],
   "source": [
    "df_product.count()"
   ]
  },
  {
   "cell_type": "code",
   "execution_count": 6,
   "id": "4746c276",
   "metadata": {},
   "outputs": [
    {
     "name": "stderr",
     "output_type": "stream",
     "text": [
      "                                                                                \r"
     ]
    },
    {
     "data": {
      "text/plain": [
       "4243515"
      ]
     },
     "execution_count": 6,
     "metadata": {},
     "output_type": "execute_result"
    }
   ],
   "source": [
    "df_cmt.count()"
   ]
  },
  {
   "cell_type": "code",
   "execution_count": 7,
   "id": "ae7d3124",
   "metadata": {},
   "outputs": [
    {
     "data": {
      "text/plain": [
       "9945"
      ]
     },
     "execution_count": 7,
     "metadata": {},
     "output_type": "execute_result"
    }
   ],
   "source": [
    "df_shop.count()"
   ]
  },
  {
   "cell_type": "code",
   "execution_count": null,
   "id": "4435d0a5",
   "metadata": {},
   "outputs": [],
   "source": []
  }
 ],
 "metadata": {
  "kernelspec": {
   "display_name": "Python 3 (ipykernel)",
   "language": "python",
   "name": "python3"
  },
  "language_info": {
   "codemirror_mode": {
    "name": "ipython",
    "version": 3
   },
   "file_extension": ".py",
   "mimetype": "text/x-python",
   "name": "python",
   "nbconvert_exporter": "python",
   "pygments_lexer": "ipython3",
   "version": "3.9.2"
  }
 },
 "nbformat": 4,
 "nbformat_minor": 5
}
