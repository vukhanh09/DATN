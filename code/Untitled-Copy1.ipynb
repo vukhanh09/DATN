{
 "cells": [
  {
   "cell_type": "code",
   "execution_count": 1,
   "id": "25dffc77",
   "metadata": {},
   "outputs": [],
   "source": [
    "from kafka import KafkaProducer\n",
    "from json import dumps\n",
    "from kafka import KafkaConsumer\n",
    "from json import loads"
   ]
  },
  {
   "cell_type": "code",
   "execution_count": 2,
   "id": "9258c2c8",
   "metadata": {},
   "outputs": [],
   "source": [
    "producer = KafkaProducer(bootstrap_servers=['kafka-1:9092'],\n",
    "                         value_serializer=lambda x: \n",
    "                         dumps(x).encode('utf-8'))"
   ]
  },
  {
   "cell_type": "code",
   "execution_count": 3,
   "id": "b1aa4d15",
   "metadata": {},
   "outputs": [],
   "source": [
    "item = {'name':'Khanhvx'}"
   ]
  },
  {
   "cell_type": "code",
   "execution_count": 4,
   "id": "293758dc",
   "metadata": {},
   "outputs": [],
   "source": [
    "for i in range(100):\n",
    "    producer.send('Product', value=item)"
   ]
  },
  {
   "cell_type": "code",
   "execution_count": null,
   "id": "420d529e",
   "metadata": {},
   "outputs": [],
   "source": []
  }
 ],
 "metadata": {
  "kernelspec": {
   "display_name": "Python 3 (ipykernel)",
   "language": "python",
   "name": "python3"
  },
  "language_info": {
   "codemirror_mode": {
    "name": "ipython",
    "version": 3
   },
   "file_extension": ".py",
   "mimetype": "text/x-python",
   "name": "python",
   "nbconvert_exporter": "python",
   "pygments_lexer": "ipython3",
   "version": "3.9.2"
  }
 },
 "nbformat": 4,
 "nbformat_minor": 5
}
