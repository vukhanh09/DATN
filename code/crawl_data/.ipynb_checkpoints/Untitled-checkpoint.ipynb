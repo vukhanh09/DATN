{
 "cells": [
  {
   "cell_type": "code",
   "execution_count": 1,
   "id": "9511261c",
   "metadata": {},
   "outputs": [],
   "source": [
    "from tiki_crawler import Tiki\n",
    "import time\n",
    "import requests\n",
    "import json\n",
    "import re\n",
    "from tqdm import tqdm\n",
    "import pandas as pd\n",
    "import warnings\n",
    "warnings.filterwarnings(\"ignore\")\n",
    "import argparse\n",
    "\n",
    "from kafka import KafkaProducer\n",
    "from json import dumps\n",
    "from kafka import KafkaConsumer\n",
    "from json import loads\n",
    "\n",
    "\n",
    "# parser = argparse.ArgumentParser()\n",
    "# parser.add_argument('--start_page', type=int, default=1)\n",
    "# parser.add_argument('--end_page', type=int, default=51)\n",
    "# parser.add_argument('--start_category', type=int, default=0)\n",
    "# parser.add_argument('--end_category', type=int, default=24)\n",
    "# parser.add_argument('--topic', type=str, default='Product')\n",
    "# args = parser.parse_args()"
   ]
  },
  {
   "cell_type": "code",
   "execution_count": 2,
   "id": "39803d14",
   "metadata": {},
   "outputs": [],
   "source": [
    "tiki = Tiki()"
   ]
  },
  {
   "cell_type": "code",
   "execution_count": 3,
   "id": "93d5ebeb",
   "metadata": {},
   "outputs": [
    {
     "data": {
      "text/plain": [
       "[['bach-hoa-online', 4384],\n",
       " ['nha-cua-doi-song', 1883],\n",
       " ['dien-tu-dien-lanh', 4221],\n",
       " ['thiet-bi-kts-phu-kien-so', 1815],\n",
       " ['dien-thoai-may-tinh-bang', 1789],\n",
       " ['do-choi-me-be', 2549],\n",
       " ['lam-dep-suc-khoe', 1520],\n",
       " ['dien-gia-dung', 1882],\n",
       " ['thoi-trang-nu', 931],\n",
       " ['thoi-trang-nam', 915],\n",
       " ['giay-dep-nu', 1703],\n",
       " ['tui-vi-nu', 976],\n",
       " ['giay-dep-nam', 1686],\n",
       " ['tui-thoi-trang-nam', 27616],\n",
       " ['balo-va-vali', 6000],\n",
       " ['phu-kien-thoi-trang', 27498],\n",
       " ['dong-ho-va-trang-suc', 8371],\n",
       " ['laptop-may-vi-tinh-linh-kien', 1846],\n",
       " ['hang-quoc-te', 17166],\n",
       " ['voucher-dich-vu', 11312],\n",
       " ['o-to-xe-may-xe-dap', 8594],\n",
       " ['nha-sach-tiki', 8322],\n",
       " ['the-thao-da-ngoai', 1975],\n",
       " ['may-anh', 1801]]"
      ]
     },
     "execution_count": 3,
     "metadata": {},
     "output_type": "execute_result"
    }
   ],
   "source": [
    "tiki.cat_info"
   ]
  },
  {
   "cell_type": "code",
   "execution_count": null,
   "id": "b87ac3ed",
   "metadata": {},
   "outputs": [],
   "source": [
    "if __name__ == '__main__':\n",
    "    # init tiki crawler\n",
    "    tiki = Tiki()\n",
    "    \n",
    "    # init kafka producer\n",
    "    producer = KafkaProducer(bootstrap_servers=['kafka-1:9092','kafka-2:9092','kafka-3:9092'],\n",
    "                         value_serializer=lambda x: \n",
    "                         dumps(x).encode('utf-8'))\n",
    "\n",
    "    for i in range(start_category, end_category, 1):\n",
    "        category, category_id = tiki.cat_info[i]\n",
    "        print(f'crawl category: {category}')\n",
    "        dict_check = {}\n",
    "        for page_index in tqdm(range(start_page, end_page)):\n",
    "            time.sleep(0.5)\n",
    "            category_page_url = tiki.api_get_id_product.format(category_id, page_index, category)\n",
    "\n",
    "            list_product_ids = tiki.get_list_id_product(category_page_url)\n",
    "            \n",
    "            print(\"Number of product id:\", len(list_product_ids))\n",
    "\n",
    "            if len(list_product_ids) > 0:\n",
    "                for pid,spid in list_product_ids:\n",
    "                    key_valid = f'{pid}_{spid}'\n",
    "                    \n",
    "                    if key_valid not in dict_check:\n",
    "                        dict_check[key_valid] = 1\n",
    "                        \n",
    "                    time.sleep(0.1)\n",
    "                    if topic == 'Product':\n",
    "                        product_url = tiki.api_product.format(pid,spid)\n",
    "                        try:\n",
    "                            item = tiki.get_information_product(product_url)\n",
    "                            other_seller_list = item['other_sellers']\n",
    "                            \n",
    "                            \n",
    "                            # get other seller\n",
    "                            if len(other_seller_list) > 0:\n",
    "                                for other_seller in other_seller_list:\n",
    "                                    spid_new = int(other_seller['product_id'])\n",
    "                                    \n",
    "                                    key_valid_new = f'{pid}_{spid_new}'\n",
    "                                    \n",
    "                                    if key_valid_new not in dict_check:\n",
    "                                        dict_check[key_valid_new] = 1\n",
    "                                        list_product_ids.append([pid,spid_new])\n",
    "\n",
    "                            if item != 0:\n",
    "                                producer.send(topic, value=item)\n",
    "                        except Exception as e:\n",
    "                            print(e)\n",
    "                            continue\n",
    "                    elif topic == 'Comment':\n",
    "                        try:\n",
    "                            review_url = tiki.api_review.format(1,spid,pid)\n",
    "                            paging = tiki.get_max_paging_review(review_url)\n",
    "                            if paging != 0:\n",
    "                                for i in range(1,paging+1):\n",
    "                                    time.sleep(0.1)\n",
    "                                    try:\n",
    "                                        review_url = tiki.api_review.format(i,spid,pid)\n",
    "                                        comments = tiki.get_review(review_url)\n",
    "                                        if comments != 0:\n",
    "                                            for item in comments:\n",
    "                                                producer.send(topic, value=item)\n",
    "                                    except Exception as e:\n",
    "                                        print(e)\n",
    "                                        continue\n",
    "                        except Exception as e:\n",
    "                            print(e)\n",
    "                            continue\n",
    "                \n",
    "\n",
    "                \n",
    "                "
   ]
  },
  {
   "cell_type": "code",
   "execution_count": 2,
   "id": "01086a16",
   "metadata": {},
   "outputs": [],
   "source": [
    "import requests"
   ]
  },
  {
   "cell_type": "code",
   "execution_count": 8,
   "id": "a00db3fc",
   "metadata": {},
   "outputs": [],
   "source": [
    "headers={\n",
    "            \"User-Agent\": \"Mozilla/5.0 (X11; Linux x86_64) AppleWebKit/537.36 (KHTML, like Gecko) Chrome/108.0.0.0 Safari/537.36\",\n",
    "            \"cookie\":'_trackity=8696091e-f76b-b306-1e23-da0a85adf480; _gcl_au=1.1.1750823129.1667055175; _fbp=fb.1.1667055175488.1329747993; __RC=4; __R=1; _hjSessionUser_522327=eyJpZCI6IjdmNjc4YjY5LTk4Y2QtNTY2YS1hYWYwLWQzYjNmOGU1NjBmYyIsImNyZWF0ZWQiOjE2NjcwNTUxNzUzNTUsImV4aXN0aW5nIjp0cnVlfQ==; __UF=-1; __tb=0; _bs=21f6550d-137f-27bd-f56e-a1258a13ccda; __IP=1952460427; rl_page_init_referrer=StackityEncrypt:U2FsdGVkX1/Hr1air3EcLRKdkELmiRmERDN+G3YLehaOuc+t+skW5zIQTFGua1uw; rl_page_init_referring_domain=StackityEncrypt:U2FsdGVkX19wls0Ll3k8dFKk/AAaYXINvLaLrc2fBOpzFC3RGntfynjAT0IYg2M1; rl_group_id=StackityEncrypt:U2FsdGVkX19v42npyQrwBbWfBfth+3DEBHEdhAfwL7g=; rl_group_trait=StackityEncrypt:U2FsdGVkX1+WhJ0Dn4KHuAS9r24O3Yv1JwKC+VkcFZw=; rl_anonymous_id=StackityEncrypt:U2FsdGVkX1/M3rjRnNA5470lMMe4sxNkinSwg22y2nMPLLo7o1znsgD4OotsImITQMnPtPwPiGNm5Lx4zqe1kw==; rl_user_id=StackityEncrypt:U2FsdGVkX19vURNNX7Ulv8Q0M2BbbEvR6WYER4cIKi0=; rl_trait=StackityEncrypt:U2FsdGVkX19SrxirxGwbZUkFz7OSz+EeaDH0iBeTTTFHhCM7Z+zHgfExVzaOoe4C/aXjfHNW+wWac7VPMRyqhA==; __uidac=231be8277114f6a140fadb2be756fb2e; amp_99d374=EyOGNBnT7ei63RJgdsAbfL.MTY2OTA3Mw==..1giv2crm4.1giv2ctt3.g4.js.140; cto_bundle=1j0JNV9Wa05sdzVNZHpOVlJ1T1A2ZWhJOSUyQlBCUmFibER3OXFRaXVNbEtSTjdadmtOcUZZWXpZaHc2ck5Rc0k2a0Fia3F2NzhWaUZiVVl1UzNjWXVJSHA5UnNIQnozaE41JTJCc2FCQWw5N0t2elolMkZHZjEzN1VjZXNya3NtVXZSbm5HZmZiY0slMkJnNkxSSThPekFDY2g2eHptQ1RFZyUzRCUzRA; OTZ=6869312_28_28__28_; TOKENS={\"access_token\":\"MmxEUvj2DePqa6kdJT5husHzR0N4K3BA\"}; delivery_zone=Vk4wNDEwMDgwMDk=; _gid=GA1.2.1158998007.1674464207; tiki_client_id=317787655.1667055171; TIKI_RECOMMENDATION=7ecacc695e97c436a4e65235cd7a7652; TKSESSID=0d763ac1e458a3d5d64ba04f7fbcfced; recaptcha-ca-e=AU-XIzewD0DUrKU74-WLYTYC7HB3CmxY4EE86GRk_5wnze54qVWXFyNG02IkuBHIo-AWWdrlM_mufAAiY8_wse8qiQkEeBshe_kUrTfFBYsHXJNaRNkDbldG:U=cac9c3ea00000000; _gat=1; _ga_GSD4ETCY1D=GS1.1.1674471087.31.1.1674472695.54.0.0; _ga=GA1.1.317787655.1667055171'\n",
    "        }"
   ]
  },
  {
   "cell_type": "code",
   "execution_count": 9,
   "id": "2eef3dfe",
   "metadata": {},
   "outputs": [],
   "source": [
    "url = 'https://tiki.vn/api/v2/products/54031199?platform=web&spid=54031200'"
   ]
  },
  {
   "cell_type": "code",
   "execution_count": 10,
   "id": "fc683c0c",
   "metadata": {},
   "outputs": [],
   "source": [
    "response = requests.get(url, headers=headers,timeout=10)"
   ]
  },
  {
   "cell_type": "code",
   "execution_count": 11,
   "id": "240f5db8",
   "metadata": {},
   "outputs": [
    {
     "data": {
      "text/plain": [
       "'{\"id\":54031199,\"master_id\":54031199,\"sku\":\"3523765637009\",\"name\":\"Mì Goreng Pedas Vị Cay Nồng Indomie (79G X 40 Gói/Thùng)\",\"url_key\":\"mi-goreng-pedas-vi-cay-nong-indomie-79g-x-40-goi-thung-p54031199\",\"url_path\":\"mi-goreng-pedas-vi-cay-nong-indomie-79g-x-40-goi-thung-p54031199.html?spid=54031200\",\"short_url\":\"https://tiki.vn/product-p54031199.html?spid=54031200\",\"type\":\"simple\",\"book_cover\":null,\"short_description\":\"Mì Xào Indomie: 40 Gói/Thùng, HSD 8 tháng kể từ ngày sản xuất và đóng gói.\\xa0Thương hiệu mì Indomie ra mắt đầu tiên vào năm 1971 bởi tập đoàn Indofood với hương vị Indomie Chicken. Năm 1982, lấy nguồn...\",\"price\":203000,\"list_price\":240000,\"original_price\":240000,\"badges\":[{\"code\":\"new_pdp\",\"text\":\"v1\"}],\"badges_new\":[],\"discount\":37000,\"discount_rate\":15,\"rating_average\":4.7,\"review_count\":38,\"review_text\":\"(38)\",\"favourite_count\":0,\"thumbnail_url\":\"https://salt.tikicdn.com/cache/280x280/ts/product/33/b0/8a/e4eebd17ad350b4eaa6658e181ebbf34.jpg\",\"has_ebook\":false,\"inventory_status\":\"available\",\"inventory_type\":\"instock\",\"productset_group_name\":\"Bách Hóa Online/Thực phẩm/Thực phẩm khô/Thực phẩm ăn liền\",\"is_fresh\":false,\"seller\":null,\"is_flower\":false,\"has_buynow\":true,\"is_gift_card\":false,\"salable_type\":null,\"data_version\":3300,\"day_ago_created\":992,\"all_time_quantity_sold\":231,\"meta_title\":\"\",\"meta_description\":\"\",\"meta_keywords\":\"\",\"is_baby_milk\":false,\"is_acoholic_drink\":false,\"description\":\"\\\\u003cul\\\\u003e\\\\n\\\\u003cli\\\\u003e\\\\u003cstrong\\\\u003eMì Xào Indomie:\\\\u003c/strong\\\\u003e 40 Gói/Thùng, HSD 8 tháng kể từ ngày sản xuất và đóng gói.\\xa0\\\\u003c/li\\\\u003e\\\\n\\\\u003cli\\\\u003eThương hiệu mì Indomie ra mắt đầu tiên vào năm 1971 bởi tập đoàn Indofood với hương vị Indomie Chicken. Năm 1982, lấy nguồn cảm hứng từ những món mì xào truyền thống tại sứ sở vạn đảo Indonesia. Indomie đã cho ra mắt hương vị mì xào khô Mi Goreng (Đặc Biệt), đây là dòng sản phẩm mì xào khô đầu tiên được yêu thích số 1 tại Indonesia, không những thế Indomie đã bức phá đánh bật các dòng mì ăn liền khác, đồng thời chiếm lĩnh số 1 thị trường trên hơn 100 Quốc Gia trên toàn thế giời trong đó có Việt Nam.\\\\u003c/li\\\\u003e\\\\n\\\\u003cli\\\\u003eKhông ngừng nghỉ với chiến thắng vượt trội của sản phẩm, ngoài hương vị số 1 Mi Goreng Special (Đặc Biệt), Indome nhanh chóng cho ra hương vị Mi Goreng Hot\\\\u0026amp;Spicy (Cay Nồng), Mi Goreng Rendang (Bò Cay), Mi Goreng Iga Penyet (Sườn) và một số loại Mi Goreng đặc trưng khác.\\\\u003c/li\\\\u003e\\\\n\\\\u003c/ul\\\\u003e\\\\u003cp\\\\u003eGiá sản phẩm trên Tiki đã bao gồm thuế theo luật hiện hành. Bên cạnh đó, tuỳ vào loại sản phẩm, hình thức và địa chỉ giao hàng mà có thể phát sinh thêm chi phí khác như phí vận chuyển, phụ phí hàng cồng kềnh, thuế nhập khẩu (đối với đơn hàng giao từ nước ngoài có giá trị trên 1 triệu đồng).....\\\\u003c/p\\\\u003e\",\"images\":[{\"base_url\":\"https://salt.tikicdn.com/ts/product/33/b0/8a/e4eebd17ad350b4eaa6658e181ebbf34.jpg\",\"is_gallery\":true,\"label\":null,\"large_url\":\"https://salt.tikicdn.com/cache/w1200/ts/product/33/b0/8a/e4eebd17ad350b4eaa6658e181ebbf34.jpg\",\"medium_url\":\"https://salt.tikicdn.com/cache/w300/ts/product/33/b0/8a/e4eebd17ad350b4eaa6658e181ebbf34.jpg\",\"position\":null,\"small_url\":\"https://salt.tikicdn.com/cache/200x280/ts/product/33/b0/8a/e4eebd17ad350b4eaa6658e181ebbf34.jpg\",\"thumbnail_url\":\"https://salt.tikicdn.com/cache/200x280/ts/product/33/b0/8a/e4eebd17ad350b4eaa6658e181ebbf34.jpg\"},{\"base_url\":\"https://salt.tikicdn.com/ts/product/01/ca/bd/994eefc7cb8792618f4d03c2a3cd9b7f.jpg\",\"is_gallery\":true,\"label\":null,\"large_url\":\"https://salt.tikicdn.com/cache/w1200/ts/product/01/ca/bd/994eefc7cb8792618f4d03c2a3cd9b7f.jpg\",\"medium_url\":\"https://salt.tikicdn.com/cache/w300/ts/product/01/ca/bd/994eefc7cb8792618f4d03c2a3cd9b7f.jpg\",\"position\":null,\"small_url\":\"https://salt.tikicdn.com/cache/200x280/ts/product/01/ca/bd/994eefc7cb8792618f4d03c2a3cd9b7f.jpg\",\"thumbnail_url\":\"https://salt.tikicdn.com/cache/200x280/ts/product/01/ca/bd/994eefc7cb8792618f4d03c2a3cd9b7f.jpg\"}],\"warranty_policy\":null,\"brand\":{\"id\":189497,\"name\":\"Indomie\",\"slug\":\"indomie\"},\"current_seller\":{\"id\":1,\"sku\":\"8097324341782\",\"name\":\"Tiki Trading\",\"link\":\"https://tiki.vn/cua-hang/tiki-trading\",\"logo\":\"https://vcdn.tikicdn.com/ts/seller/ee/fa/a0/98f3f134f85cff2c6972c31777629aa0.png\",\"price\":203000,\"product_id\":\"54031200\",\"store_id\":40395,\"is_best_store\":false,\"is_offline_installment_supported\":null},\"other_sellers\":[],\"seller_specifications\":[{\"name\":\"Tiki hoàn tiền 111% nếu phát hiện hàng giả\",\"url\":null,\"value\":null},{\"name\":\"Cam kết hàng chính hiệu\",\"url\":null,\"value\":null}],\"specifications\":[{\"name\":\"Operation\",\"attributes\":[{\"code\":\"quy_cach_dong_goi\",\"name\":\"Quy cách đóng gói\",\"value\":\"40 Gói/Thùng\"},{\"code\":\"thanh_phan\",\"name\":\"Thành phần\",\"value\":\"VẮT MÌ - Bột mì, dầu thực vật tinh luyện, tinh bột sắn, muối, chất điều vị (E621), chất tạo vị chua (E500, E501), khoáng chất sắt, chất chống oxy hoá (TBHQ - E319), màu thực phẩm (CI 19140 - E102).\\\\nBỘT\\\\nGIA VỊ - Muối, đường, chất tăng hương vị - bột ngọt (MSG - E621), tỏi, hành tây, hương vị gà nhân tạo (chứa chất điều vị E621, E631, E627), tiêu, vitamin (A, B1, B6, B12, Niacin, acid folic, acid pantohenic).\\\\nDẦU/GIA VỊ - Dầu thực vật tinh luyện, hành tím.\\\\nNƯỚC SỐT - Đường, nước, đậu tương, bột lúa mạch, muối, gia vị và hương liệu gà nhân tạo, dầu mè.\\\\nSỐT ỚT - Ớt, nước, đường, muối, chất điều vị (E621), gia vị, chất tăng hương vị (bột ngọt, chất tăng hương vị E621, E631, E627), hương liệu gà nhân tạo, chất bảo quản (E211, sodium metabisulfite) Lá hành phi (chứa chất chống oxy hoá TBHQ - E319).\"}]},{\"name\":\"Content\",\"attributes\":[{\"code\":\"brand\",\"name\":\"Thương hiệu\",\"value\":\"Indomie\"},{\"code\":\"brand_country\",\"name\":\"Xuất xứ thương hiệu\",\"value\":\"Indonesia\"},{\"code\":\"expiry_time\",\"name\":\"Hạn sử dụng\",\"value\":\"8 tháng kể từ ngày sản xuất\"},{\"code\":\"huong_dan_bao_quan\",\"name\":\"Hướng dẫn bảo quản\",\"value\":\"Để nơi khô ráo, thoáng mát, tránh ánh nắng trực tiếp\"},{\"code\":\"huong_dan_su_dung\",\"name\":\"Hướng dẫn sử dụng\",\"value\":\"Bước 1: Cho gói mì vào trong nồi chứa khoảng 400ml nước đang nấu và đun sôi 3 phút.\\\\nBước 2: Cho các gói gia vị vào đĩa trong khi mì đang nấu.\\\\nBước 3: Vớt mì ra và để thật ráo.\\\\nBước 4: Cho mì ra đĩa gia vị và trộn đều là có thể dùng được.\\\\n**Có thể mix với các loại rau củ quả, thịt, tôm cá các loại tùy thích cho đĩa mì được thơm ngon hấp dẫn hơn.\"},{\"code\":\"origin\",\"name\":\"Xuất xứ\",\"value\":\"Indonesia\"},{\"code\":\"product_weight\",\"name\":\"Trọng lượng sản phẩm\",\"value\":\"79g/ gói\"}]}],\"product_links\":[],\"services_and_promotions\":[],\"promitions\":[],\"stock_item\":{\"max_sale_qty\":1000,\"min_sale_qty\":1,\"preorder_date\":null,\"qty\":1000},\"quantity_sold\":{\"text\":\"Đã bán 231\",\"value\":231},\"categories\":{\"id\":2,\"name\":\"Root\",\"is_leaf\":false},\"breadcrumbs\":[{\"url\":\"/bach-hoa-online/c4384\",\"name\":\"Bách Hóa Online\",\"category_id\":4384},{\"url\":\"/thuc-pham-dong-hop-va-kho/c15074\",\"name\":\"Thực phẩm Đóng hộp và Khô\",\"category_id\":15074},{\"url\":\"/thuc-pham-kho/c4393\",\"name\":\"Thực phẩm khô\",\"category_id\":4393},{\"url\":\"/thuc-pham-an-lien/c4420\",\"name\":\"Thực phẩm ăn liền\",\"category_id\":4420},{\"url\":\"https://tiki.vn/mi-goreng-pedas-vi-cay-nong-indomie-79g-x-40-goi-thung-p54031199.html\",\"name\":\"Mì Goreng Pedas Vị Cay Nồng Indomie (79G X 40 Gói/Thùng)\",\"category_id\":0}],\"installment_info\":null,\"installment_info_v2\":{\"title\":\"Mua trước trả sau\",\"summary\":\"Lãi suất 0%\",\"redirect_url\":\"https://tiki.vn/mua-truoc-tra-sau/thanh-toan?src=pdp\\\\u0026masterId=54031199\\\\u0026pid=54031200\\\\u0026seller_id=1\\\\u0026qty=1\",\"details\":null},\"is_seller_in_chat_whitelist\":false,\"inventory\":{\"product_virtual_type\":null,\"fulfillment_type\":\"tiki_delivery\"},\"warranty_info\":[{\"name\":\"Hướng dẫn bảo hành\",\"value\":\"Xem chi tiết\",\"url\":\"https://hotro.tiki.vn/s/article/chinh-sach-bao-hanh-tai-tiki-nhu-the-nao\"}],\"return_and_exchange_policy\":\"Đổi trả trong\\\\u003cbr\\\\u003e\\\\u003cb\\\\u003e30 ngày\\\\u003c/b\\\\u003e\\\\u003cbr\\\\u003enếu sp lỗi\",\"asa_cashback_widget\":{\"sep\":0,\"rate\":228,\"astra_convert_rate\":0,\"text_color\":\"#402DA1\",\"short_description\":\"Tham gia các gói thành viên Astra Rewards cao cấp hơn để được nhiều ưu đãi hơn\",\"background_color\":\"#F2F0FE\",\"asa_plus_badge\":\"\",\"new_badge\":\"https://salt.tikicdn.com/ts/upload/43/01/71/d74d0e9e37a9bb14f35dcc0c816d2038.gif\",\"text\":\"Thưởng 4,06 ASA (≈ 925đ)\",\"icon\":{\"height\":16,\"width\":13,\"url\":\"https://salt.tikicdn.com/ts/upload/df/e2/b4/063c4d55ca380f818547f00f5175d39f.png\"},\"button\":{\"text\":\"Khám phá thêm\",\"url\":\"https://tiki.vn/sep/my-sep\"},\"amplitude\":{\"has_freeship_plus_benefit\":true,\"partner_rewards_amount\":0,\"tiki_rewards_amount\":4.06,\"total_rewards_amount\":4.06},\"benefits\":{\"title\":\"Bạn là thành viên\",\"sub_title\":\"Thưởng 4,06 ASA\",\"benefit_text\":\"Điểm thưởng Astra dùng để làm gì?\",\"sub_icon\":\"https://salt.tikicdn.com/ts/upload/7a/bf/c4/6ae829cb4698d5badb38413c0dafe354.png\",\"type\":\"sep_required\",\"information_url\":\"https://tiki.vn/sep/my-sep\",\"icon_title\":\"https://salt.tikicdn.com/ts/ta/1b/13/fa/0d470315888a2551f4645632a99023a3.png\",\"list\":[{\"icon\":\"https://salt.tikicdn.com/ts/upload/31/1a/54/f4ad6056005c3c4b91d746cd5cd72e5a.png\",\"text\":\"Đổi Astra lấy mã giảm giá \\\\u0026 freeship\",\"link\":null},{\"icon\":\"https://salt.tikicdn.com/ts/upload/c9/a4/3f/ce4ec9a0e3c40aeb75a41ec4c181382f.png\",\"text\":\"Astra có thể trao đổi mua bán sang Tiki Xu\",\"link\":null},{\"icon\":\"https://salt.tikicdn.com/ts/upload/4c/26/19/fc8035082d1c3cf77e23bd2529d93f1e.png\",\"text\":\"Astra sinh lời khi bỏ ống Heo Vàng Astra\",\"link\":null}]},\"non_login_url_path\":\"https://tiki.vn/sep\"},\"benefits\":[{\"icon\":\"https://salt.tikicdn.com/ts/upload/2c/48/44/720434869e103b03aaaf1a104d91ad25.png\",\"text\":\"Hoàn tiền\\\\u003cbr\\\\u003e\\\\u003cb\\\\u003e111%\\\\u003c/b\\\\u003e\\\\u003cbr\\\\u003enếu hàng giả\"},{\"icon\":\"https://salt.tikicdn.com/ts/upload/4b/a1/23/1606089d5423e5cba05e3820ad39708e.png\",\"text\":\"Mở hộp\\\\u003cbr\\\\u003ekiểm tra\\\\u003cbr\\\\u003enhận hàng\"},{\"icon\":\"https://salt.tikicdn.com/ts/upload/63/75/6a/144ada409519d72e2978ad2c61bc02a7.png\",\"text\":\"Đổi trả trong\\\\u003cbr\\\\u003e\\\\u003cb\\\\u003e30 ngày\\\\u003c/b\\\\u003e\\\\u003cbr\\\\u003enếu sp lỗi\"}]}'"
      ]
     },
     "execution_count": 11,
     "metadata": {},
     "output_type": "execute_result"
    }
   ],
   "source": [
    "response.text"
   ]
  },
  {
   "cell_type": "code",
   "execution_count": null,
   "id": "42b32048",
   "metadata": {},
   "outputs": [],
   "source": []
  }
 ],
 "metadata": {
  "kernelspec": {
   "display_name": "Python 3 (ipykernel)",
   "language": "python",
   "name": "python3"
  },
  "language_info": {
   "codemirror_mode": {
    "name": "ipython",
    "version": 3
   },
   "file_extension": ".py",
   "mimetype": "text/x-python",
   "name": "python",
   "nbconvert_exporter": "python",
   "pygments_lexer": "ipython3",
   "version": "3.9.2"
  }
 },
 "nbformat": 4,
 "nbformat_minor": 5
}
