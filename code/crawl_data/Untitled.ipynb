{
 "cells": [
  {
   "cell_type": "code",
   "execution_count": 1,
   "id": "eccad1d3",
   "metadata": {},
   "outputs": [],
   "source": [
    "from tiki_crawler import Tiki\n",
    "import time\n",
    "import requests\n",
    "import json\n",
    "import re\n",
    "from tqdm import tqdm\n",
    "import pandas as pd\n",
    "import warnings\n",
    "warnings.filterwarnings(\"ignore\")"
   ]
  },
  {
   "cell_type": "code",
   "execution_count": 2,
   "id": "2f6aaf08",
   "metadata": {},
   "outputs": [],
   "source": [
    "tiki = Tiki()"
   ]
  },
  {
   "cell_type": "code",
   "execution_count": 3,
   "id": "bb3c2c62",
   "metadata": {},
   "outputs": [
    {
     "data": {
      "text/plain": [
       "[['bach-hoa-online', 4384],\n",
       " ['nha-cua-doi-song', 1883],\n",
       " ['dien-tu-dien-lanh', 4221],\n",
       " ['thiet-bi-kts-phu-kien-so', 1815],\n",
       " ['dien-thoai-may-tinh-bang', 1789],\n",
       " ['do-choi-me-be', 2549],\n",
       " ['lam-dep-suc-khoe', 1520],\n",
       " ['dien-gia-dung', 1882],\n",
       " ['thoi-trang-nu', 931],\n",
       " ['thoi-trang-nam', 915],\n",
       " ['giay-dep-nu', 1703],\n",
       " ['tui-vi-nu', 976],\n",
       " ['giay-dep-nam', 1686],\n",
       " ['tui-thoi-trang-nam', 27616],\n",
       " ['balo-va-vali', 6000],\n",
       " ['phu-kien-thoi-trang', 27498],\n",
       " ['dong-ho-va-trang-suc', 8371],\n",
       " ['laptop-may-vi-tinh-linh-kien', 1846],\n",
       " ['hang-quoc-te', 17166],\n",
       " ['voucher-dich-vu', 11312],\n",
       " ['o-to-xe-may-xe-dap', 8594],\n",
       " ['nha-sach-tiki', 8322],\n",
       " ['the-thao-da-ngoai', 1975],\n",
       " ['may-anh', 1801]]"
      ]
     },
     "execution_count": 3,
     "metadata": {},
     "output_type": "execute_result"
    }
   ],
   "source": [
    "tiki.cat_info"
   ]
  },
  {
   "cell_type": "code",
   "execution_count": 4,
   "id": "4bb73cf8",
   "metadata": {},
   "outputs": [],
   "source": [
    "s_category = 0\n",
    "e_category = 1\n",
    "start_page = 1\n",
    "end_page = 51"
   ]
  },
  {
   "cell_type": "code",
   "execution_count": 5,
   "id": "17a50bbc",
   "metadata": {},
   "outputs": [
    {
     "name": "stderr",
     "output_type": "stream",
     "text": [
      "22/10/13 16:56:15 WARN NativeCodeLoader: Unable to load native-hadoop library for your platform... using builtin-java classes where applicable\n",
      "Using Spark's default log4j profile: org/apache/spark/log4j-defaults.properties\n",
      "Setting default log level to \"WARN\".\n",
      "To adjust logging level use sc.setLogLevel(newLevel). For SparkR, use setLogLevel(newLevel).\n"
     ]
    }
   ],
   "source": [
    "from pyspark.sql import SparkSession\n",
    "\n",
    "spark = SparkSession.\\\n",
    "        builder.\\\n",
    "        appName(\"pyspark-notebook\").\\\n",
    "        master(\"spark://spark-master:7077\").\\\n",
    "        config(\"spark.executor.memory\", \"512m\").\\\n",
    "        getOrCreate()"
   ]
  },
  {
   "cell_type": "code",
   "execution_count": 6,
   "id": "3f52909b",
   "metadata": {},
   "outputs": [
    {
     "name": "stderr",
     "output_type": "stream",
     "text": [
      " 18%|█▊        | 9/50 [01:58<08:49, 12.91s/it]22/10/13 16:58:33 WARN package: Truncated the string representation of a plan since it was too large. This behavior can be adjusted by setting 'spark.sql.debug.maxToStringFields'.\n",
      "22/10/13 16:58:35 WARN TaskSetManager: Stage 0 contains a task of very large size (2739 KiB). The maximum recommended task size is 1000 KiB.\n",
      " 38%|███▊      | 19/50 [04:26<07:35, 14.71s/it]                                 22/10/13 17:01:01 WARN TaskSetManager: Stage 1 contains a task of very large size (2798 KiB). The maximum recommended task size is 1000 KiB.\n",
      " 58%|█████▊    | 29/50 [06:54<05:10, 14.79s/it]                                 22/10/13 17:03:28 WARN TaskSetManager: Stage 2 contains a task of very large size (2729 KiB). The maximum recommended task size is 1000 KiB.\n",
      " 78%|███████▊  | 39/50 [09:15<02:34, 14.03s/it]22/10/13 17:05:49 WARN TaskSetManager: Stage 3 contains a task of very large size (2557 KiB). The maximum recommended task size is 1000 KiB.\n",
      " 98%|█████████▊| 49/50 [11:34<00:13, 13.93s/it]22/10/13 17:08:07 WARN TaskSetManager: Stage 4 contains a task of very large size (2696 KiB). The maximum recommended task size is 1000 KiB.\n",
      "100%|██████████| 50/50 [11:48<00:00, 14.17s/it]\n"
     ]
    }
   ],
   "source": [
    "for i in range(s_category, e_category, 1):\n",
    "    category, category_id = tiki.cat_info[i]\n",
    "    df = []\n",
    "    for page_index in tqdm(range(start_page, end_page)):\n",
    "        time.sleep(0.5)\n",
    "        category_page_url = tiki.api_get_id_product.format(category_id, page_index, category)\n",
    "\n",
    "        list_product_ids = tiki.get_list_id_product(category_page_url)\n",
    "\n",
    "        if len(list_product_ids) > 0:\n",
    "            for product_id in list_product_ids:\n",
    "                product_url = tiki.api_product.format(product_id)\n",
    "                item = tiki.get_information_product(product_url)\n",
    "                df.append(item)\n",
    "        \n",
    "        \n",
    "        if page_index % 10 == 0:\n",
    "            item = pd.DataFrame(df)\n",
    "            data = spark.createDataFrame(item.astype(str))\n",
    "            data.write.mode('append').parquet('hdfs://namenode:9000/product/')\n",
    "            df = []"
   ]
  },
  {
   "cell_type": "code",
   "execution_count": 7,
   "id": "5f479a7b",
   "metadata": {},
   "outputs": [],
   "source": [
    "peopleDF = spark.read.parquet(\"hdfs://namenode:9000/product/\")"
   ]
  },
  {
   "cell_type": "code",
   "execution_count": 8,
   "id": "6f50d50d",
   "metadata": {},
   "outputs": [
    {
     "name": "stderr",
     "output_type": "stream",
     "text": [
      "                                                                                \r"
     ]
    },
    {
     "data": {
      "text/plain": [
       "2000"
      ]
     },
     "execution_count": 8,
     "metadata": {},
     "output_type": "execute_result"
    }
   ],
   "source": [
    "peopleDF.count()"
   ]
  },
  {
   "cell_type": "code",
   "execution_count": 9,
   "id": "4b852c72",
   "metadata": {},
   "outputs": [
    {
     "data": {
      "text/plain": [
       "[['bach-hoa-online', 4384],\n",
       " ['nha-cua-doi-song', 1883],\n",
       " ['dien-tu-dien-lanh', 4221],\n",
       " ['thiet-bi-kts-phu-kien-so', 1815],\n",
       " ['dien-thoai-may-tinh-bang', 1789],\n",
       " ['do-choi-me-be', 2549],\n",
       " ['lam-dep-suc-khoe', 1520],\n",
       " ['dien-gia-dung', 1882],\n",
       " ['thoi-trang-nu', 931],\n",
       " ['thoi-trang-nam', 915],\n",
       " ['giay-dep-nu', 1703],\n",
       " ['tui-vi-nu', 976],\n",
       " ['giay-dep-nam', 1686],\n",
       " ['tui-thoi-trang-nam', 27616],\n",
       " ['balo-va-vali', 6000],\n",
       " ['phu-kien-thoi-trang', 27498],\n",
       " ['dong-ho-va-trang-suc', 8371],\n",
       " ['laptop-may-vi-tinh-linh-kien', 1846],\n",
       " ['hang-quoc-te', 17166],\n",
       " ['voucher-dich-vu', 11312],\n",
       " ['o-to-xe-may-xe-dap', 8594],\n",
       " ['nha-sach-tiki', 8322],\n",
       " ['the-thao-da-ngoai', 1975],\n",
       " ['may-anh', 1801]]"
      ]
     },
     "execution_count": 9,
     "metadata": {},
     "output_type": "execute_result"
    }
   ],
   "source": [
    "tiki.cat_info"
   ]
  },
  {
   "cell_type": "code",
   "execution_count": null,
   "id": "de297aac",
   "metadata": {},
   "outputs": [],
   "source": []
  }
 ],
 "metadata": {
  "kernelspec": {
   "display_name": "Python 3 (ipykernel)",
   "language": "python",
   "name": "python3"
  },
  "language_info": {
   "codemirror_mode": {
    "name": "ipython",
    "version": 3
   },
   "file_extension": ".py",
   "mimetype": "text/x-python",
   "name": "python",
   "nbconvert_exporter": "python",
   "pygments_lexer": "ipython3",
   "version": "3.9.2"
  }
 },
 "nbformat": 4,
 "nbformat_minor": 5
}
