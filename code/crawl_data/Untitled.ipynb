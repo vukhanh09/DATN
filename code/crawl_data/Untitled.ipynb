{
 "cells": [
  {
   "cell_type": "code",
   "execution_count": 1,
   "id": "b0489135",
   "metadata": {},
   "outputs": [],
   "source": [
    "import json\n",
    "import re\n",
    "from tqdm import tqdm\n",
    "import pandas as pd\n",
    "import time\n",
    "import warnings\n",
    "warnings.filterwarnings(\"ignore\")\n",
    "import argparse\n",
    "\n",
    "from json import dumps\n",
    "from kafka import KafkaConsumer\n",
    "from json import loads\n",
    "from pyspark.sql import SparkSession\n",
    "import os\n",
    "\n",
    "# define environment kafka streaming\n",
    "kafka = \"org.apache.spark:spark-sql-kafka-0-10_2.12:3.0.0\"\n",
    "spark = \"org.apache.spark:spark-streaming-kafka-0-8_2.11:2.1.0\"\n",
    "\n",
    "os.environ[\"PYSPARK_SUBMIT_ARGS\"] = (\"--packages {},{} pyspark-shell\".format(kafka, spark))"
   ]
  },
  {
   "cell_type": "code",
   "execution_count": null,
   "id": "886e6b9f",
   "metadata": {},
   "outputs": [],
   "source": [
    "spark = SparkSession.\\\n",
    "    builder.\\\n",
    "    appName(f\"Crawl-comment\").\\\n",
    "    master(\"spark://spark-master:7077\").\\\n",
    "    config(\"spark.executor.memory\", \"512m\").\\\n",
    "    getOrCreate()"
   ]
  },
  {
   "cell_type": "code",
   "execution_count": null,
   "id": "c24191ea",
   "metadata": {},
   "outputs": [],
   "source": []
  },
  {
   "cell_type": "code",
   "execution_count": 9,
   "id": "81814481",
   "metadata": {},
   "outputs": [
    {
     "name": "stderr",
     "output_type": "stream",
     "text": [
      "[Stage 1:>                                                          (0 + 1) / 1]\r"
     ]
    }
   ],
   "source": [
    "KAFKA_BROKER_1='kafka-1:9092'\n",
    "KAFKA_BROKER_2='kafka-2:9092'\n",
    "KAFKA_BROKER_3='kafka-3:9092'\n",
    "\n",
    "KAFKA_TOPIC= 'Comment'\n",
    "kafkaMessages = spark \\\n",
    "  .readStream \\\n",
    "  .format(\"kafka\") \\\n",
    "  .option(\"kafka.bootstrap.servers\", f\"{KAFKA_BROKER_1},{KAFKA_BROKER_2},{KAFKA_BROKER_3}\") \\\n",
    "  .option(\"subscribe\", KAFKA_TOPIC) \\\n",
    "  .option(\"startingOffsets\", \"earliest\") \\\n",
    "  .load()\n",
    "\n",
    "message = kafkaMessages.selectExpr(\"CAST(value AS STRING)\")\n",
    "\n",
    "fileStream = message.writeStream \\\n",
    "                    .trigger(processingTime='30 seconds')\\\n",
    "                    .queryName(\"Persist the processed data\") \\\n",
    "                    .outputMode(\"append\") \\\n",
    "                    .format(\"parquet\") \\\n",
    "                    .option(\"path\", f\"hdfs://namenode:9000/tiki/{KAFKA_TOPIC}\") \\\n",
    "                    .option(\"checkpointLocation\", f\"hdfs://namenode:9000/tiki/checkpoints_{KAFKA_TOPIC}\") \\\n",
    "                    .start()"
   ]
  },
  {
   "cell_type": "code",
   "execution_count": 1,
   "id": "185544c7",
   "metadata": {},
   "outputs": [],
   "source": [
    "import json\n",
    "import re\n",
    "from tqdm import tqdm\n",
    "import pandas as pd\n",
    "import time\n",
    "import warnings\n",
    "warnings.filterwarnings(\"ignore\")\n",
    "import argparse\n",
    "\n",
    "from json import dumps\n",
    "from kafka import KafkaConsumer\n",
    "from json import loads\n",
    "from pyspark.sql import SparkSession\n",
    "import os\n",
    "\n",
    "# define environment kafka streaming\n",
    "kafka = \"org.apache.spark:spark-sql-kafka-0-10_2.12:3.0.0\"\n",
    "spark = \"org.apache.spark:spark-streaming-kafka-0-8_2.11:2.1.0\"\n",
    "\n",
    "os.environ[\"PYSPARK_SUBMIT_ARGS\"] = (\"--packages {},{} pyspark-shell\".format(kafka, spark))\n",
    "\n",
    "parser = argparse.ArgumentParser()\n",
    "parser.add_argument('--topic', type=str, default='Product')\n",
    "\n",
    "args = parser.parse_args()\n",
    "\n",
    "\n",
    "\n",
    "if __name__ == '__main__':\n",
    "\n",
    "    # init spark session\n",
    "    spark = SparkSession.\\\n",
    "        builder.\\\n",
    "        appName(f\"Crawl-{args.topic}\").\\\n",
    "        master(\"spark://spark-master:7077\").\\\n",
    "        config(\"spark.executor.memory\", \"512m\").\\\n",
    "        getOrCreate()\n",
    "    \n",
    "\n",
    "    KAFKA_BROKER_1='kafka-1:9092'\n",
    "    KAFKA_BROKER_2='kafka-2:9092'\n",
    "    KAFKA_BROKER_3='kafka-3:9092'\n",
    "    \n",
    "    KAFKA_TOPIC= args.topic\n",
    "    kafkaMessages = spark \\\n",
    "      .readStream \\\n",
    "      .format(\"kafka\") \\\n",
    "      .option(\"kafka.bootstrap.servers\", f\"{KAFKA_BROKER_1},{KAFKA_BROKER_2},{KAFKA_BROKER_3}\") \\\n",
    "      .option(\"subscribe\", KAFKA_TOPIC) \\\n",
    "      .option(\"startingOffsets\", \"earliest\") \\\n",
    "      .load()\n",
    "    \n",
    "    message = kafkaMessages.selectExpr(\"CAST(value AS STRING)\")\n",
    "\n",
    "    fileStream = message.writeStream \\\n",
    "                        .trigger(processingTime='30 seconds')\\\n",
    "                        .queryName(\"Persist the processed data\") \\\n",
    "                        .outputMode(\"append\") \\\n",
    "                        .format(\"parquet\") \\\n",
    "                        .option(\"path\", f\"hdfs://namenode:9000/tiki/{KAFKA_TOPIC}\") \\\n",
    "                        .option(\"failOnDataLoss\",\"false\") \\\n",
    "                        .option(\"checkpointLocation\", f\"hdfs://namenode:9000/tiki/checkpoints_{KAFKA_TOPIC}\") \\\n",
    "                        .start()\n",
    "    while True:\n",
    "        time.sleep(5)\n",
    "        if fileStream.lastProgress != None:\n",
    "            if fileStream.lastProgress['numInputRows'] == 0:\n",
    "                print('No data inseart in Kafka -> Stop spark...')\n",
    "                fileStream.stop()\n",
    "                spark.stop()\n",
    "                break\n",
    "            else:\n",
    "                print('Last procesing item:', fileStream.lastProgress['numInputRows'])\n",
    "                time.sleep(10)\n",
    "                \n",
    "                "
   ]
  },
  {
   "cell_type": "code",
   "execution_count": 2,
   "id": "0ae6280a",
   "metadata": {},
   "outputs": [],
   "source": [
    "tiki = Tiki()"
   ]
  },
  {
   "cell_type": "code",
   "execution_count": 3,
   "id": "9822a56b",
   "metadata": {},
   "outputs": [
    {
     "data": {
      "text/plain": [
       "[['bach-hoa-online', 4384],\n",
       " ['nha-cua-doi-song', 1883],\n",
       " ['dien-tu-dien-lanh', 4221],\n",
       " ['thiet-bi-kts-phu-kien-so', 1815],\n",
       " ['dien-thoai-may-tinh-bang', 1789],\n",
       " ['do-choi-me-be', 2549],\n",
       " ['lam-dep-suc-khoe', 1520],\n",
       " ['dien-gia-dung', 1882],\n",
       " ['thoi-trang-nu', 931],\n",
       " ['thoi-trang-nam', 915],\n",
       " ['giay-dep-nu', 1703],\n",
       " ['tui-vi-nu', 976],\n",
       " ['giay-dep-nam', 1686],\n",
       " ['tui-thoi-trang-nam', 27616],\n",
       " ['balo-va-vali', 6000],\n",
       " ['phu-kien-thoi-trang', 27498],\n",
       " ['dong-ho-va-trang-suc', 8371],\n",
       " ['laptop-may-vi-tinh-linh-kien', 1846],\n",
       " ['hang-quoc-te', 17166],\n",
       " ['voucher-dich-vu', 11312],\n",
       " ['o-to-xe-may-xe-dap', 8594],\n",
       " ['nha-sach-tiki', 8322],\n",
       " ['the-thao-da-ngoai', 1975],\n",
       " ['may-anh', 1801]]"
      ]
     },
     "execution_count": 3,
     "metadata": {},
     "output_type": "execute_result"
    }
   ],
   "source": [
    "tiki.cat_info"
   ]
  },
  {
   "cell_type": "code",
   "execution_count": 4,
   "id": "74a54fd6",
   "metadata": {},
   "outputs": [],
   "source": [
    "s_category = 0\n",
    "e_category = 1\n",
    "start_page = 1\n",
    "end_page = 2"
   ]
  },
  {
   "cell_type": "code",
   "execution_count": 5,
   "id": "19c9d98e",
   "metadata": {},
   "outputs": [],
   "source": [
    "# from pyspark.sql import SparkSession\n",
    "\n",
    "# spark = SparkSession.\\\n",
    "#         builder.\\\n",
    "#         appName(\"pyspark-notebook\").\\\n",
    "#         master(\"spark://spark-master:7077\").\\\n",
    "#         config(\"spark.executor.memory\", \"512m\").\\\n",
    "#         getOrCreate()"
   ]
  },
  {
   "cell_type": "code",
   "execution_count": 3,
   "id": "5dce5393",
   "metadata": {},
   "outputs": [],
   "source": [
    "producer = KafkaProducer(bootstrap_servers=['kafka-2:9092'],\n",
    "                         value_serializer=lambda x: \n",
    "                         dumps(x).encode('utf-8'))"
   ]
  },
  {
   "cell_type": "code",
   "execution_count": 6,
   "id": "6efa8445",
   "metadata": {},
   "outputs": [
    {
     "ename": "KeyboardInterrupt",
     "evalue": "",
     "output_type": "error",
     "traceback": [
      "\u001b[0;31m---------------------------------------------------------------------------\u001b[0m",
      "\u001b[0;31mKeyboardInterrupt\u001b[0m                         Traceback (most recent call last)",
      "Cell \u001b[0;32mIn [6], line 3\u001b[0m\n\u001b[1;32m      1\u001b[0m \u001b[38;5;28;01mwhile\u001b[39;00m \u001b[38;5;28;01mTrue\u001b[39;00m:\n\u001b[1;32m      2\u001b[0m     producer\u001b[38;5;241m.\u001b[39msend(\u001b[38;5;124m'\u001b[39m\u001b[38;5;124mtest\u001b[39m\u001b[38;5;124m'\u001b[39m,value\u001b[38;5;241m=\u001b[39m\u001b[38;5;241m12\u001b[39m)\n\u001b[0;32m----> 3\u001b[0m     \u001b[43mtime\u001b[49m\u001b[38;5;241;43m.\u001b[39;49m\u001b[43msleep\u001b[49m\u001b[43m(\u001b[49m\u001b[38;5;241;43m0.5\u001b[39;49m\u001b[43m)\u001b[49m\n",
      "\u001b[0;31mKeyboardInterrupt\u001b[0m: "
     ]
    }
   ],
   "source": [
    "while True:\n",
    "    producer.send('test',value=12)\n",
    "    time.sleep(0.5)"
   ]
  },
  {
   "cell_type": "code",
   "execution_count": 7,
   "id": "68342b86",
   "metadata": {},
   "outputs": [
    {
     "name": "stderr",
     "output_type": "stream",
     "text": [
      "  0%|          | 0/1 [00:00<?, ?it/s]"
     ]
    },
    {
     "name": "stdout",
     "output_type": "stream",
     "text": [
      "1\n",
      "2\n",
      "3\n",
      "4\n",
      "5\n",
      "6\n",
      "7\n",
      "8\n",
      "9\n",
      "10\n",
      "11\n",
      "12\n",
      "13\n",
      "14\n",
      "15\n",
      "16\n",
      "17\n",
      "18\n",
      "19\n",
      "20\n",
      "21\n",
      "22\n",
      "23\n",
      "24\n",
      "25\n",
      "26\n",
      "27\n",
      "28\n",
      "29\n",
      "30\n",
      "31\n",
      "32\n",
      "33\n",
      "34\n",
      "35\n",
      "36\n",
      "37\n",
      "38\n",
      "39\n",
      "40\n"
     ]
    },
    {
     "name": "stderr",
     "output_type": "stream",
     "text": [
      "100%|██████████| 1/1 [00:14<00:00, 14.10s/it]\n"
     ]
    }
   ],
   "source": [
    "\n",
    "df = []\n",
    "comments = []\n",
    "for i in range(s_category, e_category, 1):\n",
    "    category, category_id = tiki.cat_info[i]\n",
    "    for page_index in tqdm(range(start_page, end_page)):\n",
    "        time.sleep(0.5)\n",
    "        category_page_url = tiki.api_get_id_product.format(category_id, page_index, category)\n",
    "\n",
    "        list_product_ids = tiki.get_list_id_product(category_page_url)\n",
    "        id = 0\n",
    "        if len(list_product_ids) > 0:\n",
    "            for pid,spid in list_product_ids:\n",
    "                id+=1\n",
    "                print(id)\n",
    "                product_url = tiki.api_product.format(pid,spid)\n",
    "                item = tiki.get_information_product(product_url)\n",
    "                producer.send('Product', value=item)\n",
    "                \n",
    "#                 df.append(item)\n",
    "                \n",
    "#                 review_url = tiki.api_review.format(1,spid,pid)\n",
    "#                 paging = tiki.get_max_paging_review(review_url)\n",
    "#                 print(review_url)\n",
    "            \n",
    "#                 if paging != 0:\n",
    "#                     for i in range(1,paging+1):\n",
    "# #                         time.sleep(0.2)\n",
    "#                         comment = tiki.get_review(review_url)\n",
    "#                         comments.append(comment)\n",
    "                \n",
    "                "
   ]
  },
  {
   "cell_type": "code",
   "execution_count": null,
   "id": "7391febe",
   "metadata": {},
   "outputs": [],
   "source": []
  }
 ],
 "metadata": {
  "kernelspec": {
   "display_name": "Python 3 (ipykernel)",
   "language": "python",
   "name": "python3"
  },
  "language_info": {
   "codemirror_mode": {
    "name": "ipython",
    "version": 3
   },
   "file_extension": ".py",
   "mimetype": "text/x-python",
   "name": "python",
   "nbconvert_exporter": "python",
   "pygments_lexer": "ipython3",
   "version": "3.9.2"
  }
 },
 "nbformat": 4,
 "nbformat_minor": 5
}
