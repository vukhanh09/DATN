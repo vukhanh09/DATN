{
 "cells": [
  {
   "cell_type": "code",
   "execution_count": 1,
   "id": "43931446",
   "metadata": {},
   "outputs": [],
   "source": [
    "from json import loads\n",
    "from pyspark.sql import SparkSession\n",
    "import warnings\n",
    "warnings.filterwarnings(\"ignore\")\n",
    "from pyspark.sql.functions import col,from_json,udf\n",
    "from pyspark.sql.types import StructType,StructField, StringType, IntegerType,MapType,FloatType,ArrayType,BooleanType"
   ]
  },
  {
   "cell_type": "code",
   "execution_count": 2,
   "id": "b9b91e8a",
   "metadata": {},
   "outputs": [
    {
     "name": "stderr",
     "output_type": "stream",
     "text": [
      "22/11/17 15:58:38 WARN NativeCodeLoader: Unable to load native-hadoop library for your platform... using builtin-java classes where applicable\n",
      "Using Spark's default log4j profile: org/apache/spark/log4j-defaults.properties\n",
      "Setting default log level to \"WARN\".\n",
      "To adjust logging level use sc.setLogLevel(newLevel). For SparkR, use setLogLevel(newLevel).\n"
     ]
    }
   ],
   "source": [
    "spark = SparkSession.\\\n",
    "        builder.\\\n",
    "        appName(\"process-data\").\\\n",
    "        master(\"spark://spark-master:7077\").\\\n",
    "        config(\"spark.executor.memory\", \"1024m\").\\\n",
    "        getOrCreate()"
   ]
  },
  {
   "cell_type": "code",
   "execution_count": 3,
   "id": "dccb30f2",
   "metadata": {},
   "outputs": [
    {
     "name": "stderr",
     "output_type": "stream",
     "text": [
      "                                                                                \r"
     ]
    }
   ],
   "source": [
    "df_product = spark.read.parquet('hdfs://namenode:9000/TikiCleaned/Product')\n",
    "df_comment = spark.read.parquet('hdfs://namenode:9000/TikiCleaned/Comment')\n",
    "df_shop = spark.read.parquet('hdfs://namenode:9000/TikiCleaned/ShopInfo')"
   ]
  },
  {
   "cell_type": "code",
   "execution_count": 4,
   "id": "29d94e12",
   "metadata": {},
   "outputs": [],
   "source": [
    "df_product.createOrReplaceTempView(\"product\")\n",
    "df_comment.createOrReplaceTempView(\"comment\")\n",
    "df_shop.createOrReplaceTempView(\"shop\")"
   ]
  },
  {
   "cell_type": "code",
   "execution_count": 5,
   "id": "f97c9804",
   "metadata": {},
   "outputs": [
    {
     "name": "stderr",
     "output_type": "stream",
     "text": [
      "                                                                                \r"
     ]
    },
    {
     "data": {
      "text/plain": [
       "4243515"
      ]
     },
     "execution_count": 5,
     "metadata": {},
     "output_type": "execute_result"
    }
   ],
   "source": [
    "df_comment.count()"
   ]
  },
  {
   "cell_type": "code",
   "execution_count": 7,
   "id": "821f7e1f",
   "metadata": {},
   "outputs": [
    {
     "data": {
      "text/plain": [
       "9945"
      ]
     },
     "execution_count": 7,
     "metadata": {},
     "output_type": "execute_result"
    }
   ],
   "source": [
    "df_shop.count()"
   ]
  },
  {
   "cell_type": "code",
   "execution_count": 6,
   "id": "fef36f9f",
   "metadata": {},
   "outputs": [
    {
     "name": "stderr",
     "output_type": "stream",
     "text": [
      "                                                                                \r"
     ]
    },
    {
     "data": {
      "text/plain": [
       "127069"
      ]
     },
     "execution_count": 6,
     "metadata": {},
     "output_type": "execute_result"
    }
   ],
   "source": [
    "df_product.count()"
   ]
  },
  {
   "cell_type": "code",
   "execution_count": 15,
   "id": "4d0d72cb",
   "metadata": {},
   "outputs": [
    {
     "data": {
      "text/plain": [
       "4243515"
      ]
     },
     "execution_count": 15,
     "metadata": {},
     "output_type": "execute_result"
    }
   ],
   "source": [
    "df_comment.count()"
   ]
  },
  {
   "cell_type": "code",
   "execution_count": 19,
   "id": "c0d52799",
   "metadata": {},
   "outputs": [
    {
     "name": "stderr",
     "output_type": "stream",
     "text": [
      "                                                                                \r"
     ]
    }
   ],
   "source": [
    "test = spark.sql(\"\"\"\n",
    "    select * from product p\n",
    "    join shop s on p.seller_id = s.id\n",
    "    join comment c on c.product_id = p.id and p.seller_id = c.seller_id\n",
    "    limit 5\n",
    "\"\"\").toPandas()"
   ]
  },
  {
   "cell_type": "code",
   "execution_count": 20,
   "id": "be9023fa",
   "metadata": {},
   "outputs": [],
   "source": [
    "test.to_csv('test.csv')"
   ]
  },
  {
   "cell_type": "code",
   "execution_count": 33,
   "id": "79c7f26e",
   "metadata": {},
   "outputs": [
    {
     "name": "stdout",
     "output_type": "stream",
     "text": [
      "+-------+--------+\n",
      "|sellers|count(1)|\n",
      "+-------+--------+\n",
      "| 113897|     588|\n",
      "+-------+--------+\n",
      "\n"
     ]
    }
   ],
   "source": [
    "spark.sql(\"\"\"\n",
    "    select p.sellers,count(*) from product p\n",
    "    join comment c on c.product_id = p.id and p.sellers = c.seller_id\n",
    "     where p.id = 533487\n",
    "    group by p.sellers\n",
    "\"\"\").show()"
   ]
  },
  {
   "cell_type": "code",
   "execution_count": 38,
   "id": "498eabb7",
   "metadata": {},
   "outputs": [
    {
     "data": {
      "text/html": [
       "<div>\n",
       "<style scoped>\n",
       "    .dataframe tbody tr th:only-of-type {\n",
       "        vertical-align: middle;\n",
       "    }\n",
       "\n",
       "    .dataframe tbody tr th {\n",
       "        vertical-align: top;\n",
       "    }\n",
       "\n",
       "    .dataframe thead th {\n",
       "        text-align: right;\n",
       "    }\n",
       "</style>\n",
       "<table border=\"1\" class=\"dataframe\">\n",
       "  <thead>\n",
       "    <tr style=\"text-align: right;\">\n",
       "      <th></th>\n",
       "      <th>id</th>\n",
       "      <th>master_id</th>\n",
       "      <th>sku</th>\n",
       "      <th>price</th>\n",
       "      <th>list_price</th>\n",
       "      <th>original_price</th>\n",
       "      <th>discount</th>\n",
       "      <th>discount_rate</th>\n",
       "      <th>rating_average</th>\n",
       "      <th>review_count</th>\n",
       "      <th>...</th>\n",
       "      <th>name</th>\n",
       "      <th>description</th>\n",
       "      <th>specifications</th>\n",
       "      <th>seller_id</th>\n",
       "      <th>seller_name</th>\n",
       "      <th>seller_store_id</th>\n",
       "      <th>product_id</th>\n",
       "      <th>category_name</th>\n",
       "      <th>sellers</th>\n",
       "      <th>category_id</th>\n",
       "    </tr>\n",
       "  </thead>\n",
       "  <tbody>\n",
       "    <tr>\n",
       "      <th>0</th>\n",
       "      <td>533487</td>\n",
       "      <td>533487</td>\n",
       "      <td>9301200870693</td>\n",
       "      <td>132000</td>\n",
       "      <td>132000</td>\n",
       "      <td>132000</td>\n",
       "      <td>0</td>\n",
       "      <td>0.0</td>\n",
       "      <td>4.8</td>\n",
       "      <td>718</td>\n",
       "      <td>...</td>\n",
       "      <td>mì hảo hảo tôm chua cay g</td>\n",
       "      <td>thùng mì gói hảo hảo hương vị tôm chua cay gó...</td>\n",
       "      <td></td>\n",
       "      <td>113897</td>\n",
       "      <td>Healthcare20</td>\n",
       "      <td>105354</td>\n",
       "      <td>51199125</td>\n",
       "      <td>Bách Hóa Online</td>\n",
       "      <td>113897</td>\n",
       "      <td>4384</td>\n",
       "    </tr>\n",
       "    <tr>\n",
       "      <th>1</th>\n",
       "      <td>533487</td>\n",
       "      <td>533487</td>\n",
       "      <td>9301200870693</td>\n",
       "      <td>132000</td>\n",
       "      <td>132000</td>\n",
       "      <td>132000</td>\n",
       "      <td>0</td>\n",
       "      <td>0.0</td>\n",
       "      <td>4.8</td>\n",
       "      <td>718</td>\n",
       "      <td>...</td>\n",
       "      <td>mì hảo hảo tôm chua cay g</td>\n",
       "      <td>thùng mì gói hảo hảo hương vị tôm chua cay gó...</td>\n",
       "      <td></td>\n",
       "      <td>113897</td>\n",
       "      <td>Healthcare20</td>\n",
       "      <td>105354</td>\n",
       "      <td>51199125</td>\n",
       "      <td>Bách Hóa Online</td>\n",
       "      <td>114197</td>\n",
       "      <td>4384</td>\n",
       "    </tr>\n",
       "  </tbody>\n",
       "</table>\n",
       "<p>2 rows × 22 columns</p>\n",
       "</div>"
      ],
      "text/plain": [
       "       id  master_id            sku   price  list_price  original_price  \\\n",
       "0  533487     533487  9301200870693  132000      132000          132000   \n",
       "1  533487     533487  9301200870693  132000      132000          132000   \n",
       "\n",
       "   discount  discount_rate  rating_average  review_count  ...  \\\n",
       "0         0            0.0             4.8           718  ...   \n",
       "1         0            0.0             4.8           718  ...   \n",
       "\n",
       "                         name  \\\n",
       "0  mì hảo hảo tôm chua cay g    \n",
       "1  mì hảo hảo tôm chua cay g    \n",
       "\n",
       "                                         description specifications seller_id  \\\n",
       "0   thùng mì gói hảo hảo hương vị tôm chua cay gó...                   113897   \n",
       "1   thùng mì gói hảo hảo hương vị tôm chua cay gó...                   113897   \n",
       "\n",
       "    seller_name seller_store_id product_id    category_name  sellers  \\\n",
       "0  Healthcare20          105354   51199125  Bách Hóa Online   113897   \n",
       "1  Healthcare20          105354   51199125  Bách Hóa Online   114197   \n",
       "\n",
       "  category_id  \n",
       "0        4384  \n",
       "1        4384  \n",
       "\n",
       "[2 rows x 22 columns]"
      ]
     },
     "execution_count": 38,
     "metadata": {},
     "output_type": "execute_result"
    }
   ],
   "source": [
    "spark.sql(\"\"\"\n",
    "    select * from product p\n",
    "     where p.id = 533487\n",
    "\"\"\").toPandas()"
   ]
  },
  {
   "cell_type": "code",
   "execution_count": 39,
   "id": "34222a97",
   "metadata": {},
   "outputs": [
    {
     "name": "stdout",
     "output_type": "stream",
     "text": [
      "+--------+\n",
      "|count(1)|\n",
      "+--------+\n",
      "|    1680|\n",
      "+--------+\n",
      "\n"
     ]
    }
   ],
   "source": [
    "spark.sql(\"\"\"\n",
    "    select count(*) from comment c \n",
    "     where c.product_id = 533487\n",
    "\"\"\").show()"
   ]
  },
  {
   "cell_type": "code",
   "execution_count": 36,
   "id": "41ea552f",
   "metadata": {},
   "outputs": [
    {
     "name": "stdout",
     "output_type": "stream",
     "text": [
      "+---------+--------+\n",
      "|seller_id|count(1)|\n",
      "+---------+--------+\n",
      "|   156556|     420|\n",
      "|   170286|     588|\n",
      "|        1|      84|\n",
      "|   113897|     588|\n",
      "+---------+--------+\n",
      "\n"
     ]
    }
   ],
   "source": [
    "spark.sql(\"\"\"\n",
    "    select c.seller_id,count(*) from comment c \n",
    "     where c.product_id = 533487\n",
    "     group by c.seller_id\n",
    "\"\"\").show()"
   ]
  },
  {
   "cell_type": "code",
   "execution_count": 45,
   "id": "62396a74",
   "metadata": {},
   "outputs": [
    {
     "name": "stderr",
     "output_type": "stream",
     "text": [
      "                                                                                \r"
     ]
    },
    {
     "data": {
      "text/plain": [
       "3666020"
      ]
     },
     "execution_count": 45,
     "metadata": {},
     "output_type": "execute_result"
    }
   ],
   "source": [
    "spark.sql(\"\"\"\n",
    "    select 1 from product p\n",
    "    join shop s on p.sellers = s.id\n",
    "    join comment c on c.product_id = p.id and p.sellers = c.seller_id\n",
    "\"\"\").count()"
   ]
  },
  {
   "cell_type": "code",
   "execution_count": null,
   "id": "043defc7",
   "metadata": {},
   "outputs": [],
   "source": []
  },
  {
   "cell_type": "code",
   "execution_count": 44,
   "id": "c4ae554e",
   "metadata": {},
   "outputs": [
    {
     "data": {
      "text/plain": [
       "127014"
      ]
     },
     "execution_count": 44,
     "metadata": {},
     "output_type": "execute_result"
    }
   ],
   "source": [
    "spark.sql(\"\"\"\n",
    "    select 1 from product p\n",
    "    join shop s on p.sellers = s.id\n",
    "\"\"\").count()"
   ]
  },
  {
   "cell_type": "code",
   "execution_count": 42,
   "id": "63be72d8",
   "metadata": {},
   "outputs": [
    {
     "name": "stderr",
     "output_type": "stream",
     "text": [
      "                                                                                \r"
     ]
    },
    {
     "data": {
      "text/plain": [
       "9945"
      ]
     },
     "execution_count": 42,
     "metadata": {},
     "output_type": "execute_result"
    }
   ],
   "source": [
    "spark.sql(\"\"\"\n",
    "    select distinct id from shop s\n",
    "\"\"\").count()"
   ]
  },
  {
   "cell_type": "code",
   "execution_count": 27,
   "id": "36d1138a",
   "metadata": {},
   "outputs": [
    {
     "data": {
      "text/plain": [
       "[Row(id=533487, master_id=533487, sku='9301200870693', price=132000, list_price=132000, original_price=132000, discount=0, discount_rate=0.0, rating_average=4.800000190734863, review_count=718, productset_group_name='Bách Hóa Online/Thực phẩm Đóng hộp và Khô/Thực phẩm khô/Thực phẩm ăn liền', all_time_quantity_sold=6163, name='mì hảo hảo tôm chua cay g ', description=' thùng mì gói hảo hảo hương vị tôm chua cay gói thùng được đóng gói thành từng thùng tiện lợi để đem theo trong các chuyến đi dã ngoại du lịch cùng cả gia đình hoặc các nhóm bạn đông người mì gói giúp giải quyết các tình trạng bận rộn không có thời gian nấu nướng hoặc không quen khẩu vị ở những nơi mà bạn đi du lịch sản phẩm được sản xuất trên dây chuyền hiện đại đảm bảo an toàn cho sức khỏe người dùng công nghệ sản xuất hiện đại mì gói hảo hảo được sản xuất dựa trên các tiêu chuẩn và công nghệ của nhật bản dưới sự hỗ trợ và giám sát liên tục tỉ mỉ của các chuyên gia nhật bản cùng đội ngũ nhân sự người việt được đào tạo bài bản để đảm bảo cho chất lượng của sản phẩm thành phần an toàn thành phần chính của mỗi vắt mì bao gồm bột mì dầu shortening tinh bột khoai mì muối dịch chiết xuất từ cá gói súp gồm dầu tinh luyện muối đường bột ngọt e bột tôm gia vị tiêu ớt tỏi rau thơm hành lá sấ và các chất phụ gia khác với tỉ lệ thích hợp để đảm bảo an toàn cho sức khỏe người dùng hương vị thơm ngon mì gói ăn liền hảo hảo với hương vị chua chua cay cay của tôm chua cay sẽ giúp kích thích vị giác cho bạn ăn ngon miệng hơn đóng thùng tiện dụng mì gói hảo hảo hương vị tôm chua cay đóng gói trong thùng rất tiện dụng giúp bạn tiết kiệm thời gian chi phí mua sắm có thể trữ sẵn lương thực cho gia đình đồng thời giúp bạn bảo quản sản phẩm dễ dàng hơn giá sản phẩm trên tiki đã bao gồm thuế theo luật hiện hành bên cạnh đó tuỳ vào loại sản phẩm hình thức và địa chỉ giao hàng mà có thể phát sinh thêm chi phí khác như phí vận chuyển phụ phí hàng cồng kềnh thuế nhập khẩu đối với đơn hàng giao từ nước ngoài có giá trị trên triệu đồng ', specifications='', seller_id='113897', seller_name='Healthcare20', seller_store_id='105354', product_id=51199125, category_name='Bách Hóa Online', sellers='113897', category_id=4384),\n",
       " Row(id=533487, master_id=533487, sku='9301200870693', price=132000, list_price=132000, original_price=132000, discount=0, discount_rate=0.0, rating_average=4.800000190734863, review_count=718, productset_group_name='Bách Hóa Online/Thực phẩm Đóng hộp và Khô/Thực phẩm khô/Thực phẩm ăn liền', all_time_quantity_sold=6163, name='mì hảo hảo tôm chua cay g ', description=' thùng mì gói hảo hảo hương vị tôm chua cay gói thùng được đóng gói thành từng thùng tiện lợi để đem theo trong các chuyến đi dã ngoại du lịch cùng cả gia đình hoặc các nhóm bạn đông người mì gói giúp giải quyết các tình trạng bận rộn không có thời gian nấu nướng hoặc không quen khẩu vị ở những nơi mà bạn đi du lịch sản phẩm được sản xuất trên dây chuyền hiện đại đảm bảo an toàn cho sức khỏe người dùng công nghệ sản xuất hiện đại mì gói hảo hảo được sản xuất dựa trên các tiêu chuẩn và công nghệ của nhật bản dưới sự hỗ trợ và giám sát liên tục tỉ mỉ của các chuyên gia nhật bản cùng đội ngũ nhân sự người việt được đào tạo bài bản để đảm bảo cho chất lượng của sản phẩm thành phần an toàn thành phần chính của mỗi vắt mì bao gồm bột mì dầu shortening tinh bột khoai mì muối dịch chiết xuất từ cá gói súp gồm dầu tinh luyện muối đường bột ngọt e bột tôm gia vị tiêu ớt tỏi rau thơm hành lá sấ và các chất phụ gia khác với tỉ lệ thích hợp để đảm bảo an toàn cho sức khỏe người dùng hương vị thơm ngon mì gói ăn liền hảo hảo với hương vị chua chua cay cay của tôm chua cay sẽ giúp kích thích vị giác cho bạn ăn ngon miệng hơn đóng thùng tiện dụng mì gói hảo hảo hương vị tôm chua cay đóng gói trong thùng rất tiện dụng giúp bạn tiết kiệm thời gian chi phí mua sắm có thể trữ sẵn lương thực cho gia đình đồng thời giúp bạn bảo quản sản phẩm dễ dàng hơn giá sản phẩm trên tiki đã bao gồm thuế theo luật hiện hành bên cạnh đó tuỳ vào loại sản phẩm hình thức và địa chỉ giao hàng mà có thể phát sinh thêm chi phí khác như phí vận chuyển phụ phí hàng cồng kềnh thuế nhập khẩu đối với đơn hàng giao từ nước ngoài có giá trị trên triệu đồng ', specifications='', seller_id='113897', seller_name='Healthcare20', seller_store_id='105354', product_id=51199125, category_name='Bách Hóa Online', sellers='114197', category_id=4384)]"
      ]
     },
     "execution_count": 27,
     "metadata": {},
     "output_type": "execute_result"
    }
   ],
   "source": [
    "spark.sql(\"\"\"\n",
    "    select * from product\n",
    "    where id = 533487\n",
    "\"\"\").collect()"
   ]
  },
  {
   "cell_type": "code",
   "execution_count": 25,
   "id": "7b2a2f69",
   "metadata": {},
   "outputs": [
    {
     "name": "stderr",
     "output_type": "stream",
     "text": [
      "                                                                                \r"
     ]
    },
    {
     "data": {
      "text/plain": [
       "11260208"
      ]
     },
     "execution_count": 25,
     "metadata": {},
     "output_type": "execute_result"
    }
   ],
   "source": [
    "spark.sql(\"\"\"\n",
    "    select * from comment c\n",
    "    join product p on c.product_id = p.id and p.seller_id = c.seller_id\n",
    "\"\"\").count()"
   ]
  },
  {
   "cell_type": "code",
   "execution_count": 22,
   "id": "12a66903",
   "metadata": {},
   "outputs": [
    {
     "name": "stderr",
     "output_type": "stream",
     "text": [
      "                                                                                \r"
     ]
    },
    {
     "data": {
      "text/plain": [
       "4241625"
      ]
     },
     "execution_count": 22,
     "metadata": {},
     "output_type": "execute_result"
    }
   ],
   "source": [
    "spark.sql(\"\"\"\n",
    "    select 1 from product p\n",
    "    left join shop s on p.seller_id = s.id and p.seller_store_id = s.store_id\n",
    "    left join comment c on c.product_id = p.id\n",
    "\"\"\").count()"
   ]
  },
  {
   "cell_type": "code",
   "execution_count": 25,
   "id": "a896b9e6",
   "metadata": {},
   "outputs": [
    {
     "name": "stdout",
     "output_type": "stream",
     "text": [
      "+---------+-----------------+--------+\n",
      "|count(id)|count(product_id)|count(1)|\n",
      "+---------+-----------------+--------+\n",
      "|    46721|            46720|   46721|\n",
      "+---------+-----------------+--------+\n",
      "\n"
     ]
    }
   ],
   "source": [
    "spark.sql(\"\"\"\n",
    "    select count(id),count(product_id),count(*) from product\n",
    "\"\"\").show()"
   ]
  },
  {
   "cell_type": "code",
   "execution_count": 27,
   "id": "aa093dcf",
   "metadata": {},
   "outputs": [
    {
     "name": "stdout",
     "output_type": "stream",
     "text": [
      "root\n",
      " |-- id: integer (nullable = true)\n",
      " |-- contentRaw: string (nullable = true)\n",
      " |-- content: string (nullable = true)\n",
      " |-- thank_count: integer (nullable = true)\n",
      " |-- customer_id: integer (nullable = true)\n",
      " |-- rating: integer (nullable = true)\n",
      " |-- spid: integer (nullable = true)\n",
      " |-- product_id: integer (nullable = true)\n",
      " |-- customer_full_name: string (nullable = true)\n",
      " |-- purchased_at: string (nullable = true)\n",
      " |-- date_purchased_at: string (nullable = true)\n",
      " |-- sentiment: string (nullable = true)\n",
      " |-- lable: integer (nullable = true)\n",
      "\n"
     ]
    }
   ],
   "source": [
    "df_comment.printSchema()"
   ]
  },
  {
   "cell_type": "code",
   "execution_count": 8,
   "id": "f36a347d",
   "metadata": {},
   "outputs": [
    {
     "name": "stderr",
     "output_type": "stream",
     "text": [
      "                                                                                \r"
     ]
    },
    {
     "data": {
      "text/plain": [
       "Row(id=13707516, contentRaw='Thấy mọi người khen nó quá nhiều nên lên đây chê 1 tí\\n- Thứ nhất là chất âm, do cơ bản nó ko thiên về dải nào nên nghe cứ bằng bằng ko ấn tượng gì, bạn nên cài app chỉnh EQ của nó, nâng tầm trải nghiệm ngay lập tức (EQ preset Bright khá tốt)\\n- Nhét vào tai hơi khó, cơ bản phải kín mới đạt được chống ồn tốt, mình nhét cũng phải xoay đi xoay lại vài vòng mới khít, đấy là tai mình to còn vừa, còn tai các bạn nữ nhỏ xinh như bạn gái mình là chịu luôn, quá to. Nghe mọi người bảo nên mua thêm tip spinfit 360, chắc sẽ thử xem\\n- Các tính năng phụ như tự động chuyển đổi noise cancellling, speak-to-chat dùng mình thấy phiền nhiều hơn có ích, nên tắt để tiết kiệm pin\\nCòn lại hoàn hảo :)))', content='thấy mọi người khen nó quá nhiều nên lên đây chê tí thứ nhất là chất âm do cơ bản nó ko thiên về dải nào nên nghe cứ bằng bằng ko ấn tượng gì bạn nên cài app chỉnh eq của nó nâng tầm trải nghiệm ngay lập tức eq preset bright khá tốt nhét vào tai hơi khó cơ bản phải kín mới đạt được chống ồn tốt mình nhét cũng phải xoay đi xoay lại vài vòng mới khít đấy là tai mình to còn vừa còn tai các bạn nữ nhỏ xinh như bạn gái mình là chịu luôn quá to nghe mọi người bảo nên mua thêm tip spinfit chắc sẽ thử xem các tính năng phụ như tự động chuyển đổi noise cancellling speak to chat dùng mình thấy phiền nhiều hơn có ích nên tắt để tiết kiệm pin còn lại hoàn hảo ', thank_count=12, customer_id=23987446, rating=5, spid=109267789, seller_id='1', product_id=109267785, customer_full_name='Tô Thiệu Vũ', purchased_at='1638948027', date_purchased_at='2021-12-08', sentiment='Positive', lable=2, id=1, store_id=40395, name='Tiki Trading', icon='https://vcdn.tikicdn.com/ts/seller/ee/fa/a0/98f3f134f85cff2c6972c31777629aa0.png', url='https://tiki.vn/cua-hang/tiki-trading', is_official=True, store_level='OFFICIAL_STORE', is_followed=False, avg_rating_point=4.660299777984619, review_count=5081728, total_follower=444881, days_since_joined=1953, id=109267785, master_id=109267785, sku='2310209016848', price=4596000, list_price=6490000, original_price=6490000, discount=1894000, discount_rate=29.0, rating_average=5.0, review_count=48, productset_group_name='Thiết Bị Số - Phụ Kiện Số/Thiết Bị Âm Thanh và Phụ Kiện/Tai Nghe Bluetooth/Tai Nghe True Wireless', all_time_quantity_sold=106, name='tai nghe true wireless sony wf xm chống ồn chủ động hàng chính hãng', description=' giá sản phẩm trên tiki đã bao gồm thuế theo luật hiện hành bên cạnh đó tuỳ vào loại sản phẩm hình thức và địa chỉ giao hàng mà có thể phát sinh thêm chi phí khác như phí vận chuyển phụ phí hàng cồng kềnh thuế nhập khẩu đối với đơn hàng giao từ nước ngoài có giá trị trên triệu đồng ', specifications='', seller_id='4314', seller_name='Happystores', seller_store_id='4261', product_id=126091276, category_name='Thiết Bị Số - Phụ Kiện Số', category_id=1815)"
      ]
     },
     "execution_count": 8,
     "metadata": {},
     "output_type": "execute_result"
    }
   ],
   "source": [
    "spark.sql(\"\"\"\n",
    "    select * from comment c\n",
    "    left join shop s on c.seller_id = s.id\n",
    "    left join product p on c.product_id = p.id\n",
    "\"\"\").first()"
   ]
  },
  {
   "cell_type": "code",
   "execution_count": 10,
   "id": "a4383022",
   "metadata": {},
   "outputs": [
    {
     "name": "stderr",
     "output_type": "stream",
     "text": [
      "                                                                                \r"
     ]
    },
    {
     "data": {
      "text/plain": [
       "[Row(id=20557588, master_id=20557588, sku='6072702394231', price=5159000, list_price=6490000, original_price=6490000, discount=1331000, discount_rate=21.0, rating_average=4.099999904632568, review_count=39, productset_group_name='Điện Tử - Điện Lạnh/Tủ lạnh', all_time_quantity_sold=169, name='tủ lạnh toshiba inverter lít gr bvu ukg', description=' thiết kế sang trọng nhỏ gọn tủ lạnh inverter toshiba gr bvu ukg là dòng tủ lạnh tủ ngăn đá trên sở hữu thiết kế nhỏ gọn nhưng không kém phần sang trọng với tông màu đen huyền nổi bật toshiba gr bvu ukg có dung tích lít phù hợp với gia đình nhỏ tầm người nhưng sẽ là nội thất bắt mắt trong không gian nhà bạn công nghệ biến tần inverter tiết kiện điện năng tủ lạnh toshiba gr bvu ukg được trang bị công nghệ biến tần inverter kiểm soát sự hoạt động của máy nén giúp duy trì nhiệt độ bên trong tủ và hạn chế tiếng ồn đến mức tối đa công nghệ này sẽ giúp bạn bớt lo lắng về tiền điện mỗi tháng vì mang lại khả năng siêu tiết điện lên đến so với chiếc tủ lạnh thông thường hệ thống khí lạnh vòng cung công nghệ làm lạnh thực phẩm bằng luồng khí vòng cung giúp hơi lạnh được lưu chuyển đến mọi ngóc ngách trong tủ lạnh cũng như khắc phục được tình trạng thực phẩm bị đông đá do quá lạnh hay bị hư hao do thiếu độ lạnh công nghệ ag bio kháng khuẩn mạnh và khử mùi tối ưu hệ thống màng lọc ag bio của tủ sẽ kháng khuẩn và khử mùi tối đa các loại thực phẩm có mùi khó chịu nhất như thịt và cá đồng thời bộ lọc sinh học góc aldehyde sẽ hỗ trợ việc khử mùi cực mạnh thuộc nhóm thực phẩm lên men như nước tương rượu mà trước đây không thể khử được ngăn cấp đông mềm độ tiết kiệm thời gian chiếc tủ lạnh toshiba này sẽ trang bị thêm ngăn cấp đông mềm ultra cooling zone cực kì hữu dụng cho các chị em nội chợ không cần phải tốn thời gian chờ rã đông bạn có thể lấy thực phẩm tươi sống ra chế biến ngay mà vẫn đảm bảo được chất lượng món ăn tuy nhiên ngăn này chỉ giúp lưu trữ thực phẩm tươi dùng trong ngày thôi nên nếu muốn trữ lâu hơn bạn nên dùng ngăn trữ đông thoải mái dự trữ rau củ với ngăn chứa lớn ngăn chứa lớn cho phép bạn có thể dự trữ rau củ nhiều mà vẫn yên tâm về mức độ tươi ngon của thực phẩm ngoài ra ngăn chứa có khả năng giữ ẩm tốt nên đảm bảo cho việc bảo quản thực phẩm được kéo dài giá sản phẩm trên tiki đã bao gồm thuế theo luật hiện hành bên cạnh đó tuỳ vào loại sản phẩm hình thức và địa chỉ giao hàng mà có thể phát sinh thêm chi phí khác như phí vận chuyển phụ phí hàng cồng kềnh thuế nhập khẩu đối với đơn hàng giao từ nước ngoài có giá trị trên triệu đồng ', specifications='', seller_id='1', seller_name='Tiki Trading', seller_store_id='40395', product_id=20557589, category_name='Điện Tử - Điện Lạnh', category_id=4221)]"
      ]
     },
     "execution_count": 10,
     "metadata": {},
     "output_type": "execute_result"
    }
   ],
   "source": [
    "spark.sql(\"\"\"\n",
    "    select * from product\n",
    "   where id = 20557588\n",
    "\"\"\").collect()"
   ]
  },
  {
   "cell_type": "code",
   "execution_count": 13,
   "id": "77dea67e",
   "metadata": {},
   "outputs": [
    {
     "name": "stderr",
     "output_type": "stream",
     "text": [
      "                                                                                \r"
     ]
    },
    {
     "data": {
      "text/plain": [
       "[Row(seller_id='1')]"
      ]
     },
     "execution_count": 13,
     "metadata": {},
     "output_type": "execute_result"
    }
   ],
   "source": [
    "spark.sql(\"\"\"\n",
    "    select distinct seller_id from product\n",
    "   where id = 20557588\n",
    "\"\"\").collect()"
   ]
  },
  {
   "cell_type": "code",
   "execution_count": 12,
   "id": "ed95dcfc",
   "metadata": {},
   "outputs": [
    {
     "name": "stderr",
     "output_type": "stream",
     "text": [
      "                                                                                \r"
     ]
    },
    {
     "data": {
      "text/plain": [
       "[Row(seller_id='218'),\n",
       " Row(seller_id='75501'),\n",
       " Row(seller_id='219316'),\n",
       " Row(seller_id='1'),\n",
       " Row(seller_id='152033'),\n",
       " Row(seller_id='120451'),\n",
       " Row(seller_id='11315'),\n",
       " Row(seller_id='118795'),\n",
       " Row(seller_id='2194'),\n",
       " Row(seller_id='7967')]"
      ]
     },
     "execution_count": 12,
     "metadata": {},
     "output_type": "execute_result"
    }
   ],
   "source": [
    "spark.sql(\"\"\"\n",
    "    select distinct seller_id from comment\n",
    "   where product_id = 20557588\n",
    "\"\"\").collect()"
   ]
  },
  {
   "cell_type": "code",
   "execution_count": null,
   "id": "1b68e701",
   "metadata": {},
   "outputs": [],
   "source": [
    "20557588"
   ]
  }
 ],
 "metadata": {
  "kernelspec": {
   "display_name": "Python 3 (ipykernel)",
   "language": "python",
   "name": "python3"
  },
  "language_info": {
   "codemirror_mode": {
    "name": "ipython",
    "version": 3
   },
   "file_extension": ".py",
   "mimetype": "text/x-python",
   "name": "python",
   "nbconvert_exporter": "python",
   "pygments_lexer": "ipython3",
   "version": "3.9.2"
  }
 },
 "nbformat": 4,
 "nbformat_minor": 5
}
