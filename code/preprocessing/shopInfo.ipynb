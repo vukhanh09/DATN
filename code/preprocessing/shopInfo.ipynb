{
 "cells": [
  {
   "cell_type": "code",
   "execution_count": 1,
   "id": "6abe6ee8",
   "metadata": {},
   "outputs": [],
   "source": [
    "from json import loads\n",
    "from pyspark.sql import SparkSession\n",
    "import warnings\n",
    "warnings.filterwarnings(\"ignore\")\n",
    "from pyspark.sql.functions import col,from_json,udf\n",
    "from pyspark.sql.types import StructType,StructField, StringType, IntegerType,MapType,FloatType,ArrayType,BooleanType"
   ]
  },
  {
   "cell_type": "code",
   "execution_count": 2,
   "id": "d46e1979",
   "metadata": {},
   "outputs": [
    {
     "name": "stderr",
     "output_type": "stream",
     "text": [
      "22/11/17 15:57:04 WARN NativeCodeLoader: Unable to load native-hadoop library for your platform... using builtin-java classes where applicable\n",
      "Using Spark's default log4j profile: org/apache/spark/log4j-defaults.properties\n",
      "Setting default log level to \"WARN\".\n",
      "To adjust logging level use sc.setLogLevel(newLevel). For SparkR, use setLogLevel(newLevel).\n"
     ]
    }
   ],
   "source": [
    "spark = SparkSession.\\\n",
    "        builder.\\\n",
    "        appName(\"process-data\").\\\n",
    "        master(\"spark://spark-master:7077\").\\\n",
    "        config(\"spark.executor.memory\", \"1024m\").\\\n",
    "        getOrCreate()"
   ]
  },
  {
   "cell_type": "code",
   "execution_count": 3,
   "id": "e23266c2",
   "metadata": {},
   "outputs": [
    {
     "name": "stderr",
     "output_type": "stream",
     "text": [
      "                                                                                \r"
     ]
    }
   ],
   "source": [
    "data = spark.read.parquet('hdfs://namenode:9000/tiki/ShopInfo')"
   ]
  },
  {
   "cell_type": "code",
   "execution_count": 4,
   "id": "ab6584c5",
   "metadata": {},
   "outputs": [
    {
     "name": "stderr",
     "output_type": "stream",
     "text": [
      "                                                                                \r"
     ]
    }
   ],
   "source": [
    "sample_data = data.select('value').take(5)"
   ]
  },
  {
   "cell_type": "code",
   "execution_count": 5,
   "id": "d029e659",
   "metadata": {},
   "outputs": [],
   "source": [
    "data_sample = [loads(item.value) for item in sample_data]"
   ]
  },
  {
   "cell_type": "code",
   "execution_count": 6,
   "id": "816c904e",
   "metadata": {},
   "outputs": [
    {
     "data": {
      "text/plain": [
       "{'id': 251877,\n",
       " 'store_id': 238909,\n",
       " 'name': 'Giày dép RYNA',\n",
       " 'icon': 'https://vcdn.tikicdn.com/ts/seller/95/57/12/424635ac79ea7cb66baf8b2ccca69e1c.jpg',\n",
       " 'url': 'https://tiki.vn/cua-hang/giay-dep-ryna',\n",
       " 'is_official': False,\n",
       " 'store_level': 'NONE',\n",
       " 'is_followed': False,\n",
       " 'info': [{'type': 'review', 'title': '4.3 / 5', 'sub_title': '44 đánh giá'},\n",
       "  {'type': 'normal', 'title': '13', 'sub_title': 'Người theo dõi'}],\n",
       " 'avg_rating_point': 4.3182,\n",
       " 'review_count': 44,\n",
       " 'total_follower': 13,\n",
       " 'days_since_joined': 339}"
      ]
     },
     "execution_count": 6,
     "metadata": {},
     "output_type": "execute_result"
    }
   ],
   "source": [
    "data_sample[3]"
   ]
  },
  {
   "cell_type": "code",
   "execution_count": 7,
   "id": "9d7075cf",
   "metadata": {},
   "outputs": [],
   "source": [
    "schema = StructType([ \n",
    "    StructField(\"id\",IntegerType(),True), \n",
    "    StructField(\"store_id\",IntegerType(),True), \n",
    "    StructField(\"name\",StringType(),True), \n",
    "    StructField(\"icon\",StringType(),True),\n",
    "    StructField(\"url\",StringType(),True), \n",
    "    StructField(\"is_official\",BooleanType(),True),\n",
    "    StructField(\"store_level\",StringType(),True),\n",
    "    StructField('is_followed', BooleanType(),True),\n",
    "    StructField('avg_rating_point', FloatType(),True),\n",
    "    StructField('review_count', IntegerType(),True),\n",
    "    StructField(\"total_follower\",IntegerType(),True), \n",
    "    StructField(\"days_since_joined\",IntegerType(),True), \n",
    "])"
   ]
  },
  {
   "cell_type": "code",
   "execution_count": 8,
   "id": "99247188",
   "metadata": {},
   "outputs": [],
   "source": [
    "df = data.withColumn(\"jsonData\",from_json(col(\"value\"),schema)) \\\n",
    "                   .select(\"jsonData.*\")"
   ]
  },
  {
   "cell_type": "code",
   "execution_count": 11,
   "id": "867fda48",
   "metadata": {},
   "outputs": [],
   "source": [
    "df.createOrReplaceTempView('shopinfo')"
   ]
  },
  {
   "cell_type": "code",
   "execution_count": 12,
   "id": "44ca43ce",
   "metadata": {},
   "outputs": [
    {
     "name": "stderr",
     "output_type": "stream",
     "text": [
      "                                                                                \r"
     ]
    }
   ],
   "source": [
    "df.write.mode('append').parquet('hdfs://namenode:9000/TikiCleaned/ShopInfo')"
   ]
  },
  {
   "cell_type": "code",
   "execution_count": null,
   "id": "fac6ff2d",
   "metadata": {},
   "outputs": [],
   "source": []
  }
 ],
 "metadata": {
  "kernelspec": {
   "display_name": "Python 3 (ipykernel)",
   "language": "python",
   "name": "python3"
  },
  "language_info": {
   "codemirror_mode": {
    "name": "ipython",
    "version": 3
   },
   "file_extension": ".py",
   "mimetype": "text/x-python",
   "name": "python",
   "nbconvert_exporter": "python",
   "pygments_lexer": "ipython3",
   "version": "3.9.2"
  }
 },
 "nbformat": 4,
 "nbformat_minor": 5
}
