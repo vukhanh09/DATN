{
 "cells": [
  {
   "cell_type": "code",
   "execution_count": 1,
   "id": "e0d1d28a",
   "metadata": {},
   "outputs": [],
   "source": [
    "from json import loads\n",
    "from pyspark.sql import SparkSession\n",
    "import warnings\n",
    "warnings.filterwarnings(\"ignore\")\n",
    "from pyspark.sql.functions import col,from_json,udf\n",
    "from pyspark.sql.types import StructType,StructField, StringType, IntegerType,MapType,FloatType,ArrayType"
   ]
  },
  {
   "cell_type": "code",
   "execution_count": 2,
   "id": "dfdf5f7b",
   "metadata": {},
   "outputs": [
    {
     "name": "stderr",
     "output_type": "stream",
     "text": [
      "22/11/16 14:36:45 WARN NativeCodeLoader: Unable to load native-hadoop library for your platform... using builtin-java classes where applicable\n",
      "Using Spark's default log4j profile: org/apache/spark/log4j-defaults.properties\n",
      "Setting default log level to \"WARN\".\n",
      "To adjust logging level use sc.setLogLevel(newLevel). For SparkR, use setLogLevel(newLevel).\n"
     ]
    }
   ],
   "source": [
    "spark = SparkSession.\\\n",
    "        builder.\\\n",
    "        appName(\"process-data\").\\\n",
    "        master(\"spark://spark-master:7077\").\\\n",
    "        config(\"spark.executor.memory\", \"1024m\").\\\n",
    "        getOrCreate()"
   ]
  },
  {
   "cell_type": "code",
   "execution_count": 3,
   "id": "5bb57da4",
   "metadata": {},
   "outputs": [
    {
     "name": "stderr",
     "output_type": "stream",
     "text": [
      "                                                                                \r"
     ]
    }
   ],
   "source": [
    "data = spark.read.parquet('hdfs://namenode:9000/tiki/Comment')"
   ]
  },
  {
   "cell_type": "code",
   "execution_count": 4,
   "id": "b5471fbe",
   "metadata": {},
   "outputs": [
    {
     "name": "stderr",
     "output_type": "stream",
     "text": [
      "                                                                                \r"
     ]
    }
   ],
   "source": [
    "sample_data = data.select('value').take(1)"
   ]
  },
  {
   "cell_type": "code",
   "execution_count": 5,
   "id": "fbd2e6a8",
   "metadata": {},
   "outputs": [],
   "source": [
    "sample_data = sample_data[0].value"
   ]
  },
  {
   "cell_type": "code",
   "execution_count": 6,
   "id": "ae286b49",
   "metadata": {},
   "outputs": [],
   "source": [
    "data_sample = loads(sample_data)"
   ]
  },
  {
   "cell_type": "code",
   "execution_count": 7,
   "id": "d1315576",
   "metadata": {},
   "outputs": [],
   "source": [
    "schema = StructType([ \n",
    "    StructField(\"id\",IntegerType(),True), \n",
    "    StructField(\"content\",StringType(),True), \n",
    "    StructField(\"thank_count\",IntegerType(),True), \n",
    "    StructField(\"customer_id\",IntegerType(),True),\n",
    "    StructField(\"rating\",IntegerType(),True), \n",
    "    StructField(\"created_by\",MapType(StringType(),StringType()),True),\n",
    "    StructField(\"spid\",IntegerType(),True),\n",
    "    StructField(\"seller\",MapType(StringType(),StringType()),True),\n",
    "    StructField('product_id', IntegerType(),True),\n",
    "])"
   ]
  },
  {
   "cell_type": "code",
   "execution_count": 8,
   "id": "45a05b2f",
   "metadata": {},
   "outputs": [],
   "source": [
    "df = data.withColumn(\"jsonData\",from_json(col(\"value\"),schema)) \\\n",
    "                   .select(\"jsonData.*\")"
   ]
  },
  {
   "cell_type": "code",
   "execution_count": 9,
   "id": "78652273",
   "metadata": {},
   "outputs": [],
   "source": [
    "df.createOrReplaceTempView('Comment')"
   ]
  },
  {
   "cell_type": "code",
   "execution_count": 10,
   "id": "d9a8abbb",
   "metadata": {},
   "outputs": [],
   "source": [
    "import re\n",
    "# as per recommendation from @freylis, compile once only\n",
    "CLEANR = re.compile('<.*?>') \n",
    "def cleanText(str_raw):\n",
    "    # remove tags html\n",
    "    str_raw = re.sub(CLEANR, ' ', str_raw)\n",
    "\n",
    "    # remove special character\n",
    "    str_raw = re.sub('\\W+', ' ', str_raw)\n",
    "    \n",
    "    # remove number\n",
    "    str_raw = re.sub(\"[0-9]+\", \"\", str_raw)\n",
    "    \n",
    "    # remove space\n",
    "    cleantext = re.sub(\" +\", \" \", str_raw)\n",
    "    return cleantext.lower()"
   ]
  },
  {
   "cell_type": "code",
   "execution_count": 11,
   "id": "503c94af",
   "metadata": {},
   "outputs": [
    {
     "data": {
      "text/plain": [
       "<function __main__.cleanText(str_raw)>"
      ]
     },
     "execution_count": 11,
     "metadata": {},
     "output_type": "execute_result"
    }
   ],
   "source": [
    "spark.udf.register(\"cleanText\", cleanText,StringType())"
   ]
  },
  {
   "cell_type": "code",
   "execution_count": 12,
   "id": "563b24f9",
   "metadata": {},
   "outputs": [],
   "source": [
    "df_clean = spark.sql(\"\"\"\n",
    "    select id,content contentRaw,cleanText(content) content,thank_count,customer_id,rating,spid,product_id, created_by.full_name customer_full_name,created_by.purchased_at purchased_at,\n",
    "    from_unixtime(CAST(created_by.purchased_at as BIGINT), 'yyyy-MM-dd') date_purchased_at,\n",
    "    case\n",
    "        when rating >= 4 then 'Positive'\n",
    "        when rating = 3 then 'Neutral'\n",
    "        when rating <3 then 'Negative'\n",
    "    end as sentiment,\n",
    "    case\n",
    "        when rating >= 4 then 2\n",
    "        when rating = 3 then 1\n",
    "        when rating <3 then 0\n",
    "    end as lable\n",
    "    from Comment c\n",
    "\"\"\")"
   ]
  },
  {
   "cell_type": "code",
   "execution_count": null,
   "id": "354d0ad7",
   "metadata": {},
   "outputs": [
    {
     "name": "stderr",
     "output_type": "stream",
     "text": [
      "[Stage 2:=============>                                            (6 + 2) / 26]\r"
     ]
    }
   ],
   "source": [
    "df_clean.write.mode('append').parquet('hdfs://namenode:9000/TikiCleaned/Comment')"
   ]
  },
  {
   "cell_type": "code",
   "execution_count": null,
   "id": "857cf2dd",
   "metadata": {},
   "outputs": [],
   "source": [
    "df_product = spark.read.parquet('hdfs://namenode:9000/TikiCleaned/Product')"
   ]
  },
  {
   "cell_type": "code",
   "execution_count": null,
   "id": "10ba2e68",
   "metadata": {},
   "outputs": [],
   "source": [
    "df_product.show()"
   ]
  },
  {
   "cell_type": "code",
   "execution_count": 4,
   "id": "dd6b8059",
   "metadata": {},
   "outputs": [],
   "source": [
    "from pyspark.sql.functions import col,from_json"
   ]
  },
  {
   "cell_type": "code",
   "execution_count": 5,
   "id": "3558173e",
   "metadata": {},
   "outputs": [],
   "source": [
    "from pyspark.sql.types import StructType,StructField, StringType, IntegerType,MapType\n",
    "schema = StructType([ \n",
    "    StructField(\"id\",StringType(),True), \n",
    "    StructField(\"title\",StringType(),True), \n",
    "    StructField(\"thank_count\",StringType(),True), \n",
    "    StructField(\"content\",StringType(),True),\n",
    "    StructField(\"rating\",IntegerType(),True), \n",
    "    StructField(\"spid\",IntegerType(),True),\n",
    "    StructField(\"product_id\",IntegerType(),True),\n",
    "    StructField('created_by', MapType(StringType(),StringType()),True),\n",
    "    StructField('seller', MapType(StringType(),StringType()),True),\n",
    "    StructField('timeline', MapType(StringType(),StringType()),True)\n",
    "  ])"
   ]
  },
  {
   "cell_type": "code",
   "execution_count": 6,
   "id": "f20d9626",
   "metadata": {},
   "outputs": [],
   "source": [
    "df = data.withColumn(\"jsonData\",from_json(col(\"value\"),schema)) \\\n",
    "                   .select(\"jsonData.*\")"
   ]
  },
  {
   "cell_type": "code",
   "execution_count": 58,
   "id": "2b1d7285",
   "metadata": {},
   "outputs": [
    {
     "name": "stderr",
     "output_type": "stream",
     "text": [
      "                                                                                \r"
     ]
    },
    {
     "data": {
      "text/plain": [
       "4284135"
      ]
     },
     "execution_count": 58,
     "metadata": {},
     "output_type": "execute_result"
    }
   ],
   "source": [
    "df.count()"
   ]
  },
  {
   "cell_type": "code",
   "execution_count": 63,
   "id": "0c5803f8",
   "metadata": {},
   "outputs": [],
   "source": [
    "data = df.select(['title','rating','thank_count','content']).filter(\"content is not null and content <> ''\").limit(1000)"
   ]
  },
  {
   "cell_type": "code",
   "execution_count": 64,
   "id": "4945dcd8",
   "metadata": {},
   "outputs": [
    {
     "name": "stderr",
     "output_type": "stream",
     "text": [
      "22/11/04 19:26:31 WARN Resource: Detected type name in resource [item2/data]. Type names are deprecated and will be removed in a later release.\n",
      "                                                                                \r"
     ]
    }
   ],
   "source": [
    "data.write.format(\n",
    "    \"org.elasticsearch.spark.sql\"\n",
    ").option(\n",
    "    \"es.resource\", '%s/%s' % ('item2', 'data')\n",
    ").option(\n",
    "    \"es.nodes\", 'es01'\n",
    ").option(\n",
    "    \"es.port\", 9200\n",
    ").save()"
   ]
  },
  {
   "cell_type": "code",
   "execution_count": 7,
   "id": "29508108",
   "metadata": {},
   "outputs": [],
   "source": [
    "df.createOrReplaceTempView('comment')"
   ]
  },
  {
   "cell_type": "code",
   "execution_count": 74,
   "id": "21791d39",
   "metadata": {},
   "outputs": [
    {
     "name": "stderr",
     "output_type": "stream",
     "text": [
      "[Stage 64:==================================================>     (20 + 2) / 22]\r"
     ]
    },
    {
     "name": "stdout",
     "output_type": "stream",
     "text": [
      "+--------+---------------+-----------+-------+------+---------+----------+----------+--------------------+--------------------+--------------------+\n",
      "|      id|          title|thank_count|content|rating|     spid|product_id|product_id|          created_by|              seller|            timeline|\n",
      "+--------+---------------+-----------+-------+------+---------+----------+----------+--------------------+--------------------+--------------------+\n",
      "|17875450|Cực kì hài lòng|          0|       |     5|  2413305|      null|    980512|[id -> 13848315, ...|[id -> 4189, name...|[review_created_d...|\n",
      "|16658534|Cực kì hài lòng|          0|       |     5|  2413305|      null|    980512|[id -> 14960284, ...|[id -> 4189, name...|[review_created_d...|\n",
      "|17875450|Cực kì hài lòng|          0|       |     5|  2413305|      null|    980512|[id -> 13848315, ...|[id -> 4189, name...|[review_created_d...|\n",
      "|16658534|Cực kì hài lòng|          0|       |     5|  2413305|      null|    980512|[id -> 14960284, ...|[id -> 4189, name...|[review_created_d...|\n",
      "|17875450|Cực kì hài lòng|          0|       |     5|  2413305|      null|    980512|[id -> 13848315, ...|[id -> 4189, name...|[review_created_d...|\n",
      "|16658534|Cực kì hài lòng|          0|       |     5|  2413305|      null|    980512|[id -> 14960284, ...|[id -> 4189, name...|[review_created_d...|\n",
      "|17000605|Cực kì hài lòng|          0|       |     5|186816988|      null| 186816987|[id -> 27522035, ...|[id -> 151652, na...|[review_created_d...|\n",
      "|17836146|Cực kì hài lòng|          0|       |     5|186816988|      null| 186816987|[id -> 27899151, ...|[id -> 151652, na...|[review_created_d...|\n",
      "|17591932|Cực kì hài lòng|          0|       |     5|186816988|      null| 186816987|[id -> 6861324, n...|[id -> 151652, na...|[review_created_d...|\n",
      "|17577437|Cực kì hài lòng|          0|       |     5|186816988|      null| 186816987|[id -> 8551005, n...|[id -> 151652, na...|[review_created_d...|\n",
      "+--------+---------------+-----------+-------+------+---------+----------+----------+--------------------+--------------------+--------------------+\n",
      "\n"
     ]
    },
    {
     "name": "stderr",
     "output_type": "stream",
     "text": [
      "                                                                                \r"
     ]
    }
   ],
   "source": [
    "spark.sql(\"\"\"\n",
    "        select * from comment\n",
    "        where content = '' or content is null\n",
    "        limit 10\n",
    "\"\"\").show()"
   ]
  },
  {
   "cell_type": "code",
   "execution_count": 9,
   "id": "3f4f8642",
   "metadata": {},
   "outputs": [
    {
     "name": "stderr",
     "output_type": "stream",
     "text": [
      "[Stage 2:======================================================>  (21 + 1) / 22]\r"
     ]
    },
    {
     "name": "stdout",
     "output_type": "stream",
     "text": [
      "+--------+\n",
      "|count(1)|\n",
      "+--------+\n",
      "|  295616|\n",
      "+--------+\n",
      "\n"
     ]
    },
    {
     "name": "stderr",
     "output_type": "stream",
     "text": [
      "                                                                                \r"
     ]
    }
   ],
   "source": [
    "spark.sql(\"\"\"\n",
    "        select count(*) from comment\n",
    "        where content = '' or content is null\n",
    "\"\"\").show()"
   ]
  },
  {
   "cell_type": "code",
   "execution_count": 10,
   "id": "ce879410",
   "metadata": {},
   "outputs": [
    {
     "name": "stderr",
     "output_type": "stream",
     "text": [
      "                                                                                \r"
     ]
    },
    {
     "data": {
      "text/plain": [
       "4284135"
      ]
     },
     "execution_count": 10,
     "metadata": {},
     "output_type": "execute_result"
    }
   ],
   "source": [
    "df.count()"
   ]
  },
  {
   "cell_type": "code",
   "execution_count": 13,
   "id": "f27a0cf6",
   "metadata": {},
   "outputs": [
    {
     "name": "stderr",
     "output_type": "stream",
     "text": [
      "[Stage 11:======================================>               (141 + 2) / 200]\r"
     ]
    },
    {
     "name": "stdout",
     "output_type": "stream",
     "text": [
      "+------+------------+\n",
      "|rating|num_comments|\n",
      "+------+------------+\n",
      "|     1|      202244|\n",
      "|     2|       73837|\n",
      "|     3|      133501|\n",
      "|     4|      190246|\n",
      "|     5|     3388691|\n",
      "+------+------------+\n",
      "\n"
     ]
    },
    {
     "name": "stderr",
     "output_type": "stream",
     "text": [
      "                                                                                \r"
     ]
    }
   ],
   "source": [
    "spark.sql(\"\"\"\n",
    "        select rating,count(*) as num_comments from comment\n",
    "        where content <> '' and content is not null\n",
    "        group by rating\n",
    "        order by rating\n",
    "\"\"\").show()"
   ]
  },
  {
   "cell_type": "code",
   "execution_count": 12,
   "id": "a76bd948",
   "metadata": {},
   "outputs": [
    {
     "name": "stderr",
     "output_type": "stream",
     "text": [
      "[Stage 9:========================================>              (149 + 2) / 200]\r"
     ]
    },
    {
     "name": "stdout",
     "output_type": "stream",
     "text": [
      "+------+------------+\n",
      "|rating|num_comments|\n",
      "+------+------------+\n",
      "|     1|      202435|\n",
      "|     2|       73966|\n",
      "|     3|      137486|\n",
      "|     4|      217452|\n",
      "|     5|     3652796|\n",
      "+------+------------+\n",
      "\n"
     ]
    },
    {
     "name": "stderr",
     "output_type": "stream",
     "text": [
      "                                                                                \r"
     ]
    }
   ],
   "source": [
    "spark.sql(\"\"\"\n",
    "        select rating,count(*) as num_comments from comment\n",
    "        group by rating\n",
    "        order by rating\n",
    "\"\"\").show()"
   ]
  },
  {
   "cell_type": "code",
   "execution_count": 73,
   "id": "0e0c9f5d",
   "metadata": {},
   "outputs": [
    {
     "name": "stderr",
     "output_type": "stream",
     "text": [
      "[Stage 62:=====================================================>  (21 + 1) / 22]\r"
     ]
    },
    {
     "name": "stdout",
     "output_type": "stream",
     "text": [
      "+--------+-------+-------+\n",
      "|negative|neutral|postive|\n",
      "+--------+-------+-------+\n",
      "|  276401| 137486|3870248|\n",
      "+--------+-------+-------+\n",
      "\n"
     ]
    },
    {
     "name": "stderr",
     "output_type": "stream",
     "text": [
      "                                                                                \r"
     ]
    }
   ],
   "source": [
    "spark.sql(\"\"\"\n",
    "        select \n",
    "        sum(if(rating<=2,1,0)) negative,\n",
    "        sum(if(rating=3,1,0)) neutral,\n",
    "        sum(if(rating>=4,1,0)) postive\n",
    "        from comment\n",
    "        where (content != '' or content is not null)\n",
    "\"\"\").show()"
   ]
  },
  {
   "cell_type": "code",
   "execution_count": 80,
   "id": "f5e4c60e",
   "metadata": {},
   "outputs": [
    {
     "name": "stdout",
     "output_type": "stream",
     "text": [
      "+--------+\n",
      "|      id|\n",
      "+--------+\n",
      "|12554841|\n",
      "|18025738|\n",
      "|14802933|\n",
      "|18244433|\n",
      "|15856769|\n",
      "|22757127|\n",
      "| 9871953|\n",
      "|24852549|\n",
      "|20480308|\n",
      "|12800332|\n",
      "+--------+\n",
      "\n"
     ]
    }
   ],
   "source": [
    "spark.sql(\"\"\"\n",
    "        select \n",
    "        created_by.id\n",
    "        from comment\n",
    "        where content != '' or content is not null\n",
    "        limit 10\n",
    "\"\"\").show()"
   ]
  },
  {
   "cell_type": "code",
   "execution_count": 83,
   "id": "7fe85e45",
   "metadata": {},
   "outputs": [
    {
     "name": "stderr",
     "output_type": "stream",
     "text": [
      "[Stage 77:========================================>             (149 + 2) / 200]\r"
     ]
    },
    {
     "name": "stdout",
     "output_type": "stream",
     "text": [
      "+--------+------------+\n",
      "|      id|cus_comments|\n",
      "+--------+------------+\n",
      "| 7178520|        7832|\n",
      "| 6492212|        4714|\n",
      "|  494671|        2819|\n",
      "|    null|        2809|\n",
      "|  858200|        2013|\n",
      "|25936457|        2001|\n",
      "|19763709|        1862|\n",
      "| 1642224|        1840|\n",
      "|18025738|        1745|\n",
      "| 7423818|        1680|\n",
      "+--------+------------+\n",
      "\n"
     ]
    },
    {
     "name": "stderr",
     "output_type": "stream",
     "text": [
      "                                                                                \r"
     ]
    }
   ],
   "source": [
    "spark.sql(\"\"\"\n",
    "        select created_by.id, count(*) cus_comments\n",
    "        from comment\n",
    "        where content != '' or content is not null\n",
    "        group by created_by.id\n",
    "        order by cus_comments desc\n",
    "        limit 10\n",
    "\"\"\").show()"
   ]
  },
  {
   "cell_type": "code",
   "execution_count": 84,
   "id": "2b464c04",
   "metadata": {},
   "outputs": [
    {
     "name": "stderr",
     "output_type": "stream",
     "text": [
      "[Stage 79:=====================================================>  (21 + 1) / 22]\r"
     ]
    },
    {
     "name": "stdout",
     "output_type": "stream",
     "text": [
      "+--------+---------------+-----------+--------------------+------+--------+----------+----------+--------------------+--------------------+--------------------+\n",
      "|      id|          title|thank_count|             content|rating|    spid|product_id|product_id|          created_by|              seller|            timeline|\n",
      "+--------+---------------+-----------+--------------------+------+--------+----------+----------+--------------------+--------------------+--------------------+\n",
      "|16708272|Cực kì hài lòng|          0|Sản phẩm có chất ...|     5|75953558|      null|  75953557|[id -> 7178520, n...|[id -> 1, name ->...|[review_created_d...|\n",
      "|16708272|Cực kì hài lòng|          0|Sản phẩm có chất ...|     5|75953558|      null|  75953557|[id -> 7178520, n...|[id -> 1, name ->...|[review_created_d...|\n",
      "|16708272|Cực kì hài lòng|          0|Sản phẩm có chất ...|     5|75953558|      null|  75953557|[id -> 7178520, n...|[id -> 1, name ->...|[review_created_d...|\n",
      "|16708272|Cực kì hài lòng|          0|Sản phẩm có chất ...|     5|75953558|      null|  75953557|[id -> 7178520, n...|[id -> 1, name ->...|[review_created_d...|\n",
      "|16708272|Cực kì hài lòng|          0|Sản phẩm có chất ...|     5|75953558|      null|  75953557|[id -> 7178520, n...|[id -> 1, name ->...|[review_created_d...|\n",
      "|16708272|Cực kì hài lòng|          0|Sản phẩm có chất ...|     5|75953558|      null|  75953557|[id -> 7178520, n...|[id -> 1, name ->...|[review_created_d...|\n",
      "|16708272|Cực kì hài lòng|          0|Sản phẩm có chất ...|     5|75953558|      null|  75953557|[id -> 7178520, n...|[id -> 1, name ->...|[review_created_d...|\n",
      "|16708272|Cực kì hài lòng|          0|Sản phẩm có chất ...|     5|75953558|      null|  75953557|[id -> 7178520, n...|[id -> 1, name ->...|[review_created_d...|\n",
      "|16708272|Cực kì hài lòng|          0|Sản phẩm có chất ...|     5|75953558|      null|  75953557|[id -> 7178520, n...|[id -> 1, name ->...|[review_created_d...|\n",
      "|16708272|Cực kì hài lòng|          0|Sản phẩm có chất ...|     5|75953558|      null|  75953557|[id -> 7178520, n...|[id -> 1, name ->...|[review_created_d...|\n",
      "+--------+---------------+-----------+--------------------+------+--------+----------+----------+--------------------+--------------------+--------------------+\n",
      "\n"
     ]
    },
    {
     "name": "stderr",
     "output_type": "stream",
     "text": [
      "                                                                                \r"
     ]
    }
   ],
   "source": [
    "spark.sql(\"\"\"\n",
    "        select \n",
    "        *\n",
    "        from comment\n",
    "        where (content != '' or content is not null)\n",
    "        and created_by.id = 7178520\n",
    "        limit 10\n",
    "\"\"\").show()"
   ]
  },
  {
   "cell_type": "code",
   "execution_count": 13,
   "id": "8277455a",
   "metadata": {},
   "outputs": [
    {
     "data": {
      "text/plain": [
       "{'id': 15477570,\n",
       " 'title': 'Cực kì hài lòng',\n",
       " 'content': 'Lần đầu tiên mua sách trên tiki thật sự khiến mình rất hài lòng ạ. Shipper khá thân thiện, thời gian giao hàng nhanh đóng gói đẹp và chắc chắn, sách về đến tay mình không móp méo gì cả. Nói chung là rất tuyệt vời, hy vọng những lần sau khi quay lại ủng hộ tiki vẫn khiến mình có một cảm giác thật hạnh phúc khi nhận hàng như hôm nay🥰…',\n",
       " 'status': 'approved',\n",
       " 'thank_count': 2,\n",
       " 'score': 0.021194,\n",
       " 'new_score': 0.14524732,\n",
       " 'customer_id': 12554841,\n",
       " 'comment_count': 0,\n",
       " 'rating': 5,\n",
       " 'images': [{'id': 3245878,\n",
       "   'full_path': 'https://salt.tikicdn.com/ts/review/19/12/32/38c161fb0f8eedf35c452097d473df4b.jpg',\n",
       "   'status': 'approved'},\n",
       "  {'id': 3245879,\n",
       "   'full_path': 'https://salt.tikicdn.com/ts/review/4a/56/27/6503f6372e278ff379cef8e3cb7da0e6.jpg',\n",
       "   'status': 'approved'},\n",
       "  {'id': 3245880,\n",
       "   'full_path': 'https://salt.tikicdn.com/ts/review/e3/d9/f0/fb5542ea2e294156b95e4dc5c6b54f29.jpg',\n",
       "   'status': 'approved'},\n",
       "  {'id': 3245881,\n",
       "   'full_path': 'https://salt.tikicdn.com/ts/review/21/3c/67/77a15640103bea353019730ca087c978.jpg',\n",
       "   'status': 'approved'},\n",
       "  {'id': 3245882,\n",
       "   'full_path': 'https://salt.tikicdn.com/ts/review/b6/b2/bf/be9d45b5a20aba98677938fd22879fbb.jpg',\n",
       "   'status': 'approved'}],\n",
       " 'thanked': False,\n",
       " 'created_at': 1647574403,\n",
       " 'created_by': {'id': 12554841,\n",
       "  'name': 'Lương Phùng ',\n",
       "  'full_name': 'Lương Phùng ',\n",
       "  'region': None,\n",
       "  'avatar_url': 'https://platform-lookaside.fbsbx.com/platform/profilepic/?asid=112458796686969&height=200&width=200&ext=1563450682&hash=AeQya-57PtVXmfZU',\n",
       "  'created_time': '2019-06-18 18:52:32',\n",
       "  'group_id': 8,\n",
       "  'purchased': True,\n",
       "  'purchased_at': 1647433635,\n",
       "  'contribute_info': {'id': 12554841,\n",
       "   'name': 'Lương Phùng ',\n",
       "   'avatar': 'https://platform-lookaside.fbsbx.com/platform/profilepic/?asid=112458796686969&height=200&width=200&ext=1563450682&hash=AeQya-57PtVXmfZU',\n",
       "   'summary': {'joined_time': 'Đã tham gia 3 năm',\n",
       "    'total_review': 1,\n",
       "    'total_thank': 2}}},\n",
       " 'suggestions': [],\n",
       " 'attributes': ['Mua từ nhà bán Tiki Trading'],\n",
       " 'product_attributes': [],\n",
       " 'spid': 4940411,\n",
       " 'is_photo': True,\n",
       " 'seller': {'id': 1,\n",
       "  'name': 'Tiki Trading',\n",
       "  'logo': 'https://vcdn.tikicdn.com/ts/seller/ee/fa/a0/98f3f134f85cff2c6972c31777629aa0.png'},\n",
       " 'product_id': 4940239,\n",
       " 'timeline': {'review_created_date': '2022-03-18 10:33:23',\n",
       "  'delivery_date': '2022-03-18 10:12:53',\n",
       "  'current_date': '2022-10-29 13:54:14',\n",
       "  'content': 'Đã dùng 21 phút',\n",
       "  'explain': 'Khi viết đánh giá, khách hàng đã dùng sản phẩm 21 phút.'},\n",
       " 'comments': [],\n",
       " 'vote_attributes': {'agree': [], 'disagree': []}}"
      ]
     },
     "execution_count": 13,
     "metadata": {},
     "output_type": "execute_result"
    }
   ],
   "source": [
    "data_sample"
   ]
  },
  {
   "cell_type": "code",
   "execution_count": 11,
   "id": "564d225d",
   "metadata": {},
   "outputs": [],
   "source": [
    "from pyspark.sql.functions import expr"
   ]
  },
  {
   "cell_type": "code",
   "execution_count": 14,
   "id": "3b08d58d",
   "metadata": {},
   "outputs": [],
   "source": [
    "df1 = df.withColumn('label',expr(\"\"\"\n",
    "    case\n",
    "        when rating <= 2 THEN 0\n",
    "        when rating = 3 THEN 1\n",
    "        when rating > 3 THEN 2\n",
    "    end\n",
    "    \"\"\"))"
   ]
  },
  {
   "cell_type": "code",
   "execution_count": 15,
   "id": "8f7041b8",
   "metadata": {},
   "outputs": [],
   "source": [
    "df1 = df1.filter('content is not null')"
   ]
  },
  {
   "cell_type": "code",
   "execution_count": 16,
   "id": "138a0026",
   "metadata": {},
   "outputs": [],
   "source": [
    "dataset1 = df1.filter(df1.label == 0).limit(1000)\n",
    "dataset2 = df1.filter(df1.label == 1).limit(1000)\n",
    "dataset3 = df1.filter(df1.label == 2).limit(1000)"
   ]
  },
  {
   "cell_type": "code",
   "execution_count": 17,
   "id": "bf21ccb8",
   "metadata": {},
   "outputs": [],
   "source": [
    "datasetAll = dataset1.union(dataset2).union(dataset3)"
   ]
  },
  {
   "cell_type": "code",
   "execution_count": 20,
   "id": "4770044f",
   "metadata": {},
   "outputs": [
    {
     "name": "stderr",
     "output_type": "stream",
     "text": [
      "                                                                                \r"
     ]
    }
   ],
   "source": [
    "newData = datasetAll.toPandas()"
   ]
  },
  {
   "cell_type": "code",
   "execution_count": 22,
   "id": "f95442e1",
   "metadata": {},
   "outputs": [],
   "source": [
    "from sklearn.feature_extraction.text import TfidfVectorizer\n",
    "vectorizer = TfidfVectorizer()\n",
    "X = vectorizer.fit_transform(newData.content)"
   ]
  },
  {
   "cell_type": "code",
   "execution_count": 24,
   "id": "6c1eed89",
   "metadata": {},
   "outputs": [],
   "source": [
    "X = X.toarray()"
   ]
  },
  {
   "cell_type": "code",
   "execution_count": 26,
   "id": "09221421",
   "metadata": {},
   "outputs": [
    {
     "data": {
      "text/plain": [
       "(3000, 1444)"
      ]
     },
     "execution_count": 26,
     "metadata": {},
     "output_type": "execute_result"
    }
   ],
   "source": [
    "X.shape"
   ]
  },
  {
   "cell_type": "code",
   "execution_count": null,
   "id": "80fe6f5f",
   "metadata": {},
   "outputs": [],
   "source": []
  },
  {
   "cell_type": "code",
   "execution_count": 28,
   "id": "90581394",
   "metadata": {},
   "outputs": [],
   "source": [
    "from sklearn.decomposition import PCA\n",
    "pca = PCA()\n",
    "pca.fit(X)\n",
    "pca_samples = pca.transform(X)"
   ]
  },
  {
   "cell_type": "code",
   "execution_count": 29,
   "id": "12abfe8a",
   "metadata": {},
   "outputs": [],
   "source": [
    "import pandas as pd"
   ]
  },
  {
   "cell_type": "code",
   "execution_count": 30,
   "id": "881ece59",
   "metadata": {},
   "outputs": [],
   "source": [
    "pca = PCA(n_components=25)\n",
    "\n",
    "matrix_9D = pca.fit_transform(X)\n",
    "mat = pd.DataFrame(matrix_9D)\n",
    "mat['cluster'] = pd.Series(newData.label)"
   ]
  },
  {
   "cell_type": "code",
   "execution_count": 32,
   "id": "43ff3f35",
   "metadata": {},
   "outputs": [
    {
     "data": {
      "text/plain": [
       "(3000, 26)"
      ]
     },
     "execution_count": 32,
     "metadata": {},
     "output_type": "execute_result"
    }
   ],
   "source": [
    "mat.shape"
   ]
  },
  {
   "cell_type": "code",
   "execution_count": 46,
   "id": "043fab12",
   "metadata": {},
   "outputs": [],
   "source": [
    "from sklearn.metrics.pairwise import cosine_similarity\n",
    "\n",
    "res = cosine_similarity(X)"
   ]
  },
  {
   "cell_type": "code",
   "execution_count": 55,
   "id": "9dc33327",
   "metadata": {},
   "outputs": [
    {
     "data": {
      "text/plain": [
       "array([[1.        , 0.03385829, 0.08387336, ..., 0.03898354, 0.20797736,\n",
       "        0.        ],\n",
       "       [0.03385829, 1.        , 0.        , ..., 0.07642494, 0.04012343,\n",
       "        0.        ],\n",
       "       [0.08387336, 0.        , 1.        , ..., 0.00790578, 0.13905466,\n",
       "        0.        ],\n",
       "       ...,\n",
       "       [0.03898354, 0.07642494, 0.00790578, ..., 1.        , 0.11334898,\n",
       "        0.22344245],\n",
       "       [0.20797736, 0.04012343, 0.13905466, ..., 0.11334898, 1.        ,\n",
       "        0.15229854],\n",
       "       [0.        , 0.        , 0.        , ..., 0.22344245, 0.15229854,\n",
       "        1.        ]])"
      ]
     },
     "execution_count": 55,
     "metadata": {},
     "output_type": "execute_result"
    }
   ],
   "source": [
    "res"
   ]
  },
  {
   "cell_type": "code",
   "execution_count": 54,
   "id": "8b0359eb",
   "metadata": {},
   "outputs": [
    {
     "data": {
      "text/plain": [
       "<AxesSubplot: >"
      ]
     },
     "execution_count": 54,
     "metadata": {},
     "output_type": "execute_result"
    },
    {
     "data": {
      "image/png": "[encoded data removed]",
      "text/plain": [
       "<Figure size 640x480 with 2 Axes>"
      ]
     },
     "metadata": {},
     "output_type": "display_data"
    }
   ],
   "source": [
    "sns.heatmap(res[:10,-10:], annot=True, fmt=\".1f\")"
   ]
  },
  {
   "cell_type": "code",
   "execution_count": 53,
   "id": "abb06d9f",
   "metadata": {},
   "outputs": [
    {
     "data": {
      "text/plain": [
       "<AxesSubplot: >"
      ]
     },
     "execution_count": 53,
     "metadata": {},
     "output_type": "execute_result"
    },
    {
     "data": {
      "image/png": "[encoded data removed]",
      "text/plain": [
       "<Figure size 640x480 with 2 Axes>"
      ]
     },
     "metadata": {},
     "output_type": "display_data"
    }
   ],
   "source": [
    "sns.heatmap(res[:10,:10], annot=True, fmt=\".1f\")"
   ]
  },
  {
   "cell_type": "code",
   "execution_count": 33,
   "id": "06aa166f",
   "metadata": {},
   "outputs": [],
   "source": [
    "mat.to_csv('mat.csv')"
   ]
  },
  {
   "cell_type": "code",
   "execution_count": 16,
   "id": "bd0f0d32",
   "metadata": {},
   "outputs": [
    {
     "name": "stdout",
     "output_type": "stream",
     "text": [
      "root\n",
      " |-- id: string (nullable = true)\n",
      " |-- title: string (nullable = true)\n",
      " |-- thank_count: string (nullable = true)\n",
      " |-- content: string (nullable = true)\n",
      " |-- rating: integer (nullable = true)\n",
      " |-- spid: integer (nullable = true)\n",
      " |-- product_id: integer (nullable = true)\n",
      " |-- created_by: map (nullable = true)\n",
      " |    |-- key: string\n",
      " |    |-- value: string (valueContainsNull = true)\n",
      " |-- seller: map (nullable = true)\n",
      " |    |-- key: string\n",
      " |    |-- value: string (valueContainsNull = true)\n",
      " |-- timeline: map (nullable = true)\n",
      " |    |-- key: string\n",
      " |    |-- value: string (valueContainsNull = true)\n",
      " |-- label: integer (nullable = true)\n",
      "\n"
     ]
    }
   ],
   "source": [
    "df.printSchema()"
   ]
  },
  {
   "cell_type": "code",
   "execution_count": 25,
   "id": "44d1f33e",
   "metadata": {},
   "outputs": [],
   "source": [
    "from pyspark.ml.feature import Word2Vec\n",
    "from pyspark.sql.functions import lower, col, split\n",
    "\n",
    "dataset = df.select(lower(col('content')).alias('content'), 'label')\n",
    "dataset = dataset.select(split(dataset.content, ' ').alias('content'), 'label')"
   ]
  },
  {
   "cell_type": "code",
   "execution_count": 27,
   "id": "17e8d138",
   "metadata": {},
   "outputs": [],
   "source": [
    "dataset1 = dataset.filter(dataset.label == 0).limit(1000)\n",
    "dataset2 = dataset.filter(dataset.label == 1).limit(1000)\n",
    "dataset3 = dataset.filter(dataset.label == 2).limit(1000)"
   ]
  },
  {
   "cell_type": "code",
   "execution_count": 28,
   "id": "8d9baffe",
   "metadata": {},
   "outputs": [
    {
     "name": "stderr",
     "output_type": "stream",
     "text": [
      "[Stage 5:>                                                          (0 + 1) / 1]\r"
     ]
    }
   ],
   "source": [
    "datasetAll = dataset1.union(dataset2).union(dataset3)"
   ]
  },
  {
   "cell_type": "code",
   "execution_count": 97,
   "id": "d7876324",
   "metadata": {},
   "outputs": [
    {
     "name": "stderr",
     "output_type": "stream",
     "text": [
      "                                                                                \r"
     ]
    }
   ],
   "source": [
    "from pyspark.ml.feature import HashingTF, IDF, Tokenizer\n",
    "# tokenizer = Tokenizer(inputCol=\"sentence\", outputCol=\"words\")\n",
    "# wordsData = tokenizer.transform(sentenceData)\n",
    "\n",
    "hashingTF = HashingTF(inputCol=\"content\", outputCol=\"rawFeatures\", numFeatures=20)\n",
    "featurizedData = hashingTF.transform(datasetAll)\n",
    "# alternatively, CountVectorizer can also be used to get term frequency vectors\n",
    "\n",
    "idf = IDF(inputCol=\"rawFeatures\", outputCol=\"features\")\n",
    "idfModel = idf.fit(featurizedData)\n",
    "rescaledData = idfModel.transform(featurizedData)"
   ]
  },
  {
   "cell_type": "code",
   "execution_count": 100,
   "id": "e9831655",
   "metadata": {},
   "outputs": [
    {
     "name": "stderr",
     "output_type": "stream",
     "text": [
      "                                                                                \r"
     ]
    },
    {
     "data": {
      "text/plain": [
       "[Row(features=SparseVector(20, {1: 0.8378, 2: 0.7026, 3: 0.4143, 4: 1.7441, 5: 1.7353, 6: 0.9383, 7: 1.7376, 8: 0.9782, 11: 1.0913, 12: 1.0362, 13: 1.6224, 14: 1.8642, 15: 2.4079, 16: 0.7409, 18: 0.6065, 19: 0.5045})),\n",
       " Row(features=SparseVector(20, {0: 0.4199, 2: 0.7026, 5: 0.3471, 6: 0.3128, 7: 0.6951, 9: 0.3685, 11: 0.5456, 13: 1.6224, 15: 0.903, 16: 2.2226, 17: 0.4693, 18: 0.3032, 19: 0.5045})),\n",
       " Row(features=SparseVector(20, {0: 0.8398, 1: 0.4189, 2: 0.7026, 4: 0.5814, 5: 0.3471, 6: 0.3128, 7: 0.3475, 8: 0.6521, 9: 0.3685, 11: 0.5456, 12: 1.2089, 13: 1.352, 15: 0.301, 18: 0.9097, 19: 0.5045})),\n",
       " Row(features=SparseVector(20, {0: 0.8398, 3: 0.4143, 8: 0.6521, 12: 0.3454, 13: 0.5408, 14: 1.1185, 15: 0.602, 16: 0.7409, 18: 0.3032, 19: 0.5045})),\n",
       " Row(features=SparseVector(20, {0: 2.0995, 1: 1.2567, 3: 1.6573, 4: 3.4882, 5: 4.1647, 6: 3.1276, 7: 0.6951, 8: 1.9564, 9: 1.1055, 10: 4.8488, 11: 1.0913, 12: 1.2089, 13: 1.8928, 14: 1.4914, 15: 1.8059, 16: 0.3704, 17: 2.3464, 18: 3.6389, 19: 4.0361}))]"
      ]
     },
     "execution_count": 100,
     "metadata": {},
     "output_type": "execute_result"
    }
   ],
   "source": [
    "rescaledData.select('features').take(5)"
   ]
  },
  {
   "cell_type": "code",
   "execution_count": 29,
   "id": "327a84b7",
   "metadata": {},
   "outputs": [
    {
     "name": "stderr",
     "output_type": "stream",
     "text": [
      "[Stage 5:>                                                          (0 + 1) / 1]\r"
     ]
    }
   ],
   "source": [
    "word2Vec = Word2Vec(vectorSize=100, seed=42, inputCol=\"content\", outputCol=\"features\")\n",
    "word2Vec.setMaxIter(5)\n",
    "model = word2Vec.fit(datasetAll)\n",
    "\n",
    "res = model.transform(datasetAll)"
   ]
  },
  {
   "cell_type": "code",
   "execution_count": 31,
   "id": "251270d2",
   "metadata": {},
   "outputs": [
    {
     "name": "stderr",
     "output_type": "stream",
     "text": [
      "22/11/03 17:02:16 WARN TaskSetManager: Lost task 0.0 in stage 5.0 (TID 68, 172.20.0.12, executor 1): TaskKilled (Stage cancelled)\n",
      "                                                                                \r"
     ]
    },
    {
     "name": "stdout",
     "output_type": "stream",
     "text": [
      "+-----+-----+\n",
      "|label|count|\n",
      "+-----+-----+\n",
      "|    1| 1000|\n",
      "|    2| 1000|\n",
      "|    0| 1000|\n",
      "+-----+-----+\n",
      "\n"
     ]
    },
    {
     "name": "stderr",
     "output_type": "stream",
     "text": [
      "                                                                                \r"
     ]
    }
   ],
   "source": [
    "res.groupby('label').count().show()"
   ]
  },
  {
   "cell_type": "code",
   "execution_count": 36,
   "id": "fb7d66e2",
   "metadata": {},
   "outputs": [],
   "source": [
    "import numpy as np"
   ]
  },
  {
   "cell_type": "code",
   "execution_count": 38,
   "id": "ffd93ecd",
   "metadata": {},
   "outputs": [
    {
     "name": "stderr",
     "output_type": "stream",
     "text": [
      "Exception in thread \"serve-DataFrame\" java.net.SocketTimeoutException: Accept timed out\n",
      "\tat java.net.PlainSocketImpl.socketAccept(Native Method)\n",
      "\tat java.net.AbstractPlainSocketImpl.accept(AbstractPlainSocketImpl.java:409)\n",
      "\tat java.net.ServerSocket.implAccept(ServerSocket.java:560)\n",
      "\tat java.net.ServerSocket.accept(ServerSocket.java:528)\n",
      "\tat org.apache.spark.security.SocketAuthServer$$anon$1.run(SocketAuthServer.scala:58)\n",
      "                                                                                \r"
     ]
    }
   ],
   "source": [
    "arr = np.array(res.select('features').collect())"
   ]
  },
  {
   "cell_type": "code",
   "execution_count": 39,
   "id": "23a0f63e",
   "metadata": {},
   "outputs": [
    {
     "name": "stderr",
     "output_type": "stream",
     "text": [
      "                                                                                \r"
     ]
    }
   ],
   "source": [
    "label = np.array(res.select('label').collect())"
   ]
  },
  {
   "cell_type": "code",
   "execution_count": 54,
   "id": "d2509663",
   "metadata": {},
   "outputs": [],
   "source": [
    "from sklearn.metrics.pairwise import cosine_similarity\n",
    "from sklearn.decomposition import PCA"
   ]
  },
  {
   "cell_type": "code",
   "execution_count": 48,
   "id": "2d6b2d8b",
   "metadata": {},
   "outputs": [],
   "source": [
    "arr = arr.reshape(3000,100)"
   ]
  },
  {
   "cell_type": "code",
   "execution_count": 50,
   "id": "5af2d8c5",
   "metadata": {},
   "outputs": [
    {
     "data": {
      "text/plain": [
       "array([[0],\n",
       "       [0],\n",
       "       [0],\n",
       "       ...,\n",
       "       [2],\n",
       "       [2],\n",
       "       [2]])"
      ]
     },
     "execution_count": 50,
     "metadata": {},
     "output_type": "execute_result"
    }
   ],
   "source": [
    "label"
   ]
  },
  {
   "cell_type": "code",
   "execution_count": 61,
   "id": "54d5b2ec",
   "metadata": {},
   "outputs": [],
   "source": [
    "matrix = cosine_similarity(arr)"
   ]
  },
  {
   "cell_type": "code",
   "execution_count": 34,
   "id": "19b3234c",
   "metadata": {},
   "outputs": [],
   "source": [
    "import matplotlib.pyplot as plt\n",
    "import seaborn as sns"
   ]
  },
  {
   "cell_type": "code",
   "execution_count": 63,
   "id": "35199376",
   "metadata": {},
   "outputs": [],
   "source": [
    "pca = PCA()\n",
    "pca.fit(arr)\n",
    "pca_samples = pca.transform(arr)"
   ]
  },
  {
   "cell_type": "code",
   "execution_count": 68,
   "id": "11209629",
   "metadata": {},
   "outputs": [],
   "source": [
    "matrix = arr"
   ]
  },
  {
   "cell_type": "code",
   "execution_count": 69,
   "id": "548d3b0c",
   "metadata": {},
   "outputs": [
    {
     "ename": "TypeError",
     "evalue": "barplot() takes from 0 to 1 positional arguments but 2 positional arguments (and 1 keyword-only argument) were given",
     "output_type": "error",
     "traceback": [
      "\u001b[0;31m---------------------------------------------------------------------------\u001b[0m",
      "\u001b[0;31mTypeError\u001b[0m                                 Traceback (most recent call last)",
      "Cell \u001b[0;32mIn [69], line 5\u001b[0m\n\u001b[1;32m      2\u001b[0m sns\u001b[38;5;241m.\u001b[39mset(font_scale\u001b[38;5;241m=\u001b[39m\u001b[38;5;241m1\u001b[39m)\n\u001b[1;32m      3\u001b[0m plt\u001b[38;5;241m.\u001b[39mstep(\u001b[38;5;28mrange\u001b[39m(matrix\u001b[38;5;241m.\u001b[39mshape[\u001b[38;5;241m1\u001b[39m]), pca\u001b[38;5;241m.\u001b[39mexplained_variance_ratio_\u001b[38;5;241m.\u001b[39mcumsum(), where\u001b[38;5;241m=\u001b[39m\u001b[38;5;124m'\u001b[39m\u001b[38;5;124mmid\u001b[39m\u001b[38;5;124m'\u001b[39m,\n\u001b[1;32m      4\u001b[0m          label\u001b[38;5;241m=\u001b[39m\u001b[38;5;124m'\u001b[39m\u001b[38;5;124mcumulative explained variance\u001b[39m\u001b[38;5;124m'\u001b[39m)\n\u001b[0;32m----> 5\u001b[0m \u001b[43msns\u001b[49m\u001b[38;5;241;43m.\u001b[39;49m\u001b[43mbarplot\u001b[49m\u001b[43m(\u001b[49m\u001b[43mnp\u001b[49m\u001b[38;5;241;43m.\u001b[39;49m\u001b[43marange\u001b[49m\u001b[43m(\u001b[49m\u001b[38;5;241;43m1\u001b[39;49m\u001b[43m,\u001b[49m\u001b[43mmatrix\u001b[49m\u001b[38;5;241;43m.\u001b[39;49m\u001b[43mshape\u001b[49m\u001b[43m[\u001b[49m\u001b[38;5;241;43m1\u001b[39;49m\u001b[43m]\u001b[49m\u001b[38;5;241;43m+\u001b[39;49m\u001b[38;5;241;43m1\u001b[39;49m\u001b[43m)\u001b[49m\u001b[43m,\u001b[49m\u001b[43m \u001b[49m\u001b[43mpca\u001b[49m\u001b[38;5;241;43m.\u001b[39;49m\u001b[43mexplained_variance_ratio_\u001b[49m\u001b[43m,\u001b[49m\u001b[43m \u001b[49m\u001b[43malpha\u001b[49m\u001b[38;5;241;43m=\u001b[39;49m\u001b[38;5;241;43m0.5\u001b[39;49m\u001b[43m,\u001b[49m\u001b[43m \u001b[49m\u001b[43mcolor\u001b[49m\u001b[43m \u001b[49m\u001b[38;5;241;43m=\u001b[39;49m\u001b[43m \u001b[49m\u001b[38;5;124;43m'\u001b[39;49m\u001b[38;5;124;43mg\u001b[39;49m\u001b[38;5;124;43m'\u001b[39;49m\u001b[43m,\u001b[49m\n\u001b[1;32m      6\u001b[0m \u001b[43m            \u001b[49m\u001b[43mlabel\u001b[49m\u001b[38;5;241;43m=\u001b[39;49m\u001b[38;5;124;43m'\u001b[39;49m\u001b[38;5;124;43mindividual explained variance\u001b[39;49m\u001b[38;5;124;43m'\u001b[39;49m\u001b[43m)\u001b[49m\n\u001b[1;32m      7\u001b[0m plt\u001b[38;5;241m.\u001b[39mxlim(\u001b[38;5;241m0\u001b[39m, \u001b[38;5;241m100\u001b[39m)\n\u001b[1;32m      9\u001b[0m ax\u001b[38;5;241m.\u001b[39mset_xticklabels([s \u001b[38;5;28;01mif\u001b[39;00m \u001b[38;5;28mint\u001b[39m(s\u001b[38;5;241m.\u001b[39mget_text())\u001b[38;5;241m%\u001b[39m\u001b[38;5;241m2\u001b[39m \u001b[38;5;241m==\u001b[39m \u001b[38;5;241m0\u001b[39m \u001b[38;5;28;01melse\u001b[39;00m \u001b[38;5;124m'\u001b[39m\u001b[38;5;124m'\u001b[39m \u001b[38;5;28;01mfor\u001b[39;00m s \u001b[38;5;129;01min\u001b[39;00m ax\u001b[38;5;241m.\u001b[39mget_xticklabels()])\n",
      "\u001b[0;31mTypeError\u001b[0m: barplot() takes from 0 to 1 positional arguments but 2 positional arguments (and 1 keyword-only argument) were given"
     ]
    },
    {
     "data": {
      "image/png": "[encoded data removed]",
      "text/plain": [
       "<Figure size 1400x500 with 1 Axes>"
      ]
     },
     "metadata": {},
     "output_type": "display_data"
    }
   ],
   "source": [
    "fig, ax = plt.subplots(figsize=(14, 5))\n",
    "sns.set(font_scale=1)\n",
    "plt.step(range(matrix.shape[1]), pca.explained_variance_ratio_.cumsum(), where='mid',\n",
    "         label='cumulative explained variance')\n",
    "sns.barplot(np.arange(1,matrix.shape[1]+1), pca.explained_variance_ratio_, alpha=0.5, color = 'g',\n",
    "            label='individual explained variance')\n",
    "plt.xlim(0, 100)\n",
    "\n",
    "ax.set_xticklabels([s if int(s.get_text())%2 == 0 else '' for s in ax.get_xticklabels()])\n",
    "\n",
    "plt.ylabel('Explained variance', fontsize = 14)\n",
    "plt.xlabel('Principal components', fontsize = 14)\n",
    "plt.legend(loc='upper left', fontsize = 13);"
   ]
  },
  {
   "cell_type": "code",
   "execution_count": 71,
   "id": "7924fe94",
   "metadata": {},
   "outputs": [],
   "source": [
    "import pandas as pd"
   ]
  },
  {
   "cell_type": "code",
   "execution_count": 74,
   "id": "7454c7c5",
   "metadata": {},
   "outputs": [
    {
     "data": {
      "text/plain": [
       "(3000, 1)"
      ]
     },
     "execution_count": 74,
     "metadata": {},
     "output_type": "execute_result"
    }
   ],
   "source": [
    "label.shape"
   ]
  },
  {
   "cell_type": "code",
   "execution_count": 75,
   "id": "d724534f",
   "metadata": {},
   "outputs": [],
   "source": [
    "label= label.reshape(-1)"
   ]
  },
  {
   "cell_type": "code",
   "execution_count": 76,
   "id": "7b8a50ec",
   "metadata": {},
   "outputs": [],
   "source": [
    "pca = PCA(n_components=25)\n",
    "\n",
    "matrix_9D = pca.fit_transform(matrix)\n",
    "mat = pd.DataFrame(matrix_9D)\n",
    "mat['cluster'] = pd.Series(label)"
   ]
  },
  {
   "cell_type": "code",
   "execution_count": 81,
   "id": "719d12a3",
   "metadata": {},
   "outputs": [
    {
     "data": {
      "text/html": [
       "<div>\n",
       "<style scoped>\n",
       "    .dataframe tbody tr th:only-of-type {\n",
       "        vertical-align: middle;\n",
       "    }\n",
       "\n",
       "    .dataframe tbody tr th {\n",
       "        vertical-align: top;\n",
       "    }\n",
       "\n",
       "    .dataframe thead th {\n",
       "        text-align: right;\n",
       "    }\n",
       "</style>\n",
       "<table border=\"1\" class=\"dataframe\">\n",
       "  <thead>\n",
       "    <tr style=\"text-align: right;\">\n",
       "      <th></th>\n",
       "      <th>0</th>\n",
       "      <th>1</th>\n",
       "      <th>2</th>\n",
       "      <th>3</th>\n",
       "      <th>4</th>\n",
       "      <th>5</th>\n",
       "      <th>6</th>\n",
       "      <th>7</th>\n",
       "      <th>8</th>\n",
       "      <th>9</th>\n",
       "      <th>...</th>\n",
       "      <th>16</th>\n",
       "      <th>17</th>\n",
       "      <th>18</th>\n",
       "      <th>19</th>\n",
       "      <th>20</th>\n",
       "      <th>21</th>\n",
       "      <th>22</th>\n",
       "      <th>23</th>\n",
       "      <th>24</th>\n",
       "      <th>cluster</th>\n",
       "    </tr>\n",
       "  </thead>\n",
       "  <tbody>\n",
       "    <tr>\n",
       "      <th>0</th>\n",
       "      <td>-0.388450</td>\n",
       "      <td>-0.122346</td>\n",
       "      <td>0.053493</td>\n",
       "      <td>-0.022811</td>\n",
       "      <td>-0.065821</td>\n",
       "      <td>-0.075277</td>\n",
       "      <td>-0.034579</td>\n",
       "      <td>0.065156</td>\n",
       "      <td>-0.017903</td>\n",
       "      <td>-0.061066</td>\n",
       "      <td>...</td>\n",
       "      <td>0.015360</td>\n",
       "      <td>0.037669</td>\n",
       "      <td>-0.018194</td>\n",
       "      <td>-0.079678</td>\n",
       "      <td>-0.142789</td>\n",
       "      <td>0.015903</td>\n",
       "      <td>0.053995</td>\n",
       "      <td>-0.016090</td>\n",
       "      <td>-0.019614</td>\n",
       "      <td>0</td>\n",
       "    </tr>\n",
       "    <tr>\n",
       "      <th>1</th>\n",
       "      <td>-0.288823</td>\n",
       "      <td>0.121006</td>\n",
       "      <td>0.084765</td>\n",
       "      <td>0.142700</td>\n",
       "      <td>-0.442822</td>\n",
       "      <td>0.497069</td>\n",
       "      <td>0.187506</td>\n",
       "      <td>0.265648</td>\n",
       "      <td>-0.115171</td>\n",
       "      <td>-0.253648</td>\n",
       "      <td>...</td>\n",
       "      <td>-0.157021</td>\n",
       "      <td>0.116678</td>\n",
       "      <td>-0.034308</td>\n",
       "      <td>-0.100250</td>\n",
       "      <td>-0.023080</td>\n",
       "      <td>-0.328351</td>\n",
       "      <td>0.144501</td>\n",
       "      <td>-0.147166</td>\n",
       "      <td>-0.243157</td>\n",
       "      <td>0</td>\n",
       "    </tr>\n",
       "    <tr>\n",
       "      <th>2</th>\n",
       "      <td>-0.362852</td>\n",
       "      <td>0.169387</td>\n",
       "      <td>0.176595</td>\n",
       "      <td>-0.180389</td>\n",
       "      <td>-0.218464</td>\n",
       "      <td>-0.058302</td>\n",
       "      <td>-0.070605</td>\n",
       "      <td>0.016777</td>\n",
       "      <td>-0.013787</td>\n",
       "      <td>0.064006</td>\n",
       "      <td>...</td>\n",
       "      <td>0.012765</td>\n",
       "      <td>0.011696</td>\n",
       "      <td>-0.151548</td>\n",
       "      <td>-0.211200</td>\n",
       "      <td>0.056145</td>\n",
       "      <td>-0.012926</td>\n",
       "      <td>0.041497</td>\n",
       "      <td>0.051856</td>\n",
       "      <td>0.163777</td>\n",
       "      <td>0</td>\n",
       "    </tr>\n",
       "    <tr>\n",
       "      <th>3</th>\n",
       "      <td>-0.173589</td>\n",
       "      <td>0.077224</td>\n",
       "      <td>0.025845</td>\n",
       "      <td>0.112257</td>\n",
       "      <td>-0.073783</td>\n",
       "      <td>0.186143</td>\n",
       "      <td>0.015452</td>\n",
       "      <td>0.058257</td>\n",
       "      <td>0.141389</td>\n",
       "      <td>-0.039720</td>\n",
       "      <td>...</td>\n",
       "      <td>-0.052034</td>\n",
       "      <td>0.248283</td>\n",
       "      <td>-0.141029</td>\n",
       "      <td>-0.105314</td>\n",
       "      <td>-0.081488</td>\n",
       "      <td>0.080042</td>\n",
       "      <td>0.123647</td>\n",
       "      <td>-0.064289</td>\n",
       "      <td>-0.139068</td>\n",
       "      <td>0</td>\n",
       "    </tr>\n",
       "    <tr>\n",
       "      <th>4</th>\n",
       "      <td>-0.249168</td>\n",
       "      <td>-0.057439</td>\n",
       "      <td>0.099079</td>\n",
       "      <td>0.070891</td>\n",
       "      <td>-0.140830</td>\n",
       "      <td>0.041971</td>\n",
       "      <td>0.022034</td>\n",
       "      <td>-0.036977</td>\n",
       "      <td>0.101641</td>\n",
       "      <td>0.030531</td>\n",
       "      <td>...</td>\n",
       "      <td>-0.021020</td>\n",
       "      <td>-0.015303</td>\n",
       "      <td>0.012140</td>\n",
       "      <td>-0.005413</td>\n",
       "      <td>0.007488</td>\n",
       "      <td>-0.013113</td>\n",
       "      <td>0.012975</td>\n",
       "      <td>0.100096</td>\n",
       "      <td>0.090431</td>\n",
       "      <td>0</td>\n",
       "    </tr>\n",
       "    <tr>\n",
       "      <th>...</th>\n",
       "      <td>...</td>\n",
       "      <td>...</td>\n",
       "      <td>...</td>\n",
       "      <td>...</td>\n",
       "      <td>...</td>\n",
       "      <td>...</td>\n",
       "      <td>...</td>\n",
       "      <td>...</td>\n",
       "      <td>...</td>\n",
       "      <td>...</td>\n",
       "      <td>...</td>\n",
       "      <td>...</td>\n",
       "      <td>...</td>\n",
       "      <td>...</td>\n",
       "      <td>...</td>\n",
       "      <td>...</td>\n",
       "      <td>...</td>\n",
       "      <td>...</td>\n",
       "      <td>...</td>\n",
       "      <td>...</td>\n",
       "      <td>...</td>\n",
       "    </tr>\n",
       "    <tr>\n",
       "      <th>2995</th>\n",
       "      <td>-0.408387</td>\n",
       "      <td>0.028667</td>\n",
       "      <td>-0.297150</td>\n",
       "      <td>-0.019318</td>\n",
       "      <td>0.032702</td>\n",
       "      <td>0.135601</td>\n",
       "      <td>0.208418</td>\n",
       "      <td>-0.199706</td>\n",
       "      <td>0.305718</td>\n",
       "      <td>-0.062529</td>\n",
       "      <td>...</td>\n",
       "      <td>0.083849</td>\n",
       "      <td>-0.282023</td>\n",
       "      <td>-0.202033</td>\n",
       "      <td>0.140491</td>\n",
       "      <td>0.380006</td>\n",
       "      <td>-0.180374</td>\n",
       "      <td>0.093834</td>\n",
       "      <td>0.099929</td>\n",
       "      <td>-0.161045</td>\n",
       "      <td>2</td>\n",
       "    </tr>\n",
       "    <tr>\n",
       "      <th>2996</th>\n",
       "      <td>-0.201618</td>\n",
       "      <td>-0.067507</td>\n",
       "      <td>0.071069</td>\n",
       "      <td>0.099468</td>\n",
       "      <td>-0.249712</td>\n",
       "      <td>-0.035515</td>\n",
       "      <td>0.017083</td>\n",
       "      <td>0.082034</td>\n",
       "      <td>-0.113705</td>\n",
       "      <td>0.218120</td>\n",
       "      <td>...</td>\n",
       "      <td>0.051525</td>\n",
       "      <td>0.043295</td>\n",
       "      <td>0.073432</td>\n",
       "      <td>0.109763</td>\n",
       "      <td>-0.011063</td>\n",
       "      <td>-0.014316</td>\n",
       "      <td>-0.010617</td>\n",
       "      <td>-0.221544</td>\n",
       "      <td>-0.244015</td>\n",
       "      <td>2</td>\n",
       "    </tr>\n",
       "    <tr>\n",
       "      <th>2997</th>\n",
       "      <td>-0.209909</td>\n",
       "      <td>-0.086263</td>\n",
       "      <td>0.066137</td>\n",
       "      <td>0.176862</td>\n",
       "      <td>-0.080505</td>\n",
       "      <td>0.122891</td>\n",
       "      <td>-0.010943</td>\n",
       "      <td>0.050592</td>\n",
       "      <td>0.075067</td>\n",
       "      <td>-0.051704</td>\n",
       "      <td>...</td>\n",
       "      <td>0.093897</td>\n",
       "      <td>-0.040139</td>\n",
       "      <td>-0.151805</td>\n",
       "      <td>-0.036931</td>\n",
       "      <td>0.167713</td>\n",
       "      <td>-0.066171</td>\n",
       "      <td>0.184438</td>\n",
       "      <td>-0.076768</td>\n",
       "      <td>0.040875</td>\n",
       "      <td>2</td>\n",
       "    </tr>\n",
       "    <tr>\n",
       "      <th>2998</th>\n",
       "      <td>-0.298074</td>\n",
       "      <td>-0.071333</td>\n",
       "      <td>-0.052765</td>\n",
       "      <td>0.012173</td>\n",
       "      <td>-0.067715</td>\n",
       "      <td>-0.143194</td>\n",
       "      <td>-0.025040</td>\n",
       "      <td>0.045942</td>\n",
       "      <td>-0.017971</td>\n",
       "      <td>-0.138151</td>\n",
       "      <td>...</td>\n",
       "      <td>0.018877</td>\n",
       "      <td>-0.020298</td>\n",
       "      <td>-0.170907</td>\n",
       "      <td>-0.019668</td>\n",
       "      <td>-0.011840</td>\n",
       "      <td>0.190862</td>\n",
       "      <td>-0.090215</td>\n",
       "      <td>-0.006907</td>\n",
       "      <td>0.047988</td>\n",
       "      <td>2</td>\n",
       "    </tr>\n",
       "    <tr>\n",
       "      <th>2999</th>\n",
       "      <td>-0.280926</td>\n",
       "      <td>-0.122472</td>\n",
       "      <td>0.129348</td>\n",
       "      <td>0.098555</td>\n",
       "      <td>0.015720</td>\n",
       "      <td>-0.141635</td>\n",
       "      <td>-0.032872</td>\n",
       "      <td>0.093571</td>\n",
       "      <td>-0.002207</td>\n",
       "      <td>0.033279</td>\n",
       "      <td>...</td>\n",
       "      <td>0.151924</td>\n",
       "      <td>-0.111619</td>\n",
       "      <td>-0.210384</td>\n",
       "      <td>0.004569</td>\n",
       "      <td>0.175342</td>\n",
       "      <td>-0.071191</td>\n",
       "      <td>0.085877</td>\n",
       "      <td>-0.080251</td>\n",
       "      <td>0.112321</td>\n",
       "      <td>2</td>\n",
       "    </tr>\n",
       "  </tbody>\n",
       "</table>\n",
       "<p>3000 rows × 26 columns</p>\n",
       "</div>"
      ],
      "text/plain": [
       "             0         1         2         3         4         5         6  \\\n",
       "0    -0.388450 -0.122346  0.053493 -0.022811 -0.065821 -0.075277 -0.034579   \n",
       "1    -0.288823  0.121006  0.084765  0.142700 -0.442822  0.497069  0.187506   \n",
       "2    -0.362852  0.169387  0.176595 -0.180389 -0.218464 -0.058302 -0.070605   \n",
       "3    -0.173589  0.077224  0.025845  0.112257 -0.073783  0.186143  0.015452   \n",
       "4    -0.249168 -0.057439  0.099079  0.070891 -0.140830  0.041971  0.022034   \n",
       "...        ...       ...       ...       ...       ...       ...       ...   \n",
       "2995 -0.408387  0.028667 -0.297150 -0.019318  0.032702  0.135601  0.208418   \n",
       "2996 -0.201618 -0.067507  0.071069  0.099468 -0.249712 -0.035515  0.017083   \n",
       "2997 -0.209909 -0.086263  0.066137  0.176862 -0.080505  0.122891 -0.010943   \n",
       "2998 -0.298074 -0.071333 -0.052765  0.012173 -0.067715 -0.143194 -0.025040   \n",
       "2999 -0.280926 -0.122472  0.129348  0.098555  0.015720 -0.141635 -0.032872   \n",
       "\n",
       "             7         8         9  ...        16        17        18  \\\n",
       "0     0.065156 -0.017903 -0.061066  ...  0.015360  0.037669 -0.018194   \n",
       "1     0.265648 -0.115171 -0.253648  ... -0.157021  0.116678 -0.034308   \n",
       "2     0.016777 -0.013787  0.064006  ...  0.012765  0.011696 -0.151548   \n",
       "3     0.058257  0.141389 -0.039720  ... -0.052034  0.248283 -0.141029   \n",
       "4    -0.036977  0.101641  0.030531  ... -0.021020 -0.015303  0.012140   \n",
       "...        ...       ...       ...  ...       ...       ...       ...   \n",
       "2995 -0.199706  0.305718 -0.062529  ...  0.083849 -0.282023 -0.202033   \n",
       "2996  0.082034 -0.113705  0.218120  ...  0.051525  0.043295  0.073432   \n",
       "2997  0.050592  0.075067 -0.051704  ...  0.093897 -0.040139 -0.151805   \n",
       "2998  0.045942 -0.017971 -0.138151  ...  0.018877 -0.020298 -0.170907   \n",
       "2999  0.093571 -0.002207  0.033279  ...  0.151924 -0.111619 -0.210384   \n",
       "\n",
       "            19        20        21        22        23        24  cluster  \n",
       "0    -0.079678 -0.142789  0.015903  0.053995 -0.016090 -0.019614        0  \n",
       "1    -0.100250 -0.023080 -0.328351  0.144501 -0.147166 -0.243157        0  \n",
       "2    -0.211200  0.056145 -0.012926  0.041497  0.051856  0.163777        0  \n",
       "3    -0.105314 -0.081488  0.080042  0.123647 -0.064289 -0.139068        0  \n",
       "4    -0.005413  0.007488 -0.013113  0.012975  0.100096  0.090431        0  \n",
       "...        ...       ...       ...       ...       ...       ...      ...  \n",
       "2995  0.140491  0.380006 -0.180374  0.093834  0.099929 -0.161045        2  \n",
       "2996  0.109763 -0.011063 -0.014316 -0.010617 -0.221544 -0.244015        2  \n",
       "2997 -0.036931  0.167713 -0.066171  0.184438 -0.076768  0.040875        2  \n",
       "2998 -0.019668 -0.011840  0.190862 -0.090215 -0.006907  0.047988        2  \n",
       "2999  0.004569  0.175342 -0.071191  0.085877 -0.080251  0.112321        2  \n",
       "\n",
       "[3000 rows x 26 columns]"
      ]
     },
     "execution_count": 81,
     "metadata": {},
     "output_type": "execute_result"
    }
   ],
   "source": [
    "mat"
   ]
  },
  {
   "cell_type": "code",
   "execution_count": 35,
   "id": "f1d78eb6",
   "metadata": {},
   "outputs": [
    {
     "name": "stdout",
     "output_type": "stream",
     "text": [
      "1 0 1\n",
      "2 0 2\n",
      "3 0 3\n",
      "4 0 4\n",
      "5 0 5\n",
      "6 1 2\n",
      "7 1 3\n",
      "8 1 4\n",
      "9 1 5\n",
      "10 2 3\n",
      "11 2 4\n",
      "12 2 5\n",
      "13 3 4\n",
      "14 3 5\n",
      "15 4 5\n"
     ]
    },
    {
     "data": {
      "image/png": "[encoded data removed]",
      "text/plain": [
       "<Figure size 1500x800 with 15 Axes>"
      ]
     },
     "metadata": {},
     "output_type": "display_data"
    }
   ],
   "source": [
    "import matplotlib.patches as mpatches\n",
    "\n",
    "sns.set_style(\"white\")\n",
    "sns.set_context(\"notebook\", font_scale=1, rc={\"lines.linewidth\": 2.5})\n",
    "\n",
    "LABEL_COLOR_MAP = {0:'r', 1:'gold', 2:'b', 3:'k', 4:'c', 5:'g'}\n",
    "label_color = [LABEL_COLOR_MAP[l] for l in mat['cluster']]\n",
    "\n",
    "fig = plt.figure(figsize = (15,8))\n",
    "increment = 0\n",
    "for ix in range(10):\n",
    "    for iy in range(ix+1, 6):    \n",
    "        increment += 1\n",
    "        ax = fig.add_subplot(10,3,increment)\n",
    "        ax.scatter(mat[ix], mat[iy], c= label_color, alpha=0.4) \n",
    "        plt.ylabel('PCA {}'.format(iy+1), fontsize = 12)\n",
    "        plt.xlabel('PCA {}'.format(ix+1), fontsize = 12)\n",
    "        ax.yaxis.grid(color='lightgray', linestyle=':')\n",
    "        ax.xaxis.grid(color='lightgray', linestyle=':')\n",
    "        ax.spines['right'].set_visible(False)\n",
    "        ax.spines['top'].set_visible(False)\n",
    "        print(increment,ix,iy)\n",
    "        \n",
    "#         if increment == 15: break\n",
    "#     if increment == 15: break\n",
    "        \n",
    "#_______________________________________________\n",
    "# I set the legend: abreviation -> airline name\n",
    "comp_handler = []\n",
    "for i in range(3):\n",
    "    comp_handler.append(mpatches.Patch(color = LABEL_COLOR_MAP[i], label = i))\n",
    "\n",
    "plt.legend(handles=comp_handler, bbox_to_anchor=(1.1, 0.97), \n",
    "           title='Cluster', facecolor = 'lightgrey',\n",
    "           shadow = True, frameon = True, framealpha = 1,\n",
    "           fontsize = 13, bbox_transform = plt.gcf().transFigure)\n",
    "\n",
    "plt.show()"
   ]
  },
  {
   "cell_type": "code",
   "execution_count": 101,
   "id": "25634374",
   "metadata": {},
   "outputs": [
    {
     "name": "stdout",
     "output_type": "stream",
     "text": [
      "root\n",
      " |-- content: array (nullable = true)\n",
      " |    |-- element: string (containsNull = true)\n",
      " |-- label: integer (nullable = true)\n",
      "\n"
     ]
    }
   ],
   "source": [
    "datasetAll.printSchema()"
   ]
  },
  {
   "cell_type": "code",
   "execution_count": 103,
   "id": "2d9c8f07",
   "metadata": {},
   "outputs": [
    {
     "name": "stdout",
     "output_type": "stream",
     "text": [
      "Collecting plotly\n",
      "  Downloading plotly-5.11.0-py2.py3-none-any.whl (15.3 MB)\n",
      "\u001b[2K     \u001b[90m━━━━━━━━━━━━━━━━━━━━━━━━━━━━━━━━━━━━━━━━\u001b[0m \u001b[32m15.3/15.3 MB\u001b[0m \u001b[31m11.0 MB/s\u001b[0m eta \u001b[36m0:00:00\u001b[0m00:01\u001b[0m00:01\u001b[0m\n",
      "\u001b[?25hCollecting tenacity>=6.2.0\n",
      "  Downloading tenacity-8.1.0-py3-none-any.whl (23 kB)\n",
      "Installing collected packages: tenacity, plotly\n",
      "Successfully installed plotly-5.11.0 tenacity-8.1.0\n",
      "\u001b[33mWARNING: Running pip as the 'root' user can result in broken permissions and conflicting behaviour with the system package manager. It is recommended to use a virtual environment instead: https://pip.pypa.io/warnings/venv\u001b[0m\u001b[33m\n",
      "\u001b[0m"
     ]
    }
   ],
   "source": [
    "!pip install plotly"
   ]
  },
  {
   "cell_type": "code",
   "execution_count": 104,
   "id": "8d59c9ad",
   "metadata": {},
   "outputs": [],
   "source": [
    "import plotly.express as px"
   ]
  },
  {
   "cell_type": "code",
   "execution_count": 110,
   "id": "24099166",
   "metadata": {},
   "outputs": [],
   "source": [
    "mat.to_csv('test.csv')"
   ]
  },
  {
   "cell_type": "code",
   "execution_count": 10,
   "id": "4d3a5ec5",
   "metadata": {},
   "outputs": [
    {
     "name": "stdout",
     "output_type": "stream",
     "text": [
      "root\n",
      " |-- id: string (nullable = true)\n",
      " |-- title: string (nullable = true)\n",
      " |-- thank_count: string (nullable = true)\n",
      " |-- content: string (nullable = true)\n",
      " |-- rating: integer (nullable = true)\n",
      " |-- spid: integer (nullable = true)\n",
      " |-- product_id: integer (nullable = true)\n",
      " |-- created_by: map (nullable = true)\n",
      " |    |-- key: string\n",
      " |    |-- value: string (valueContainsNull = true)\n",
      " |-- seller: map (nullable = true)\n",
      " |    |-- key: string\n",
      " |    |-- value: string (valueContainsNull = true)\n",
      " |-- timeline: map (nullable = true)\n",
      " |    |-- key: string\n",
      " |    |-- value: string (valueContainsNull = true)\n",
      "\n"
     ]
    }
   ],
   "source": [
    "df.select(ex)"
   ]
  },
  {
   "cell_type": "code",
   "execution_count": null,
   "id": "f1e05be2",
   "metadata": {},
   "outputs": [],
   "source": []
  }
 ],
 "metadata": {
  "kernelspec": {
   "display_name": "Python 3 (ipykernel)",
   "language": "python",
   "name": "python3"
  },
  "language_info": {
   "codemirror_mode": {
    "name": "ipython",
    "version": 3
   },
   "file_extension": ".py",
   "mimetype": "text/x-python",
   "name": "python",
   "nbconvert_exporter": "python",
   "pygments_lexer": "ipython3",
   "version": "3.9.2"
  }
 },
 "nbformat": 4,
 "nbformat_minor": 5
}
