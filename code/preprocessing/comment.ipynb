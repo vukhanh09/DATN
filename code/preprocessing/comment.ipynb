{
 "cells": [
  {
   "cell_type": "code",
   "execution_count": 1,
   "id": "d98c4a55",
   "metadata": {},
   "outputs": [],
   "source": [
    "from json import loads\n",
    "from pyspark.sql import SparkSession\n",
    "import warnings\n",
    "warnings.filterwarnings(\"ignore\")\n",
    "from pyspark.sql.functions import col,from_json,udf\n",
    "from pyspark.sql.types import StructType,StructField, StringType, IntegerType,MapType,FloatType,ArrayType"
   ]
  },
  {
   "cell_type": "code",
   "execution_count": 2,
   "id": "72fbea61",
   "metadata": {},
   "outputs": [
    {
     "name": "stderr",
     "output_type": "stream",
     "text": [
      "22/11/20 16:29:57 WARN NativeCodeLoader: Unable to load native-hadoop library for your platform... using builtin-java classes where applicable\n",
      "Using Spark's default log4j profile: org/apache/spark/log4j-defaults.properties\n",
      "Setting default log level to \"WARN\".\n",
      "To adjust logging level use sc.setLogLevel(newLevel). For SparkR, use setLogLevel(newLevel).\n"
     ]
    }
   ],
   "source": [
    "spark = SparkSession.\\\n",
    "        builder.\\\n",
    "        appName(\"process-data\").\\\n",
    "        master(\"spark://spark-master:7077\").\\\n",
    "        config(\"spark.executor.memory\", \"1024m\").\\\n",
    "        getOrCreate()"
   ]
  },
  {
   "cell_type": "code",
   "execution_count": 3,
   "id": "75497efe",
   "metadata": {},
   "outputs": [
    {
     "name": "stderr",
     "output_type": "stream",
     "text": [
      "                                                                                \r"
     ]
    }
   ],
   "source": [
    "data = spark.read.parquet('hdfs://namenode:9000/tiki/Comment')"
   ]
  },
  {
   "cell_type": "code",
   "execution_count": 4,
   "id": "8e111463",
   "metadata": {},
   "outputs": [
    {
     "name": "stderr",
     "output_type": "stream",
     "text": [
      "                                                                                \r"
     ]
    }
   ],
   "source": [
    "sample_data = data.select('value').take(1)"
   ]
  },
  {
   "cell_type": "code",
   "execution_count": 5,
   "id": "61bcc1be",
   "metadata": {},
   "outputs": [],
   "source": [
    "sample_data = sample_data[0].value"
   ]
  },
  {
   "cell_type": "code",
   "execution_count": 6,
   "id": "3185c281",
   "metadata": {},
   "outputs": [],
   "source": [
    "data_sample = loads(sample_data)"
   ]
  },
  {
   "cell_type": "code",
   "execution_count": 7,
   "id": "407ebb78",
   "metadata": {},
   "outputs": [
    {
     "data": {
      "text/plain": [
       "{'id': 14930409,\n",
       " 'title': 'Bình thường',\n",
       " 'content': 'Self-help.                  .\\nTác giả viết sách nghiên cứu về các công ty có sự tăng trưởng đột phá. \\nJim Collins chỉ là người nghiên cứu viết sách. Không phải người trực tiếp làm và lãnh đạo cty. Có sự khác biệt ở đây\\nNhìn lại quá khứ và nói trên biểu đồ.\\nNói về đầu tư ngắn hạn thì có thể đầu tư cổ phiếu theo cách của tác giả J.C\\nCòn về đầu tư lâu dài. Những cty lớn như Coca, Microsoft, Apple vẫn là sự lựa chọn tốt hơn rất nhiều.',\n",
       " 'status': 'approved',\n",
       " 'thank_count': 1,\n",
       " 'score': 0.04241112,\n",
       " 'new_score': 0.13589765,\n",
       " 'customer_id': 16263933,\n",
       " 'comment_count': 0,\n",
       " 'rating': 3,\n",
       " 'images': [{'id': 3125219,\n",
       "   'full_path': 'https://salt.tikicdn.com/ts/review/bc/1c/2f/c7e9d477d1daf13c6051819a39721b1e.jpg',\n",
       "   'status': 'approved'},\n",
       "  {'id': 3125220,\n",
       "   'full_path': 'https://salt.tikicdn.com/ts/review/68/07/d8/ee200ff88550d5aeb78bce8e75ad460d.jpg',\n",
       "   'status': 'approved'}],\n",
       " 'thanked': False,\n",
       " 'created_at': 1644723970,\n",
       " 'created_by': {'id': 16263933,\n",
       "  'name': 'Công Sơn',\n",
       "  'full_name': 'Công Sơn',\n",
       "  'region': None,\n",
       "  'avatar_url': 'https://graph.facebook.com/v3.3/1972197939528467/picture?type=large&return_ssl_resources=1',\n",
       "  'created_time': '2020-02-04 22:56:27',\n",
       "  'group_id': 8,\n",
       "  'purchased': True,\n",
       "  'purchased_at': 1644127482,\n",
       "  'contribute_info': {'id': 16263933,\n",
       "   'name': 'Công Sơn',\n",
       "   'avatar': 'https://graph.facebook.com/v3.3/1972197939528467/picture?type=large&return_ssl_resources=1',\n",
       "   'summary': {'joined_time': 'Đã tham gia 3 năm',\n",
       "    'total_review': 17,\n",
       "    'total_thank': 1}}},\n",
       " 'suggestions': [],\n",
       " 'attributes': ['Mua từ nhà bán Tiki Trading'],\n",
       " 'product_attributes': [],\n",
       " 'spid': 88911710,\n",
       " 'is_photo': True,\n",
       " 'seller': {'id': 1,\n",
       "  'name': 'Tiki Trading',\n",
       "  'logo': 'https://vcdn.tikicdn.com/ts/seller/ee/fa/a0/98f3f134f85cff2c6972c31777629aa0.png'},\n",
       " 'product_id': 82912488,\n",
       " 'timeline': {'review_created_date': '2022-02-13 10:46:10',\n",
       "  'delivery_date': '2022-02-08 08:44:45',\n",
       "  'current_date': '2022-11-09 01:29:49',\n",
       "  'content': 'Đã dùng 5 ngày',\n",
       "  'explain': 'Khi viết đánh giá, khách hàng đã dùng sản phẩm 5 ngày.'},\n",
       " 'comments': [],\n",
       " 'vote_attributes': {'agree': [], 'disagree': []}}"
      ]
     },
     "execution_count": 7,
     "metadata": {},
     "output_type": "execute_result"
    }
   ],
   "source": [
    "data_sample"
   ]
  },
  {
   "cell_type": "code",
   "execution_count": 8,
   "id": "17358938",
   "metadata": {},
   "outputs": [],
   "source": [
    "schema = StructType([ \n",
    "    StructField(\"id\",IntegerType(),True), \n",
    "    StructField(\"content\",StringType(),True), \n",
    "    StructField(\"thank_count\",IntegerType(),True), \n",
    "    StructField(\"customer_id\",IntegerType(),True),\n",
    "    StructField(\"rating\",IntegerType(),True), \n",
    "    StructField(\"created_by\",MapType(StringType(),StringType()),True),\n",
    "    StructField(\"spid\",IntegerType(),True),\n",
    "    StructField(\"seller\",MapType(StringType(),StringType()),True),\n",
    "    StructField(\"timeline\",MapType(StringType(),StringType()),True),\n",
    "    StructField('product_id', IntegerType(),True),\n",
    "])"
   ]
  },
  {
   "cell_type": "code",
   "execution_count": 9,
   "id": "0424ec8e",
   "metadata": {},
   "outputs": [],
   "source": [
    "df = data.withColumn(\"jsonData\",from_json(col(\"value\"),schema)) \\\n",
    "                   .select(\"jsonData.*\")"
   ]
  },
  {
   "cell_type": "code",
   "execution_count": 10,
   "id": "d9ee6548",
   "metadata": {},
   "outputs": [],
   "source": [
    "df.createOrReplaceTempView('Comment')"
   ]
  },
  {
   "cell_type": "code",
   "execution_count": 11,
   "id": "8c0eae29",
   "metadata": {},
   "outputs": [],
   "source": [
    "import re\n",
    "# as per recommendation from @freylis, compile once only\n",
    "CLEANR = re.compile('<.*?>') \n",
    "def cleanText(str_raw):\n",
    "    # remove tags html\n",
    "    str_raw = re.sub(CLEANR, ' ', str_raw)\n",
    "\n",
    "    # remove special character\n",
    "    str_raw = re.sub('\\W+', ' ', str_raw)\n",
    "    \n",
    "    # remove number\n",
    "    str_raw = re.sub(\"[0-9]+\", \"\", str_raw)\n",
    "    \n",
    "    # remove space\n",
    "    cleantext = re.sub(\" +\", \" \", str_raw)\n",
    "    return cleantext.lower()"
   ]
  },
  {
   "cell_type": "code",
   "execution_count": 12,
   "id": "e4c812e7",
   "metadata": {},
   "outputs": [
    {
     "data": {
      "text/plain": [
       "<function __main__.cleanText(str_raw)>"
      ]
     },
     "execution_count": 12,
     "metadata": {},
     "output_type": "execute_result"
    }
   ],
   "source": [
    "spark.udf.register(\"cleanText\", cleanText,StringType())"
   ]
  },
  {
   "cell_type": "code",
   "execution_count": 13,
   "id": "501ab7bc",
   "metadata": {},
   "outputs": [],
   "source": [
    "df_clean = spark.sql(\"\"\"\n",
    "    select id,content contentRaw,cleanText(content) content,thank_count,customer_id,rating,spid,\n",
    "    seller.id seller_id,product_id, created_by.full_name customer_full_name,created_by.purchased_at purchased_at,\n",
    "    from_unixtime(CAST(created_by.purchased_at as BIGINT), 'yyyy-MM-dd') date_purchased_at,\n",
    "    timeline.review_created_date review_created_date,timeline.delivery_date delivery_date,\n",
    "    datediff(timeline.review_created_date,timeline.delivery_date) review_after_delivery,\n",
    "    case\n",
    "        when rating >= 4 then 'Positive'\n",
    "        when rating = 3 then 'Neutral'\n",
    "        when rating <3 then 'Negative'\n",
    "    end as sentiment,\n",
    "    case\n",
    "        when rating >= 4 then 2\n",
    "        when rating = 3 then 1\n",
    "        when rating <3 then 0\n",
    "    end as lable\n",
    "    from Comment c\n",
    "\"\"\")"
   ]
  },
  {
   "cell_type": "code",
   "execution_count": 14,
   "id": "060b5512",
   "metadata": {},
   "outputs": [
    {
     "name": "stderr",
     "output_type": "stream",
     "text": [
      "                                                                                \r"
     ]
    }
   ],
   "source": [
    "df_clean.write.mode('append').parquet('hdfs://namenode:9000/TikiCleaned/Comment')"
   ]
  },
  {
   "cell_type": "code",
   "execution_count": 15,
   "id": "fc738c46",
   "metadata": {},
   "outputs": [],
   "source": [
    "df_comment = spark.read.parquet('hdfs://namenode:9000/TikiCleaned/Comment')"
   ]
  },
  {
   "cell_type": "code",
   "execution_count": 17,
   "id": "95e0f216",
   "metadata": {},
   "outputs": [
    {
     "data": {
      "text/plain": [
       "4243515"
      ]
     },
     "execution_count": 17,
     "metadata": {},
     "output_type": "execute_result"
    }
   ],
   "source": [
    "df_comment.count()"
   ]
  },
  {
   "cell_type": "code",
   "execution_count": null,
   "id": "af56aef2",
   "metadata": {},
   "outputs": [],
   "source": []
  }
 ],
 "metadata": {
  "kernelspec": {
   "display_name": "Python 3 (ipykernel)",
   "language": "python",
   "name": "python3"
  },
  "language_info": {
   "codemirror_mode": {
    "name": "ipython",
    "version": 3
   },
   "file_extension": ".py",
   "mimetype": "text/x-python",
   "name": "python",
   "nbconvert_exporter": "python",
   "pygments_lexer": "ipython3",
   "version": "3.9.2"
  }
 },
 "nbformat": 4,
 "nbformat_minor": 5
}
