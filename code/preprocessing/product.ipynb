{
 "cells": [
  {
   "cell_type": "code",
   "execution_count": 1,
   "id": "9121332d",
   "metadata": {},
   "outputs": [],
   "source": [
    "from json import loads\n",
    "from pyspark.sql import SparkSession\n",
    "import warnings\n",
    "warnings.filterwarnings(\"ignore\")\n",
    "from pyspark.sql.functions import col,from_json,udf\n",
    "from pyspark.sql.types import StructType,StructField, StringType, IntegerType,MapType,FloatType,ArrayType\n",
    "\n",
    "import os \n",
    "# es = \"org.elasticsearch:elasticsearch-spark-30_2.12:7.12.1\"\n",
    "# http_scala='org.apache.httpcomponents:httpclient:4.5.13'\n",
    "# common_client='commons-httpclient:commons-httpclient:3.1'\n",
    "\n",
    "# os.environ[\"PYSPARK_SUBMIT_ARGS\"] = (\"--packages {},{},{} pyspark-shell\".format(es, http_scala,common_client))"
   ]
  },
  {
   "cell_type": "code",
   "execution_count": 2,
   "id": "454081c3",
   "metadata": {},
   "outputs": [
    {
     "name": "stderr",
     "output_type": "stream",
     "text": [
      "22/11/12 07:22:11 WARN NativeCodeLoader: Unable to load native-hadoop library for your platform... using builtin-java classes where applicable\n",
      "Using Spark's default log4j profile: org/apache/spark/log4j-defaults.properties\n",
      "Setting default log level to \"WARN\".\n",
      "To adjust logging level use sc.setLogLevel(newLevel). For SparkR, use setLogLevel(newLevel).\n",
      "22/11/12 07:22:13 WARN Utils: Service 'SparkUI' could not bind on port 4040. Attempting port 4041.\n"
     ]
    }
   ],
   "source": [
    "spark = SparkSession.\\\n",
    "        builder.\\\n",
    "        appName(\"process-data\").\\\n",
    "        master(\"spark://spark-master:7077\").\\\n",
    "        config(\"spark.executor.memory\", \"1024m\").\\\n",
    "        getOrCreate()"
   ]
  },
  {
   "cell_type": "code",
   "execution_count": 3,
   "id": "442da473",
   "metadata": {},
   "outputs": [],
   "source": [
    "# spark.stop()"
   ]
  },
  {
   "cell_type": "code",
   "execution_count": 4,
   "id": "7cf49dba",
   "metadata": {},
   "outputs": [
    {
     "name": "stderr",
     "output_type": "stream",
     "text": [
      "22/11/12 07:22:30 WARN TaskSchedulerImpl: Initial job has not accepted any resources; check your cluster UI to ensure that workers are registered and have sufficient resources\n",
      "                                                                                \r"
     ]
    }
   ],
   "source": [
    "data = spark.read.parquet('hdfs://namenode:9000/tiki/Product')"
   ]
  },
  {
   "cell_type": "code",
   "execution_count": 5,
   "id": "e310cb22",
   "metadata": {},
   "outputs": [
    {
     "name": "stderr",
     "output_type": "stream",
     "text": [
      "                                                                                \r"
     ]
    }
   ],
   "source": [
    "sample_data = data.select('value').take(100)"
   ]
  },
  {
   "cell_type": "code",
   "execution_count": 6,
   "id": "eab32205",
   "metadata": {},
   "outputs": [],
   "source": [
    "data_sample = [loads(item.value) for item in sample_data]"
   ]
  },
  {
   "cell_type": "code",
   "execution_count": 5,
   "id": "f435309f",
   "metadata": {},
   "outputs": [],
   "source": [
    "schema = StructType([ \n",
    "    StructField(\"id\",IntegerType(),True), \n",
    "    StructField(\"master_id\",IntegerType(),True), \n",
    "    StructField(\"sku\",StringType(),True), \n",
    "    StructField(\"name\",StringType(),True),\n",
    "    StructField(\"short_description\",StringType(),True), \n",
    "    StructField(\"price\",IntegerType(),True),\n",
    "    StructField(\"list_price\",IntegerType(),True),\n",
    "    StructField('original_price', IntegerType(),True),\n",
    "    StructField('discount', IntegerType(),True),\n",
    "    StructField('discount_rate', FloatType(),True),\n",
    "    \n",
    "    StructField(\"rating_average\",FloatType(),True), \n",
    "    StructField(\"review_count\",IntegerType(),True), \n",
    "    StructField(\"productset_group_name\",StringType(),True), \n",
    "    StructField(\"all_time_quantity_sold\",IntegerType(),True),\n",
    "    \n",
    "    StructField(\"description\",StringType(),True), \n",
    "    StructField(\"current_seller\",MapType(StringType(),StringType()),True),\n",
    "    StructField(\"breadcrumbs\",ArrayType(MapType(StringType(),StringType())),True),\n",
    "    StructField(\"specifications\",ArrayType(StructType(\n",
    "                    [\n",
    "                        StructField(\"name\", StringType()),\n",
    "                        StructField(\"attributes\",ArrayType(MapType(StringType(),StringType())),True),\n",
    "                    ]\n",
    "                )),True),\n",
    "\n",
    "    StructField('return_and_exchange_policy', StringType(),True)\n",
    "])"
   ]
  },
  {
   "cell_type": "code",
   "execution_count": 6,
   "id": "88a64edf",
   "metadata": {},
   "outputs": [],
   "source": [
    "df = data.withColumn(\"jsonData\",from_json(col(\"value\"),schema)) \\\n",
    "                   .select(\"jsonData.*\")"
   ]
  },
  {
   "cell_type": "code",
   "execution_count": 7,
   "id": "754c35a8",
   "metadata": {},
   "outputs": [],
   "source": [
    "df.createOrReplaceTempView('Product')"
   ]
  },
  {
   "cell_type": "code",
   "execution_count": 8,
   "id": "7fe3d4d8",
   "metadata": {},
   "outputs": [],
   "source": [
    "def parserAtt(specifications):\n",
    "    result = \"\"\n",
    "    try:\n",
    "        for s in specifications:\n",
    "            for a in s.attributes:\n",
    "                result += a['value']\n",
    "        result = cleanText(result)\n",
    "    except:\n",
    "        return \"\"\n",
    "    return result"
   ]
  },
  {
   "cell_type": "code",
   "execution_count": 9,
   "id": "ea860d31",
   "metadata": {},
   "outputs": [
    {
     "data": {
      "text/plain": [
       "<function __main__.parserAtt(specifications)>"
      ]
     },
     "execution_count": 9,
     "metadata": {},
     "output_type": "execute_result"
    }
   ],
   "source": [
    "spark.udf.register('parserAtt',parserAtt,StringType())"
   ]
  },
  {
   "cell_type": "code",
   "execution_count": 10,
   "id": "ea99cc6e",
   "metadata": {},
   "outputs": [],
   "source": [
    "# spark.sql(\"\"\"\n",
    "#         select current_seller.id seller_id,current_seller.name seller_name,current_seller.store_id seller_store_id,\n",
    "#         breadcrumbs[0].name category_name,breadcrumbs[0].category_id category_id\n",
    "#         from Product where specifications[0].name is not null limit 10\n",
    "# \"\"\").collect()"
   ]
  },
  {
   "cell_type": "code",
   "execution_count": 13,
   "id": "fd5540c9",
   "metadata": {},
   "outputs": [],
   "source": [
    "import re\n",
    "# as per recommendation from @freylis, compile once only\n",
    "CLEANR = re.compile('<.*?>') \n",
    "def cleanText(str_raw):\n",
    "    # remove tags html\n",
    "    str_raw = re.sub(CLEANR, ' ', str_raw)\n",
    "\n",
    "    # remove special character\n",
    "    str_raw = re.sub('\\W+', ' ', str_raw)\n",
    "    \n",
    "    # remove number\n",
    "    str_raw = re.sub(\"[0-9]+\", \"\", str_raw)\n",
    "    \n",
    "    # remove space\n",
    "    cleantext = re.sub(\" +\", \" \", str_raw)\n",
    "    return cleantext.lower()"
   ]
  },
  {
   "cell_type": "code",
   "execution_count": 15,
   "id": "e85755d9",
   "metadata": {},
   "outputs": [
    {
     "data": {
      "text/plain": [
       "<function __main__.cleanText(str_raw)>"
      ]
     },
     "execution_count": 15,
     "metadata": {},
     "output_type": "execute_result"
    }
   ],
   "source": [
    "spark.udf.register(\"cleanText\", cleanText,StringType())"
   ]
  },
  {
   "cell_type": "code",
   "execution_count": 16,
   "id": "bd7ec101",
   "metadata": {},
   "outputs": [],
   "source": [
    "product_clean = spark.sql(\"\"\"\n",
    "        select id,master_id,sku,price,list_price,original_price,discount,discount_rate,\n",
    "        rating_average,review_count,productset_group_name,all_time_quantity_sold,\n",
    "        cleanText(name) name,cleanText(description) description,parserAtt(specifications) specifications,\n",
    "        current_seller.id seller_id,current_seller.name seller_name,current_seller.store_id seller_store_id,\n",
    "        cast(current_seller.product_id as int) product_id,\n",
    "        breadcrumbs[0].name category_name,breadcrumbs[0].category_id category_id\n",
    "        from Product\n",
    "\"\"\")"
   ]
  },
  {
   "cell_type": "code",
   "execution_count": 17,
   "id": "8b0e9e81",
   "metadata": {},
   "outputs": [
    {
     "name": "stderr",
     "output_type": "stream",
     "text": [
      "                                                                                \r"
     ]
    }
   ],
   "source": [
    "product_clean.write.partitionBy(\"category_id\").mode('append').parquet('hdfs://namenode:9000/TikiCleaned/Product')"
   ]
  },
  {
   "cell_type": "code",
   "execution_count": 239,
   "id": "ba761a9f",
   "metadata": {},
   "outputs": [],
   "source": [
    "test = spark.read.parquet('hdfs://namenode:9000/TikiCleaned/Product')"
   ]
  },
  {
   "cell_type": "code",
   "execution_count": 240,
   "id": "0f181132",
   "metadata": {},
   "outputs": [
    {
     "data": {
      "text/plain": [
       "Row(id=129734261, master_id=129734261, sku='5403899666753', price=15000, list_price=15000, original_price=15000, discount=0, discount_rate=0.0, rating_average=3.700000047683716, review_count=7, productset_group_name='Voucher - Dịch vụ/Khóa học/Khóa học ngoại ngữ', all_time_quantity_sold=43, name=' e book achievers grade sách mềm sách bài tập', description=' hạn sử dụng đây là sản phẩm nằm trong kho ứng dụng tài nguyên số eduhome sử dụng trên đa nền tảng trên trình duyệt phần mềm trên máy tính window nền tảng mobile trên android và ios thông tin cơ bản của sản phẩm được thể hiện ở hình bên dưới giá bán đã bao gồm vat nhà bán hàng chịu trách nhiệm xuất hóa đơn cho khách hàng', specifications=' khách hàng sau khi nhận mã evoucher vui lòng thực hiện theo hướng dẫn sau thông tin liên hệ về việc hỗ trợ và giải đáp thắc mắc liên quan tới sản phẩm eduhome hotline zalo dtp software customer service zalo me email info dtp education com giá bán đã bao gồm vat nhà bán hàng chịu trách nhiệm xuất hóa đơn cho khách hàng sách mềm sách bài tập giúp học sinh củng cố kiến thức và thực hành bài tập bổ sung sách bao gồm các phần bài tập chi tiết tích hợp âm thanh và đáp án để học sinh thực hành phù hợp với việc tự học tại nhà phù hợp với phụ huynh địa điểm áp dụng toàn quốc thời hạn sử dụng năm giá đã bao gồm vat eduhome nguyễn đình chính phường quận phú nhuận tp hcm khách hàng sau khi nhận mã evoucher vui lòng thực hiện theo hướng dẫn sau thông tin liên hệ về việc hỗ trợ và giải đáp thắc mắc liên quan tới sản phẩm eduhome hotline zalo dtp software customer service zalo me email info dtp education com áp dụng đến hết ngày ', seller_id='214089', seller_name='Eduhome', seller_store_id='201121', category_name='Voucher - Dịch vụ', category_id=11312)"
      ]
     },
     "execution_count": 240,
     "metadata": {},
     "output_type": "execute_result"
    }
   ],
   "source": [
    "test.first()"
   ]
  },
  {
   "cell_type": "code",
   "execution_count": 49,
   "id": "e2dfb786",
   "metadata": {},
   "outputs": [],
   "source": [
    "import re\n",
    "# as per recommendation from @freylis, compile once only\n",
    "CLEANR = re.compile('<.*?>') "
   ]
  },
  {
   "cell_type": "code",
   "execution_count": 65,
   "id": "1875ca62",
   "metadata": {},
   "outputs": [],
   "source": [
    "import gensim"
   ]
  },
  {
   "cell_type": "code",
   "execution_count": 218,
   "id": "8fa05e7b",
   "metadata": {},
   "outputs": [],
   "source": [
    "def cleanText(str_raw):\n",
    "    # remove tags html\n",
    "    str_raw = re.sub(CLEANR, ' ', str_raw)\n",
    "\n",
    "    # remove special character\n",
    "    str_raw = re.sub('\\W+', ' ', str_raw)\n",
    "    \n",
    "    # remove number\n",
    "    str_raw = re.sub(\"[0-9]+\", \"\", str_raw)\n",
    "    \n",
    "    # remove space\n",
    "    cleantext = re.sub(\" +\", \" \", str_raw)\n",
    "    return cleantext.lower()"
   ]
  },
  {
   "cell_type": "code",
   "execution_count": 219,
   "id": "6a9a73bb",
   "metadata": {},
   "outputs": [
    {
     "name": "stderr",
     "output_type": "stream",
     "text": [
      "22/11/09 16:22:28 WARN SimpleFunctionRegistry: The function cleantext replaced a previously registered function.\n"
     ]
    },
    {
     "data": {
      "text/plain": [
       "<function __main__.cleanText(str_raw)>"
      ]
     },
     "execution_count": 219,
     "metadata": {},
     "output_type": "execute_result"
    }
   ],
   "source": [
    "spark.udf.register(\"cleanText\", cleanText,StringType())"
   ]
  },
  {
   "cell_type": "code",
   "execution_count": 220,
   "id": "9ea287ac",
   "metadata": {},
   "outputs": [
    {
     "data": {
      "text/plain": [
       "[Row(cleanText(short_description)='đây là sản phẩm nằm trong kho ứng dụng tài nguyên số eduhome sử dụng trên đa nền tảng trên trình duyệt phần mềm trên máy tính window nền tảng mobile trên android và iosthông tin cơ bản của sản p ', short_description='Đây là sản phẩm nằm trong kho ứng dụng tài nguyên số Eduhome, sử dụng trên đa nền tảng: trên trình duyệt, Phần mềm trên máy tính window, nền tảng mobile trên Android và iOSThông tin cơ bản của sản p...', description='<p>Hạn sử dụng: 2026-12-31 00:00:00</p><ul>\\n<li>Đây là sản phẩm nằm trong kho ứng dụng tài nguyên số Eduhome, sử dụng trên đa nền tảng: trên trình duyệt, Phần mềm trên máy tính window, nền tảng mobile trên Android và iOS</li>\\n<li>Thông tin cơ bản của sản phẩm được thể hiện ở hình bên dưới</li>\\n</ul>\\n<p><img src=\"https://salt.tikicdn.com/ts/tmp/1a/f6/8e/39b1636be67cee50fb30c128d0421e6a.png\" alt=\"\" width=\"750\" height=\"368\" /></p>Giá bán đã bao gồm VAT - Nhà Bán Hàng chịu trách nhiệm xuất hóa đơn cho Khách hàng')]"
      ]
     },
     "execution_count": 220,
     "metadata": {},
     "output_type": "execute_result"
    }
   ],
   "source": [
    "spark.sql(\"\"\"\n",
    "        select cleanText(short_description),short_description,description from Product limit 1\n",
    "\"\"\").collect()"
   ]
  },
  {
   "cell_type": "code",
   "execution_count": 115,
   "id": "66157e21",
   "metadata": {},
   "outputs": [
    {
     "data": {
      "text/plain": [
       "[Row(cleanText(description)='hạn sử dụng đây là sản phẩm nằm trong kho ứng dụng tài nguyên số eduhome sử dụng trên đa nền tảng trên trình duyệt phần mềm trên máy tính window nền tảng mobile trên android và ios thông tin cơ bản của sản phẩm được thể hiện ở hình bên dưới giá bán đã bao gồm vat nhà bán hàng chịu trách nhiệm xuất hóa đơn cho khách hàng', description='<p>Hạn sử dụng: 2026-12-31 00:00:00</p><ul>\\n<li>Đây là sản phẩm nằm trong kho ứng dụng tài nguyên số Eduhome, sử dụng trên đa nền tảng: trên trình duyệt, Phần mềm trên máy tính window, nền tảng mobile trên Android và iOS</li>\\n<li>Thông tin cơ bản của sản phẩm được thể hiện ở hình bên dưới</li>\\n</ul>\\n<p><img src=\"https://salt.tikicdn.com/ts/tmp/1a/f6/8e/39b1636be67cee50fb30c128d0421e6a.png\" alt=\"\" width=\"750\" height=\"368\" /></p>Giá bán đã bao gồm VAT - Nhà Bán Hàng chịu trách nhiệm xuất hóa đơn cho Khách hàng')]"
      ]
     },
     "execution_count": 115,
     "metadata": {},
     "output_type": "execute_result"
    }
   ],
   "source": [
    "spark.sql(\"\"\"\n",
    "        select cleanText(description) description,cleanText(description) description from Product limit 1\n",
    "\"\"\").collect()"
   ]
  },
  {
   "cell_type": "code",
   "execution_count": 10,
   "id": "41240219",
   "metadata": {},
   "outputs": [
    {
     "name": "stderr",
     "output_type": "stream",
     "text": [
      "                                                                                \r"
     ]
    }
   ],
   "source": [
    "shop_id = spark.sql(\"\"\"select distinct current_seller.id from Product\"\"\").collect()"
   ]
  },
  {
   "cell_type": "code",
   "execution_count": 11,
   "id": "5e6cba04",
   "metadata": {},
   "outputs": [
    {
     "data": {
      "text/plain": [
       "6839"
      ]
     },
     "execution_count": 11,
     "metadata": {},
     "output_type": "execute_result"
    }
   ],
   "source": [
    "len(shop_id)"
   ]
  },
  {
   "cell_type": "code",
   "execution_count": 16,
   "id": "2e936519",
   "metadata": {},
   "outputs": [],
   "source": [
    "x = [int(item.id) for item in shop_id if item.id != None]"
   ]
  },
  {
   "cell_type": "code",
   "execution_count": 17,
   "id": "f3942bb6",
   "metadata": {},
   "outputs": [
    {
     "data": {
      "text/plain": [
       "6838"
      ]
     },
     "execution_count": 17,
     "metadata": {},
     "output_type": "execute_result"
    }
   ],
   "source": [
    "len(x)"
   ]
  },
  {
   "cell_type": "code",
   "execution_count": 82,
   "id": "3dc6f413",
   "metadata": {},
   "outputs": [
    {
     "data": {
      "text/plain": [
       "97000"
      ]
     },
     "execution_count": 82,
     "metadata": {},
     "output_type": "execute_result"
    }
   ],
   "source": [
    "data_sample[4]['original_price']"
   ]
  },
  {
   "cell_type": "code",
   "execution_count": 88,
   "id": "838c5e5d",
   "metadata": {},
   "outputs": [
    {
     "name": "stdout",
     "output_type": "stream",
     "text": [
      "None\n",
      "None\n",
      "None\n",
      "None\n",
      "None\n",
      "None\n",
      "None\n",
      "None\n",
      "None\n",
      "None\n",
      "None\n",
      "None\n",
      "None\n",
      "None\n",
      "None\n",
      "None\n",
      "None\n",
      "None\n",
      "None\n",
      "None\n",
      "None\n",
      "None\n",
      "None\n",
      "None\n",
      "None\n",
      "None\n",
      "None\n",
      "None\n",
      "None\n",
      "None\n",
      "None\n",
      "None\n",
      "None\n",
      "None\n",
      "None\n",
      "None\n",
      "None\n",
      "None\n",
      "None\n",
      "None\n",
      "None\n",
      "None\n",
      "None\n",
      "None\n",
      "None\n",
      "None\n",
      "None\n",
      "None\n",
      "None\n",
      "None\n",
      "None\n",
      "None\n",
      "None\n",
      "None\n",
      "None\n",
      "None\n",
      "None\n",
      "None\n",
      "None\n",
      "None\n",
      "None\n",
      "None\n",
      "None\n",
      "None\n",
      "None\n",
      "None\n",
      "None\n",
      "None\n",
      "None\n",
      "None\n",
      "None\n",
      "None\n",
      "None\n",
      "None\n",
      "None\n",
      "None\n",
      "None\n",
      "None\n",
      "None\n",
      "None\n",
      "None\n",
      "None\n",
      "None\n",
      "None\n",
      "None\n",
      "None\n",
      "None\n",
      "None\n",
      "None\n",
      "None\n",
      "None\n",
      "None\n",
      "None\n",
      "None\n",
      "None\n",
      "None\n",
      "None\n",
      "None\n",
      "None\n",
      "None\n"
     ]
    }
   ],
   "source": [
    "for item in data_sample:\n",
    "    print(item['seller'])"
   ]
  },
  {
   "cell_type": "code",
   "execution_count": 86,
   "id": "b6dd6b3d",
   "metadata": {},
   "outputs": [],
   "source": [
    "data_sample[6]['seller']"
   ]
  },
  {
   "cell_type": "code",
   "execution_count": 81,
   "id": "3ede3c55",
   "metadata": {},
   "outputs": [
    {
     "data": {
      "text/plain": [
       "9000"
      ]
     },
     "execution_count": 81,
     "metadata": {},
     "output_type": "execute_result"
    }
   ],
   "source": [
    "data_sample[4]['discount']"
   ]
  },
  {
   "cell_type": "code",
   "execution_count": 70,
   "id": "3f0941e1",
   "metadata": {},
   "outputs": [
    {
     "data": {
      "text/plain": [
       "{'id': 186116351,\n",
       " 'master_id': 186116351,\n",
       " 'sku': '1297824668810',\n",
       " 'name': 'Giftpop - Phiếu Quà Tặng GoGi House 1000K',\n",
       " 'url_key': 'giftpop-phieu-qua-tang-gogi-house-1000k-p186116351',\n",
       " 'url_path': 'giftpop-phieu-qua-tang-gogi-house-1000k-p186116351.html?spid=186116353',\n",
       " 'short_url': 'https://tiki.vn/product-p186116351.html?spid=186116353',\n",
       " 'type': 'simple',\n",
       " 'book_cover': None,\n",
       " 'short_description': 'Phiếu quà tặng GoGi House với nhiều mệnh giá từ 100k đến 1000k sẽ là món quà ý nghĩa cho người thân, bạn bè, đối tác mỗi dịp Lễ, Tết hoặc các dịp đặc biệt, liên hoan, tiệc công ty, sum họp gia đình.Ph...',\n",
       " 'price': 1000000,\n",
       " 'list_price': 1000000,\n",
       " 'original_price': 1000000,\n",
       " 'badges': [{'code': 'new_pdp', 'text': 'v1'}],\n",
       " 'badges_new': [],\n",
       " 'discount': 0,\n",
       " 'discount_rate': 0,\n",
       " 'rating_average': 5,\n",
       " 'review_count': 2,\n",
       " 'review_text': '(2)',\n",
       " 'favourite_count': 0,\n",
       " 'thumbnail_url': 'https://salt.tikicdn.com/cache/280x280/ts/product/8f/5b/a2/5ef3a12af63683bb0151c0a19b7ba340.jpg',\n",
       " 'has_ebook': False,\n",
       " 'inventory_status': 'available',\n",
       " 'inventory_type': 'backorder',\n",
       " 'productset_group_name': 'Voucher - Dịch vụ/Nhà hàng - Ăn uống/Nhà hàng',\n",
       " 'is_fresh': False,\n",
       " 'seller': None,\n",
       " 'is_flower': False,\n",
       " 'has_buynow': True,\n",
       " 'is_gift_card': False,\n",
       " 'salable_type': None,\n",
       " 'data_version': 3300,\n",
       " 'day_ago_created': 134,\n",
       " 'all_time_quantity_sold': 17,\n",
       " 'meta_title': '',\n",
       " 'meta_description': '',\n",
       " 'meta_keywords': '',\n",
       " 'is_baby_milk': False,\n",
       " 'is_acoholic_drink': False,\n",
       " 'description': '<p>Phiếu quà tặng GoGi House với nhiều mệnh giá từ 100k đến 1000k sẽ là món quà ý nghĩa cho người thân, bạn bè, đối tác mỗi dịp Lễ, Tết hoặc các dịp đặc biệt, liên hoan, tiệc công ty, sum họp gia đình.<br />Phiếu quà tặng GoGi House áp dụng để mua được tất cả các món ăn truyền thống Hàn Quốc như: đậu hủ sốt GoGi, bánh xem Hàn Quốc, Teobokki nhân phô mai, Teobokki hải sản, canh rong biển, canh kim chi, miến trộn, mỳ lạnh, mì jajang, cơm trộn bát đá…úp bạn tha hồ lựa chọn cho bữa tiệc của mình thêm đặc sắc và phong phú.</p>\\n<p><img src=\"https://salt.tikicdn.com/ts/tmp/25/9c/af/41b98d35d21e311a95233164885bcbe3.jpg\" alt=\"\" width=\"600\" height=\"420\" /></p>Giá bán chưa bao gồm VAT',\n",
       " 'images': [{'base_url': 'https://salt.tikicdn.com/ts/product/8f/5b/a2/5ef3a12af63683bb0151c0a19b7ba340.jpg',\n",
       "   'is_gallery': True,\n",
       "   'label': None,\n",
       "   'large_url': 'https://salt.tikicdn.com/cache/w1200/ts/product/8f/5b/a2/5ef3a12af63683bb0151c0a19b7ba340.jpg',\n",
       "   'medium_url': 'https://salt.tikicdn.com/cache/w300/ts/product/8f/5b/a2/5ef3a12af63683bb0151c0a19b7ba340.jpg',\n",
       "   'position': None,\n",
       "   'small_url': 'https://salt.tikicdn.com/cache/200x280/ts/product/8f/5b/a2/5ef3a12af63683bb0151c0a19b7ba340.jpg',\n",
       "   'thumbnail_url': 'https://salt.tikicdn.com/cache/200x280/ts/product/8f/5b/a2/5ef3a12af63683bb0151c0a19b7ba340.jpg'}],\n",
       " 'warranty_policy': None,\n",
       " 'current_seller': {'id': 23820,\n",
       "  'sku': '1816697535335',\n",
       "  'name': 'GIFTPOP',\n",
       "  'link': 'https://tiki.vn/cua-hang/giftpop',\n",
       "  'logo': '3c/ba/88/7282f0eb0622fef58df45006822a0a93.jpg',\n",
       "  'price': 1000000,\n",
       "  'product_id': '186116353',\n",
       "  'store_id': 23224,\n",
       "  'is_best_store': False,\n",
       "  'is_offline_installment_supported': None},\n",
       " 'other_sellers': [],\n",
       " 'seller_specifications': [{'name': 'Tiki hoàn tiền 111% nếu phát hiện hàng giả',\n",
       "   'url': None,\n",
       "   'value': None},\n",
       "  {'name': 'Cam kết hàng chính hiệu', 'url': None, 'value': None}],\n",
       " 'specifications': [{'name': 'Thông tin chung',\n",
       "   'attributes': [{'code': 'how_to_use',\n",
       "     'name': 'Hướng dẫn sử dụng',\n",
       "     'value': '<p><strong>Hướng dẫn sử dụng Evoucher:</strong><br />Bước 1: Sau khi hoàn tất thanh toán, Quý khách sẽ nhận được tin nhắn mã voucher từ TiKi gửi đến.<br />Bước 2: Đến cửa hàng xuất trình hình ảnh tin nhắn mã voucher cho nhân viên thu ngân để sử dụng.</p>'},\n",
       "    {'code': 'vat_type',\n",
       "     'name': 'Thông tin VAT ',\n",
       "     'value': 'Giá bán chưa bao gồm VAT'},\n",
       "    {'code': 'dac_diem_noi_bat',\n",
       "     'name': 'Đặc điểm nổi bật',\n",
       "     'value': '<p><strong>*** DANH SÁCH CỬA HÀNG ÁP DỤNG:\\xa0<br /></strong></p>\\n<p>Gogi House - Huỳnh Thúc Kháng<br />Số 45 Huỳnh Thúc Kháng, P. Láng Hạ, Quận Đống Đa, Hà Nội</p>\\n<p>Gogi House - Thái Nguyên<br />Số 405/01 KDC Số 5, P. Phan Đình Phùng, Thái Nguyên</p>\\n<p>Gogi House - Từ Sơn<br />Số 268 Trần Phú, P. Đình Bảng, Tx. Từ Sơn, Bắc Ninh</p>\\n<p>Gogi House - Hồ Tùng Mậu<br />Số 15 Hồ Tùng Mậu, Vinh, Nghệ An</p>\\n<p>Gogi House - Quang Trung<br />Số 45 Quang Trung, Vinh, Nghệ An</p>\\n<p>Gogi House - BigC Thăng Long<br />TTTM Big C, 222 Trần Duy Hưng, P. Trung Hòa, Quận Cầu Giấy, Hà Nội</p>\\n<p>Gogi House - Trần Thái Tông<br />103D5A Trần Thái Tông, P. Dịch Vọng, Quận Cầu Giấy, Hà Nội</p>\\n<p>Gogi House - Mipec Tây Sơn<br />Lotte Mart 229 Tây Sơn, P. Ngã Tư Sở, Quận Đống Đa, Hà Nội</p>\\n<p>Gogi House - Phạm Ngọc Thạch<br />B4 Kim Liên, Phạm Ngọc Thạch, P. Kim Liên, Quận Đống Đa, Hà Nội</p>\\n<p>Gogi House - Bùi Thị Xuân<br />Số 151 Bùi Thị Xuân, P. Bùi Thị Xuân, Quận Hai Bà Trưng, Hà Nội</p>\\n<p>Gogi House - Trung Yên<br />Số 124 Trung Hòa, P. Yên Hòa, Quận Thanh Xuân, Hà Nội</p>\\n<p>Gogi House - Lạc Long Quân<br />Tòa nhà Watermark, 395 Lạc Long Quân, P. Nghĩa Đô, Quận Cầu Giấy, Hà Nội</p>\\n<p>Gogi House - Trần Phú<br />Số 146 Trần Phú, P. Mỗ Lao, Quận Hà Đông, Hà Nội</p>\\n<p>Gogi House - Giang Văn Minh<br />Số 14 Giang Văn Minh, P. Kim Mã, Quận Ba Đình, Hà Nội</p>\\n<p>Gogi House - Vincom Hạ Long<br />TTTM Vincom Center, P. Bạch Đằng, Hạ Long, Quảng Ninh</p>\\n<p>Gogi House - Vincom Thái Bình<br />Vincom Plaza, L5- 03- 04 Lý Bôn, P. Đề Thám, Thái Bình</p>\\n<p>Gogi House - Nam Định<br />Số 11 Đông A, Nam Định, Nam Định</p>\\n<p>Gogi House - Nguyễn Đăng Đạo<br />Số 32 Nguyễn Đăng Đạo, P. Đại Phúc, Bắc Ninh</p>\\n<p>Gogi House - Việt Trì<br />Việt Lâm Plaza, 2211 Hùng Vương, Việt Trì, Phú Thọ</p>\\n<p>Gogi House - Hải Phòng<br />Lô 7B, KĐTM Ngã Năm Sân bay Cát Bi, P. Đông Khê, Quận Ngô Quyền, Hải Phòng</p>\\n<p>Gogi House - Lào Cai<br />Số 339C Hồng Hà, P. Cốc Lếu, Lào Cai, Lào Cai</p>\\n<p>Gogi House - Hải Dương<br />Số 312 Nguyễn Lương Bằng, P. Thanh Trung, Hải Dương, Hải Dương</p>\\n<p>Gogi House - Ninh Bình<br />Số 219 Lương Văn Thăng, P. Đông Thành, Ninh Bình, Ninh Bình</p>\\n<p>Gogi House - Sài Gòn Center<br />TTTM Saigon Centre, Số 92-94 Nam Kỳ Khởi Nghĩa, P. Bến Nghé, Quận 1, Hồ Chí Minh</p>\\n<p>Gogi House - Aeon Mall Bình Tân<br />TTTM Aeon Mall, Số 1 Đường 17A, KP. 11, P. Bình Trị Đông B, Quận Bình Tân, Hồ Chí Minh</p>\\n<p>Gogi House - Aeon Mall Bình Dương<br />Khu Canary, Đại lộ Bình Dương, P. Bình Hòa, TX. Thuận An, Bình Dương</p>\\n<p>Gogi House - Cao Thắng<br />Cao Thắng Mall, Số 19 Cao Thắng, P. 2, Quận 3, Hồ Chí Minh</p>\\n<p>Gogi House - Gò Đậu<br />Số 167 Đường 30/4, P. Phú Thọ, Thủ Dầu Một, Bình Dương</p>\\n<p>Gogi House - Âu cơ<br />Số 303 Âu Cơ, P. Phú Trung, Quận Tân Phú, Hồ Chí Minh</p>\\n<p>Gogi House - Emart Gò Vấp<br />TTTM Emart, Số 168 Phan Văn Trị, P. 5, Quận Gò Vấp, Hồ Chí Minh</p>\\n<p>Gogi House - Lê Văn Sỹ<br />Số 254-256 Lê Văn Sỹ, P. 14, Quận 3, Hồ Chí Minh</p>\\n<p>Gogi House - Lotte Mart<br />TTTM Lotte, Số 58 Đường 23/10, P. Phương Sơn, Nha Trang, Khánh Hòa</p>\\n<p>Gogi House - Lotte Mart<br />Số 18 Phan Văn Trị, P. 10, Quận Gò Vấp, Hồ Chí Minh</p>\\n<p>Gogi House - Lotte Mart<br />TTTM Lotte Mart, Số 84 Mậu Thân, P. An Hòa, Quận Ninh Kiều, Cần Thơ</p>\\n<p>Gogi House - Nguyễn Hồng Đào<br />Số 127-129-131 Nguyễn Hồng Đào, P. 14, Quận Tân Bình, Hồ Chí Minh</p>\\n<p>Gogi House - Nguyễn Ảnh Thủ<br />1C/A Nguyễn Ảnh Thủ, KP. 1, P. Trung Mỹ Tây, Quận 12, Hồ Chí Minh</p>\\n<p>Gogi House - Nguyễn Kim<br />Số 1 Trần Hưng Đạo, P. Phú Cường, Thủ Dầu Một, Bình Dương</p>\\n<p>Gogi House - Nguyễn Tri Phương<br />Số 521 Nguyễn Tri Phương, P. 8, Quận 10, Hồ Chí Minh</p>\\n<p>Gogi House - Pegasus Biên Hòa<br />Tòa nhà Pegasus, Số 53-55 Võ Thị Sáu, P. Quyết Thắng, Biên Hòa, Đồng Nai</p>\\n<p>Gogi House - Phan Xích Long<br />Số 198 Phan Xích Long, P. 2, Quận Phú Nhuận, Hồ Chí Minh</p>\\n<p>Gogi House - SaigonRes Nguyễn Xí<br />TTTM Vincom Plaza SaigonRes, Số 188 , P. 26, Quận Bình Thạnh, Hồ Chí Minh</p>\\n<p>Gogi House - Satra Phạm Hùng<br />TTTM Satra, C6/27 Phạm Hùng, Bình Hưng, Huyện Bình Chánh, Hồ Chí Minh</p>\\n<p>Gogi House - SC Vivo City<br />TTTM SC Vivo City, Số 1058 Nguyễn Văn Linh, KP. 1, P. Tân Phong, Quận 7, Hồ Chí Minh</p>\\n<p>Gogi House - Sense City Cà Mau<br />TTTM Sense City, Số 9 Trần Hưng Đạo, P. 5, Cà Mau, Cà Mau</p>\\n<p>Gogi House - Pearl Plaza Điện Biên Phủ<br />TTTM Pearl Plaza, Số 561A Điện Biên Phủ, P. 25, Quận Bình Thạnh, Hồ Chí Minh</p>\\n<p>Gogi House - Trường Sơn<br />Saigon Superbowl, A43 Trường Sơn, P. 4, Quận Tân Bình, Hồ Chí Minh</p>\\n<p>Gogi House - Vincom Lê Thánh Tôn<br />Tòa nhà Vincom Center, 70-72 Lê Thánh Tôn, P. Bến Nghé, Quận 1, Hồ Chí Minh</p>\\n<p>Gogi House - Vincom Biên Hòa<br />TTTM Vincom, Số 1096 Phạm Văn Thuận, KP. 2, P. Tân Mai, Biên Hòa, Đồng Nai</p>\\n<p>Gogi House - Vincom Buôn Mê Thuật<br />TTTM Vincom, Số 78 Lý Thường Kiệt, P. Thắng Lợi, Buôn Ma Thuột, Đắk Lắk</p>\\n<p>Gogi House - Vincom Lê Văn Việt<br />TTTM Vincom Palaza, Số 50 Lê Văn Việt, P. Hiệp Phú, Quận 9, Hồ Chí Minh</p>\\n<p>Gogi House - Vincom Long Xuyên<br />TTTM Vincom, Trần Hưng Đạo, P. Mỹ Bình, Long Xuyên, An Giang</p>\\n<p>Gogi House - Vincom Quang Trung<br />TTTM Vincom, Số 190 Quang Trung, P. 10, Quận Gò Vấp, Hồ Chí Minh</p>\\n<p>Gogi House - Vincom Thủ Đức<br />Số 216 Võ Văn Ngân, P. Bình Thọ, Quận Thủ Đức, Hồ Chí Minh</p>\\n<p>Gogi House - Ariyana Nha Trang<br />Ariyana Smart Condotel, Số 18 Trần Hưng Đạo, P. Lộc Thọ, Nha Trang, Khánh Hòa</p>\\n<p>Gogi House - Vạn Hạnh Mall<br />TTTM Vạn Hạnh Mall, Số 11 Sư Vạn Hạnh, P. 12, Quận 10, Hồ Chí Minh</p>\\n<p>Gogi House - Nguyễn Đình Chiểu<br />35B Nguyễn Đình Chiểu, P. Đa Kao, Quận 1, Hồ Chí Minh</p>\\n<p>Gogi House - Quang Trung<br />Số 1 Quang Trung, P. 3, Quận Gò Vấp, Hồ Chí Minh</p>\\n<p>Gogi House - Võ Thị Sáu<br />K29, KP7, Đường Võ Thị Sáu, P. Thống Nhất, Biên Hòa, Đồng Nai</p>\\n<p>Gogi House - Đinh Tiên Hoàng<br />Số 229 - 231 Đinh Tiên Hoàng, P. Tân Định, Quận 1, Hồ Chí Minh</p>\\n<p>Gogi House - Phú Mỹ Hưng<br />Số 149 - 151 Nguyễn Đức Cảnh, P. Tân Phong, Quận 7, Hồ Chí Minh</p>\\n<p>Gogi House - Lý Thường Kiệt<br />Số 40 Lý Thường Kiệt, P. 1, Vũng Tàu, Bà Rịa - Vũng Tàu</p>\\n<p>Gogi House - Nguyễn Ảnh Thủ<br />Số 21-21A Nguyễn Ảnh Thủ, P. Hiệp Thành, Quận 12, Hồ Chí Minh</p>\\n<p>Gogi House - Phú Cường<br />Lô TM3 Đường 3/2, KĐT Phú Cường, P. An Hoà, Rạch Giá, Kiên Giang</p>\\n<p>Gogi House - Giga Mall<br />TTTM Giga Mall, Số 240 Phạm Văn Đồng, P. Hiệp Bình Chánh, Quận Thủ Đức, Hồ Chí Minh</p>\\n<p>Gogi House - Nguyễn Kim<br />TTTM Nguyễn Kim, Số 53 Quang Trung, P. Hội Thương, Pleiku, Gia Lai</p>\\n<p>Gogi House - Bà Rịa Vũng Tàu<br />300 Cách Mạng Tháng Tám, P. Phước Trung, Bà Rịa, Bà Rịa Vũng Tàu</p>\\n<p>Gogi House - Lê Lợi<br />Số 04 Lê Lợi, P. 1, Tuy Hòa, Phú Yên</p>\\n<p>Gogi House - Tân Sơn Nhì<br />42 - 44 - 46 - 48 Tân Sơn Nhì, P. Tân Sơn Nhì, Quận Tân Phú, Hồ Chí Minh</p>\\n<p>Gogi House - Nguyễn Thị Thập<br />417 Nguyễn Thị Thập, Phường Tân Phong, Quận 7, Hồ Chí Minh</p>\\n<p>Gogi House - ST Center<br />Lô GF7 ST Center, 2A Bình Chiểu, P. Bình Chiểu, Quận Thủ Đức, Hồ Chí Minh</p>\\n<p>Gogi House - Tây Ninh<br />Căn PG2 - 32 và căn PG2 -33 KP. 1, P. 3, Tây Ninh</p>\\n<p>Gogi House - An Dương Vương<br />65 An Dương Vương, P. 8, Quận 5, Hồ Chí Minh</p>\\n<p>Gogi House - Vincom Nguyễn Chí Thanh<br />TTTM Vincom, 54 Nguyễn Chí Thanh, P. Láng Thượng, Quận Đống Đa, Hà Nội</p>\\n<p>Gogi House - Tràng Tiền<br />TTTM Tràng Tiền Plaza, 24 Hai Bà Trưng, P. Tràng Tiền, Quận Hoàn Kiếm, Hà Nội</p>\\n<p>Gogi House - Tô Hiệu<br />Số 191 Tô Hiệu, P. Dịch Vọng, Quận Cầu Giấy, Hà Nội</p>\\n<p>Gogi House - Nguyễn Hoàng<br />Tòa nhà Suced, 108 Nguyễn Hoàng, P. Mỹ Đình 2, Quận Nam Từ Liêm, Hà Nội</p>\\n<p>Gogi House - Vincom Hùng Vương<br />TTTM Vincom, Số 2 Hùng Vương, P. Thới Bình, Quận Ninh Kiều, Cần Thơ</p>\\n<p>Gogi House - Cao Thắng<br />32B Cao Thắng, P. Lam Sơn, Thanh Hóa</p>\\n<p>Gogi House - Trần Hưng Đạo Bình Thuận<br />171 - 173 Trần Hưng Đạo, P. Phú Thuỷ, Phan Thiết, Bình Thuận</p>\\n<p>Gogi House - Aeon Mall Hà Đông<br />Tầng 2 TTTM Aeon Mall, P. Dương Nội, Quận Hà Đông, Hà Nội</p>\\n<p>Gogi House - Big-C Nha Trang<br />Lô 4, đường 19/5, KĐT Vĩnh Điềm Trung, xã Vĩnh Hiệp, Nha Trang, Khánh Hòa</p>\\n<p>Gogi House - Đặng Văn Bi<br />128 Đặng Văn Bi, P. Bình Thọ, Quận Thủ Đức, Hồ Chí Minh</p>\\n<p>Gogi House - Cao Thắng<br />84 Cao Thắng, P. 4, Quận 3, Hồ Chí Minh</p>\\n<p>Gogi House - Phủ Lý Hà Nam<br />Số 189A Biên Hòa, Tổ 8, P. Lương Khánh Thiện, Phủ Lý, Hà Nam</p>\\n<p>Gogi House - Nguyễn Huệ<br />Tầng trệt Saigon Garden, 99 Nguyễn Huệ, P. Bến Nghé, Quận 1, Hồ Chí Minh</p>\\n<p>Gogi House - Phú Cường Kiên Giang<br />Lô TM3, Đường 3 Tháng 2, KĐT Phú Cường, P. An Hòa, Rạch Giá, Kiên Giang</p>\\n<p>Gogi House - Vĩnh Yên Vĩnh Phúc<br />Đường Chu Văn An, Liên Bảo, Vĩnh Phúc</p>\\n<p>Gogi House - Phú Lộc Lạng Sơn<br />TTTM Phú Lộc, KĐT Phú Lộc 4, Vĩnh Trại, Lạng Sơn</p>\\n<p>Gogi House - Phú Lộc Lạng Sơn<br />TTTM Phú Lộc, KĐT Phú Lộc 4, Vĩnh Trại, Lạng Sơn</p>\\n<p>Gogi House - Hà Nam<br />Số 189A Biên Hòa, Tổ 8, P. Lương Khánh Thiện, Phủ Lý, Hà Nam</p>\\n<p>Gogi House - Vincom Thảo Điền<br />TTTM Vincom, 161 Xa Lộ HN, P. Thảo Điền, Quận 2, Hồ Chí Minh</p>\\n<p>Gogi House - Lãnh Binh Thăng<br />Số 323 - 325 Lãnh Binh Thăng, P. 8, Quận 11, Hồ chí Minh</p>\\n<p>Gogi House - Royal City<br />TTTM Royal City, 72 Nguyễn Trãi, P. Thượng Đình, Quận Thanh Xuân, Hà Nội</p>\\n<p>Gogi House - Nam Kỳ Khởi Nghĩa Tiền Giang<br />Số 86 Nam Kỳ Khởi Nghĩa, P. 1, Mỹ Tho, Tiền Giang</p>\\n<p>Gogi House - Vincom Xuân Khánh<br />TTTM Vincom, Số 209 Đường 30/4, P. Xuân Khánh, Quận Ninh Kiều, Cần Thơ</p>\\n<p>Gogi House - Big C Đồng Nai<br />TTTM BigC ĐồngNai, 833 Xa Lộ Hà Nội, P. Long Bình Tân, Biên Hòa, Đồng Nai</p>\\n<p>Gogi House - Tràng Thi<br />Tầng 2, Số 8 Tràng Thi, Quận Hoàn Kiếm, Hà Nội</p>\\n<p>Gogi House - Hùng Vương Long An<br />Số 340 Hùng Vương, P. 3, Tân An, Long An</p>\\n<p>Gogi House - Đồng Đen<br />103 Đồng Đen, P. 12, Quận Tân Bình, Hồ Chí Minh</p>\\n<p>Gogi House - Phan Xích Long<br />191 Phan Xích Long, P. 2, Quận Phú Nhuận, Hồ Chí Minh</p>\\n<p>Gogi House - Lapen Center<br />TTTM Lapen Center, Số 33A Đường 30/4, P. 9, Vũng Tàu, Bà Rịa - Vũng Tàu</p>\\n<p>Gogi House - Hùng Vương Long An<br />Số 340 Hùng Vương, P. 3, Tân An, Long An</p>\\n<p>Gogi House - Lotte Cần Thơ<br />TTTM Lotte Mart, 84 Mậu Thân, P. An Hòa, Quận Ninh Kiều, Cần Thơ</p>\\n<p>Gogi House - Vĩnh Yên Vĩnh Phúc<br />136 Phố Tôn Đức Thắng, P. Khai Quang, Vĩnh Yên, Vĩnh Phúc</p>\\n<p>Gogi House - Vĩnh Yên Vĩnh Phúc<br />136 Phố Tôn Đức Thắng, P. Khai Quang, Vĩnh Yên, Vĩnh Phúc</p>\\n<p>Gogi House - Uông Bí Quảng Ninh<br />Phố Xuân Diệu, P. Quang Trung, Uông Bí, Quảng Ninh</p>\\n<p>Gogi House - Kim Mã<br />Số 2 Trần Huy Liệu, Quận Ba Đình, Hà Nội</p>\\n<p>Gogi House - Nguyễn Lương Bằng<br />Số 316 Nguyễn Lương Bằng, P. Thanh Trung, Hải Dương</p>\\n<p>Gogi House - Uông Bí Quảng Ninh<br />Phố Xuân Diệu, P. Quang Trung, Uông Bí, Quảng Ninh</p>\\n<p>Gogi House - Bắc Sơn Thái Nguyên<br />Tòa nhà Quỳnh Minh, đường Bắc Sơn, P. Hoàng Văn Thụ, Thái Nguyên</p>\\n<p>Gogi House - Bắc Sơn Thái Nguyên<br />Tòa nhà Quỳnh Minh, đường Bắc Sơn, P. Hoàng Văn Thụ, Thái Nguyên</p>\\n<p>Gogi House - Big C Đồng Nai<br />Shop 36 Big C, Số 833 Xa Lộ Hà Nội, P. Long Bình Tân, Biên Hòa, Đồng Nai</p>\\n<p>Gogi House - Lê Trọng Tấn<br />675 – 677 – 679 Lê Trọng Tấn, KP. 4, P. Bình Hưng Hòa, Quận Bình Tân, Hồ Chí Minh</p>\\n<p>Gogi House - Bắc Ninh<br />Số 9 Nguyễn Đăng Đạo, Phường Đại Phúc, Bắc Ninh</p>\\n<p>Gogi House - Times City<br />Gian hàng TL - 46A, TTTM Vincom Mega Mall Times city, 458 Minh Khai, Quận Hai Bà Trưng, Hà Nội</p>\\n<p>Gogi House - Times City<br />Hầm B1, 54-56 Thời Đại, Quận Hai Bà Trưng, Hà Nội</p>\\n<p>Gogi House - Việt Trì Phú Thọ<br />2211 Đại lộ Hùng Vương, P. Nông Trang, Việt Trì, Phú Thọ</p>\\n<p>Gogi House - Láng Hạ<br />77 Láng Hạ, Quận Đống Đa, Hà Nội</p>\\n<p>Gogi House - Vincom Phạm Ngọc Thạch<br />Vincom Phạm Ngọc Thạch, Quận Đống Đa, Hà Nội</p>\\n<p>Gogi House - Huỳnh Tấn Phát<br />559 Huỳnh Tấn Phát, Quận 7, Hồ Chí Minh</p>\\n<p>Gogi House - Ariyana Nha Trang<br />Ariyana Smart Condotel Số 18 Trần Hưng Đạo, Phường Lộc Thọ, Nha Trang, Khánh Hòa</p>\\n<p>Gogi House - Saigon Center<br />Tầng 5, Tòa nhà Saigon Center, Số 65 Lê Lợi, Phường Bến Nghé, Quận 1, Hồ Chí Minh</p>\\n<p>Gogi House - Nguyễn Hữu Thọ<br />Tầng 1, 1F-74A - TTTM LOTTE Mart Nam Sài Gòn - Số 469 Nguyễn Hữu Thọ, Phường Tân Hưng, Quận 7, Hồ Chí Minh</p>\\n<p>Gogi House - Trương Định<br />TTTM Chợ Trương Định, Số 461 Trương Định, Quận Hoàng Mai, Hà Nội</p>\\n<p>Gogi House - Times City<br />Gian hàng TL - 46B, TTTM Vincom Mega Mall Times city, 458 Minh Khai, Quận Hai Bà Trưng, Hà Nội</p>\\n<p>Gogi House - Aeon Mall<br />Đường Hồ Sen, Cầu Rào 2, P. Kênh Dương, Quận Lê Chân, Hải Phòng</p>\\n<p>Gogi House - Trần Nguyên Hãn<br />Số 263 Trần Nguyên Hãn, P. Nghĩa Xá, Quận Lê Chân, Hải Phòng</p>\\n<p>Gogi House - Nguyễn Văn Quá<br />758 Nguyễn Văn Quá, Phường Đông Hưng Thuận, Quận 12, Hồ Chí Minh</p>\\n<p>Gogi House - Quán Sứ<br />30 - 32 Quán Sứ, Hàng Bông, Quận Hoàn Kiếm, Hà Nội</p>\\n<p>Gogi House - Phan Huy Ích<br />67 Phan Huy Ích, Phường 15, Quận Tân Bình, Hồ Chí Minh</p>\\n<p>Gogi House - Linh Đàm<br />Số 1 KĐT mới Tây Nam Hồ Linh Đàm, Quận Hoàng Mai, Hà Nội</p>\\n<p>Gogi House - Bình Phú<br />30-32 Bình Phú, P. 11, Quận 6, Hồ Chí Minh</p>\\n<p>Gogi House - Vincom Phan Đình Phùng<br />Tầng L1, TTTM Vincom Plaza, Số 198 Phan Đình Phùng, P. Quyết Thắng, Kon Tum, Kon Tum</p>\\n<p>Gogi House - Trường Sơn<br />14 Trường Sơn, P 2, Quận Tân Bình, Hồ Chí Minh</p>\\n<p>Gogi House - Vinhome Ocean Park<br />L4-05, Tầng 4, Vinhomes Ocean Park, Kiêu Kỵ, Huyện Gia Lâm, Hà Nội</p>\\n<p>Gogi House - Bắc Giang<br />Số 97 Hùng Vương, Q. Ngô Quyền, Bắc Giang</p>\\n<p>Gogi House - Vincom Phạm Ngọc Thạch<br />L5-01 &amp; 02, Tầng 5, TTTM Vincom Phạm Ngọc Thạch, Quận Đống Đa, Hà Nội</p>\\n<p>Gogi House - Nguyễn Tri Phương (Đà Nẵng)<br />Số 2 Nguyễn Tri Phương, P. Chính Gián, Quận Thanh Khê, Đà Nẵng</p>\\n<p>Gogi House - Lapen Center<br />TTTM Imperial, 159 - 163 Thùy Vân, P. Thắng Tam, Vũng Tàu, Bà Rịa - Vũng Tàu</p>\\n<p>Gogi House - Estella<br />Gian hàng L3-10a tại TTTM Estella Place, 88 Song Hành, P. An Phú, Quận 2, Hồ Chí Minh</p>\\n<p>Gogi House - Savico<br />Tầng 3, TTTM Savico Mega Mall, 7-9 Nguyễn Văn Linh, Quận Long Biên, Hà Nội</p>\\n<p>Gogi House - Nguyễn Văn Linh<br />Lô A5 Nguyễn Văn Linh, P. Bình Hiên, Quận Hải Châu, Đà Nẵng</p>\\n<p>Gogi House - Vincom Vĩnh Long<br />Tầng 3 TTTM Vincom, 55 Phạm Thái Bường, P. 4, Vĩnh Long</p>\\n<p>Gogi House - Bà Hom<br />73A -73B Bà Hom, P. 13, Quận 6, Hồ Chí Minh</p>\\n<p>Gogi House - Vincom Đà Nẵng<br />TTTM Vincom, Ngô Quyền, P. An Hải Bắc, Quận Sơn Trà, Đà Nẵng</p>\\n<p>Gogi House - Big C Đà Nẵng<br />TTTM Big C, KTM Vĩnh Trung, Hùng Vương, P. Vĩnh Trung, Quận Thanh Khê, Đà Nẵng</p>\\n<p>Gogi House - Big C Bến Tre<br />TTTM Big C, đường Võ Nguyên Giáp, Ấp 1, Sơn Đông, Bến Tre</p>\\n<p>Gogi House - Artemis<br />TTTM The Artemis, 3 Lê Trọng Tấn, P. Khương Mai, Quận Thanh Xuân, Hà Nội</p>\\n<p>Gogi House - Cao Lãnh<br />TTTM và Shop House Cao Lãnh, P. 1, Cao Lãnh, Đồng Tháp</p>\\n<p>Gogi House - Times Garden Hạ Long<br />Căn SH4-1 KĐT Times Garden, Lê Thánh Tông, P. Bạch Đằng, Hạ Long, Quảng Ninh</p>\\n<p>Gogi House - Vincom Trần Hưng Đạo<br />Tầng L1, TTTM Vincom Plaza, Đường Trần Hưng Đạo, P. 2, Sóc Trăng, Sóc Trăng</p>\\n<p>Gogi House - Phó Đức Chính<br />Số 67 Phó Đức Chính, P. Trúc Bạch, Quận Ba Đình, Hà Nội</p>\\n<p>Gogi House - Aeon Mall Tân Phú<br />Lô F33, tầng 1 TTTM Aeon Tân Phú, 30 Bờ Bao Tân Thắng, P. Sơn Kỳ, Quận Tân Phú, Hồ Chí Minh</p>\\n<p>Gogi House - An Dương Vương<br />Khu đô thị phía Tây đường An Dương Vương, P. Nguyễn Văn Cừ, Quy Nhơn, Bình Định</p>\\n<p>Gogi House - Vincom Bạc Liêu<br />Lô L3-05, Vincom Plaza, Số 15 Trần Phú, Khóm 1, P. 3, Bạc Liêu, Bạc Liêu</p>\\n<p>Gogi House - Hàm Nghi<br />TT01-04 21 22 HD Mon, Hàm Nghi, P. Mỹ Đình, Quận Nam Từ Liêm, Hà Nội</p>\\n<p>Gogi House - Lotte Mart Đà Nẵng<br />TTTM Lotte Mart, Số 6 Nại Nam, P. Hòa Cường Bắc, Quận Hải Châu, Đà Nẵng</p>\\n<p>Gogi House - Aeon Mall Long Biên<br />TTTM Aeon Mall, 27 Cổ Linh, P. Long Biên, Quận Long Biên, Hà Nội</p>\\n<p>Gogi House - Vạn Phúc<br />Số 20 - 21 Shop House Tố Hữu, P. Vạn Phúc, Quận Hà Đông, Hà Nội</p>\\n<p>Gogi House - Ngụy Như Kom Tum<br />Số 100 Ngụy Như Kon Tum, P. Thanh Xuân Trung, Quận Thanh Xuân, Hà Nội</p>\\n<p>Gogi House - Trần Văn Lai<br />123TT3 KĐT Mỹ Đình Sông Đà, P. Mỹ Đình, Quận Nam Từ Liêm, Hà Nội</p>\\n<p>Gogi House - Tân Mai<br />Số 109 Tân Mai, P. Tân Mai, Quận Hoàng Mai, Hà Nội</p>\\n<p>Gogi House - Mipec Long Biên<br />TTTM Mipec, Số 2 Long Biên, P. Ngọc Lâm, Quận Long Biên, Hà Nội</p>\\n<p>Gogi House - Nguyễn Văn Lộc<br />Khu nhà liền kề 3C-10, 11, 24, 25 Nguyễn Văn Lộc, KĐT Mỗ Lao, Quận Hà Đông, Hà Nội</p>\\n<p>Gogi House - Bạch Đằng<br />Căn BH01-06, BH01-07, BH01-08, Tầng 1, KĐT Vinhomes Imperia, P. Thượng Lý, Quận Hồng Bàng, Hải Phòng</p>\\n<p>Gogi House - Big C Huế<br />TTTM GO! Huế, 174 Bà Triệu, Phường Phú Nhuận, Huế, Thừa Thiên Huế</p>\\n<p>Gogi House - Linh Đàm<br />Dãy A- TT3 – Tây Nam Linh Đàm, Quận Hoàng Mai, Hà Nội</p>\\n<p>Gogi House - Vincom Thảo Điền<br />161 Xa Lộ Hà Nội, P. Thảo Điền, Quận 2, Hồ Chí Minh</p>\\n<p>Gogi House - Vincom Dĩ An<br />Lô L1-09, TTTM Vincom Plaza, số 79 đường ĐT743B, Khu phố Thống Nhất 1, P. Dĩ An, Dĩ An, Bình Dương</p>\\n<p>\\xa0</p>'},\n",
       "    {'code': 'dieu_kien_su_dung',\n",
       "     'name': 'Điều kiện sử dụng',\n",
       "     'value': '<p style=\"text-align:justify;\"><strong>• Khách hàng vui lòng đưa đúng tin nhắn SMS nhận diện của TiKi cho nhân viên để sử dụng voucher (không chấp nhận các danh sách mã voucher viết tay, in ấn ra giấy).<br />• Voucher không có giá trị quy đổi thành tiền mặt, không được hoàn trả tiền thừa. Mã voucher đã mua không hỗ trợ hoàn hủy đổi trả dưới mọi hình thức.</strong><br /><strong>• Qúy Khách vui lòng xuất trình bracode/QR code để thanh toán, không áp dụng mã số voucher.</strong><br />• Mỗi voucher được sử dụng 01 lần, có thể áp dụng nhiều voucher cho 01 hóa đơn.<br />• Không có giá trị quy đổi thành tiền mặt, không được hoàn trả tiền thừa.<br />• Không chấp nhận mã voucher quá hạn sử dụng, trạng thái đã sử dụng.<br />• Voucher không áp dụng tích điểm, tích G-coin trên TGS và các ưu đãi khác của G-people.<br />• Nghiêm cấm mọi hình thức mua đi bán lại, kinh doanh trái với qui định của GiftPop và Golden Gate. <br />• GoGi House có quyền từ chối áp dụng và thu hồi voucher khi phát hiện voucher đó nằm trong hành vi mua đi bán lại, kinh doanh trái với quy định của Giftpop và Golden Gate.<br />• Nếu giá trị đơn hàng của khách hàng vượt quá giá trị của voucher thì khách hàng phải thanh toán thêm khoản chênh lệch bằng tiền mặt, thẻ ATM, mastercard, thẻ visa...<br />• Áp dụng cho toàn bộ sản phẩm tại các cửa hàng được GoGi House chỉ định. Vui lòng xem thêm thông tin địa chỉ cửa hàng bên dưới.<br />• Voucher có giá trị tương đương tiền mặt, voucher giấy G-People.<br />• GoGi House chịu trách nhiệm xuất hóa đơn VAT cho tất cả giá trị hoán đơn (kể cả phần thanh toán bằng voucher) cho khách hàng sử dụng tại nhà hàng.<br />• Chỉ xuất hóa đơn VAT cho khách hàng trực tiếp dùng bữa tại nhà hàng.<br />• Chỉ áp dụng voucher cho khách hàng trực tiếp dùng bữa tại nhà hàng.<br />• Khách hàng có trách nhiệm bảo mật thông tin mã thẻ quà tặng sau khi đặt mua. Giftpop sẽ không chịu trách nhiệm hoàn trả các mã thẻ bị mất hoặc ở trạng thái \"Đã sử dụng\" với bất kỳ lý do gì.<br />• Giftpop sẽ không chịu trách nhiệm đối với chất lượng sản phẩm hoặc dịch vụ được cung cấp cũng như đối với các tranh chấp về sau giữa khách hàng và nhà cung cấp.<br />• Giftpop có quyền sửa chữa hoặc thay đổi điều khoản và điều kiện sử dụng mà không thông báo trước.<br /><strong>• Hạn sử dụng được gửi kèm mã e-voucher đến tin nhắn theo số điện thoại mua hàng.</strong><br />• Hotline Giftpop: 1900 55 88 12</p>'},\n",
       "    {'code': 'dia_chi_su_dung',\n",
       "     'name': 'Địa chỉ sử dụng',\n",
       "     'value': '<p>GoGi House</p><p>Số 45 Huỳnh Thúc Kháng, P. Láng Hạ</p>\\n'}]},\n",
       "  {'name': 'Cách sử dụng',\n",
       "   'attributes': [{'code': 'how_to_use',\n",
       "     'name': 'Hướng dẫn sử dụng',\n",
       "     'value': '<p><strong>Hướng dẫn sử dụng Evoucher:</strong><br />Bước 1: Sau khi hoàn tất thanh toán, Quý khách sẽ nhận được tin nhắn mã voucher từ TiKi gửi đến.<br />Bước 2: Đến cửa hàng xuất trình hình ảnh tin nhắn mã voucher cho nhân viên thu ngân để sử dụng.</p>'}]},\n",
       "  {'name': 'Thời hạn sử dụng',\n",
       "   'attributes': [{'code': 'expiry_date',\n",
       "     'name': 'Thời hạn sử dụng',\n",
       "     'value': 'Hạn sử dụng 60 ngày (kể từ ngày mua)'}]}],\n",
       " 'product_links': [],\n",
       " 'services_and_promotions': [],\n",
       " 'promitions': [],\n",
       " 'stock_item': {'max_sale_qty': 1000,\n",
       "  'min_sale_qty': 1,\n",
       "  'preorder_date': None,\n",
       "  'qty': 1000},\n",
       " 'quantity_sold': {'text': 'Đã bán 17', 'value': 17},\n",
       " 'categories': {'id': 24390, 'name': 'Nhà hàng', 'is_leaf': True},\n",
       " 'breadcrumbs': [{'url': '/voucher-dich-vu/c11312',\n",
       "   'name': 'Voucher - Dịch vụ',\n",
       "   'category_id': 11312},\n",
       "  {'url': '/nha-hang-an-uong/c11313',\n",
       "   'name': 'Nhà hàng - Ăn uống',\n",
       "   'category_id': 11313},\n",
       "  {'url': '/nha-hang/c24390', 'name': 'Nhà hàng', 'category_id': 24390},\n",
       "  {'url': 'https://tiki.vn/giftpop-phieu-qua-tang-gogi-house-1000k-p186116351.html',\n",
       "   'name': 'Giftpop - Phiếu Quà Tặng GoGi House 1000K',\n",
       "   'category_id': 0}],\n",
       " 'installment_info': None,\n",
       " 'installment_info_v2': None,\n",
       " 'is_seller_in_chat_whitelist': True,\n",
       " 'inventory': {'product_virtual_type': 'evoucher',\n",
       "  'fulfillment_type': 'instant_delivery'},\n",
       " 'warranty_info': [],\n",
       " 'return_and_exchange_policy': 'Đổi trả trong<br><b>30 ngày</b><br>nếu sp lỗi'}"
      ]
     },
     "execution_count": 70,
     "metadata": {},
     "output_type": "execute_result"
    }
   ],
   "source": [
    "data_sample[a]"
   ]
  },
  {
   "cell_type": "code",
   "execution_count": null,
   "id": "a30107d2",
   "metadata": {},
   "outputs": [],
   "source": []
  }
 ],
 "metadata": {
  "kernelspec": {
   "display_name": "Python 3 (ipykernel)",
   "language": "python",
   "name": "python3"
  },
  "language_info": {
   "codemirror_mode": {
    "name": "ipython",
    "version": 3
   },
   "file_extension": ".py",
   "mimetype": "text/x-python",
   "name": "python",
   "nbconvert_exporter": "python",
   "pygments_lexer": "ipython3",
   "version": "3.9.2"
  }
 },
 "nbformat": 4,
 "nbformat_minor": 5
}
