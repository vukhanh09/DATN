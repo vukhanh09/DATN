{
 "cells": [
  {
   "cell_type": "code",
   "execution_count": 1,
   "id": "e8d4b314",
   "metadata": {},
   "outputs": [],
   "source": [
    "from json import loads\n",
    "from pyspark.sql import SparkSession\n",
    "import warnings\n",
    "warnings.filterwarnings(\"ignore\")\n",
    "from pyspark.sql.functions import col,from_json,udf,explode\n",
    "from pyspark.sql.types import StructType,StructField, StringType, IntegerType,MapType,FloatType,ArrayType"
   ]
  },
  {
   "cell_type": "code",
   "execution_count": 2,
   "id": "ee8aaf2a",
   "metadata": {},
   "outputs": [
    {
     "name": "stderr",
     "output_type": "stream",
     "text": [
      "22/11/20 16:39:40 WARN NativeCodeLoader: Unable to load native-hadoop library for your platform... using builtin-java classes where applicable\n",
      "Using Spark's default log4j profile: org/apache/spark/log4j-defaults.properties\n",
      "Setting default log level to \"WARN\".\n",
      "To adjust logging level use sc.setLogLevel(newLevel). For SparkR, use setLogLevel(newLevel).\n",
      "22/11/20 16:39:41 WARN Utils: Service 'SparkUI' could not bind on port 4040. Attempting port 4041.\n"
     ]
    }
   ],
   "source": [
    "spark = SparkSession.\\\n",
    "        builder.\\\n",
    "        appName(\"process-data\").\\\n",
    "        master(\"spark://spark-master:7077\").\\\n",
    "        config(\"spark.executor.memory\", \"1024m\").\\\n",
    "        getOrCreate()"
   ]
  },
  {
   "cell_type": "code",
   "execution_count": 3,
   "id": "187da813",
   "metadata": {},
   "outputs": [
    {
     "name": "stderr",
     "output_type": "stream",
     "text": [
      "                                                                                \r"
     ]
    }
   ],
   "source": [
    "data = spark.read.parquet('hdfs://namenode:9000/tiki/Product')"
   ]
  },
  {
   "cell_type": "code",
   "execution_count": 4,
   "id": "19eb6917",
   "metadata": {},
   "outputs": [
    {
     "name": "stderr",
     "output_type": "stream",
     "text": [
      "                                                                                \r"
     ]
    }
   ],
   "source": [
    "sample_data = data.select('value').take(5)"
   ]
  },
  {
   "cell_type": "code",
   "execution_count": 5,
   "id": "adc693c7",
   "metadata": {},
   "outputs": [],
   "source": [
    "data_sample = [loads(item.value) for item in sample_data]"
   ]
  },
  {
   "cell_type": "code",
   "execution_count": 6,
   "id": "dfbb3a34",
   "metadata": {},
   "outputs": [],
   "source": [
    "schema = StructType([ \n",
    "    StructField(\"id\",IntegerType(),True), \n",
    "    StructField(\"master_id\",IntegerType(),True), \n",
    "    StructField(\"sku\",StringType(),True), \n",
    "    StructField(\"name\",StringType(),True),\n",
    "    StructField(\"short_description\",StringType(),True), \n",
    "    StructField(\"price\",IntegerType(),True),\n",
    "    StructField(\"list_price\",IntegerType(),True),\n",
    "    StructField('original_price', IntegerType(),True),\n",
    "    StructField('discount', IntegerType(),True),\n",
    "    StructField('discount_rate', FloatType(),True),\n",
    "    \n",
    "    StructField(\"rating_average\",FloatType(),True), \n",
    "    StructField(\"review_count\",IntegerType(),True), \n",
    "    StructField(\"productset_group_name\",StringType(),True), \n",
    "    StructField(\"all_time_quantity_sold\",IntegerType(),True),\n",
    "    \n",
    "    StructField(\"description\",StringType(),True), \n",
    "    StructField(\"current_seller\",MapType(StringType(),StringType()),True),\n",
    "    StructField(\"other_sellers\",ArrayType(MapType(StringType(),StringType())),True),\n",
    "    StructField(\"breadcrumbs\",ArrayType(MapType(StringType(),StringType())),True),\n",
    "    StructField(\"specifications\",ArrayType(StructType(\n",
    "                    [\n",
    "                        StructField(\"name\", StringType()),\n",
    "                        StructField(\"attributes\",ArrayType(MapType(StringType(),StringType())),True),\n",
    "                    ]\n",
    "                )),True),\n",
    "\n",
    "    StructField('return_and_exchange_policy', StringType(),True)\n",
    "])"
   ]
  },
  {
   "cell_type": "code",
   "execution_count": 7,
   "id": "da7c8871",
   "metadata": {},
   "outputs": [],
   "source": [
    "df = data.withColumn(\"jsonData\",from_json(col(\"value\"),schema)) \\\n",
    "                   .select(\"jsonData.*\")"
   ]
  },
  {
   "cell_type": "code",
   "execution_count": 8,
   "id": "d78246b6",
   "metadata": {},
   "outputs": [],
   "source": [
    "df.createOrReplaceTempView('Product')"
   ]
  },
  {
   "cell_type": "code",
   "execution_count": 9,
   "id": "ed6f64f8",
   "metadata": {},
   "outputs": [],
   "source": [
    "def extrct_other_seller(arr,current_id):\n",
    "    list_id = []\n",
    "    list_id.append(current_id)\n",
    "    for item in arr:\n",
    "        list_id.append(item['id'])\n",
    "    return list_id"
   ]
  },
  {
   "cell_type": "code",
   "execution_count": 10,
   "id": "dc075ae7",
   "metadata": {},
   "outputs": [
    {
     "data": {
      "text/plain": [
       "<function __main__.extrct_other_seller(arr, current_id)>"
      ]
     },
     "execution_count": 10,
     "metadata": {},
     "output_type": "execute_result"
    }
   ],
   "source": [
    "spark.udf.register('extrct_other_seller',extrct_other_seller,ArrayType(StringType()))"
   ]
  },
  {
   "cell_type": "code",
   "execution_count": 11,
   "id": "17c7acee",
   "metadata": {},
   "outputs": [],
   "source": [
    "# df_shop = spark.read.parquet('hdfs://namenode:9000/TikiCleaned/ShopInfo')\n",
    "# df_shop.createOrReplaceTempView(\"shop\")"
   ]
  },
  {
   "cell_type": "code",
   "execution_count": 12,
   "id": "53731ed5",
   "metadata": {},
   "outputs": [],
   "source": [
    "# spark.sql(\"\"\"\n",
    "#     select * from shop\n",
    "#     where id = 2152\n",
    "# \"\"\").collect()"
   ]
  },
  {
   "cell_type": "code",
   "execution_count": 13,
   "id": "6aff3aee",
   "metadata": {},
   "outputs": [],
   "source": [
    "# spark.sql(\"\"\"\n",
    "#     select *, explode(extrct_other_seller(other_sellers,current_seller.id)) sellers from Product\n",
    "#     where id = 20557588\n",
    "# \"\"\").collect()"
   ]
  },
  {
   "cell_type": "code",
   "execution_count": 14,
   "id": "b1a76159",
   "metadata": {},
   "outputs": [],
   "source": [
    "def parserAtt(specifications):\n",
    "    result = \"\"\n",
    "    try:\n",
    "        for s in specifications:\n",
    "            for a in s.attributes:\n",
    "                result += a['value']\n",
    "        result = cleanText(result)\n",
    "    except:\n",
    "        return \"\"\n",
    "    return result"
   ]
  },
  {
   "cell_type": "code",
   "execution_count": 15,
   "id": "30939100",
   "metadata": {},
   "outputs": [
    {
     "data": {
      "text/plain": [
       "<function __main__.parserAtt(specifications)>"
      ]
     },
     "execution_count": 15,
     "metadata": {},
     "output_type": "execute_result"
    }
   ],
   "source": [
    "spark.udf.register('parserAtt',parserAtt,StringType())"
   ]
  },
  {
   "cell_type": "code",
   "execution_count": 16,
   "id": "96dc8005",
   "metadata": {},
   "outputs": [],
   "source": [
    "import re\n",
    "# as per recommendation from @freylis, compile once only\n",
    "CLEANR = re.compile('<.*?>') \n",
    "def cleanText(str_raw):\n",
    "    # remove tags html\n",
    "    str_raw = re.sub(CLEANR, ' ', str_raw)\n",
    "\n",
    "    # remove special character\n",
    "    str_raw = re.sub('\\W+', ' ', str_raw)\n",
    "    \n",
    "    # remove number\n",
    "    str_raw = re.sub(\"[0-9]+\", \"\", str_raw)\n",
    "    \n",
    "    # remove space\n",
    "    cleantext = re.sub(\" +\", \" \", str_raw)\n",
    "    return cleantext.lower()"
   ]
  },
  {
   "cell_type": "code",
   "execution_count": 17,
   "id": "ff4072a3",
   "metadata": {},
   "outputs": [
    {
     "data": {
      "text/plain": [
       "<function __main__.cleanText(str_raw)>"
      ]
     },
     "execution_count": 17,
     "metadata": {},
     "output_type": "execute_result"
    }
   ],
   "source": [
    "spark.udf.register(\"cleanText\", cleanText,StringType())"
   ]
  },
  {
   "cell_type": "code",
   "execution_count": 34,
   "id": "6fd64119",
   "metadata": {},
   "outputs": [],
   "source": [
    "# product_clean = spark.sql(\"\"\"\n",
    "#         select id,master_id,sku,price,list_price,original_price,discount,discount_rate,\n",
    "#         rating_average,review_count,productset_group_name,all_time_quantity_sold,\n",
    "#         cleanText(name) name,cleanText(description) description,parserAtt(specifications) specifications,\n",
    "#         current_seller.id seller_id,current_seller.name seller_name,current_seller.store_id seller_store_id,\n",
    "#         cast(current_seller.product_id as int) product_id,\n",
    "#         breadcrumbs[0].name category_name,breadcrumbs[0].category_id category_id,\n",
    "#         explode(extrct_other_seller(other_sellers,current_seller.id)) sellers\n",
    "#         from Product\n",
    "# \"\"\")"
   ]
  },
  {
   "cell_type": "code",
   "execution_count": 18,
   "id": "2980bfbf",
   "metadata": {},
   "outputs": [],
   "source": [
    "product_clean = spark.sql(\"\"\"\n",
    "        select id,master_id,sku,price,list_price,original_price,discount,discount_rate,\n",
    "        rating_average,review_count,productset_group_name,all_time_quantity_sold,\n",
    "        cleanText(name) name,cleanText(description) description,parserAtt(specifications) specifications,\n",
    "        breadcrumbs[0].name category_name,breadcrumbs[0].category_id category_id\n",
    "        from Product\n",
    "\"\"\")"
   ]
  },
  {
   "cell_type": "code",
   "execution_count": 20,
   "id": "8e1e8524",
   "metadata": {},
   "outputs": [
    {
     "name": "stderr",
     "output_type": "stream",
     "text": [
      "                                                                                \r"
     ]
    }
   ],
   "source": [
    "product_clean.write.partitionBy(\"category_id\").mode('append').parquet('hdfs://namenode:9000/TikiCleaned/Product')"
   ]
  },
  {
   "cell_type": "code",
   "execution_count": 21,
   "id": "1ad7b147",
   "metadata": {},
   "outputs": [
    {
     "data": {
      "text/plain": [
       "46721"
      ]
     },
     "execution_count": 21,
     "metadata": {},
     "output_type": "execute_result"
    }
   ],
   "source": [
    "product_clean.count()"
   ]
  },
  {
   "cell_type": "code",
   "execution_count": 30,
   "id": "7157fe6c",
   "metadata": {},
   "outputs": [],
   "source": [
    "product_shop_info = spark.sql(\"\"\"\n",
    "        select id,explode(extrct_other_seller(other_sellers,current_seller.id)) sellers,breadcrumbs[0].category_id category_id\n",
    "        from Product\n",
    "\"\"\")"
   ]
  },
  {
   "cell_type": "code",
   "execution_count": 32,
   "id": "a65329e0",
   "metadata": {},
   "outputs": [
    {
     "name": "stderr",
     "output_type": "stream",
     "text": [
      "                                                                                \r"
     ]
    }
   ],
   "source": [
    "product_shop_info.write.partitionBy(\"category_id\").mode('append').parquet('hdfs://namenode:9000/TikiCleaned/Product_Shop')"
   ]
  },
  {
   "cell_type": "code",
   "execution_count": 33,
   "id": "25514470",
   "metadata": {},
   "outputs": [
    {
     "name": "stderr",
     "output_type": "stream",
     "text": [
      "                                                                                \r"
     ]
    },
    {
     "data": {
      "text/plain": [
       "127069"
      ]
     },
     "execution_count": 33,
     "metadata": {},
     "output_type": "execute_result"
    }
   ],
   "source": [
    "product_shop_info.count()"
   ]
  },
  {
   "cell_type": "code",
   "execution_count": null,
   "id": "84ba086f",
   "metadata": {},
   "outputs": [],
   "source": []
  }
 ],
 "metadata": {
  "kernelspec": {
   "display_name": "Python 3 (ipykernel)",
   "language": "python",
   "name": "python3"
  },
  "language_info": {
   "codemirror_mode": {
    "name": "ipython",
    "version": 3
   },
   "file_extension": ".py",
   "mimetype": "text/x-python",
   "name": "python",
   "nbconvert_exporter": "python",
   "pygments_lexer": "ipython3",
   "version": "3.9.2"
  }
 },
 "nbformat": 4,
 "nbformat_minor": 5
}
