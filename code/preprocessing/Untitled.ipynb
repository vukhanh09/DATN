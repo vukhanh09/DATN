{
 "cells": [
  {
   "cell_type": "code",
   "execution_count": 1,
   "id": "1edb91d6",
   "metadata": {},
   "outputs": [],
   "source": [
    "from json import loads\n",
    "from pyspark.sql import SparkSession\n",
    "import warnings\n",
    "warnings.filterwarnings(\"ignore\")\n",
    "from pyspark.sql.functions import col,from_json,udf,split,explode\n",
    "from pyspark.ml.feature import NGram\n",
    "from pyspark.sql.types import StructType,StructField, StringType, IntegerType,MapType,FloatType,ArrayType"
   ]
  },
  {
   "cell_type": "code",
   "execution_count": 2,
   "id": "bc82d643",
   "metadata": {},
   "outputs": [
    {
     "name": "stderr",
     "output_type": "stream",
     "text": [
      "23/01/25 12:57:07 WARN NativeCodeLoader: Unable to load native-hadoop library for your platform... using builtin-java classes where applicable\n",
      "Using Spark's default log4j profile: org/apache/spark/log4j-defaults.properties\n",
      "Setting default log level to \"WARN\".\n",
      "To adjust logging level use sc.setLogLevel(newLevel). For SparkR, use setLogLevel(newLevel).\n"
     ]
    }
   ],
   "source": [
    "spark = SparkSession.\\\n",
    "        builder.\\\n",
    "        appName(\"comment-anlysis\").\\\n",
    "        master(\"spark://spark-master:7077\").\\\n",
    "        config(\"spark.executor.memory\", \"1024m\").\\\n",
    "        getOrCreate()"
   ]
  },
  {
   "cell_type": "code",
   "execution_count": 3,
   "id": "1c77932f",
   "metadata": {},
   "outputs": [
    {
     "name": "stderr",
     "output_type": "stream",
     "text": [
      "                                                                                \r"
     ]
    }
   ],
   "source": [
    "df_product = spark.read.parquet('hdfs://namenode:9000/TikiCleaned/Product')\n",
    "df_comment = spark.read.parquet('hdfs://namenode:9000/TikiCleaned/Comment')\n",
    "df_shop = spark.read.parquet('hdfs://namenode:9000/TikiCleaned/ShopInfo')"
   ]
  },
  {
   "cell_type": "code",
   "execution_count": 4,
   "id": "82e86e90",
   "metadata": {},
   "outputs": [
    {
     "name": "stderr",
     "output_type": "stream",
     "text": [
      "                                                                                \r"
     ]
    },
    {
     "data": {
      "text/plain": [
       "95464"
      ]
     },
     "execution_count": 4,
     "metadata": {},
     "output_type": "execute_result"
    }
   ],
   "source": [
    "df_product.count()"
   ]
  },
  {
   "cell_type": "code",
   "execution_count": 5,
   "id": "c5f54e54",
   "metadata": {},
   "outputs": [
    {
     "data": {
      "text/plain": [
       "3568061"
      ]
     },
     "execution_count": 5,
     "metadata": {},
     "output_type": "execute_result"
    }
   ],
   "source": [
    "df_comment.count()"
   ]
  },
  {
   "cell_type": "code",
   "execution_count": 6,
   "id": "451e64be",
   "metadata": {},
   "outputs": [
    {
     "data": {
      "text/plain": [
       "8686"
      ]
     },
     "execution_count": 6,
     "metadata": {},
     "output_type": "execute_result"
    }
   ],
   "source": [
    "df_shop.count()"
   ]
  },
  {
   "cell_type": "code",
   "execution_count": 4,
   "id": "3a441898",
   "metadata": {},
   "outputs": [
    {
     "name": "stdout",
     "output_type": "stream",
     "text": [
      "root\n",
      " |-- id: integer (nullable = true)\n",
      " |-- store_id: integer (nullable = true)\n",
      " |-- name: string (nullable = true)\n",
      " |-- icon: string (nullable = true)\n",
      " |-- url: string (nullable = true)\n",
      " |-- is_official: boolean (nullable = true)\n",
      " |-- store_level: string (nullable = true)\n",
      " |-- is_followed: boolean (nullable = true)\n",
      " |-- avg_rating_point: float (nullable = true)\n",
      " |-- review_count: integer (nullable = true)\n",
      " |-- total_follower: integer (nullable = true)\n",
      " |-- days_since_joined: integer (nullable = true)\n",
      "\n"
     ]
    }
   ],
   "source": [
    "df_shop.printSchema()"
   ]
  },
  {
   "cell_type": "code",
   "execution_count": 5,
   "id": "f2529dfe",
   "metadata": {},
   "outputs": [
    {
     "name": "stdout",
     "output_type": "stream",
     "text": [
      "root\n",
      " |-- id: integer (nullable = true)\n",
      " |-- content: string (nullable = true)\n",
      " |-- clean_content: string (nullable = true)\n",
      " |-- thank_count: integer (nullable = true)\n",
      " |-- customer_id: integer (nullable = true)\n",
      " |-- rating: integer (nullable = true)\n",
      " |-- spid: integer (nullable = true)\n",
      " |-- seller_id: string (nullable = true)\n",
      " |-- product_id: integer (nullable = true)\n",
      " |-- customer_full_name: string (nullable = true)\n",
      " |-- purchased_at: string (nullable = true)\n",
      " |-- date_purchased_at: string (nullable = true)\n",
      " |-- review_created_date: string (nullable = true)\n",
      " |-- delivery_date: string (nullable = true)\n",
      " |-- review_after_delivery: integer (nullable = true)\n",
      " |-- sentiment: string (nullable = true)\n",
      " |-- lable: integer (nullable = true)\n",
      "\n"
     ]
    }
   ],
   "source": [
    "df_comment.printSchema()"
   ]
  },
  {
   "cell_type": "code",
   "execution_count": 8,
   "id": "3e9178f3",
   "metadata": {},
   "outputs": [
    {
     "name": "stdout",
     "output_type": "stream",
     "text": [
      "root\n",
      " |-- id: integer (nullable = true)\n",
      " |-- master_id: integer (nullable = true)\n",
      " |-- sku: string (nullable = true)\n",
      " |-- price: integer (nullable = true)\n",
      " |-- list_price: integer (nullable = true)\n",
      " |-- original_price: integer (nullable = true)\n",
      " |-- discount: integer (nullable = true)\n",
      " |-- discount_rate: float (nullable = true)\n",
      " |-- rating_average: float (nullable = true)\n",
      " |-- review_count: integer (nullable = true)\n",
      " |-- productset_group_name: string (nullable = true)\n",
      " |-- all_time_quantity_sold: integer (nullable = true)\n",
      " |-- name: string (nullable = true)\n",
      " |-- short_description: string (nullable = true)\n",
      " |-- clean_name: string (nullable = true)\n",
      " |-- clean_description: string (nullable = true)\n",
      " |-- clean_specifications: string (nullable = true)\n",
      " |-- category_name: string (nullable = true)\n",
      " |-- seller_id: string (nullable = true)\n",
      " |-- seller_name: string (nullable = true)\n",
      " |-- seller_store_id: string (nullable = true)\n",
      " |-- spid: integer (nullable = true)\n",
      " |-- category_id: integer (nullable = true)\n",
      "\n"
     ]
    }
   ],
   "source": [
    "df_product.printSchema()"
   ]
  },
  {
   "cell_type": "code",
   "execution_count": 7,
   "id": "d2cf582f",
   "metadata": {},
   "outputs": [],
   "source": [
    "Product_Shop = spark.read.parquet('hdfs://namenode:9000/analysis/Product_Shop')\n",
    "metaData = spark.read.parquet('hdfs://namenode:9000/analysis/metaData')\n",
    "comment_1gram = spark.read.parquet('hdfs://namenode:9000/analysis/comment_1gram')\n",
    "comment_2gram = spark.read.parquet('hdfs://namenode:9000/analysis/comment_2gram')"
   ]
  },
  {
   "cell_type": "code",
   "execution_count": 12,
   "id": "d7caffd9",
   "metadata": {},
   "outputs": [
    {
     "name": "stderr",
     "output_type": "stream",
     "text": [
      "23/01/25 13:31:19 WARN package: Truncated the string representation of a plan since it was too large. This behavior can be adjusted by setting 'spark.sql.debug.maxToStringFields'.\n"
     ]
    },
    {
     "data": {
      "text/plain": [
       "95451"
      ]
     },
     "execution_count": 12,
     "metadata": {},
     "output_type": "execute_result"
    }
   ],
   "source": [
    "Product_Shop.count()"
   ]
  },
  {
   "cell_type": "code",
   "execution_count": 13,
   "id": "49519669",
   "metadata": {},
   "outputs": [
    {
     "data": {
      "text/plain": [
       "3038114"
      ]
     },
     "execution_count": 13,
     "metadata": {},
     "output_type": "execute_result"
    }
   ],
   "source": [
    "metaData.count()"
   ]
  },
  {
   "cell_type": "code",
   "execution_count": 14,
   "id": "5f471b99",
   "metadata": {},
   "outputs": [
    {
     "data": {
      "text/plain": [
       "81038"
      ]
     },
     "execution_count": 14,
     "metadata": {},
     "output_type": "execute_result"
    }
   ],
   "source": [
    "comment_1gram.count()"
   ]
  },
  {
   "cell_type": "code",
   "execution_count": 15,
   "id": "c1e04864",
   "metadata": {},
   "outputs": [
    {
     "data": {
      "text/plain": [
       "1863421"
      ]
     },
     "execution_count": 15,
     "metadata": {},
     "output_type": "execute_result"
    }
   ],
   "source": [
    "comment_2gram.count()"
   ]
  },
  {
   "cell_type": "code",
   "execution_count": 10,
   "id": "897bcfa5",
   "metadata": {},
   "outputs": [
    {
     "name": "stdout",
     "output_type": "stream",
     "text": [
      "root\n",
      " |-- sentiment: string (nullable = true)\n",
      " |-- word: string (nullable = true)\n",
      " |-- count: long (nullable = true)\n",
      "\n"
     ]
    }
   ],
   "source": [
    "comment_1gram.printSchema()"
   ]
  },
  {
   "cell_type": "code",
   "execution_count": 11,
   "id": "04de0514",
   "metadata": {},
   "outputs": [
    {
     "name": "stdout",
     "output_type": "stream",
     "text": [
      "root\n",
      " |-- sentiment: string (nullable = true)\n",
      " |-- word: string (nullable = true)\n",
      " |-- count: long (nullable = true)\n",
      "\n"
     ]
    }
   ],
   "source": [
    "comment_2gram.printSchema()"
   ]
  },
  {
   "cell_type": "code",
   "execution_count": 8,
   "id": "832b2ad6",
   "metadata": {},
   "outputs": [
    {
     "name": "stdout",
     "output_type": "stream",
     "text": [
      "root\n",
      " |-- p_id: integer (nullable = true)\n",
      " |-- master_id: integer (nullable = true)\n",
      " |-- price: integer (nullable = true)\n",
      " |-- list_price: integer (nullable = true)\n",
      " |-- original_price: integer (nullable = true)\n",
      " |-- discount: integer (nullable = true)\n",
      " |-- discount_rate: float (nullable = true)\n",
      " |-- productset_group_name: string (nullable = true)\n",
      " |-- all_time_quantity_sold: integer (nullable = true)\n",
      " |-- p_name: string (nullable = true)\n",
      " |-- short_description: string (nullable = true)\n",
      " |-- p_clean_name: string (nullable = true)\n",
      " |-- clean_description: string (nullable = true)\n",
      " |-- clean_specifications: string (nullable = true)\n",
      " |-- category_name: string (nullable = true)\n",
      " |-- seller_id: string (nullable = true)\n",
      " |-- store_id: integer (nullable = true)\n",
      " |-- s_name: string (nullable = true)\n",
      " |-- icon: string (nullable = true)\n",
      " |-- url: string (nullable = true)\n",
      " |-- is_official: boolean (nullable = true)\n",
      " |-- store_level: string (nullable = true)\n",
      " |-- is_followed: boolean (nullable = true)\n",
      " |-- avg_rating_point: float (nullable = true)\n",
      " |-- review_count: integer (nullable = true)\n",
      " |-- total_follower: integer (nullable = true)\n",
      " |-- days_since_joined: integer (nullable = true)\n",
      " |-- category_id: integer (nullable = true)\n",
      "\n"
     ]
    }
   ],
   "source": [
    "Product_Shop.printSchema()"
   ]
  },
  {
   "cell_type": "code",
   "execution_count": 9,
   "id": "3b6e4525",
   "metadata": {},
   "outputs": [
    {
     "name": "stdout",
     "output_type": "stream",
     "text": [
      "root\n",
      " |-- p_id: integer (nullable = true)\n",
      " |-- master_id: integer (nullable = true)\n",
      " |-- price: integer (nullable = true)\n",
      " |-- list_price: integer (nullable = true)\n",
      " |-- original_price: integer (nullable = true)\n",
      " |-- discount: integer (nullable = true)\n",
      " |-- discount_rate: float (nullable = true)\n",
      " |-- productset_group_name: string (nullable = true)\n",
      " |-- all_time_quantity_sold: integer (nullable = true)\n",
      " |-- p_name: string (nullable = true)\n",
      " |-- short_description: string (nullable = true)\n",
      " |-- p_clean_name: string (nullable = true)\n",
      " |-- clean_description: string (nullable = true)\n",
      " |-- clean_specifications: string (nullable = true)\n",
      " |-- category_name: string (nullable = true)\n",
      " |-- seller_id: string (nullable = true)\n",
      " |-- store_id: integer (nullable = true)\n",
      " |-- s_name: string (nullable = true)\n",
      " |-- icon: string (nullable = true)\n",
      " |-- url: string (nullable = true)\n",
      " |-- is_official: boolean (nullable = true)\n",
      " |-- store_level: string (nullable = true)\n",
      " |-- is_followed: boolean (nullable = true)\n",
      " |-- avg_rating_point: float (nullable = true)\n",
      " |-- review_count: integer (nullable = true)\n",
      " |-- total_follower: integer (nullable = true)\n",
      " |-- days_since_joined: integer (nullable = true)\n",
      " |-- c_id: integer (nullable = true)\n",
      " |-- content: string (nullable = true)\n",
      " |-- clean_content: string (nullable = true)\n",
      " |-- thank_count: integer (nullable = true)\n",
      " |-- customer_id: integer (nullable = true)\n",
      " |-- rating: integer (nullable = true)\n",
      " |-- customer_full_name: string (nullable = true)\n",
      " |-- purchased_at: string (nullable = true)\n",
      " |-- date_purchased_at: string (nullable = true)\n",
      " |-- review_created_date: string (nullable = true)\n",
      " |-- delivery_date: string (nullable = true)\n",
      " |-- review_after_delivery: integer (nullable = true)\n",
      " |-- sentiment: string (nullable = true)\n",
      " |-- lable: integer (nullable = true)\n",
      " |-- category_id: integer (nullable = true)\n",
      "\n"
     ]
    }
   ],
   "source": [
    "metaData.printSchema()"
   ]
  },
  {
   "cell_type": "code",
   "execution_count": 3,
   "id": "797757ec",
   "metadata": {},
   "outputs": [
    {
     "name": "stderr",
     "output_type": "stream",
     "text": [
      "                                                                                \r"
     ]
    }
   ],
   "source": [
    "df_product = spark.read.parquet('hdfs://namenode:9000/tiki/Product')\n",
    "df_comment = spark.read.parquet('hdfs://namenode:9000/tiki/Comment')\n",
    "df_shop = spark.read.parquet('hdfs://namenode:9000/tiki/ShopInfo')"
   ]
  },
  {
   "cell_type": "code",
   "execution_count": 22,
   "id": "24b1bd12",
   "metadata": {},
   "outputs": [
    {
     "name": "stdout",
     "output_type": "stream",
     "text": [
      "+------------------------------------------------------------------------------------------------------------------------+\n",
      "|                                                                                                                   value|\n",
      "+------------------------------------------------------------------------------------------------------------------------+\n",
      "|{\"id\": 24629723, \"master_id\": 24629723, \"sku\": \"3201131389423\", \"name\": \"K\\u00ednh M\\u00e1t Nam Cao C\\u1ea5p K\\u00e8m...|\n",
      "|{\"id\": 614854, \"master_id\": 614854, \"sku\": \"2510608412924\", \"name\": \"Nh\\u1eefng Gi\\u1ea5c M\\u01a1 \\u1ede Hi\\u1ec7u S\\...|\n",
      "|{\"id\": 62231649, \"master_id\": 62231649, \"sku\": \"6840385438104\", \"name\": \"Combo 3 c\\u1eb7p thanh ch\\u1eafn khe c\\u1eed...|\n",
      "|{\"id\": 151756158, \"master_id\": 151756158, \"sku\": \"1823652985285\", \"name\": \"N\\u1ed2I \\u00c1P SU\\u1ea4T BLUESTONE PCB-5...|\n",
      "|{\"id\": 614854, \"master_id\": 614854, \"sku\": \"2510608412924\", \"name\": \"Nh\\u1eefng Gi\\u1ea5c M\\u01a1 \\u1ede Hi\\u1ec7u S\\...|\n",
      "|{\"id\": 24629723, \"master_id\": 24629723, \"sku\": \"3201131389423\", \"name\": \"K\\u00ednh M\\u00e1t Nam Cao C\\u1ea5p K\\u00e8m...|\n",
      "|{\"id\": 150622157, \"master_id\": 150622157, \"sku\": \"9902132677363\", \"name\": \"M\\u00e1y xay sinh t\\u1ed1 Electrolux E3TB1...|\n",
      "|{\"id\": 24629723, \"master_id\": 24629723, \"sku\": \"3201131389423\", \"name\": \"K\\u00ednh M\\u00e1t Nam Cao C\\u1ea5p K\\u00e8m...|\n",
      "|{\"id\": 37949789, \"master_id\": 37949789, \"sku\": \"3169391125222\", \"name\": \"Qu\\u1ea1t tr\\u1ea7n Panasonic F-56XPG 4 c\\u0...|\n",
      "|{\"id\": 62231649, \"master_id\": 62231649, \"sku\": \"6840385438104\", \"name\": \"Combo 3 c\\u1eb7p thanh ch\\u1eafn khe c\\u1eed...|\n",
      "+------------------------------------------------------------------------------------------------------------------------+\n",
      "only showing top 10 rows\n",
      "\n"
     ]
    }
   ],
   "source": [
    "df_product.show(10,120)"
   ]
  },
  {
   "cell_type": "code",
   "execution_count": 23,
   "id": "724a54ee",
   "metadata": {},
   "outputs": [
    {
     "name": "stdout",
     "output_type": "stream",
     "text": [
      "+------------------------------------------------------------------------------------------------------------------------+\n",
      "|                                                                                                                   value|\n",
      "+------------------------------------------------------------------------------------------------------------------------+\n",
      "|{\"id\": 12696578, \"title\": \"B\\u00ecnh th\\u01b0\\u1eddng\", \"content\": \"S\\u1ea3n ph\\u1ea9m Tiki Trading th\\u00ec okie. M\\...|\n",
      "|{\"id\": 17837163, \"title\": \"C\\u1ef1c k\\u00ec h\\u00e0i l\\u00f2ng\", \"content\": \"Pepsi chai nh\\u1ecf. U\\u1ed1ng ok nha. T...|\n",
      "|{\"id\": 17656856, \"title\": \"C\\u1ef1c k\\u00ec h\\u00e0i l\\u00f2ng\", \"content\": \"Giao h\\u00e0ng nhanh, date m\\u1edbi, th\\...|\n",
      "|{\"id\": 16628410, \"title\": \"C\\u1ef1c k\\u00ec h\\u00e0i l\\u00f2ng\", \"content\": \"d\\u00ed\\u00edidididididiidid\\u00ecvivivi...|\n",
      "|{\"id\": 10268605, \"title\": \"C\\u1ef1c k\\u00ec h\\u00e0i l\\u00f2ng\", \"content\": \"h\\u00e0ng ngon ae nh\\u00e9, n\\u00ean mua...|\n",
      "|{\"id\": 16265495, \"title\": \"C\\u1ef1c k\\u00ec h\\u00e0i l\\u00f2ng\", \"content\": \"Th\\u00f9ng Pepsi kh\\u00e1 r\\u1ebb 130k m...|\n",
      "|{\"id\": 16151553, \"title\": \"C\\u1ef1c k\\u00ec h\\u00e0i l\\u00f2ng\", \"content\": \"Mua \\u0111\\u01b0\\u1ee3c gi\\u00e1 r\\u1ebb...|\n",
      "|{\"id\": 17215693, \"title\": \"C\\u1ef1c k\\u00ec h\\u00e0i l\\u00f2ng\", \"content\": \"H\\u00c0NG GIAO NHANH CHI\\u1ec0U \\u0110\\u...|\n",
      "|{\"id\": 16036070, \"title\": \"C\\u1ef1c k\\u00ec h\\u00e0i l\\u00f2ng\", \"content\": \"S\\u1ea3n ph\\u1ea9m giao nhanh. \\u0110\\u0...|\n",
      "|{\"id\": 17187701, \"title\": \"H\\u00e0i l\\u00f2ng\", \"content\": \"R\\u1ea5t ch\\u1ea5t.... T\\u1eeb ch\\u1ea5t l\\u01b0\\u1ee3ng ...|\n",
      "+------------------------------------------------------------------------------------------------------------------------+\n",
      "only showing top 10 rows\n",
      "\n"
     ]
    }
   ],
   "source": [
    "df_comment.show(10,120)"
   ]
  },
  {
   "cell_type": "code",
   "execution_count": 24,
   "id": "25055058",
   "metadata": {},
   "outputs": [
    {
     "name": "stdout",
     "output_type": "stream",
     "text": [
      "+------------------------------------------------------------------------------------------------------------------------+\n",
      "|                                                                                                                   value|\n",
      "+------------------------------------------------------------------------------------------------------------------------+\n",
      "|{\"id\": 13239, \"store_id\": 12900, \"name\": \"Jess shop cosmetics\", \"icon\": \"https://vcdn.tikicdn.com/ts/seller/d5/cd/ca/...|\n",
      "|{\"id\": 232650, \"store_id\": 219682, \"name\": \"Hasu Sago Shop\", \"icon\": \"https://vcdn.tikicdn.com/ts/seller/11/87/fe/d55...|\n",
      "|{\"id\": 31606, \"store_id\": 30924, \"name\": \"H89 store\", \"icon\": \"https://vcdn.tikicdn.com/ts/seller/86/23/f2/5a4de26395...|\n",
      "|{\"id\": 251877, \"store_id\": 238909, \"name\": \"Gi\\u00e0y d\\u00e9p RYNA\", \"icon\": \"https://vcdn.tikicdn.com/ts/seller/95/...|\n",
      "|{\"id\": 230813, \"store_id\": 217845, \"name\": \"ROC LTD\", \"icon\": \"https://vcdn.tikicdn.com/ts/seller/c8/34/61/27f356bfc2...|\n",
      "|{\"id\": 276580, \"store_id\": 263627, \"name\": \"Vardino Official\", \"icon\": \"https://vcdn.tikicdn.com/ts/seller/53/3e/b7/c...|\n",
      "|{\"id\": 196109, \"store_id\": 183142, \"name\": \"D\\u1ee5ng c\\u1ee5 \\u0110\\u1ed3 Ngh\\u1ec1 s\\u1eeda ch\\u1eefa \\u00d4 T\\u00f...|\n",
      "|{\"id\": 266962, \"store_id\": 254007, \"name\": \"Ph\\u1ee5 t\\u00f9ng xe m\\u00e1y Anh Em Gia Nghi\\u1ec7p\", \"icon\": \"https://...|\n",
      "|{\"id\": 12647, \"store_id\": 12313, \"name\": \"Khogiadung\", \"icon\": \"https://vcdn.tikicdn.com/ts/seller/4b/54/1a/f385a79a7...|\n",
      "|{\"id\": 130282, \"store_id\": 120352, \"name\": \"Ho\\u00e0ng Kim \\u0110an\", \"icon\": \"https://vcdn.tikicdn.com/ts/seller/cf/...|\n",
      "+------------------------------------------------------------------------------------------------------------------------+\n",
      "only showing top 10 rows\n",
      "\n"
     ]
    }
   ],
   "source": [
    "df_shop.show(10,120)"
   ]
  },
  {
   "cell_type": "code",
   "execution_count": 10,
   "id": "916614e0",
   "metadata": {},
   "outputs": [],
   "source": [
    "from pyspark.sql.functions import sum"
   ]
  },
  {
   "cell_type": "code",
   "execution_count": 16,
   "id": "1a452fe8",
   "metadata": {},
   "outputs": [
    {
     "name": "stderr",
     "output_type": "stream",
     "text": [
      "                                                                                \r"
     ]
    },
    {
     "data": {
      "text/plain": [
       "[Row(sum(all_time_quantity_sold)=25207914)]"
      ]
     },
     "execution_count": 16,
     "metadata": {},
     "output_type": "execute_result"
    }
   ],
   "source": [
    "df_product.select(sum('all_time_quantity_sold')).collect()"
   ]
  },
  {
   "cell_type": "code",
   "execution_count": 17,
   "id": "f1c729ef",
   "metadata": {},
   "outputs": [
    {
     "name": "stderr",
     "output_type": "stream",
     "text": [
      "                                                                                \r"
     ]
    },
    {
     "data": {
      "text/plain": [
       "[Row(sum(all_time_quantity_sold)=25126552)]"
      ]
     },
     "execution_count": 17,
     "metadata": {},
     "output_type": "execute_result"
    }
   ],
   "source": [
    "df_product_shop.select(sum('all_time_quantity_sold')).collect()"
   ]
  },
  {
   "cell_type": "code",
   "execution_count": 13,
   "id": "14aa53e7",
   "metadata": {},
   "outputs": [
    {
     "data": {
      "text/plain": [
       "[Row(all_time_quantity_sold=None),\n",
       " Row(all_time_quantity_sold=8),\n",
       " Row(all_time_quantity_sold=1),\n",
       " Row(all_time_quantity_sold=None),\n",
       " Row(all_time_quantity_sold=None),\n",
       " Row(all_time_quantity_sold=None),\n",
       " Row(all_time_quantity_sold=None),\n",
       " Row(all_time_quantity_sold=None),\n",
       " Row(all_time_quantity_sold=None),\n",
       " Row(all_time_quantity_sold=None)]"
      ]
     },
     "execution_count": 13,
     "metadata": {},
     "output_type": "execute_result"
    }
   ],
   "source": [
    "df_product.select('all_time_quantity_sold').take(10)"
   ]
  },
  {
   "cell_type": "code",
   "execution_count": 12,
   "id": "d50735d1",
   "metadata": {},
   "outputs": [
    {
     "data": {
      "text/plain": [
       "[Row(all_time_quantity_sold=None),\n",
       " Row(all_time_quantity_sold=8),\n",
       " Row(all_time_quantity_sold=1),\n",
       " Row(all_time_quantity_sold=None),\n",
       " Row(all_time_quantity_sold=None),\n",
       " Row(all_time_quantity_sold=None),\n",
       " Row(all_time_quantity_sold=None),\n",
       " Row(all_time_quantity_sold=None),\n",
       " Row(all_time_quantity_sold=None),\n",
       " Row(all_time_quantity_sold=None)]"
      ]
     },
     "execution_count": 12,
     "metadata": {},
     "output_type": "execute_result"
    }
   ],
   "source": [
    "df_product_shop.select('all_time_quantity_sold').take(10)"
   ]
  },
  {
   "cell_type": "code",
   "execution_count": null,
   "id": "1d2025d4",
   "metadata": {},
   "outputs": [],
   "source": [
    "df_product_shop.all_time_quantity_sold.sum()"
   ]
  }
 ],
 "metadata": {
  "kernelspec": {
   "display_name": "Python 3 (ipykernel)",
   "language": "python",
   "name": "python3"
  },
  "language_info": {
   "codemirror_mode": {
    "name": "ipython",
    "version": 3
   },
   "file_extension": ".py",
   "mimetype": "text/x-python",
   "name": "python",
   "nbconvert_exporter": "python",
   "pygments_lexer": "ipython3",
   "version": "3.9.2"
  }
 },
 "nbformat": 4,
 "nbformat_minor": 5
}
