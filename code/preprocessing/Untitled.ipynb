{
 "cells": [
  {
   "cell_type": "code",
   "execution_count": 1,
   "id": "fe99d89f",
   "metadata": {},
   "outputs": [],
   "source": [
    "from json import loads\n",
    "from pyspark.sql import SparkSession\n",
    "import warnings\n",
    "warnings.filterwarnings(\"ignore\")\n",
    "from pyspark.sql.functions import col,from_json,udf,split,explode\n",
    "from pyspark.ml.feature import NGram\n",
    "from pyspark.sql.types import StructType,StructField, StringType, IntegerType,MapType,FloatType,ArrayType"
   ]
  },
  {
   "cell_type": "code",
   "execution_count": 2,
   "id": "62702649",
   "metadata": {},
   "outputs": [
    {
     "name": "stderr",
     "output_type": "stream",
     "text": [
      "22/12/30 09:55:42 WARN NativeCodeLoader: Unable to load native-hadoop library for your platform... using builtin-java classes where applicable\n",
      "Using Spark's default log4j profile: org/apache/spark/log4j-defaults.properties\n",
      "Setting default log level to \"WARN\".\n",
      "To adjust logging level use sc.setLogLevel(newLevel). For SparkR, use setLogLevel(newLevel).\n"
     ]
    }
   ],
   "source": [
    "spark = SparkSession.\\\n",
    "        builder.\\\n",
    "        appName(\"comment-anlysis\").\\\n",
    "        master(\"spark://spark-master:7077\").\\\n",
    "        config(\"spark.executor.memory\", \"1024m\").\\\n",
    "        getOrCreate()"
   ]
  },
  {
   "cell_type": "code",
   "execution_count": 3,
   "id": "dcafce6d",
   "metadata": {},
   "outputs": [
    {
     "name": "stderr",
     "output_type": "stream",
     "text": [
      "                                                                                \r"
     ]
    }
   ],
   "source": [
    "df_product = spark.read.parquet('hdfs://namenode:9000/TikiCleaned/Product')\n",
    "df_comment = spark.read.parquet('hdfs://namenode:9000/TikiCleaned/Comment')\n",
    "df_shop = spark.read.parquet('hdfs://namenode:9000/TikiCleaned/ShopInfo')\n",
    "df_product_shop = spark.read.parquet('hdfs://namenode:9000/TikiCleaned/Product_Shop')"
   ]
  },
  {
   "cell_type": "code",
   "execution_count": 18,
   "id": "ffb90b61",
   "metadata": {},
   "outputs": [
    {
     "name": "stderr",
     "output_type": "stream",
     "text": [
      "                                                                                \r"
     ]
    },
    {
     "data": {
      "text/plain": [
       "242080"
      ]
     },
     "execution_count": 18,
     "metadata": {},
     "output_type": "execute_result"
    }
   ],
   "source": [
    "df_product.count()*2"
   ]
  },
  {
   "cell_type": "code",
   "execution_count": 10,
   "id": "75e5cd08",
   "metadata": {},
   "outputs": [],
   "source": [
    "from pyspark.sql.functions import sum"
   ]
  },
  {
   "cell_type": "code",
   "execution_count": 16,
   "id": "9b8e3e38",
   "metadata": {},
   "outputs": [
    {
     "name": "stderr",
     "output_type": "stream",
     "text": [
      "                                                                                \r"
     ]
    },
    {
     "data": {
      "text/plain": [
       "[Row(sum(all_time_quantity_sold)=25207914)]"
      ]
     },
     "execution_count": 16,
     "metadata": {},
     "output_type": "execute_result"
    }
   ],
   "source": [
    "df_product.select(sum('all_time_quantity_sold')).collect()"
   ]
  },
  {
   "cell_type": "code",
   "execution_count": 17,
   "id": "0b862761",
   "metadata": {},
   "outputs": [
    {
     "name": "stderr",
     "output_type": "stream",
     "text": [
      "                                                                                \r"
     ]
    },
    {
     "data": {
      "text/plain": [
       "[Row(sum(all_time_quantity_sold)=25126552)]"
      ]
     },
     "execution_count": 17,
     "metadata": {},
     "output_type": "execute_result"
    }
   ],
   "source": [
    "df_product_shop.select(sum('all_time_quantity_sold')).collect()"
   ]
  },
  {
   "cell_type": "code",
   "execution_count": 13,
   "id": "6eaaa49b",
   "metadata": {},
   "outputs": [
    {
     "data": {
      "text/plain": [
       "[Row(all_time_quantity_sold=None),\n",
       " Row(all_time_quantity_sold=8),\n",
       " Row(all_time_quantity_sold=1),\n",
       " Row(all_time_quantity_sold=None),\n",
       " Row(all_time_quantity_sold=None),\n",
       " Row(all_time_quantity_sold=None),\n",
       " Row(all_time_quantity_sold=None),\n",
       " Row(all_time_quantity_sold=None),\n",
       " Row(all_time_quantity_sold=None),\n",
       " Row(all_time_quantity_sold=None)]"
      ]
     },
     "execution_count": 13,
     "metadata": {},
     "output_type": "execute_result"
    }
   ],
   "source": [
    "df_product.select('all_time_quantity_sold').take(10)"
   ]
  },
  {
   "cell_type": "code",
   "execution_count": 12,
   "id": "d6774da1",
   "metadata": {},
   "outputs": [
    {
     "data": {
      "text/plain": [
       "[Row(all_time_quantity_sold=None),\n",
       " Row(all_time_quantity_sold=8),\n",
       " Row(all_time_quantity_sold=1),\n",
       " Row(all_time_quantity_sold=None),\n",
       " Row(all_time_quantity_sold=None),\n",
       " Row(all_time_quantity_sold=None),\n",
       " Row(all_time_quantity_sold=None),\n",
       " Row(all_time_quantity_sold=None),\n",
       " Row(all_time_quantity_sold=None),\n",
       " Row(all_time_quantity_sold=None)]"
      ]
     },
     "execution_count": 12,
     "metadata": {},
     "output_type": "execute_result"
    }
   ],
   "source": [
    "df_product_shop.select('all_time_quantity_sold').take(10)"
   ]
  },
  {
   "cell_type": "code",
   "execution_count": null,
   "id": "a9d3320d",
   "metadata": {},
   "outputs": [],
   "source": [
    "df_product_shop.all_time_quantity_sold.sum()"
   ]
  }
 ],
 "metadata": {
  "kernelspec": {
   "display_name": "Python 3 (ipykernel)",
   "language": "python",
   "name": "python3"
  },
  "language_info": {
   "codemirror_mode": {
    "name": "ipython",
    "version": 3
   },
   "file_extension": ".py",
   "mimetype": "text/x-python",
   "name": "python",
   "nbconvert_exporter": "python",
   "pygments_lexer": "ipython3",
   "version": "3.9.2"
  }
 },
 "nbformat": 4,
 "nbformat_minor": 5
}
