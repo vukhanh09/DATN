{
 "cells": [
  {
   "cell_type": "code",
   "execution_count": 1,
   "id": "41754881",
   "metadata": {},
   "outputs": [],
   "source": [
    "from json import loads\n",
    "from pyspark.sql import SparkSession\n",
    "import warnings\n",
    "warnings.filterwarnings(\"ignore\")\n",
    "from pyspark.sql.functions import col,from_json,udf\n",
    "from pyspark.sql.types import StructType,StructField, StringType, IntegerType,MapType,FloatType,ArrayType,BooleanType"
   ]
  },
  {
   "cell_type": "code",
   "execution_count": 2,
   "id": "ac377192",
   "metadata": {},
   "outputs": [
    {
     "name": "stderr",
     "output_type": "stream",
     "text": [
      "22/11/21 13:55:52 WARN NativeCodeLoader: Unable to load native-hadoop library for your platform... using builtin-java classes where applicable\n",
      "Using Spark's default log4j profile: org/apache/spark/log4j-defaults.properties\n",
      "Setting default log level to \"WARN\".\n",
      "To adjust logging level use sc.setLogLevel(newLevel). For SparkR, use setLogLevel(newLevel).\n"
     ]
    }
   ],
   "source": [
    "spark = SparkSession.\\\n",
    "        builder.\\\n",
    "        appName(\"process-data\").\\\n",
    "        master(\"spark://spark-master:7077\").\\\n",
    "        config(\"spark.executor.memory\", \"1024m\").\\\n",
    "        getOrCreate()"
   ]
  },
  {
   "cell_type": "code",
   "execution_count": 3,
   "id": "f5f3d2fe",
   "metadata": {},
   "outputs": [
    {
     "name": "stderr",
     "output_type": "stream",
     "text": [
      "                                                                                \r"
     ]
    }
   ],
   "source": [
    "df_product = spark.read.parquet('hdfs://namenode:9000/TikiCleaned/Product')\n",
    "df_comment = spark.read.parquet('hdfs://namenode:9000/TikiCleaned/Comment')\n",
    "df_shop = spark.read.parquet('hdfs://namenode:9000/TikiCleaned/ShopInfo')\n",
    "df_product_shop = spark.read.parquet('hdfs://namenode:9000/TikiCleaned/Product_Shop')"
   ]
  },
  {
   "cell_type": "code",
   "execution_count": 4,
   "id": "587116b2",
   "metadata": {},
   "outputs": [],
   "source": [
    "df_product.createOrReplaceTempView(\"product\")\n",
    "df_comment.createOrReplaceTempView(\"comment\")\n",
    "df_shop.createOrReplaceTempView(\"shop\")\n",
    "df_product_shop.createOrReplaceTempView(\"product_shop\")"
   ]
  },
  {
   "cell_type": "code",
   "execution_count": 5,
   "id": "a3401599",
   "metadata": {},
   "outputs": [
    {
     "name": "stderr",
     "output_type": "stream",
     "text": [
      "                                                                                \r"
     ]
    },
    {
     "name": "stdout",
     "output_type": "stream",
     "text": [
      "comment count: 4243515 \n",
      "product count: 46721 \n",
      "shop count: 9945       \n",
      "product_shop count: 127069\n"
     ]
    }
   ],
   "source": [
    "print(\"comment count: {} \\nproduct count: {} \\nshop count: {} \\\n",
    "      \\nproduct_shop count: {}\".format(df_comment.count(),df_product.count(),\n",
    "                                       df_shop.count(),df_product_shop.count()))"
   ]
  },
  {
   "cell_type": "code",
   "execution_count": 21,
   "id": "10a66a12",
   "metadata": {},
   "outputs": [],
   "source": [
    "df_all = spark.sql(\"\"\"\n",
    "    select p.id p_id, p.master_id,p.price,p.list_price,p.original_price,p.discount,p.discount_rate,\n",
    "    p.productset_group_name,p.all_time_quantity_sold,p.name p_name,p.description,p.specifications,\n",
    "    p.category_name,p.category_id,\n",
    "    ps.sellers, s.store_id,s.name s_name,s.icon,s.url,s.is_official,s.store_level,s.is_followed,\n",
    "    s.avg_rating_point,s.review_count, s.total_follower,s.days_since_joined, \n",
    "    c.id c_id,c.contentRaw, c.content,c.thank_count,c.customer_id,c.rating,\n",
    "    c.customer_full_name,c.purchased_at,c.date_purchased_at,c.review_created_date,\n",
    "    c.delivery_date,c.review_after_delivery,c.sentiment,c.lable\n",
    "    from product p\n",
    "    join product_shop ps on p.id = ps.id\n",
    "    join shop s on ps.sellers = s.id\n",
    "    join comment c on c.product_id = p.id and ps.sellers = c.seller_id\n",
    "\"\"\")"
   ]
  },
  {
   "cell_type": "code",
   "execution_count": 22,
   "id": "81108d0d",
   "metadata": {},
   "outputs": [
    {
     "name": "stderr",
     "output_type": "stream",
     "text": [
      "                                                                                \r"
     ]
    }
   ],
   "source": [
    "df_all.write.partitionBy(\"category_id\").mode('append').parquet('hdfs://namenode:9000/TikiCleaned/DataAll')"
   ]
  },
  {
   "cell_type": "code",
   "execution_count": 23,
   "id": "f1eb1aee",
   "metadata": {},
   "outputs": [
    {
     "name": "stderr",
     "output_type": "stream",
     "text": [
      "                                                                                \r"
     ]
    },
    {
     "data": {
      "text/plain": [
       "3800075"
      ]
     },
     "execution_count": 23,
     "metadata": {},
     "output_type": "execute_result"
    }
   ],
   "source": [
    "df_all.count()"
   ]
  },
  {
   "cell_type": "code",
   "execution_count": null,
   "id": "354ee596",
   "metadata": {},
   "outputs": [],
   "source": []
  }
 ],
 "metadata": {
  "kernelspec": {
   "display_name": "Python 3 (ipykernel)",
   "language": "python",
   "name": "python3"
  },
  "language_info": {
   "codemirror_mode": {
    "name": "ipython",
    "version": 3
   },
   "file_extension": ".py",
   "mimetype": "text/x-python",
   "name": "python",
   "nbconvert_exporter": "python",
   "pygments_lexer": "ipython3",
   "version": "3.9.2"
  }
 },
 "nbformat": 4,
 "nbformat_minor": 5
}
