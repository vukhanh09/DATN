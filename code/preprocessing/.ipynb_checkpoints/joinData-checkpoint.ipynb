{
 "cells": [
  {
   "cell_type": "code",
   "execution_count": 1,
   "id": "c67a689e",
   "metadata": {},
   "outputs": [],
   "source": [
    "from json import loads\n",
    "from pyspark.sql import SparkSession\n",
    "import warnings\n",
    "warnings.filterwarnings(\"ignore\")\n",
    "from pyspark.sql.functions import col,from_json,udf\n",
    "from pyspark.sql.types import StructType,StructField, StringType, IntegerType,MapType,FloatType,ArrayType,BooleanType"
   ]
  },
  {
   "cell_type": "code",
   "execution_count": 2,
   "id": "96d36738",
   "metadata": {},
   "outputs": [
    {
     "name": "stderr",
     "output_type": "stream",
     "text": [
      "22/11/16 16:24:54 WARN NativeCodeLoader: Unable to load native-hadoop library for your platform... using builtin-java classes where applicable\n",
      "Using Spark's default log4j profile: org/apache/spark/log4j-defaults.properties\n",
      "Setting default log level to \"WARN\".\n",
      "To adjust logging level use sc.setLogLevel(newLevel). For SparkR, use setLogLevel(newLevel).\n"
     ]
    }
   ],
   "source": [
    "spark = SparkSession.\\\n",
    "        builder.\\\n",
    "        appName(\"process-data\").\\\n",
    "        master(\"spark://spark-master:7077\").\\\n",
    "        config(\"spark.executor.memory\", \"1024m\").\\\n",
    "        getOrCreate()"
   ]
  },
  {
   "cell_type": "code",
   "execution_count": 3,
   "id": "45f4b28d",
   "metadata": {},
   "outputs": [
    {
     "name": "stderr",
     "output_type": "stream",
     "text": [
      "                                                                                \r"
     ]
    }
   ],
   "source": [
    "df_product = spark.read.parquet('hdfs://namenode:9000/TikiCleaned/Product')\n",
    "df_comment = spark.read.parquet('hdfs://namenode:9000/TikiCleaned/Comment')\n",
    "df_shop = spark.read.parquet('hdfs://namenode:9000/TikiCleaned/ShopInfo')"
   ]
  },
  {
   "cell_type": "code",
   "execution_count": 4,
   "id": "57165c00",
   "metadata": {},
   "outputs": [],
   "source": [
    "df_product.createOrReplaceTempView(\"product\")\n",
    "df_comment.createOrReplaceTempView(\"comment\")\n",
    "df_shop.createOrReplaceTempView(\"shop\")"
   ]
  },
  {
   "cell_type": "code",
   "execution_count": 5,
   "id": "e97c3ce6",
   "metadata": {},
   "outputs": [
    {
     "name": "stdout",
     "output_type": "stream",
     "text": [
      "root\n",
      " |-- id: integer (nullable = true)\n",
      " |-- master_id: integer (nullable = true)\n",
      " |-- sku: string (nullable = true)\n",
      " |-- price: integer (nullable = true)\n",
      " |-- list_price: integer (nullable = true)\n",
      " |-- original_price: integer (nullable = true)\n",
      " |-- discount: integer (nullable = true)\n",
      " |-- discount_rate: float (nullable = true)\n",
      " |-- rating_average: float (nullable = true)\n",
      " |-- review_count: integer (nullable = true)\n",
      " |-- productset_group_name: string (nullable = true)\n",
      " |-- all_time_quantity_sold: integer (nullable = true)\n",
      " |-- name: string (nullable = true)\n",
      " |-- description: string (nullable = true)\n",
      " |-- specifications: string (nullable = true)\n",
      " |-- seller_id: string (nullable = true)\n",
      " |-- seller_name: string (nullable = true)\n",
      " |-- seller_store_id: string (nullable = true)\n",
      " |-- product_id: integer (nullable = true)\n",
      " |-- category_name: string (nullable = true)\n",
      " |-- category_id: integer (nullable = true)\n",
      "\n"
     ]
    }
   ],
   "source": [
    "df_product.printSchema()"
   ]
  },
  {
   "cell_type": "code",
   "execution_count": 6,
   "id": "fd8d4ed1",
   "metadata": {},
   "outputs": [
    {
     "name": "stdout",
     "output_type": "stream",
     "text": [
      "root\n",
      " |-- id: integer (nullable = true)\n",
      " |-- store_id: integer (nullable = true)\n",
      " |-- name: string (nullable = true)\n",
      " |-- icon: string (nullable = true)\n",
      " |-- url: string (nullable = true)\n",
      " |-- is_official: boolean (nullable = true)\n",
      " |-- store_level: string (nullable = true)\n",
      " |-- is_followed: boolean (nullable = true)\n",
      " |-- avg_rating_point: float (nullable = true)\n",
      " |-- review_count: integer (nullable = true)\n",
      " |-- total_follower: integer (nullable = true)\n",
      " |-- days_since_joined: integer (nullable = true)\n",
      "\n"
     ]
    }
   ],
   "source": [
    "df_shop.printSchema()"
   ]
  },
  {
   "cell_type": "code",
   "execution_count": 19,
   "id": "132a06b1",
   "metadata": {},
   "outputs": [
    {
     "data": {
      "text/plain": [
       "4243515"
      ]
     },
     "execution_count": 19,
     "metadata": {},
     "output_type": "execute_result"
    }
   ],
   "source": [
    "df_comment.count()"
   ]
  },
  {
   "cell_type": "code",
   "execution_count": 20,
   "id": "16745962",
   "metadata": {},
   "outputs": [
    {
     "data": {
      "text/plain": [
       "46721"
      ]
     },
     "execution_count": 20,
     "metadata": {},
     "output_type": "execute_result"
    }
   ],
   "source": [
    "df_product.count()"
   ]
  },
  {
   "cell_type": "code",
   "execution_count": 22,
   "id": "559df5f7",
   "metadata": {},
   "outputs": [
    {
     "name": "stderr",
     "output_type": "stream",
     "text": [
      "                                                                                \r"
     ]
    },
    {
     "data": {
      "text/plain": [
       "4241625"
      ]
     },
     "execution_count": 22,
     "metadata": {},
     "output_type": "execute_result"
    }
   ],
   "source": [
    "spark.sql(\"\"\"\n",
    "    select 1 from product p\n",
    "    left join shop s on p.seller_id = s.id and p.seller_store_id = s.store_id\n",
    "    left join comment c on c.product_id = p.id\n",
    "\"\"\").count()"
   ]
  },
  {
   "cell_type": "code",
   "execution_count": 25,
   "id": "2f508772",
   "metadata": {},
   "outputs": [
    {
     "name": "stdout",
     "output_type": "stream",
     "text": [
      "+---------+-----------------+--------+\n",
      "|count(id)|count(product_id)|count(1)|\n",
      "+---------+-----------------+--------+\n",
      "|    46721|            46720|   46721|\n",
      "+---------+-----------------+--------+\n",
      "\n"
     ]
    }
   ],
   "source": [
    "spark.sql(\"\"\"\n",
    "    select count(id),count(product_id),count(*) from product\n",
    "\"\"\").show()"
   ]
  },
  {
   "cell_type": "code",
   "execution_count": 27,
   "id": "a9a62506",
   "metadata": {},
   "outputs": [
    {
     "name": "stdout",
     "output_type": "stream",
     "text": [
      "root\n",
      " |-- id: integer (nullable = true)\n",
      " |-- contentRaw: string (nullable = true)\n",
      " |-- content: string (nullable = true)\n",
      " |-- thank_count: integer (nullable = true)\n",
      " |-- customer_id: integer (nullable = true)\n",
      " |-- rating: integer (nullable = true)\n",
      " |-- spid: integer (nullable = true)\n",
      " |-- product_id: integer (nullable = true)\n",
      " |-- customer_full_name: string (nullable = true)\n",
      " |-- purchased_at: string (nullable = true)\n",
      " |-- date_purchased_at: string (nullable = true)\n",
      " |-- sentiment: string (nullable = true)\n",
      " |-- lable: integer (nullable = true)\n",
      "\n"
     ]
    }
   ],
   "source": [
    "df_comment.printSchema()"
   ]
  },
  {
   "cell_type": "code",
   "execution_count": 8,
   "id": "2e931b38",
   "metadata": {},
   "outputs": [
    {
     "name": "stderr",
     "output_type": "stream",
     "text": [
      "                                                                                \r"
     ]
    },
    {
     "data": {
      "text/plain": [
       "Row(id=13707516, contentRaw='Thấy mọi người khen nó quá nhiều nên lên đây chê 1 tí\\n- Thứ nhất là chất âm, do cơ bản nó ko thiên về dải nào nên nghe cứ bằng bằng ko ấn tượng gì, bạn nên cài app chỉnh EQ của nó, nâng tầm trải nghiệm ngay lập tức (EQ preset Bright khá tốt)\\n- Nhét vào tai hơi khó, cơ bản phải kín mới đạt được chống ồn tốt, mình nhét cũng phải xoay đi xoay lại vài vòng mới khít, đấy là tai mình to còn vừa, còn tai các bạn nữ nhỏ xinh như bạn gái mình là chịu luôn, quá to. Nghe mọi người bảo nên mua thêm tip spinfit 360, chắc sẽ thử xem\\n- Các tính năng phụ như tự động chuyển đổi noise cancellling, speak-to-chat dùng mình thấy phiền nhiều hơn có ích, nên tắt để tiết kiệm pin\\nCòn lại hoàn hảo :)))', content='thấy mọi người khen nó quá nhiều nên lên đây chê tí thứ nhất là chất âm do cơ bản nó ko thiên về dải nào nên nghe cứ bằng bằng ko ấn tượng gì bạn nên cài app chỉnh eq của nó nâng tầm trải nghiệm ngay lập tức eq preset bright khá tốt nhét vào tai hơi khó cơ bản phải kín mới đạt được chống ồn tốt mình nhét cũng phải xoay đi xoay lại vài vòng mới khít đấy là tai mình to còn vừa còn tai các bạn nữ nhỏ xinh như bạn gái mình là chịu luôn quá to nghe mọi người bảo nên mua thêm tip spinfit chắc sẽ thử xem các tính năng phụ như tự động chuyển đổi noise cancellling speak to chat dùng mình thấy phiền nhiều hơn có ích nên tắt để tiết kiệm pin còn lại hoàn hảo ', thank_count=12, customer_id=23987446, rating=5, spid=109267789, seller_id='1', product_id=109267785, customer_full_name='Tô Thiệu Vũ', purchased_at='1638948027', date_purchased_at='2021-12-08', sentiment='Positive', lable=2, id=1, store_id=40395, name='Tiki Trading', icon='https://vcdn.tikicdn.com/ts/seller/ee/fa/a0/98f3f134f85cff2c6972c31777629aa0.png', url='https://tiki.vn/cua-hang/tiki-trading', is_official=True, store_level='OFFICIAL_STORE', is_followed=False, avg_rating_point=4.660299777984619, review_count=5081728, total_follower=444881, days_since_joined=1953, id=109267785, master_id=109267785, sku='2310209016848', price=4596000, list_price=6490000, original_price=6490000, discount=1894000, discount_rate=29.0, rating_average=5.0, review_count=48, productset_group_name='Thiết Bị Số - Phụ Kiện Số/Thiết Bị Âm Thanh và Phụ Kiện/Tai Nghe Bluetooth/Tai Nghe True Wireless', all_time_quantity_sold=106, name='tai nghe true wireless sony wf xm chống ồn chủ động hàng chính hãng', description=' giá sản phẩm trên tiki đã bao gồm thuế theo luật hiện hành bên cạnh đó tuỳ vào loại sản phẩm hình thức và địa chỉ giao hàng mà có thể phát sinh thêm chi phí khác như phí vận chuyển phụ phí hàng cồng kềnh thuế nhập khẩu đối với đơn hàng giao từ nước ngoài có giá trị trên triệu đồng ', specifications='', seller_id='4314', seller_name='Happystores', seller_store_id='4261', product_id=126091276, category_name='Thiết Bị Số - Phụ Kiện Số', category_id=1815)"
      ]
     },
     "execution_count": 8,
     "metadata": {},
     "output_type": "execute_result"
    }
   ],
   "source": [
    "spark.sql(\"\"\"\n",
    "    select * from comment c\n",
    "    left join shop s on c.seller_id = s.id\n",
    "    left join product p on c.product_id = p.id\n",
    "\"\"\").first()"
   ]
  },
  {
   "cell_type": "code",
   "execution_count": 10,
   "id": "065a4e41",
   "metadata": {},
   "outputs": [
    {
     "name": "stderr",
     "output_type": "stream",
     "text": [
      "                                                                                \r"
     ]
    },
    {
     "data": {
      "text/plain": [
       "[Row(id=20557588, master_id=20557588, sku='6072702394231', price=5159000, list_price=6490000, original_price=6490000, discount=1331000, discount_rate=21.0, rating_average=4.099999904632568, review_count=39, productset_group_name='Điện Tử - Điện Lạnh/Tủ lạnh', all_time_quantity_sold=169, name='tủ lạnh toshiba inverter lít gr bvu ukg', description=' thiết kế sang trọng nhỏ gọn tủ lạnh inverter toshiba gr bvu ukg là dòng tủ lạnh tủ ngăn đá trên sở hữu thiết kế nhỏ gọn nhưng không kém phần sang trọng với tông màu đen huyền nổi bật toshiba gr bvu ukg có dung tích lít phù hợp với gia đình nhỏ tầm người nhưng sẽ là nội thất bắt mắt trong không gian nhà bạn công nghệ biến tần inverter tiết kiện điện năng tủ lạnh toshiba gr bvu ukg được trang bị công nghệ biến tần inverter kiểm soát sự hoạt động của máy nén giúp duy trì nhiệt độ bên trong tủ và hạn chế tiếng ồn đến mức tối đa công nghệ này sẽ giúp bạn bớt lo lắng về tiền điện mỗi tháng vì mang lại khả năng siêu tiết điện lên đến so với chiếc tủ lạnh thông thường hệ thống khí lạnh vòng cung công nghệ làm lạnh thực phẩm bằng luồng khí vòng cung giúp hơi lạnh được lưu chuyển đến mọi ngóc ngách trong tủ lạnh cũng như khắc phục được tình trạng thực phẩm bị đông đá do quá lạnh hay bị hư hao do thiếu độ lạnh công nghệ ag bio kháng khuẩn mạnh và khử mùi tối ưu hệ thống màng lọc ag bio của tủ sẽ kháng khuẩn và khử mùi tối đa các loại thực phẩm có mùi khó chịu nhất như thịt và cá đồng thời bộ lọc sinh học góc aldehyde sẽ hỗ trợ việc khử mùi cực mạnh thuộc nhóm thực phẩm lên men như nước tương rượu mà trước đây không thể khử được ngăn cấp đông mềm độ tiết kiệm thời gian chiếc tủ lạnh toshiba này sẽ trang bị thêm ngăn cấp đông mềm ultra cooling zone cực kì hữu dụng cho các chị em nội chợ không cần phải tốn thời gian chờ rã đông bạn có thể lấy thực phẩm tươi sống ra chế biến ngay mà vẫn đảm bảo được chất lượng món ăn tuy nhiên ngăn này chỉ giúp lưu trữ thực phẩm tươi dùng trong ngày thôi nên nếu muốn trữ lâu hơn bạn nên dùng ngăn trữ đông thoải mái dự trữ rau củ với ngăn chứa lớn ngăn chứa lớn cho phép bạn có thể dự trữ rau củ nhiều mà vẫn yên tâm về mức độ tươi ngon của thực phẩm ngoài ra ngăn chứa có khả năng giữ ẩm tốt nên đảm bảo cho việc bảo quản thực phẩm được kéo dài giá sản phẩm trên tiki đã bao gồm thuế theo luật hiện hành bên cạnh đó tuỳ vào loại sản phẩm hình thức và địa chỉ giao hàng mà có thể phát sinh thêm chi phí khác như phí vận chuyển phụ phí hàng cồng kềnh thuế nhập khẩu đối với đơn hàng giao từ nước ngoài có giá trị trên triệu đồng ', specifications='', seller_id='1', seller_name='Tiki Trading', seller_store_id='40395', product_id=20557589, category_name='Điện Tử - Điện Lạnh', category_id=4221)]"
      ]
     },
     "execution_count": 10,
     "metadata": {},
     "output_type": "execute_result"
    }
   ],
   "source": [
    "spark.sql(\"\"\"\n",
    "    select * from product\n",
    "   where id = 20557588\n",
    "\"\"\").collect()"
   ]
  },
  {
   "cell_type": "code",
   "execution_count": 13,
   "id": "4035d213",
   "metadata": {},
   "outputs": [
    {
     "name": "stderr",
     "output_type": "stream",
     "text": [
      "                                                                                \r"
     ]
    },
    {
     "data": {
      "text/plain": [
       "[Row(seller_id='1')]"
      ]
     },
     "execution_count": 13,
     "metadata": {},
     "output_type": "execute_result"
    }
   ],
   "source": [
    "spark.sql(\"\"\"\n",
    "    select distinct seller_id from product\n",
    "   where id = 20557588\n",
    "\"\"\").collect()"
   ]
  },
  {
   "cell_type": "code",
   "execution_count": 12,
   "id": "4ab8ebf0",
   "metadata": {},
   "outputs": [
    {
     "name": "stderr",
     "output_type": "stream",
     "text": [
      "                                                                                \r"
     ]
    },
    {
     "data": {
      "text/plain": [
       "[Row(seller_id='218'),\n",
       " Row(seller_id='75501'),\n",
       " Row(seller_id='219316'),\n",
       " Row(seller_id='1'),\n",
       " Row(seller_id='152033'),\n",
       " Row(seller_id='120451'),\n",
       " Row(seller_id='11315'),\n",
       " Row(seller_id='118795'),\n",
       " Row(seller_id='2194'),\n",
       " Row(seller_id='7967')]"
      ]
     },
     "execution_count": 12,
     "metadata": {},
     "output_type": "execute_result"
    }
   ],
   "source": [
    "spark.sql(\"\"\"\n",
    "    select distinct seller_id from comment\n",
    "   where product_id = 20557588\n",
    "\"\"\").collect()"
   ]
  },
  {
   "cell_type": "code",
   "execution_count": null,
   "id": "89add6e8",
   "metadata": {},
   "outputs": [],
   "source": [
    "20557588"
   ]
  }
 ],
 "metadata": {
  "kernelspec": {
   "display_name": "Python 3 (ipykernel)",
   "language": "python",
   "name": "python3"
  },
  "language_info": {
   "codemirror_mode": {
    "name": "ipython",
    "version": 3
   },
   "file_extension": ".py",
   "mimetype": "text/x-python",
   "name": "python",
   "nbconvert_exporter": "python",
   "pygments_lexer": "ipython3",
   "version": "3.9.2"
  }
 },
 "nbformat": 4,
 "nbformat_minor": 5
}
