{
 "cells": [
  {
   "cell_type": "code",
   "execution_count": 1,
   "id": "2b114e03",
   "metadata": {},
   "outputs": [],
   "source": [
    "from json import loads\n",
    "from pyspark.sql import SparkSession\n",
    "import warnings\n",
    "warnings.filterwarnings(\"ignore\")\n",
    "from pyspark.sql.functions import col,from_json,udf,split,explode\n",
    "from pyspark.ml.feature import NGram\n",
    "from pyspark.sql.types import StructType,StructField, StringType, IntegerType,MapType,FloatType,ArrayType"
   ]
  },
  {
   "cell_type": "code",
   "execution_count": 2,
   "id": "9732d4a8",
   "metadata": {},
   "outputs": [
    {
     "name": "stderr",
     "output_type": "stream",
     "text": [
      "23/01/27 17:39:57 WARN NativeCodeLoader: Unable to load native-hadoop library for your platform... using builtin-java classes where applicable\n",
      "Using Spark's default log4j profile: org/apache/spark/log4j-defaults.properties\n",
      "Setting default log level to \"WARN\".\n",
      "To adjust logging level use sc.setLogLevel(newLevel). For SparkR, use setLogLevel(newLevel).\n"
     ]
    }
   ],
   "source": [
    "spark = SparkSession.\\\n",
    "        builder.\\\n",
    "        appName(\"comment-anlysis\").\\\n",
    "        master(\"spark://spark-master:7077\").\\\n",
    "        config(\"spark.executor.memory\", \"1024m\").\\\n",
    "        getOrCreate()"
   ]
  },
  {
   "cell_type": "code",
   "execution_count": 36,
   "id": "24570a72",
   "metadata": {},
   "outputs": [
    {
     "name": "stderr",
     "output_type": "stream",
     "text": [
      "23/01/27 17:32:46 WARN SimpleFunctionRegistry: The function parseratt replaced a previously registered function.\n"
     ]
    }
   ],
   "source": [
    "from json import loads\n",
    "from pyspark.sql import SparkSession\n",
    "import warnings\n",
    "warnings.filterwarnings(\"ignore\")\n",
    "from pyspark.sql.functions import col,from_json,udf,explode\n",
    "from pyspark.sql.types import StructType,StructField, StringType, IntegerType,MapType,FloatType,ArrayType\n",
    "import re\n",
    "\n",
    "data = spark.read.parquet('hdfs://namenode:9000/tiki/Product')\n",
    "\n",
    "schema = StructType([ \n",
    "    StructField(\"id\",IntegerType(),True), \n",
    "    StructField(\"master_id\",IntegerType(),True), \n",
    "    StructField(\"sku\",StringType(),True), \n",
    "    StructField(\"name\",StringType(),True),\n",
    "    StructField(\"short_description\",StringType(),True), \n",
    "    StructField(\"price\",IntegerType(),True),\n",
    "    StructField(\"list_price\",IntegerType(),True),\n",
    "    StructField('original_price', IntegerType(),True),\n",
    "    StructField('discount', IntegerType(),True),\n",
    "    StructField('discount_rate', FloatType(),True),\n",
    "    \n",
    "    StructField(\"rating_average\",FloatType(),True), \n",
    "    StructField(\"review_count\",IntegerType(),True), \n",
    "    StructField(\"productset_group_name\",StringType(),True), \n",
    "    StructField(\"all_time_quantity_sold\",IntegerType(),True),\n",
    "    \n",
    "    StructField(\"description\",StringType(),True), \n",
    "    StructField(\"current_seller\",MapType(StringType(),StringType()),True),\n",
    "    StructField(\"other_sellers\",ArrayType(MapType(StringType(),StringType())),True),\n",
    "    StructField(\"breadcrumbs\",ArrayType(MapType(StringType(),StringType())),True),\n",
    "    StructField(\"specifications\",ArrayType(StructType(\n",
    "                    [\n",
    "                        StructField(\"name\", StringType()),\n",
    "                        StructField(\"attributes\",ArrayType(MapType(StringType(),StringType())),True),\n",
    "                    ]\n",
    "                )),True),\n",
    "\n",
    "    StructField('return_and_exchange_policy', StringType(),True)\n",
    "])\n",
    "\n",
    "df = data.withColumn(\"jsonData\",from_json(col(\"value\"),schema)) \\\n",
    "                   .select(\"jsonData.*\")\n",
    "\n",
    "df.createOrReplaceTempView('Product')\n",
    "def parserAtt(specifications):\n",
    "    result = \"\"\n",
    "    try:\n",
    "        for s in specifications:\n",
    "            for a in s.attributes:\n",
    "                result += a['value']\n",
    "        result = cleanText(result)\n",
    "    except:\n",
    "        return \"\"\n",
    "    return result\n",
    "\n",
    "spark.udf.register('parserAtt',parserAtt,StringType())\n",
    "\n",
    "\n",
    "\n",
    "CLEANR = re.compile('<.*?>') \n",
    "def cleanText(str_raw):\n",
    "    # remove tags html\n",
    "    str_raw = re.sub(CLEANR, ' ', str_raw)\n",
    "\n",
    "    # remove special character\n",
    "    str_raw = re.sub('\\W+', ' ', str_raw)\n",
    "    \n",
    "    # remove number\n",
    "    str_raw = re.sub(\"[0-9]+\", \"\", str_raw)\n",
    "    \n",
    "    # remove space\n",
    "    cleantext = re.sub(\" +\", \" \", str_raw)\n",
    "    return cleantext.lower()\n",
    "spark.udf.register(\"cleanText\", cleanText,StringType())\n",
    "\n",
    "product_clean = spark.sql(\"\"\"\n",
    "        select * from (\n",
    "            select id,master_id,sku,price,list_price,original_price,discount,discount_rate,\n",
    "            rating_average,review_count,productset_group_name,all_time_quantity_sold,\n",
    "            name, short_description,\n",
    "            cleanText(name) clean_name,cleanText(description) clean_description,parserAtt(specifications) clean_specifications,\n",
    "            breadcrumbs[0].name category_name,breadcrumbs[0].category_id category_id,\n",
    "            current_seller.id seller_id,current_seller.name seller_name,current_seller.store_id seller_store_id,\n",
    "            cast(current_seller.product_id as int) spid,\n",
    "            row_number() over (partition by id,current_seller.id order by all_time_quantity_sold desc) cnt\n",
    "            from Product\n",
    "        ) where cnt = 1\n",
    "\"\"\")"
   ]
  },
  {
   "cell_type": "code",
   "execution_count": null,
   "id": "e73171f4",
   "metadata": {},
   "outputs": [],
   "source": [
    "df = spark.read.parquet('hdfs://namenode:9000/analysis/Product_Shop')"
   ]
  },
  {
   "cell_type": "code",
   "execution_count": 3,
   "id": "913e8ccf",
   "metadata": {},
   "outputs": [
    {
     "name": "stderr",
     "output_type": "stream",
     "text": [
      "                                                                                \r"
     ]
    }
   ],
   "source": [
    "df = spark.read.parquet('hdfs://namenode:9000/analysis/Product_Shop')"
   ]
  },
  {
   "cell_type": "code",
   "execution_count": 37,
   "id": "503c378a",
   "metadata": {},
   "outputs": [],
   "source": [
    "product_clean.createOrReplaceTempView('test')"
   ]
  },
  {
   "cell_type": "code",
   "execution_count": 10,
   "id": "5b865d00",
   "metadata": {},
   "outputs": [],
   "source": [
    "df.createOrReplaceTempView('product_shop')"
   ]
  },
  {
   "cell_type": "code",
   "execution_count": 7,
   "id": "df68c773",
   "metadata": {},
   "outputs": [
    {
     "data": {
      "text/plain": [
       "DataFrame[p_id: int, master_id: int, price: int, list_price: int, original_price: int, discount: int, discount_rate: float, productset_group_name: string, all_time_quantity_sold: int, p_name: string, short_description: string, p_clean_name: string, clean_description: string, clean_specifications: string, category_name: string, seller_id: string, store_id: int, s_name: string, icon: string, url: string, is_official: boolean, store_level: string, is_followed: boolean, avg_rating_point: float, review_count: int, total_follower: int, days_since_joined: int, category_id: int]"
      ]
     },
     "execution_count": 7,
     "metadata": {},
     "output_type": "execute_result"
    }
   ],
   "source": [
    "df"
   ]
  },
  {
   "cell_type": "code",
   "execution_count": null,
   "id": "7c8f0ef1",
   "metadata": {},
   "outputs": [],
   "source": [
    "    select category_name,sum(all_time_quantity_sold*price/1000000000) price\n",
    "    from product_shop\n",
    "    group by category_name\n",
    "    order by price desc"
   ]
  },
  {
   "cell_type": "code",
   "execution_count": 43,
   "id": "7c20b500",
   "metadata": {},
   "outputs": [
    {
     "name": "stderr",
     "output_type": "stream",
     "text": [
      "                                                                                \r"
     ]
    },
    {
     "name": "stdout",
     "output_type": "stream",
     "text": [
      "+--------+---------+----------------------+--------------------+\n",
      "|      id|seller_id|all_time_quantity_sold|         seller_name|\n",
      "+--------+---------+----------------------+--------------------+\n",
      "|75307228|   146243|                  null|           ETS Books|\n",
      "|75307228|     1308|                     8|Tazano Official S...|\n",
      "|75307228|   161219|                    10| Nhà Sách Trẻ Online|\n",
      "|75307228|    60209|                  null|              VBooks|\n",
      "|75307228|   111899|                     5|       Sống Official|\n",
      "|75307228|   126688|                     1|           info book|\n",
      "|75307228|    97533|                  null|  Nhà Sách Vĩnh Thụy|\n",
      "|75307228|     2918|                   158|          First News|\n",
      "|75307228|   281062|                  null|        Bamboo Books|\n",
      "|75307228|    26874|                   752|   Phương Đông Books|\n",
      "|75307228|    53660|                  1308|     Nhà sách Fahasa|\n",
      "|75307228|   159932|                  null|              Hodico|\n",
      "|75307228|   145814|                  null|    Omega Plus Books|\n",
      "|75307228|        1|                701365|        Tiki Trading|\n",
      "|75307228|    26892|                     1|           Moonbooks|\n",
      "|75307228|      670|                    10|   Cá Chép Bookstore|\n",
      "|75307228|     7247|                    10|Alpha Books Official|\n",
      "+--------+---------+----------------------+--------------------+\n",
      "\n"
     ]
    }
   ],
   "source": [
    "spark.sql(\"\"\"\n",
    "    select id,seller_id,all_time_quantity_sold,seller_name\n",
    "    from test\n",
    "    where name = 'Sách OSHO Yêu - Being In Love - Yêu Trong Tỉnh Thức'\n",
    "\"\"\").show(30)"
   ]
  },
  {
   "cell_type": "code",
   "execution_count": 31,
   "id": "98b8373c",
   "metadata": {},
   "outputs": [
    {
     "name": "stdout",
     "output_type": "stream",
     "text": [
      "+--------------------+-------+\n",
      "|              p_name|    cnt|\n",
      "+--------------------+-------+\n",
      "|Sách OSHO Yêu - B...|1404791|\n",
      "|Phiếu Quà Tặng Ti...|1154744|\n",
      "|Phiếu Quà Tặng Ti...|1112757|\n",
      "|Phiếu Quà Tặng Ti...| 747354|\n",
      "|Tã Quần Caryn Loạ...| 643957|\n",
      "|Phiếu Quà Tặng Ti...| 200277|\n",
      "|Nóng Giận Là Bản ...| 199953|\n",
      "|Dầu Đậu Nành Simp...| 124426|\n",
      "|Dầu Gội Chống Gàu...| 118604|\n",
      "|Cây Cam Ngọt Của Tôi| 116145|\n",
      "|Yêu Những Điều Kh...| 105617|\n",
      "|Phiếu Quà Tặng Ti...| 104986|\n",
      "|Đàn Ông Sao Hỏa Đ...| 102671|\n",
      "|         Dám Bị Ghét|  95314|\n",
      "|Bước Chậm Lại Giữ...|  92826|\n",
      "|Thùng 48 Hộp Sữa ...|  77529|\n",
      "|Tập Học Sinh Tiki...|  72297|\n",
      "|Thiên Tài Bên Trá...|  66087|\n",
      "|Sách Thay Đổi Cuộ...|  65293|\n",
      "|Sách Hiểu Về Trái...|  62345|\n",
      "|Khi Hơi Thở Hóa T...|  60299|\n",
      "|Phiếu Quà Tặng Ti...|  60137|\n",
      "|Phiếu Quà Tặng Ti...|  57861|\n",
      "|Nhà Giả Kim (Tái ...|  56401|\n",
      "|Phiếu Quà Tặng Ti...|  55824|\n",
      "|Rèn Luyện Tư Duy ...|  55676|\n",
      "|Giấy Thấm Dầu Acn...|  54780|\n",
      "|Dầu Ăn Thượng Hạn...|  54590|\n",
      "|Máy Vắt Cam Lock&...|  54234|\n",
      "|Điều Kỳ Diệu Của ...|  53200|\n",
      "+--------------------+-------+\n",
      "only showing top 30 rows\n",
      "\n"
     ]
    },
    {
     "name": "stderr",
     "output_type": "stream",
     "text": [
      "                                                                                \r"
     ]
    }
   ],
   "source": [
    "spark.sql(\"\"\"\n",
    "    select p_name,sum(all_time_quantity_sold) cnt\n",
    "    from product_shop\n",
    "    group by  p_name\n",
    "    order by cnt desc\n",
    "\"\"\").show(30)"
   ]
  },
  {
   "cell_type": "code",
   "execution_count": 29,
   "id": "45f96768",
   "metadata": {},
   "outputs": [
    {
     "name": "stdout",
     "output_type": "stream",
     "text": [
      "+--------------------+-----------------+\n",
      "|       category_name|sum((price * 10))|\n",
      "+--------------------+-----------------+\n",
      "|       Nhà Sách Tiki|      17380842270|\n",
      "|  Làm Đẹp - Sức Khỏe|      13738348600|\n",
      "|       Điện Gia Dụng|      90235589970|\n",
      "| Điện Tử - Điện Lạnh|     790386271190|\n",
      "|Thiết Bị Số - Phụ...|      19204293530|\n",
      "|     Bách Hóa Online|       4494572660|\n",
      "|   Đồ Chơi - Mẹ & Bé|      11296523750|\n",
      "|  Nhà Cửa - Đời Sống|      12875110360|\n",
      "|Laptop - Máy Vi T...|      48007707760|\n",
      "|Ô Tô - Xe Máy - X...|      38562682930|\n",
      "| Thể Thao - Dã Ngoại|       9868625900|\n",
      "|Máy Ảnh - Máy Qua...|      56233583520|\n",
      "|Điện Thoại - Máy ...|      51316154680|\n",
      "|      Thời trang nam|       4783352710|\n",
      "|        Balo và Vali|      12143709450|\n",
      "|   Voucher - Dịch vụ|      34573799280|\n",
      "|      Giày - Dép nam|      15657009640|\n",
      "|       Thời trang nữ|       4203660110|\n",
      "|Đồng hồ và Trang sức|      12396174990|\n",
      "|  Túi thời trang nam|      12122045210|\n",
      "|       Giày - Dép nữ|       8463675700|\n",
      "| Phụ kiện thời trang|       3208269270|\n",
      "|Cross Border - Hà...|      12789446180|\n",
      "|   Túi thời trang nữ|       7883268480|\n",
      "+--------------------+-----------------+\n",
      "\n"
     ]
    }
   ],
   "source": [
    "spark.sql(\"\"\"\n",
    "    select category_name,\n",
    "sum(price*10)\n",
    "    from product_shop\n",
    "group by category_name\n",
    "order by sum(price*nvl(all_time_quantity_sold,0)) desc\n",
    "\n",
    "\n",
    "\"\"\").show(30)"
   ]
  },
  {
   "cell_type": "code",
   "execution_count": 3,
   "id": "657d42b4",
   "metadata": {},
   "outputs": [
    {
     "name": "stderr",
     "output_type": "stream",
     "text": [
      "                                                                                \r"
     ]
    }
   ],
   "source": [
    "df_product = spark.read.parquet('hdfs://namenode:9000/TikiCleaned/Product')\n",
    "df_comment = spark.read.parquet('hdfs://namenode:9000/TikiCleaned/Comment')\n",
    "df_shop = spark.read.parquet('hdfs://namenode:9000/TikiCleaned/ShopInfo')"
   ]
  },
  {
   "cell_type": "code",
   "execution_count": 46,
   "id": "fc85abbe",
   "metadata": {},
   "outputs": [
    {
     "data": {
      "text/plain": [
       "[Row(id=14537315, content='Sản phẩm đẹp', clean_content='sản phẩm đẹp', thank_count=0, customer_id=16914562, rating=5, spid=56941524, seller_id='1', product_id=56941522, customer_full_name='Hailey Lee', purchased_at='1641748169', date_purchased_at='2022-01-09', review_created_date='2022-01-18 11:57:39', delivery_date='2022-01-11 16:54:39', review_after_delivery=7, sentiment='Positive', lable=2),\n",
       " Row(id=9580902, content='khá là ok', clean_content='khá là ok', thank_count=0, customer_id=21190123, rating=5, spid=87226761, seller_id='1', product_id=87226754, customer_full_name='Văn Cần Trường', purchased_at='1618068725', date_purchased_at='2021-04-10', review_created_date='2021-05-08 16:51:19', delivery_date='2021-04-23 11:03:53', review_after_delivery=15, sentiment='Positive', lable=2)]"
      ]
     },
     "execution_count": 46,
     "metadata": {},
     "output_type": "execute_result"
    }
   ],
   "source": [
    "df_comment.take(2)"
   ]
  },
  {
   "cell_type": "code",
   "execution_count": 4,
   "id": "8befca70",
   "metadata": {},
   "outputs": [
    {
     "name": "stderr",
     "output_type": "stream",
     "text": [
      "                                                                                \r"
     ]
    },
    {
     "data": {
      "text/plain": [
       "94844"
      ]
     },
     "execution_count": 4,
     "metadata": {},
     "output_type": "execute_result"
    }
   ],
   "source": [
    "df_product.count()"
   ]
  },
  {
   "cell_type": "code",
   "execution_count": 5,
   "id": "2c0ab9d5",
   "metadata": {},
   "outputs": [
    {
     "data": {
      "text/plain": [
       "3568061"
      ]
     },
     "execution_count": 5,
     "metadata": {},
     "output_type": "execute_result"
    }
   ],
   "source": [
    "df_comment.count()"
   ]
  },
  {
   "cell_type": "code",
   "execution_count": 6,
   "id": "34973939",
   "metadata": {},
   "outputs": [
    {
     "data": {
      "text/plain": [
       "8686"
      ]
     },
     "execution_count": 6,
     "metadata": {},
     "output_type": "execute_result"
    }
   ],
   "source": [
    "df_shop.count()"
   ]
  },
  {
   "cell_type": "code",
   "execution_count": 4,
   "id": "68f1cad2",
   "metadata": {},
   "outputs": [
    {
     "name": "stdout",
     "output_type": "stream",
     "text": [
      "root\n",
      " |-- id: integer (nullable = true)\n",
      " |-- store_id: integer (nullable = true)\n",
      " |-- name: string (nullable = true)\n",
      " |-- icon: string (nullable = true)\n",
      " |-- url: string (nullable = true)\n",
      " |-- is_official: boolean (nullable = true)\n",
      " |-- store_level: string (nullable = true)\n",
      " |-- is_followed: boolean (nullable = true)\n",
      " |-- avg_rating_point: float (nullable = true)\n",
      " |-- review_count: integer (nullable = true)\n",
      " |-- total_follower: integer (nullable = true)\n",
      " |-- days_since_joined: integer (nullable = true)\n",
      "\n"
     ]
    }
   ],
   "source": [
    "df_shop.printSchema()"
   ]
  },
  {
   "cell_type": "code",
   "execution_count": 5,
   "id": "dbf98c8f",
   "metadata": {},
   "outputs": [
    {
     "name": "stdout",
     "output_type": "stream",
     "text": [
      "root\n",
      " |-- id: integer (nullable = true)\n",
      " |-- content: string (nullable = true)\n",
      " |-- clean_content: string (nullable = true)\n",
      " |-- thank_count: integer (nullable = true)\n",
      " |-- customer_id: integer (nullable = true)\n",
      " |-- rating: integer (nullable = true)\n",
      " |-- spid: integer (nullable = true)\n",
      " |-- seller_id: string (nullable = true)\n",
      " |-- product_id: integer (nullable = true)\n",
      " |-- customer_full_name: string (nullable = true)\n",
      " |-- purchased_at: string (nullable = true)\n",
      " |-- date_purchased_at: string (nullable = true)\n",
      " |-- review_created_date: string (nullable = true)\n",
      " |-- delivery_date: string (nullable = true)\n",
      " |-- review_after_delivery: integer (nullable = true)\n",
      " |-- sentiment: string (nullable = true)\n",
      " |-- lable: integer (nullable = true)\n",
      "\n"
     ]
    }
   ],
   "source": [
    "df_comment.printSchema()"
   ]
  },
  {
   "cell_type": "code",
   "execution_count": 8,
   "id": "75ccf930",
   "metadata": {},
   "outputs": [
    {
     "name": "stdout",
     "output_type": "stream",
     "text": [
      "root\n",
      " |-- id: integer (nullable = true)\n",
      " |-- master_id: integer (nullable = true)\n",
      " |-- sku: string (nullable = true)\n",
      " |-- price: integer (nullable = true)\n",
      " |-- list_price: integer (nullable = true)\n",
      " |-- original_price: integer (nullable = true)\n",
      " |-- discount: integer (nullable = true)\n",
      " |-- discount_rate: float (nullable = true)\n",
      " |-- rating_average: float (nullable = true)\n",
      " |-- review_count: integer (nullable = true)\n",
      " |-- productset_group_name: string (nullable = true)\n",
      " |-- all_time_quantity_sold: integer (nullable = true)\n",
      " |-- name: string (nullable = true)\n",
      " |-- short_description: string (nullable = true)\n",
      " |-- clean_name: string (nullable = true)\n",
      " |-- clean_description: string (nullable = true)\n",
      " |-- clean_specifications: string (nullable = true)\n",
      " |-- category_name: string (nullable = true)\n",
      " |-- seller_id: string (nullable = true)\n",
      " |-- seller_name: string (nullable = true)\n",
      " |-- seller_store_id: string (nullable = true)\n",
      " |-- spid: integer (nullable = true)\n",
      " |-- category_id: integer (nullable = true)\n",
      "\n"
     ]
    }
   ],
   "source": [
    "df_product.printSchema()"
   ]
  },
  {
   "cell_type": "code",
   "execution_count": 7,
   "id": "d88c7001",
   "metadata": {},
   "outputs": [],
   "source": [
    "Product_Shop = spark.read.parquet('hdfs://namenode:9000/analysis/Product_Shop')\n",
    "metaData = spark.read.parquet('hdfs://namenode:9000/analysis/metaData')\n",
    "comment_1gram = spark.read.parquet('hdfs://namenode:9000/analysis/comment_1gram')\n",
    "comment_2gram = spark.read.parquet('hdfs://namenode:9000/analysis/comment_2gram')"
   ]
  },
  {
   "cell_type": "code",
   "execution_count": 12,
   "id": "34e84f22",
   "metadata": {},
   "outputs": [
    {
     "name": "stderr",
     "output_type": "stream",
     "text": [
      "23/01/25 13:31:19 WARN package: Truncated the string representation of a plan since it was too large. This behavior can be adjusted by setting 'spark.sql.debug.maxToStringFields'.\n"
     ]
    },
    {
     "data": {
      "text/plain": [
       "95451"
      ]
     },
     "execution_count": 12,
     "metadata": {},
     "output_type": "execute_result"
    }
   ],
   "source": [
    "Product_Shop.count()"
   ]
  },
  {
   "cell_type": "code",
   "execution_count": 13,
   "id": "42cc6347",
   "metadata": {},
   "outputs": [
    {
     "data": {
      "text/plain": [
       "3038114"
      ]
     },
     "execution_count": 13,
     "metadata": {},
     "output_type": "execute_result"
    }
   ],
   "source": [
    "metaData.count()"
   ]
  },
  {
   "cell_type": "code",
   "execution_count": 14,
   "id": "3d8952b0",
   "metadata": {},
   "outputs": [
    {
     "data": {
      "text/plain": [
       "81038"
      ]
     },
     "execution_count": 14,
     "metadata": {},
     "output_type": "execute_result"
    }
   ],
   "source": [
    "comment_1gram.count()"
   ]
  },
  {
   "cell_type": "code",
   "execution_count": 15,
   "id": "898b495c",
   "metadata": {},
   "outputs": [
    {
     "data": {
      "text/plain": [
       "1863421"
      ]
     },
     "execution_count": 15,
     "metadata": {},
     "output_type": "execute_result"
    }
   ],
   "source": [
    "comment_2gram.count()"
   ]
  },
  {
   "cell_type": "code",
   "execution_count": 10,
   "id": "68bc8d14",
   "metadata": {},
   "outputs": [
    {
     "name": "stdout",
     "output_type": "stream",
     "text": [
      "root\n",
      " |-- sentiment: string (nullable = true)\n",
      " |-- word: string (nullable = true)\n",
      " |-- count: long (nullable = true)\n",
      "\n"
     ]
    }
   ],
   "source": [
    "comment_1gram.printSchema()"
   ]
  },
  {
   "cell_type": "code",
   "execution_count": 11,
   "id": "11271819",
   "metadata": {},
   "outputs": [
    {
     "name": "stdout",
     "output_type": "stream",
     "text": [
      "root\n",
      " |-- sentiment: string (nullable = true)\n",
      " |-- word: string (nullable = true)\n",
      " |-- count: long (nullable = true)\n",
      "\n"
     ]
    }
   ],
   "source": [
    "comment_2gram.printSchema()"
   ]
  },
  {
   "cell_type": "code",
   "execution_count": 8,
   "id": "c9d3378a",
   "metadata": {},
   "outputs": [
    {
     "name": "stdout",
     "output_type": "stream",
     "text": [
      "root\n",
      " |-- p_id: integer (nullable = true)\n",
      " |-- master_id: integer (nullable = true)\n",
      " |-- price: integer (nullable = true)\n",
      " |-- list_price: integer (nullable = true)\n",
      " |-- original_price: integer (nullable = true)\n",
      " |-- discount: integer (nullable = true)\n",
      " |-- discount_rate: float (nullable = true)\n",
      " |-- productset_group_name: string (nullable = true)\n",
      " |-- all_time_quantity_sold: integer (nullable = true)\n",
      " |-- p_name: string (nullable = true)\n",
      " |-- short_description: string (nullable = true)\n",
      " |-- p_clean_name: string (nullable = true)\n",
      " |-- clean_description: string (nullable = true)\n",
      " |-- clean_specifications: string (nullable = true)\n",
      " |-- category_name: string (nullable = true)\n",
      " |-- seller_id: string (nullable = true)\n",
      " |-- store_id: integer (nullable = true)\n",
      " |-- s_name: string (nullable = true)\n",
      " |-- icon: string (nullable = true)\n",
      " |-- url: string (nullable = true)\n",
      " |-- is_official: boolean (nullable = true)\n",
      " |-- store_level: string (nullable = true)\n",
      " |-- is_followed: boolean (nullable = true)\n",
      " |-- avg_rating_point: float (nullable = true)\n",
      " |-- review_count: integer (nullable = true)\n",
      " |-- total_follower: integer (nullable = true)\n",
      " |-- days_since_joined: integer (nullable = true)\n",
      " |-- category_id: integer (nullable = true)\n",
      "\n"
     ]
    }
   ],
   "source": [
    "Product_Shop.printSchema()"
   ]
  },
  {
   "cell_type": "code",
   "execution_count": 9,
   "id": "7975c1aa",
   "metadata": {},
   "outputs": [
    {
     "name": "stdout",
     "output_type": "stream",
     "text": [
      "root\n",
      " |-- p_id: integer (nullable = true)\n",
      " |-- master_id: integer (nullable = true)\n",
      " |-- price: integer (nullable = true)\n",
      " |-- list_price: integer (nullable = true)\n",
      " |-- original_price: integer (nullable = true)\n",
      " |-- discount: integer (nullable = true)\n",
      " |-- discount_rate: float (nullable = true)\n",
      " |-- productset_group_name: string (nullable = true)\n",
      " |-- all_time_quantity_sold: integer (nullable = true)\n",
      " |-- p_name: string (nullable = true)\n",
      " |-- short_description: string (nullable = true)\n",
      " |-- p_clean_name: string (nullable = true)\n",
      " |-- clean_description: string (nullable = true)\n",
      " |-- clean_specifications: string (nullable = true)\n",
      " |-- category_name: string (nullable = true)\n",
      " |-- seller_id: string (nullable = true)\n",
      " |-- store_id: integer (nullable = true)\n",
      " |-- s_name: string (nullable = true)\n",
      " |-- icon: string (nullable = true)\n",
      " |-- url: string (nullable = true)\n",
      " |-- is_official: boolean (nullable = true)\n",
      " |-- store_level: string (nullable = true)\n",
      " |-- is_followed: boolean (nullable = true)\n",
      " |-- avg_rating_point: float (nullable = true)\n",
      " |-- review_count: integer (nullable = true)\n",
      " |-- total_follower: integer (nullable = true)\n",
      " |-- days_since_joined: integer (nullable = true)\n",
      " |-- c_id: integer (nullable = true)\n",
      " |-- content: string (nullable = true)\n",
      " |-- clean_content: string (nullable = true)\n",
      " |-- thank_count: integer (nullable = true)\n",
      " |-- customer_id: integer (nullable = true)\n",
      " |-- rating: integer (nullable = true)\n",
      " |-- customer_full_name: string (nullable = true)\n",
      " |-- purchased_at: string (nullable = true)\n",
      " |-- date_purchased_at: string (nullable = true)\n",
      " |-- review_created_date: string (nullable = true)\n",
      " |-- delivery_date: string (nullable = true)\n",
      " |-- review_after_delivery: integer (nullable = true)\n",
      " |-- sentiment: string (nullable = true)\n",
      " |-- lable: integer (nullable = true)\n",
      " |-- category_id: integer (nullable = true)\n",
      "\n"
     ]
    }
   ],
   "source": [
    "metaData.printSchema()"
   ]
  },
  {
   "cell_type": "code",
   "execution_count": 3,
   "id": "25b3fd7c",
   "metadata": {},
   "outputs": [
    {
     "name": "stderr",
     "output_type": "stream",
     "text": [
      "                                                                                \r"
     ]
    }
   ],
   "source": [
    "df_product = spark.read.parquet('hdfs://namenode:9000/tiki/Product')\n",
    "df_comment = spark.read.parquet('hdfs://namenode:9000/tiki/Comment')\n",
    "df_shop = spark.read.parquet('hdfs://namenode:9000/tiki/ShopInfo')"
   ]
  },
  {
   "cell_type": "code",
   "execution_count": 22,
   "id": "7170964f",
   "metadata": {},
   "outputs": [
    {
     "name": "stdout",
     "output_type": "stream",
     "text": [
      "+------------------------------------------------------------------------------------------------------------------------+\n",
      "|                                                                                                                   value|\n",
      "+------------------------------------------------------------------------------------------------------------------------+\n",
      "|{\"id\": 24629723, \"master_id\": 24629723, \"sku\": \"3201131389423\", \"name\": \"K\\u00ednh M\\u00e1t Nam Cao C\\u1ea5p K\\u00e8m...|\n",
      "|{\"id\": 614854, \"master_id\": 614854, \"sku\": \"2510608412924\", \"name\": \"Nh\\u1eefng Gi\\u1ea5c M\\u01a1 \\u1ede Hi\\u1ec7u S\\...|\n",
      "|{\"id\": 62231649, \"master_id\": 62231649, \"sku\": \"6840385438104\", \"name\": \"Combo 3 c\\u1eb7p thanh ch\\u1eafn khe c\\u1eed...|\n",
      "|{\"id\": 151756158, \"master_id\": 151756158, \"sku\": \"1823652985285\", \"name\": \"N\\u1ed2I \\u00c1P SU\\u1ea4T BLUESTONE PCB-5...|\n",
      "|{\"id\": 614854, \"master_id\": 614854, \"sku\": \"2510608412924\", \"name\": \"Nh\\u1eefng Gi\\u1ea5c M\\u01a1 \\u1ede Hi\\u1ec7u S\\...|\n",
      "|{\"id\": 24629723, \"master_id\": 24629723, \"sku\": \"3201131389423\", \"name\": \"K\\u00ednh M\\u00e1t Nam Cao C\\u1ea5p K\\u00e8m...|\n",
      "|{\"id\": 150622157, \"master_id\": 150622157, \"sku\": \"9902132677363\", \"name\": \"M\\u00e1y xay sinh t\\u1ed1 Electrolux E3TB1...|\n",
      "|{\"id\": 24629723, \"master_id\": 24629723, \"sku\": \"3201131389423\", \"name\": \"K\\u00ednh M\\u00e1t Nam Cao C\\u1ea5p K\\u00e8m...|\n",
      "|{\"id\": 37949789, \"master_id\": 37949789, \"sku\": \"3169391125222\", \"name\": \"Qu\\u1ea1t tr\\u1ea7n Panasonic F-56XPG 4 c\\u0...|\n",
      "|{\"id\": 62231649, \"master_id\": 62231649, \"sku\": \"6840385438104\", \"name\": \"Combo 3 c\\u1eb7p thanh ch\\u1eafn khe c\\u1eed...|\n",
      "+------------------------------------------------------------------------------------------------------------------------+\n",
      "only showing top 10 rows\n",
      "\n"
     ]
    }
   ],
   "source": [
    "df_product.show(10,120)"
   ]
  },
  {
   "cell_type": "code",
   "execution_count": 23,
   "id": "85277703",
   "metadata": {},
   "outputs": [
    {
     "name": "stdout",
     "output_type": "stream",
     "text": [
      "+------------------------------------------------------------------------------------------------------------------------+\n",
      "|                                                                                                                   value|\n",
      "+------------------------------------------------------------------------------------------------------------------------+\n",
      "|{\"id\": 12696578, \"title\": \"B\\u00ecnh th\\u01b0\\u1eddng\", \"content\": \"S\\u1ea3n ph\\u1ea9m Tiki Trading th\\u00ec okie. M\\...|\n",
      "|{\"id\": 17837163, \"title\": \"C\\u1ef1c k\\u00ec h\\u00e0i l\\u00f2ng\", \"content\": \"Pepsi chai nh\\u1ecf. U\\u1ed1ng ok nha. T...|\n",
      "|{\"id\": 17656856, \"title\": \"C\\u1ef1c k\\u00ec h\\u00e0i l\\u00f2ng\", \"content\": \"Giao h\\u00e0ng nhanh, date m\\u1edbi, th\\...|\n",
      "|{\"id\": 16628410, \"title\": \"C\\u1ef1c k\\u00ec h\\u00e0i l\\u00f2ng\", \"content\": \"d\\u00ed\\u00edidididididiidid\\u00ecvivivi...|\n",
      "|{\"id\": 10268605, \"title\": \"C\\u1ef1c k\\u00ec h\\u00e0i l\\u00f2ng\", \"content\": \"h\\u00e0ng ngon ae nh\\u00e9, n\\u00ean mua...|\n",
      "|{\"id\": 16265495, \"title\": \"C\\u1ef1c k\\u00ec h\\u00e0i l\\u00f2ng\", \"content\": \"Th\\u00f9ng Pepsi kh\\u00e1 r\\u1ebb 130k m...|\n",
      "|{\"id\": 16151553, \"title\": \"C\\u1ef1c k\\u00ec h\\u00e0i l\\u00f2ng\", \"content\": \"Mua \\u0111\\u01b0\\u1ee3c gi\\u00e1 r\\u1ebb...|\n",
      "|{\"id\": 17215693, \"title\": \"C\\u1ef1c k\\u00ec h\\u00e0i l\\u00f2ng\", \"content\": \"H\\u00c0NG GIAO NHANH CHI\\u1ec0U \\u0110\\u...|\n",
      "|{\"id\": 16036070, \"title\": \"C\\u1ef1c k\\u00ec h\\u00e0i l\\u00f2ng\", \"content\": \"S\\u1ea3n ph\\u1ea9m giao nhanh. \\u0110\\u0...|\n",
      "|{\"id\": 17187701, \"title\": \"H\\u00e0i l\\u00f2ng\", \"content\": \"R\\u1ea5t ch\\u1ea5t.... T\\u1eeb ch\\u1ea5t l\\u01b0\\u1ee3ng ...|\n",
      "+------------------------------------------------------------------------------------------------------------------------+\n",
      "only showing top 10 rows\n",
      "\n"
     ]
    }
   ],
   "source": [
    "df_comment.show(10,120)"
   ]
  },
  {
   "cell_type": "code",
   "execution_count": 24,
   "id": "3046c12e",
   "metadata": {},
   "outputs": [
    {
     "name": "stdout",
     "output_type": "stream",
     "text": [
      "+------------------------------------------------------------------------------------------------------------------------+\n",
      "|                                                                                                                   value|\n",
      "+------------------------------------------------------------------------------------------------------------------------+\n",
      "|{\"id\": 13239, \"store_id\": 12900, \"name\": \"Jess shop cosmetics\", \"icon\": \"https://vcdn.tikicdn.com/ts/seller/d5/cd/ca/...|\n",
      "|{\"id\": 232650, \"store_id\": 219682, \"name\": \"Hasu Sago Shop\", \"icon\": \"https://vcdn.tikicdn.com/ts/seller/11/87/fe/d55...|\n",
      "|{\"id\": 31606, \"store_id\": 30924, \"name\": \"H89 store\", \"icon\": \"https://vcdn.tikicdn.com/ts/seller/86/23/f2/5a4de26395...|\n",
      "|{\"id\": 251877, \"store_id\": 238909, \"name\": \"Gi\\u00e0y d\\u00e9p RYNA\", \"icon\": \"https://vcdn.tikicdn.com/ts/seller/95/...|\n",
      "|{\"id\": 230813, \"store_id\": 217845, \"name\": \"ROC LTD\", \"icon\": \"https://vcdn.tikicdn.com/ts/seller/c8/34/61/27f356bfc2...|\n",
      "|{\"id\": 276580, \"store_id\": 263627, \"name\": \"Vardino Official\", \"icon\": \"https://vcdn.tikicdn.com/ts/seller/53/3e/b7/c...|\n",
      "|{\"id\": 196109, \"store_id\": 183142, \"name\": \"D\\u1ee5ng c\\u1ee5 \\u0110\\u1ed3 Ngh\\u1ec1 s\\u1eeda ch\\u1eefa \\u00d4 T\\u00f...|\n",
      "|{\"id\": 266962, \"store_id\": 254007, \"name\": \"Ph\\u1ee5 t\\u00f9ng xe m\\u00e1y Anh Em Gia Nghi\\u1ec7p\", \"icon\": \"https://...|\n",
      "|{\"id\": 12647, \"store_id\": 12313, \"name\": \"Khogiadung\", \"icon\": \"https://vcdn.tikicdn.com/ts/seller/4b/54/1a/f385a79a7...|\n",
      "|{\"id\": 130282, \"store_id\": 120352, \"name\": \"Ho\\u00e0ng Kim \\u0110an\", \"icon\": \"https://vcdn.tikicdn.com/ts/seller/cf/...|\n",
      "+------------------------------------------------------------------------------------------------------------------------+\n",
      "only showing top 10 rows\n",
      "\n"
     ]
    }
   ],
   "source": [
    "df_shop.show(10,120)"
   ]
  },
  {
   "cell_type": "code",
   "execution_count": 10,
   "id": "605a2127",
   "metadata": {},
   "outputs": [],
   "source": [
    "from pyspark.sql.functions import sum"
   ]
  },
  {
   "cell_type": "code",
   "execution_count": 16,
   "id": "66dcce73",
   "metadata": {},
   "outputs": [
    {
     "name": "stderr",
     "output_type": "stream",
     "text": [
      "                                                                                \r"
     ]
    },
    {
     "data": {
      "text/plain": [
       "[Row(sum(all_time_quantity_sold)=25207914)]"
      ]
     },
     "execution_count": 16,
     "metadata": {},
     "output_type": "execute_result"
    }
   ],
   "source": [
    "df_product.select(sum('all_time_quantity_sold')).collect()"
   ]
  },
  {
   "cell_type": "code",
   "execution_count": 17,
   "id": "2c9dab76",
   "metadata": {},
   "outputs": [
    {
     "name": "stderr",
     "output_type": "stream",
     "text": [
      "                                                                                \r"
     ]
    },
    {
     "data": {
      "text/plain": [
       "[Row(sum(all_time_quantity_sold)=25126552)]"
      ]
     },
     "execution_count": 17,
     "metadata": {},
     "output_type": "execute_result"
    }
   ],
   "source": [
    "df_product_shop.select(sum('all_time_quantity_sold')).collect()"
   ]
  },
  {
   "cell_type": "code",
   "execution_count": 13,
   "id": "2382bbaf",
   "metadata": {},
   "outputs": [
    {
     "data": {
      "text/plain": [
       "[Row(all_time_quantity_sold=None),\n",
       " Row(all_time_quantity_sold=8),\n",
       " Row(all_time_quantity_sold=1),\n",
       " Row(all_time_quantity_sold=None),\n",
       " Row(all_time_quantity_sold=None),\n",
       " Row(all_time_quantity_sold=None),\n",
       " Row(all_time_quantity_sold=None),\n",
       " Row(all_time_quantity_sold=None),\n",
       " Row(all_time_quantity_sold=None),\n",
       " Row(all_time_quantity_sold=None)]"
      ]
     },
     "execution_count": 13,
     "metadata": {},
     "output_type": "execute_result"
    }
   ],
   "source": [
    "df_product.select('all_time_quantity_sold').take(10)"
   ]
  },
  {
   "cell_type": "code",
   "execution_count": 12,
   "id": "ce3c2b56",
   "metadata": {},
   "outputs": [
    {
     "data": {
      "text/plain": [
       "[Row(all_time_quantity_sold=None),\n",
       " Row(all_time_quantity_sold=8),\n",
       " Row(all_time_quantity_sold=1),\n",
       " Row(all_time_quantity_sold=None),\n",
       " Row(all_time_quantity_sold=None),\n",
       " Row(all_time_quantity_sold=None),\n",
       " Row(all_time_quantity_sold=None),\n",
       " Row(all_time_quantity_sold=None),\n",
       " Row(all_time_quantity_sold=None),\n",
       " Row(all_time_quantity_sold=None)]"
      ]
     },
     "execution_count": 12,
     "metadata": {},
     "output_type": "execute_result"
    }
   ],
   "source": [
    "df_product_shop.select('all_time_quantity_sold').take(10)"
   ]
  },
  {
   "cell_type": "code",
   "execution_count": null,
   "id": "d86e49e9",
   "metadata": {},
   "outputs": [],
   "source": [
    "df_product_shop.all_time_quantity_sold.sum()"
   ]
  }
 ],
 "metadata": {
  "kernelspec": {
   "display_name": "Python 3 (ipykernel)",
   "language": "python",
   "name": "python3"
  },
  "language_info": {
   "codemirror_mode": {
    "name": "ipython",
    "version": 3
   },
   "file_extension": ".py",
   "mimetype": "text/x-python",
   "name": "python",
   "nbconvert_exporter": "python",
   "pygments_lexer": "ipython3",
   "version": "3.9.2"
  }
 },
 "nbformat": 4,
 "nbformat_minor": 5
}
