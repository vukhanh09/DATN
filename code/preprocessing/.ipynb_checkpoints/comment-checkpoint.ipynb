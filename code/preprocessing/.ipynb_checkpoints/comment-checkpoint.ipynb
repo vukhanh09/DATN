{
 "cells": [
  {
   "cell_type": "code",
   "execution_count": 1,
   "id": "c47d1ac3",
   "metadata": {},
   "outputs": [],
   "source": [
    "from json import loads\n",
    "from pyspark.sql import SparkSession\n",
    "import warnings\n",
    "warnings.filterwarnings(\"ignore\")\n",
    "from pyspark.sql.functions import col,from_json,udf\n",
    "from pyspark.sql.types import StructType,StructField, StringType, IntegerType,MapType,FloatType,ArrayType"
   ]
  },
  {
   "cell_type": "code",
   "execution_count": 2,
   "id": "e1e542bf",
   "metadata": {},
   "outputs": [
    {
     "name": "stderr",
     "output_type": "stream",
     "text": [
      "22/11/27 06:16:04 WARN NativeCodeLoader: Unable to load native-hadoop library for your platform... using builtin-java classes where applicable\n",
      "Using Spark's default log4j profile: org/apache/spark/log4j-defaults.properties\n",
      "Setting default log level to \"WARN\".\n",
      "To adjust logging level use sc.setLogLevel(newLevel). For SparkR, use setLogLevel(newLevel).\n",
      "22/11/27 06:16:05 WARN Utils: Service 'SparkUI' could not bind on port 4040. Attempting port 4041.\n"
     ]
    }
   ],
   "source": [
    "spark = SparkSession.\\\n",
    "        builder.\\\n",
    "        appName(\"process-data\").\\\n",
    "        master(\"spark://spark-master:7077\").\\\n",
    "        config(\"spark.executor.memory\", \"1024m\").\\\n",
    "        getOrCreate()"
   ]
  },
  {
   "cell_type": "code",
   "execution_count": 3,
   "id": "04cbbe35",
   "metadata": {},
   "outputs": [
    {
     "name": "stderr",
     "output_type": "stream",
     "text": [
      "                                                                                \r"
     ]
    }
   ],
   "source": [
    "data = spark.read.parquet('hdfs://namenode:9000/tiki/Comment')"
   ]
  },
  {
   "cell_type": "code",
   "execution_count": 4,
   "id": "0496997a",
   "metadata": {},
   "outputs": [
    {
     "name": "stderr",
     "output_type": "stream",
     "text": [
      "                                                                                \r"
     ]
    }
   ],
   "source": [
    "sample_data = data.select('value').take(1)"
   ]
  },
  {
   "cell_type": "code",
   "execution_count": 5,
   "id": "02cd2551",
   "metadata": {},
   "outputs": [],
   "source": [
    "sample_data = sample_data[0].value"
   ]
  },
  {
   "cell_type": "code",
   "execution_count": 6,
   "id": "5cd1a64e",
   "metadata": {},
   "outputs": [],
   "source": [
    "data_sample = loads(sample_data)"
   ]
  },
  {
   "cell_type": "code",
   "execution_count": 7,
   "id": "42cb58e8",
   "metadata": {},
   "outputs": [],
   "source": [
    "schema = StructType([ \n",
    "    StructField(\"id\",IntegerType(),True), \n",
    "    StructField(\"content\",StringType(),True), \n",
    "    StructField(\"thank_count\",IntegerType(),True), \n",
    "    StructField(\"customer_id\",IntegerType(),True),\n",
    "    StructField(\"rating\",IntegerType(),True), \n",
    "    StructField(\"created_by\",MapType(StringType(),StringType()),True),\n",
    "    StructField(\"spid\",IntegerType(),True),\n",
    "    StructField(\"seller\",MapType(StringType(),StringType()),True),\n",
    "    StructField(\"timeline\",MapType(StringType(),StringType()),True),\n",
    "    StructField('product_id', IntegerType(),True),\n",
    "])"
   ]
  },
  {
   "cell_type": "code",
   "execution_count": 8,
   "id": "04abbba9",
   "metadata": {},
   "outputs": [],
   "source": [
    "df = data.withColumn(\"jsonData\",from_json(col(\"value\"),schema)) \\\n",
    "                   .select(\"jsonData.*\")"
   ]
  },
  {
   "cell_type": "code",
   "execution_count": 9,
   "id": "e4fbbd4b",
   "metadata": {},
   "outputs": [],
   "source": [
    "df.createOrReplaceTempView('Comment')"
   ]
  },
  {
   "cell_type": "code",
   "execution_count": 10,
   "id": "588a10f5",
   "metadata": {},
   "outputs": [],
   "source": [
    "import re\n",
    "# as per recommendation from @freylis, compile once only\n",
    "CLEANR = re.compile('<.*?>') \n",
    "def cleanText(str_raw):\n",
    "    # remove tags html\n",
    "    str_raw = re.sub(CLEANR, ' ', str_raw)\n",
    "\n",
    "    # remove special character\n",
    "    str_raw = re.sub('\\W+', ' ', str_raw)\n",
    "    \n",
    "    # remove number\n",
    "    str_raw = re.sub(\"[0-9]+\", \"\", str_raw)\n",
    "    \n",
    "    # remove space\n",
    "    cleantext = re.sub(\" +\", \" \", str_raw)\n",
    "    return cleantext.lower()"
   ]
  },
  {
   "cell_type": "code",
   "execution_count": 11,
   "id": "efb60573",
   "metadata": {},
   "outputs": [
    {
     "data": {
      "text/plain": [
       "<function __main__.cleanText(str_raw)>"
      ]
     },
     "execution_count": 11,
     "metadata": {},
     "output_type": "execute_result"
    }
   ],
   "source": [
    "spark.udf.register(\"cleanText\", cleanText,StringType())"
   ]
  },
  {
   "cell_type": "code",
   "execution_count": 12,
   "id": "56f5b3ec",
   "metadata": {},
   "outputs": [],
   "source": [
    "df_clean = spark.sql(\"\"\"\n",
    "    select id,content content,cleanText(content) clean_content,thank_count,customer_id,rating,spid,\n",
    "    seller.id seller_id,product_id, created_by.full_name customer_full_name,created_by.purchased_at purchased_at,\n",
    "    from_unixtime(CAST(created_by.purchased_at as BIGINT), 'yyyy-MM-dd') date_purchased_at,\n",
    "    timeline.review_created_date review_created_date,timeline.delivery_date delivery_date,\n",
    "    datediff(timeline.review_created_date,timeline.delivery_date) review_after_delivery,\n",
    "    case\n",
    "        when rating >= 4 then 'Positive'\n",
    "        when rating = 3 then 'Neutral'\n",
    "        when rating <3 then 'Negative'\n",
    "    end as sentiment,\n",
    "    case\n",
    "        when rating >= 4 then 2\n",
    "        when rating = 3 then 1\n",
    "        when rating <3 then 0\n",
    "    end as lable\n",
    "    from Comment c\n",
    "\"\"\")"
   ]
  },
  {
   "cell_type": "code",
   "execution_count": 13,
   "id": "23ebce97",
   "metadata": {},
   "outputs": [
    {
     "name": "stderr",
     "output_type": "stream",
     "text": [
      "                                                                                \r"
     ]
    }
   ],
   "source": [
    "df_clean.write.mode('append').parquet('hdfs://namenode:9000/TikiCleaned/Comment')"
   ]
  },
  {
   "cell_type": "code",
   "execution_count": 14,
   "id": "311c8f5d",
   "metadata": {},
   "outputs": [],
   "source": [
    "spark.stop()"
   ]
  },
  {
   "cell_type": "code",
   "execution_count": null,
   "id": "35b45ebc",
   "metadata": {},
   "outputs": [],
   "source": []
  }
 ],
 "metadata": {
  "kernelspec": {
   "display_name": "Python 3 (ipykernel)",
   "language": "python",
   "name": "python3"
  },
  "language_info": {
   "codemirror_mode": {
    "name": "ipython",
    "version": 3
   },
   "file_extension": ".py",
   "mimetype": "text/x-python",
   "name": "python",
   "nbconvert_exporter": "python",
   "pygments_lexer": "ipython3",
   "version": "3.9.2"
  }
 },
 "nbformat": 4,
 "nbformat_minor": 5
}
