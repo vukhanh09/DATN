{
 "cells": [
  {
   "cell_type": "code",
   "execution_count": 11,
   "id": "36f16ef4",
   "metadata": {},
   "outputs": [],
   "source": [
    "from json import loads\n",
    "from pyspark.sql import SparkSession\n",
    "import warnings\n",
    "warnings.filterwarnings(\"ignore\")\n",
    "from pyspark.sql.functions import col,from_json,udf\n",
    "from pyspark.sql.types import StructType,StructField, StringType, IntegerType,MapType,FloatType,ArrayType,BooleanType"
   ]
  },
  {
   "cell_type": "code",
   "execution_count": 2,
   "id": "b4a389a6",
   "metadata": {},
   "outputs": [
    {
     "name": "stderr",
     "output_type": "stream",
     "text": [
      "22/11/16 14:50:35 WARN NativeCodeLoader: Unable to load native-hadoop library for your platform... using builtin-java classes where applicable\n",
      "Using Spark's default log4j profile: org/apache/spark/log4j-defaults.properties\n",
      "Setting default log level to \"WARN\".\n",
      "To adjust logging level use sc.setLogLevel(newLevel). For SparkR, use setLogLevel(newLevel).\n"
     ]
    }
   ],
   "source": [
    "spark = SparkSession.\\\n",
    "        builder.\\\n",
    "        appName(\"process-data\").\\\n",
    "        master(\"spark://spark-master:7077\").\\\n",
    "        config(\"spark.executor.memory\", \"1024m\").\\\n",
    "        getOrCreate()"
   ]
  },
  {
   "cell_type": "code",
   "execution_count": 3,
   "id": "65d1952c",
   "metadata": {},
   "outputs": [
    {
     "name": "stderr",
     "output_type": "stream",
     "text": [
      "                                                                                \r"
     ]
    }
   ],
   "source": [
    "data = spark.read.parquet('hdfs://namenode:9000/tiki/ShopInfo')"
   ]
  },
  {
   "cell_type": "code",
   "execution_count": 4,
   "id": "ae723e03",
   "metadata": {},
   "outputs": [
    {
     "name": "stderr",
     "output_type": "stream",
     "text": [
      "                                                                                \r"
     ]
    }
   ],
   "source": [
    "sample_data = data.select('value').take(5)"
   ]
  },
  {
   "cell_type": "code",
   "execution_count": 5,
   "id": "b5d048f1",
   "metadata": {},
   "outputs": [],
   "source": [
    "data_sample = [loads(item.value) for item in sample_data]"
   ]
  },
  {
   "cell_type": "code",
   "execution_count": 10,
   "id": "f0012408",
   "metadata": {},
   "outputs": [
    {
     "data": {
      "text/plain": [
       "{'id': 193109,\n",
       " 'store_id': 180142,\n",
       " 'name': 'MBphukien',\n",
       " 'icon': 'https://vcdn.tikicdn.com/ts/seller/d6/98/7d/0ddcfb93fb24e24685fb8fb8c8eeef15.jpg',\n",
       " 'url': 'https://tiki.vn/cua-hang/mbphukien',\n",
       " 'is_official': False,\n",
       " 'store_level': 'NONE',\n",
       " 'is_followed': False,\n",
       " 'info': [{'type': 'review', 'title': '4.2 / 5', 'sub_title': '21 đánh giá'},\n",
       "  {'type': 'normal', 'title': '4', 'sub_title': 'Người theo dõi'}],\n",
       " 'avg_rating_point': 4.1905,\n",
       " 'review_count': 21,\n",
       " 'total_follower': 4,\n",
       " 'days_since_joined': 516}"
      ]
     },
     "execution_count": 10,
     "metadata": {},
     "output_type": "execute_result"
    }
   ],
   "source": [
    "data_sample[3]"
   ]
  },
  {
   "cell_type": "code",
   "execution_count": 13,
   "id": "8e0b41ca",
   "metadata": {},
   "outputs": [],
   "source": [
    "schema = StructType([ \n",
    "    StructField(\"id\",IntegerType(),True), \n",
    "    StructField(\"store_id\",IntegerType(),True), \n",
    "    StructField(\"name\",StringType(),True), \n",
    "    StructField(\"icon\",StringType(),True),\n",
    "    StructField(\"url\",StringType(),True), \n",
    "    StructField(\"is_official\",BooleanType(),True),\n",
    "    StructField(\"store_level\",StringType(),True),\n",
    "    StructField('is_followed', BooleanType(),True),\n",
    "    StructField('avg_rating_point', FloatType(),True),\n",
    "    StructField('review_count', IntegerType(),True),\n",
    "    StructField(\"total_follower\",IntegerType(),True), \n",
    "    StructField(\"days_since_joined\",IntegerType(),True), \n",
    "])"
   ]
  },
  {
   "cell_type": "code",
   "execution_count": 14,
   "id": "0653e837",
   "metadata": {},
   "outputs": [],
   "source": [
    "df = data.withColumn(\"jsonData\",from_json(col(\"value\"),schema)) \\\n",
    "                   .select(\"jsonData.*\")"
   ]
  },
  {
   "cell_type": "code",
   "execution_count": 15,
   "id": "b03f7ebf",
   "metadata": {},
   "outputs": [],
   "source": [
    "df.createOrReplaceTempView('shopinfo')"
   ]
  },
  {
   "cell_type": "code",
   "execution_count": 21,
   "id": "37944120",
   "metadata": {},
   "outputs": [
    {
     "name": "stderr",
     "output_type": "stream",
     "text": [
      "                                                                                \r"
     ]
    }
   ],
   "source": [
    "df.write.mode('append').parquet('hdfs://namenode:9000/TikiCleaned/ShopInfo')"
   ]
  },
  {
   "cell_type": "code",
   "execution_count": 22,
   "id": "78d97c44",
   "metadata": {},
   "outputs": [],
   "source": [
    "test = spark.read.parquet('hdfs://namenode:9000/TikiCleaned/ShopInfo')"
   ]
  },
  {
   "cell_type": "code",
   "execution_count": 23,
   "id": "8ca919a1",
   "metadata": {},
   "outputs": [
    {
     "data": {
      "text/plain": [
       "Row(id=150409, store_id=138766, name='Jizoe Beauty Store', icon='https://vcdn.tikicdn.com/ts/seller/4b/54/1a/f385a79a716cb3505f152e7af8c769aa.png', url='https://tiki.vn/cua-hang/jizoe-beauty-store', is_official=False, store_level='NONE', is_followed=False, avg_rating_point=4.423399925231934, review_count=359, total_follower=72, days_since_joined=775)"
      ]
     },
     "execution_count": 23,
     "metadata": {},
     "output_type": "execute_result"
    }
   ],
   "source": [
    "test.first()"
   ]
  },
  {
   "cell_type": "code",
   "execution_count": null,
   "id": "7a32da2b",
   "metadata": {},
   "outputs": [],
   "source": []
  }
 ],
 "metadata": {
  "kernelspec": {
   "display_name": "Python 3 (ipykernel)",
   "language": "python",
   "name": "python3"
  },
  "language_info": {
   "codemirror_mode": {
    "name": "ipython",
    "version": 3
   },
   "file_extension": ".py",
   "mimetype": "text/x-python",
   "name": "python",
   "nbconvert_exporter": "python",
   "pygments_lexer": "ipython3",
   "version": "3.9.2"
  }
 },
 "nbformat": 4,
 "nbformat_minor": 5
}
