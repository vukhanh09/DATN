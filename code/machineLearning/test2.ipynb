{
 "cells": [
  {
   "cell_type": "code",
   "execution_count": 1,
   "id": "7c128018",
   "metadata": {},
   "outputs": [],
   "source": [
    "from json import loads\n",
    "from pyspark.sql import SparkSession\n",
    "import warnings\n",
    "warnings.filterwarnings(\"ignore\")\n",
    "from pyspark.sql.functions import col,from_json,udf\n",
    "from pyspark.sql.types import StructType,StructField, StringType, IntegerType,MapType,FloatType,ArrayType"
   ]
  },
  {
   "cell_type": "code",
   "execution_count": 2,
   "id": "e9b3b7d5",
   "metadata": {},
   "outputs": [
    {
     "name": "stderr",
     "output_type": "stream",
     "text": [
      "22/12/04 15:46:23 WARN NativeCodeLoader: Unable to load native-hadoop library for your platform... using builtin-java classes where applicable\n",
      "Using Spark's default log4j profile: org/apache/spark/log4j-defaults.properties\n",
      "Setting default log level to \"WARN\".\n",
      "To adjust logging level use sc.setLogLevel(newLevel). For SparkR, use setLogLevel(newLevel).\n"
     ]
    }
   ],
   "source": [
    "spark = SparkSession.\\\n",
    "        builder.\\\n",
    "        appName(\"process-data\").\\\n",
    "        master(\"spark://spark-master:7077\").\\\n",
    "        config(\"spark.executor.memory\", \"1024m\").\\\n",
    "        getOrCreate()"
   ]
  },
  {
   "cell_type": "code",
   "execution_count": 3,
   "id": "73eeeefa",
   "metadata": {},
   "outputs": [
    {
     "name": "stderr",
     "output_type": "stream",
     "text": [
      "                                                                                \r"
     ]
    }
   ],
   "source": [
    "data = spark.read.parquet('hdfs://namenode:9000/TikiCleaned/Comment')"
   ]
  },
  {
   "cell_type": "code",
   "execution_count": 4,
   "id": "571496a9",
   "metadata": {},
   "outputs": [],
   "source": [
    "data.createOrReplaceTempView('data')"
   ]
  },
  {
   "cell_type": "code",
   "execution_count": 5,
   "id": "d918d1de",
   "metadata": {},
   "outputs": [
    {
     "name": "stderr",
     "output_type": "stream",
     "text": [
      "[Stage 2:==================================================>    (183 + 2) / 200]\r"
     ]
    },
    {
     "name": "stdout",
     "output_type": "stream",
     "text": [
      "+--------------------+------+---------+-----+\n",
      "|       clean_content|rating|sentiment|  tmp|\n",
      "+--------------------+------+---------+-----+\n",
      "|                  ok|     5| Positive|25449|\n",
      "|                 tốt|     5| Positive|13391|\n",
      "|        sản phẩm tốt|     5| Positive| 4831|\n",
      "|                good|     5| Positive| 4409|\n",
      "|                 đẹp|     5| Positive| 4396|\n",
      "|     giao hàng nhanh|     5| Positive| 3879|\n",
      "|            hài lòng|     5| Positive| 3031|\n",
      "|về giao hàng giao...|     5| Positive| 2887|\n",
      "|sản phẩm có chất ...|     5| Positive| 2845|\n",
      "|      chất lượng tốt|     5| Positive| 2406|\n",
      "|             rất tốt|     5| Positive| 2384|\n",
      "| sản phẩm rất xin...|     5| Positive| 2096|\n",
      "|giao hàng nhanh đ...|     5| Positive| 1896|\n",
      "|tôi rất thích hìn...|     5| Positive| 1866|\n",
      "|         sản phẩm ok|     5| Positive| 1737|\n",
      "|                ngon|     5| Positive| 1717|\n",
      "|           tuyệt vời|     5| Positive| 1703|\n",
      "|                  ok|     4| Positive| 1677|\n",
      "|sản phẩm có chất ...|     5| Positive| 1651|\n",
      "|        rất hài lòng|     5| Positive| 1583|\n",
      "+--------------------+------+---------+-----+\n",
      "only showing top 20 rows\n",
      "\n"
     ]
    },
    {
     "name": "stderr",
     "output_type": "stream",
     "text": [
      "                                                                                \r"
     ]
    }
   ],
   "source": [
    "spark.sql(\"\"\"\n",
    "    select clean_content,rating,sentiment,count(*) tmp from data\n",
    "    where clean_content <> '' and clean_content is not null and clean_content <> ' '\n",
    "    group by clean_content,rating,sentiment\n",
    "    order by tmp desc\n",
    "\"\"\").show()"
   ]
  },
  {
   "cell_type": "code",
   "execution_count": 6,
   "id": "41ef471f",
   "metadata": {},
   "outputs": [],
   "source": [
    "df = spark.sql(\"\"\"\n",
    "    select distinct clean_content,rating,\n",
    "    case\n",
    "        when rating >= 4 then 2\n",
    "        when rating = 3 then 1\n",
    "        else 0\n",
    "    end as label\n",
    "    from data\n",
    "    where clean_content <> '' and clean_content is not null and clean_content <> ' '\n",
    "\"\"\")"
   ]
  },
  {
   "cell_type": "code",
   "execution_count": 7,
   "id": "0688c2cf",
   "metadata": {},
   "outputs": [
    {
     "name": "stderr",
     "output_type": "stream",
     "text": [
      "                                                                                \r"
     ]
    },
    {
     "data": {
      "text/plain": [
       "323824"
      ]
     },
     "execution_count": 7,
     "metadata": {},
     "output_type": "execute_result"
    }
   ],
   "source": [
    "df.count()"
   ]
  },
  {
   "cell_type": "code",
   "execution_count": 8,
   "id": "e795072f",
   "metadata": {},
   "outputs": [
    {
     "name": "stderr",
     "output_type": "stream",
     "text": [
      "                                                                                \r"
     ]
    },
    {
     "name": "stdout",
     "output_type": "stream",
     "text": [
      "+------+------+\n",
      "|rating| count|\n",
      "+------+------+\n",
      "|     1| 29621|\n",
      "|     3| 17646|\n",
      "|     5|240672|\n",
      "|     4| 25935|\n",
      "|     2|  9950|\n",
      "+------+------+\n",
      "\n"
     ]
    }
   ],
   "source": [
    "df.groupby('rating').count().show()"
   ]
  },
  {
   "cell_type": "code",
   "execution_count": 9,
   "id": "4ea81bb1",
   "metadata": {},
   "outputs": [
    {
     "name": "stderr",
     "output_type": "stream",
     "text": [
      "                                                                                \r"
     ]
    },
    {
     "name": "stdout",
     "output_type": "stream",
     "text": [
      "+-----+------+\n",
      "|label| count|\n",
      "+-----+------+\n",
      "|    1| 17646|\n",
      "|    2|266607|\n",
      "|    0| 39571|\n",
      "+-----+------+\n",
      "\n"
     ]
    }
   ],
   "source": [
    "df.groupby('label').count().show()"
   ]
  },
  {
   "cell_type": "code",
   "execution_count": 10,
   "id": "cf89a17a",
   "metadata": {},
   "outputs": [
    {
     "data": {
      "text/plain": [
       "DataFrame[clean_content: string, rating: int, label: int]"
      ]
     },
     "execution_count": 10,
     "metadata": {},
     "output_type": "execute_result"
    }
   ],
   "source": [
    "df"
   ]
  },
  {
   "cell_type": "code",
   "execution_count": null,
   "id": "4e3b3047",
   "metadata": {},
   "outputs": [],
   "source": [
    "def getNGram(n):\n",
    "    ngram = NGram(n=n)\n",
    "    ngram.setInputCol(\"comment_term\")\n",
    "    ngram.setOutputCol(\"nGrams\")\n",
    "    df_nGram = ngram.transform(df_comment)\n",
    "    result_nGram = df_nGram.withColumn('word',explode(df_nGram.nGrams))\\\n",
    "        .groupBy(['sentiment','word'])\\\n",
    "        .count()\n",
    "    return result_nGram"
   ]
  },
  {
   "cell_type": "code",
   "execution_count": 62,
   "id": "bf6ec3ee",
   "metadata": {},
   "outputs": [
    {
     "name": "stderr",
     "output_type": "stream",
     "text": [
      "[Stage 344:======================================>                  (2 + 1) / 3]\r"
     ]
    },
    {
     "name": "stdout",
     "output_type": "stream",
     "text": [
      "+--------------------+------+-----+--------------------+\n",
      "|           cmt_token|rating|label|            features|\n",
      "+--------------------+------+-----+--------------------+\n",
      "|[micro, nhỏ, gọn,...|     5|    2|[-0.0267339327861...|\n",
      "|[giao, dây, tróc,...|     2|    0|[0.06681648490484...|\n",
      "|[cối, thủy, tinh,...|     5|    2|[0.05081051501218...|\n",
      "|[mình, đả, nhận, ...|     5|    2|[-0.0172826757556...|\n",
      "|[ổn, trong, tầm, ...|     5|    2|[0.12487213272187...|\n",
      "|[giày, đẹp, nhìn,...|     5|    2|[0.27593742949622...|\n",
      "|[lõi, bằng, chất,...|     3|    1|[-0.0459786405448...|\n",
      "|[máy, chất, lượng...|     5|    2|[0.02319451328366...|\n",
      "|[bóng, đẹp, sờ, v...|     5|    2|[0.03539467820276...|\n",
      "|[dây, kính, thanh...|     5|    2|[0.03577601377261...|\n",
      "|[đa, nha, n, đu, ...|     5|    2|[-0.2365505701872...|\n",
      "|[máy, nghe, rất, ...|     5|    2|[-0.1609528772532...|\n",
      "|[tăng, che, rộng,...|     5|    2|[0.07171569915601...|\n",
      "|[hàng, dùng, chất...|     5|    2|[0.04758290760219...|\n",
      "|[nhà, mình, từng,...|     5|    2|[0.04608926177024...|\n",
      "|[giao, hàng, nhan...|     5|    2|[-0.0959785878658...|\n",
      "|[chất, lượng, tốt...|     5|    2|[0.02784334123134...|\n",
      "|[đẹp, xuất, sắc, ...|     5|    2|[6.06789519744259...|\n",
      "|[mình, mua, dây, ...|     5|    2|[-0.1086103154586...|\n",
      "|[lap, vua, y, chi...|     5|    2|[0.27993736714623...|\n",
      "+--------------------+------+-----+--------------------+\n",
      "only showing top 20 rows\n",
      "\n"
     ]
    },
    {
     "name": "stderr",
     "output_type": "stream",
     "text": [
      "                                                                                \r"
     ]
    }
   ],
   "source": [
    "from pyspark.ml.feature import Word2Vec\n",
    "from pyspark.sql.functions import lower, col, split\n",
    "\n",
    "dataset = df.select(split(df.clean_content, ' ').alias('cmt_token'),'rating', 'label')\n",
    "\n",
    "word2Vec = Word2Vec(vectorSize=100, seed=42, inputCol=\"cmt_token\", outputCol=\"features\")\n",
    "word2Vec.setMaxIter(5)\n",
    "model = word2Vec.fit(dataset)\n",
    "\n",
    "res = model.transform(dataset)\n",
    "res.show()"
   ]
  },
  {
   "cell_type": "code",
   "execution_count": 63,
   "id": "25b01dec",
   "metadata": {},
   "outputs": [
    {
     "name": "stderr",
     "output_type": "stream",
     "text": [
      "                                                                                \r"
     ]
    }
   ],
   "source": [
    "from pyspark.ml.clustering import KMeans\n",
    "kmeans_val = KMeans(k=3, seed=1)\n",
    "model = kmeans_val.fit(res.select('features'))"
   ]
  },
  {
   "cell_type": "code",
   "execution_count": 64,
   "id": "2f689289",
   "metadata": {},
   "outputs": [],
   "source": [
    "transformed = model.transform(res)"
   ]
  },
  {
   "cell_type": "code",
   "execution_count": 66,
   "id": "32f8328e",
   "metadata": {},
   "outputs": [
    {
     "name": "stderr",
     "output_type": "stream",
     "text": [
      "                                                                                \r"
     ]
    },
    {
     "name": "stdout",
     "output_type": "stream",
     "text": [
      "+----------+-----------------+\n",
      "|prediction|      avg(rating)|\n",
      "+----------+-----------------+\n",
      "|         1|4.182274178738334|\n",
      "|         2|4.759746533007843|\n",
      "|         0|4.141603141603142|\n",
      "+----------+-----------------+\n",
      "\n"
     ]
    }
   ],
   "source": [
    "transformed.groupby('prediction').agg({'rating':'avg'}).show()"
   ]
  },
  {
   "cell_type": "code",
   "execution_count": 68,
   "id": "21475fb7",
   "metadata": {},
   "outputs": [
    {
     "name": "stderr",
     "output_type": "stream",
     "text": [
      "                                                                                \r"
     ]
    }
   ],
   "source": [
    "result = transformed.select(['rating','label','prediction']).toPandas()"
   ]
  },
  {
   "cell_type": "code",
   "execution_count": 80,
   "id": "bf785ba4",
   "metadata": {},
   "outputs": [
    {
     "data": {
      "text/html": [
       "<div>\n",
       "<style scoped>\n",
       "    .dataframe tbody tr th:only-of-type {\n",
       "        vertical-align: middle;\n",
       "    }\n",
       "\n",
       "    .dataframe tbody tr th {\n",
       "        vertical-align: top;\n",
       "    }\n",
       "\n",
       "    .dataframe thead th {\n",
       "        text-align: right;\n",
       "    }\n",
       "</style>\n",
       "<table border=\"1\" class=\"dataframe\">\n",
       "  <thead>\n",
       "    <tr style=\"text-align: right;\">\n",
       "      <th></th>\n",
       "      <th>rating</th>\n",
       "      <th>label</th>\n",
       "      <th>prediction</th>\n",
       "    </tr>\n",
       "  </thead>\n",
       "  <tbody>\n",
       "    <tr>\n",
       "      <th>0</th>\n",
       "      <td>5</td>\n",
       "      <td>2</td>\n",
       "      <td>1</td>\n",
       "    </tr>\n",
       "    <tr>\n",
       "      <th>1</th>\n",
       "      <td>5</td>\n",
       "      <td>2</td>\n",
       "      <td>2</td>\n",
       "    </tr>\n",
       "    <tr>\n",
       "      <th>2</th>\n",
       "      <td>5</td>\n",
       "      <td>2</td>\n",
       "      <td>1</td>\n",
       "    </tr>\n",
       "    <tr>\n",
       "      <th>3</th>\n",
       "      <td>2</td>\n",
       "      <td>0</td>\n",
       "      <td>1</td>\n",
       "    </tr>\n",
       "    <tr>\n",
       "      <th>4</th>\n",
       "      <td>5</td>\n",
       "      <td>2</td>\n",
       "      <td>2</td>\n",
       "    </tr>\n",
       "  </tbody>\n",
       "</table>\n",
       "</div>"
      ],
      "text/plain": [
       "   rating  label  prediction\n",
       "0       5      2           1\n",
       "1       5      2           2\n",
       "2       5      2           1\n",
       "3       2      0           1\n",
       "4       5      2           2"
      ]
     },
     "execution_count": 80,
     "metadata": {},
     "output_type": "execute_result"
    }
   ],
   "source": [
    "result.head()"
   ]
  },
  {
   "cell_type": "code",
   "execution_count": 83,
   "id": "71dbb6b6",
   "metadata": {},
   "outputs": [],
   "source": [
    "a = result['label'].values\n",
    "b = result['prediction'].values"
   ]
  },
  {
   "cell_type": "code",
   "execution_count": 84,
   "id": "0e8086d9",
   "metadata": {},
   "outputs": [],
   "source": [
    "from numpy import dot\n",
    "from numpy.linalg import norm\n",
    "\n",
    "cos_sim = dot(a, b)/(norm(a)*norm(b))"
   ]
  },
  {
   "cell_type": "code",
   "execution_count": 85,
   "id": "ecd1f09a",
   "metadata": {},
   "outputs": [
    {
     "data": {
      "text/plain": [
       "0.8900573664672334"
      ]
     },
     "execution_count": 85,
     "metadata": {},
     "output_type": "execute_result"
    }
   ],
   "source": [
    "cos_sim"
   ]
  },
  {
   "cell_type": "code",
   "execution_count": 71,
   "id": "95e0c8e1",
   "metadata": {},
   "outputs": [],
   "source": [
    "import matplotlib.pyplot as plt"
   ]
  },
  {
   "cell_type": "code",
   "execution_count": 90,
   "id": "0b3f05b8",
   "metadata": {},
   "outputs": [],
   "source": [
    "result0 = result[result['prediction'] == 0]\n",
    "result1 = result[result['prediction'] == 1]\n",
    "result2 = result[result['prediction'] == 2]"
   ]
  },
  {
   "cell_type": "code",
   "execution_count": 91,
   "id": "5c684e0e",
   "metadata": {},
   "outputs": [],
   "source": [
    "import seaborn as sns"
   ]
  },
  {
   "cell_type": "code",
   "execution_count": 93,
   "id": "b43d01ba",
   "metadata": {},
   "outputs": [
    {
     "data": {
      "text/plain": [
       "(array([1019.,    0.,  410.,    0.,    0.,  649.,    0.,  828.,    0.,\n",
       "        5752.]),\n",
       " array([1. , 1.4, 1.8, 2.2, 2.6, 3. , 3.4, 3.8, 4.2, 4.6, 5. ]),\n",
       " <BarContainer object of 10 artists>)"
      ]
     },
     "execution_count": 93,
     "metadata": {},
     "output_type": "execute_result"
    },
    {
     "data": {
      "image/png": "[encoded data removed]",
      "text/plain": [
       "<Figure size 640x480 with 1 Axes>"
      ]
     },
     "metadata": {},
     "output_type": "display_data"
    }
   ],
   "source": [
    "plt.hist(result0['rating'])"
   ]
  },
  {
   "cell_type": "code",
   "execution_count": 94,
   "id": "80065ac0",
   "metadata": {},
   "outputs": [
    {
     "data": {
      "text/plain": [
       "(array([ 25720.,      0.,   8701.,      0.,      0.,  15056.,      0.,\n",
       "         19906.,      0., 149518.]),\n",
       " array([1. , 1.4, 1.8, 2.2, 2.6, 3. , 3.4, 3.8, 4.2, 4.6, 5. ]),\n",
       " <BarContainer object of 10 artists>)"
      ]
     },
     "execution_count": 94,
     "metadata": {},
     "output_type": "execute_result"
    },
    {
     "data": {
      "image/png": "[encoded data removed]",
      "text/plain": [
       "<Figure size 640x480 with 1 Axes>"
      ]
     },
     "metadata": {},
     "output_type": "display_data"
    }
   ],
   "source": [
    "plt.hist(result1['rating'])"
   ]
  },
  {
   "cell_type": "code",
   "execution_count": 95,
   "id": "360ef675",
   "metadata": {},
   "outputs": [
    {
     "data": {
      "text/plain": [
       "(array([ 2882.,     0.,   839.,     0.,     0.,  1941.,     0.,  5201.,\n",
       "            0., 85402.]),\n",
       " array([1. , 1.4, 1.8, 2.2, 2.6, 3. , 3.4, 3.8, 4.2, 4.6, 5. ]),\n",
       " <BarContainer object of 10 artists>)"
      ]
     },
     "execution_count": 95,
     "metadata": {},
     "output_type": "execute_result"
    },
    {
     "data": {
      "image/png": "[encoded data removed]",
      "text/plain": [
       "<Figure size 640x480 with 1 Axes>"
      ]
     },
     "metadata": {},
     "output_type": "display_data"
    }
   ],
   "source": [
    "plt.hist(result2['rating'])"
   ]
  },
  {
   "cell_type": "code",
   "execution_count": 97,
   "id": "5dfae088",
   "metadata": {},
   "outputs": [
    {
     "data": {
      "text/plain": [
       "<seaborn.axisgrid.FacetGrid at 0x7f7884b48fd0>"
      ]
     },
     "execution_count": 97,
     "metadata": {},
     "output_type": "execute_result"
    },
    {
     "data": {
      "image/png": "[encoded data removed]",
      "text/plain": [
       "<Figure size 1500x500 with 3 Axes>"
      ]
     },
     "metadata": {},
     "output_type": "display_data"
    }
   ],
   "source": [
    "sns.displot(result, x=\"label\", col=\"prediction\")"
   ]
  },
  {
   "cell_type": "code",
   "execution_count": 65,
   "id": "f209522c",
   "metadata": {},
   "outputs": [
    {
     "name": "stderr",
     "output_type": "stream",
     "text": [
      "[Stage 424:======================================>                  (2 + 1) / 3]\r"
     ]
    },
    {
     "name": "stdout",
     "output_type": "stream",
     "text": [
      "+--------------------+------+-----+--------------------+----------+\n",
      "|           cmt_token|rating|label|            features|prediction|\n",
      "+--------------------+------+-----+--------------------+----------+\n",
      "|[micro, nhỏ, gọn,...|     5|    2|[-0.0267339327861...|         1|\n",
      "|[giao, dây, tróc,...|     2|    0|[0.06681648490484...|         1|\n",
      "|[cối, thủy, tinh,...|     5|    2|[0.05081051501218...|         1|\n",
      "|[mình, đả, nhận, ...|     5|    2|[-0.0172826757556...|         1|\n",
      "|[ổn, trong, tầm, ...|     5|    2|[0.12487213272187...|         1|\n",
      "|[giày, đẹp, nhìn,...|     5|    2|[0.27593742949622...|         2|\n",
      "|[lõi, bằng, chất,...|     3|    1|[-0.0459786405448...|         1|\n",
      "|[máy, chất, lượng...|     5|    2|[0.02319451328366...|         2|\n",
      "|[bóng, đẹp, sờ, v...|     5|    2|[0.03539467820276...|         1|\n",
      "|[dây, kính, thanh...|     5|    2|[0.03577601377261...|         1|\n",
      "|[đa, nha, n, đu, ...|     5|    2|[-0.2365505701872...|         0|\n",
      "|[máy, nghe, rất, ...|     5|    2|[-0.1609528772532...|         1|\n",
      "|[tăng, che, rộng,...|     5|    2|[0.07171569915601...|         1|\n",
      "|[hàng, dùng, chất...|     5|    2|[0.04758290760219...|         2|\n",
      "|[nhà, mình, từng,...|     5|    2|[0.04608926177024...|         1|\n",
      "|[giao, hàng, nhan...|     5|    2|[-0.0959785878658...|         2|\n",
      "|[chất, lượng, tốt...|     5|    2|[0.02784334123134...|         2|\n",
      "|[đẹp, xuất, sắc, ...|     5|    2|[6.06789519744259...|         1|\n",
      "|[mình, mua, dây, ...|     5|    2|[-0.1086103154586...|         1|\n",
      "|[lap, vua, y, chi...|     5|    2|[0.27993736714623...|         0|\n",
      "+--------------------+------+-----+--------------------+----------+\n",
      "only showing top 20 rows\n",
      "\n"
     ]
    },
    {
     "name": "stderr",
     "output_type": "stream",
     "text": [
      "                                                                                \r"
     ]
    }
   ],
   "source": [
    "transformed.show()"
   ]
  },
  {
   "cell_type": "code",
   "execution_count": null,
   "id": "7b88343d",
   "metadata": {},
   "outputs": [],
   "source": []
  }
 ],
 "metadata": {
  "kernelspec": {
   "display_name": "Python 3 (ipykernel)",
   "language": "python",
   "name": "python3"
  },
  "language_info": {
   "codemirror_mode": {
    "name": "ipython",
    "version": 3
   },
   "file_extension": ".py",
   "mimetype": "text/x-python",
   "name": "python",
   "nbconvert_exporter": "python",
   "pygments_lexer": "ipython3",
   "version": "3.9.2"
  }
 },
 "nbformat": 4,
 "nbformat_minor": 5
}
