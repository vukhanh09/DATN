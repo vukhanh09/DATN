{
 "cells": [
  {
   "cell_type": "code",
   "execution_count": null,
   "id": "57ab1ba5",
   "metadata": {},
   "outputs": [],
   "source": [
    "from json import loads\n",
    "from pyspark.sql import SparkSession\n",
    "import warnings\n",
    "import pandas as pd\n",
    "warnings.filterwarnings(\"ignore\")\n",
    "from pyspark.sql.functions import col,from_json,udf,split,explode\n",
    "from pyspark.ml.feature import NGram\n",
    "from pyspark.sql.types import StructType,StructField, StringType, IntegerType,MapType,FloatType,ArrayType"
   ]
  },
  {
   "cell_type": "code",
   "execution_count": null,
   "id": "1bfb3184",
   "metadata": {},
   "outputs": [],
   "source": [
    "spark = SparkSession.\\\n",
    "        builder.\\\n",
    "        appName(\"process-data\").\\\n",
    "        master(\"spark://spark-master:7077\").\\\n",
    "        config(\"spark.executor.memory\", \"1024m\").\\\n",
    "        getOrCreate()"
   ]
  },
  {
   "cell_type": "code",
   "execution_count": null,
   "id": "4714e6ae",
   "metadata": {},
   "outputs": [
    {
     "name": "stderr",
     "output_type": "stream",
     "text": [
      "22/12/07 16:11:50 WARN TaskSchedulerImpl: Initial job has not accepted any resources; check your cluster UI to ensure that workers are registered and have sufficient resources\n",
      "22/12/07 16:12:05 WARN TaskSchedulerImpl: Initial job has not accepted any resources; check your cluster UI to ensure that workers are registered and have sufficient resources\n"
     ]
    }
   ],
   "source": [
    "data = spark.read.parquet('hdfs://namenode:9000/TikiCleaned/Comment')"
   ]
  },
  {
   "cell_type": "code",
   "execution_count": 4,
   "id": "db5c970d",
   "metadata": {},
   "outputs": [],
   "source": [
    "data.createOrReplaceTempView('data')"
   ]
  },
  {
   "cell_type": "code",
   "execution_count": 6,
   "id": "bdaa5a4a",
   "metadata": {},
   "outputs": [],
   "source": [
    "df = spark.sql(\"\"\"\n",
    "    select distinct clean_content,rating,sentiment,\n",
    "    case\n",
    "        when rating >= 4 then 2\n",
    "        when rating = 3 then 1\n",
    "        else 0\n",
    "    end as label\n",
    "    from data\n",
    "    where clean_content <> '' and clean_content is not null and clean_content <> ' '\n",
    "\"\"\")"
   ]
  },
  {
   "cell_type": "code",
   "execution_count": 25,
   "id": "5bfd3428",
   "metadata": {},
   "outputs": [
    {
     "name": "stderr",
     "output_type": "stream",
     "text": [
      "                                                                                \r"
     ]
    },
    {
     "name": "stdout",
     "output_type": "stream",
     "text": [
      "+-----+------+\n",
      "|label| count|\n",
      "+-----+------+\n",
      "|    1| 17646|\n",
      "|    2|266607|\n",
      "|    0| 39571|\n",
      "+-----+------+\n",
      "\n"
     ]
    }
   ],
   "source": [
    "df.groupby('label').count().show()"
   ]
  },
  {
   "cell_type": "code",
   "execution_count": null,
   "id": "d763d5f7",
   "metadata": {},
   "outputs": [],
   "source": [
    "df.toPandas().to_csv('data/data.csv',index=False)"
   ]
  },
  {
   "cell_type": "code",
   "execution_count": null,
   "id": "34716d3e",
   "metadata": {},
   "outputs": [],
   "source": []
  },
  {
   "cell_type": "code",
   "execution_count": 15,
   "id": "39610a8c",
   "metadata": {},
   "outputs": [],
   "source": [
    "train,valid,test = df.randomSplit([0.8,0.1,0.1], 1234)"
   ]
  },
  {
   "cell_type": "code",
   "execution_count": 20,
   "id": "fb8ccaa7",
   "metadata": {},
   "outputs": [
    {
     "name": "stderr",
     "output_type": "stream",
     "text": [
      "                                                                                \r"
     ]
    }
   ],
   "source": [
    "train.toPandas().to_csv('data/train.csv',index=False)\n",
    "valid.toPandas().to_csv('data/valid.csv',index=False)\n",
    "test.toPandas().to_csv('data/test.csv',index=False)"
   ]
  },
  {
   "cell_type": "code",
   "execution_count": 28,
   "id": "e16741be",
   "metadata": {},
   "outputs": [],
   "source": [
    "df = df.withColumn('comment_term',split(df.clean_content, ' ', -1))"
   ]
  },
  {
   "cell_type": "code",
   "execution_count": 74,
   "id": "ba5c690b",
   "metadata": {},
   "outputs": [],
   "source": [
    "def getNGram(n):\n",
    "    ngram = NGram(n=n)\n",
    "    ngram.setInputCol(\"comment_term\")\n",
    "    ngram.setOutputCol(\"nGrams\")\n",
    "    df_nGram = ngram.transform(df)\n",
    "    result_nGram = df_nGram.withColumn('word',explode(df_nGram.nGrams))\\\n",
    "        .groupBy(['label','word'])\\\n",
    "        .count()\n",
    "    return result_nGram"
   ]
  },
  {
   "cell_type": "code",
   "execution_count": 75,
   "id": "8e2756cb",
   "metadata": {},
   "outputs": [],
   "source": [
    "result_nGram = getNGram(1)"
   ]
  },
  {
   "cell_type": "code",
   "execution_count": 76,
   "id": "b00d3c62",
   "metadata": {},
   "outputs": [
    {
     "name": "stderr",
     "output_type": "stream",
     "text": [
      "[Stage 111:==================================================>  (191 + 2) / 200]\r"
     ]
    },
    {
     "name": "stdout",
     "output_type": "stream",
     "text": [
      "+-----+-------+-----+\n",
      "|label|   word|count|\n",
      "+-----+-------+-----+\n",
      "|    2|   nhìn|11151|\n",
      "|    2|   trái|  779|\n",
      "|    2|   quan| 3069|\n",
      "|    2|    bền| 7049|\n",
      "|    1|   giặt|  145|\n",
      "|    2|    tập| 3121|\n",
      "|    2|   muỗi|  413|\n",
      "|    0|    khó|  992|\n",
      "|    2|    mùa| 1818|\n",
      "|    2|   đuợc|   35|\n",
      "|    2|    béo|  437|\n",
      "|    2|    lừa|  161|\n",
      "|    2|     vẽ|  606|\n",
      "|    0|    nối|  925|\n",
      "|    1|    hợp|  726|\n",
      "|    2|nghiêng|  265|\n",
      "|    0|  thùng|  333|\n",
      "|    0|    đối|  213|\n",
      "|    1|    anh|  106|\n",
      "|    2|   sườn|   60|\n",
      "+-----+-------+-----+\n",
      "only showing top 20 rows\n",
      "\n"
     ]
    },
    {
     "name": "stderr",
     "output_type": "stream",
     "text": [
      "                                                                                \r"
     ]
    }
   ],
   "source": [
    "result_nGram.show()"
   ]
  },
  {
   "cell_type": "code",
   "execution_count": 81,
   "id": "d6f3fe83",
   "metadata": {},
   "outputs": [
    {
     "name": "stderr",
     "output_type": "stream",
     "text": [
      "                                                                                \r"
     ]
    }
   ],
   "source": [
    "for i in range(3):\n",
    "    result_nGram.filter(result_nGram.label == i).orderBy(col(\"count\").desc()).toPandas().to_csv(f'sample/{i}.csv',index=False)"
   ]
  },
  {
   "cell_type": "code",
   "execution_count": 82,
   "id": "e7197607",
   "metadata": {},
   "outputs": [],
   "source": [
    "pst_word = {}\n",
    "ngt_word = {}\n",
    "with open('vi_sentiment/positive_words_vi.txt','r') as f:\n",
    "    for line in f:\n",
    "        line = line.replace('\\n','')\n",
    "        if line not in pst_word:\n",
    "            pst_word[line] = 1\n",
    "with open('vi_sentiment/negative_words_vi.txt','r') as f:\n",
    "    for line in f:\n",
    "        line = line.replace('\\n','')\n",
    "        if line not in pst_word:\n",
    "            ngt_word[line] = 1"
   ]
  },
  {
   "cell_type": "code",
   "execution_count": 84,
   "id": "d65aa960",
   "metadata": {},
   "outputs": [],
   "source": [
    "def check(sentent):\n",
    "    list_token = sentent.split(' ')\n",
    "    res = 0\n",
    "    for token in list_token:\n",
    "        if token in pst_word:\n",
    "            res += 1\n",
    "        elif token in ngt_word:\n",
    "            res -= 1\n",
    "    if res > 0:\n",
    "        return 2\n",
    "    elif res == 0:\n",
    "        return 1\n",
    "    else:\n",
    "        return 0"
   ]
  },
  {
   "cell_type": "code",
   "execution_count": 124,
   "id": "35391626",
   "metadata": {},
   "outputs": [],
   "source": [
    "def value_check(sentent):\n",
    "    list_token = sentent.split(' ')\n",
    "    pos = 0\n",
    "    neg = 0\n",
    "    for token in list_token:\n",
    "        if token in pst_word:\n",
    "            pos += 1\n",
    "        elif token in ngt_word:\n",
    "            neg += 1\n",
    "    return round((pos - neg)/ (pos + neg + 1e-6),3)"
   ]
  },
  {
   "cell_type": "code",
   "execution_count": 125,
   "id": "e85b74a9",
   "metadata": {},
   "outputs": [
    {
     "name": "stderr",
     "output_type": "stream",
     "text": [
      "22/12/04 17:51:46 WARN SimpleFunctionRegistry: The function check replaced a previously registered function.\n",
      "22/12/04 17:51:46 WARN SimpleFunctionRegistry: The function value_check replaced a previously registered function.\n"
     ]
    },
    {
     "data": {
      "text/plain": [
       "<function __main__.value_check(sentent)>"
      ]
     },
     "execution_count": 125,
     "metadata": {},
     "output_type": "execute_result"
    }
   ],
   "source": [
    "spark.udf.register(\"check\", check,IntegerType())\n",
    "spark.udf.register(\"value_check\", value_check,FloatType())"
   ]
  },
  {
   "cell_type": "code",
   "execution_count": 126,
   "id": "a9e25df3",
   "metadata": {},
   "outputs": [],
   "source": [
    "df.createOrReplaceTempView(\"tmp\")"
   ]
  },
  {
   "cell_type": "code",
   "execution_count": 127,
   "id": "631a925e",
   "metadata": {},
   "outputs": [],
   "source": [
    "res = spark.sql(\"\"\"\n",
    "    select *,check(clean_content) prediction,value_check(clean_content) val from tmp\n",
    "\"\"\")"
   ]
  },
  {
   "cell_type": "code",
   "execution_count": 128,
   "id": "50d2c105",
   "metadata": {},
   "outputs": [
    {
     "name": "stderr",
     "output_type": "stream",
     "text": [
      "                                                                                \r"
     ]
    }
   ],
   "source": [
    "x =  res[['label','prediction','val']].toPandas()"
   ]
  },
  {
   "cell_type": "code",
   "execution_count": 131,
   "id": "250540e4",
   "metadata": {},
   "outputs": [],
   "source": [
    "tmp = x[x['label']==1]"
   ]
  },
  {
   "cell_type": "code",
   "execution_count": 132,
   "id": "0db7db27",
   "metadata": {},
   "outputs": [
    {
     "data": {
      "text/html": [
       "<div>\n",
       "<style scoped>\n",
       "    .dataframe tbody tr th:only-of-type {\n",
       "        vertical-align: middle;\n",
       "    }\n",
       "\n",
       "    .dataframe tbody tr th {\n",
       "        vertical-align: top;\n",
       "    }\n",
       "\n",
       "    .dataframe thead th {\n",
       "        text-align: right;\n",
       "    }\n",
       "</style>\n",
       "<table border=\"1\" class=\"dataframe\">\n",
       "  <thead>\n",
       "    <tr style=\"text-align: right;\">\n",
       "      <th></th>\n",
       "      <th>label</th>\n",
       "      <th>prediction</th>\n",
       "      <th>val</th>\n",
       "    </tr>\n",
       "  </thead>\n",
       "  <tbody>\n",
       "    <tr>\n",
       "      <th>5</th>\n",
       "      <td>1</td>\n",
       "      <td>2</td>\n",
       "      <td>0.333</td>\n",
       "    </tr>\n",
       "    <tr>\n",
       "      <th>23</th>\n",
       "      <td>1</td>\n",
       "      <td>2</td>\n",
       "      <td>1.000</td>\n",
       "    </tr>\n",
       "    <tr>\n",
       "      <th>41</th>\n",
       "      <td>1</td>\n",
       "      <td>0</td>\n",
       "      <td>-0.333</td>\n",
       "    </tr>\n",
       "    <tr>\n",
       "      <th>50</th>\n",
       "      <td>1</td>\n",
       "      <td>0</td>\n",
       "      <td>-0.333</td>\n",
       "    </tr>\n",
       "    <tr>\n",
       "      <th>58</th>\n",
       "      <td>1</td>\n",
       "      <td>2</td>\n",
       "      <td>1.000</td>\n",
       "    </tr>\n",
       "    <tr>\n",
       "      <th>...</th>\n",
       "      <td>...</td>\n",
       "      <td>...</td>\n",
       "      <td>...</td>\n",
       "    </tr>\n",
       "    <tr>\n",
       "      <th>323726</th>\n",
       "      <td>1</td>\n",
       "      <td>2</td>\n",
       "      <td>0.143</td>\n",
       "    </tr>\n",
       "    <tr>\n",
       "      <th>323730</th>\n",
       "      <td>1</td>\n",
       "      <td>2</td>\n",
       "      <td>1.000</td>\n",
       "    </tr>\n",
       "    <tr>\n",
       "      <th>323795</th>\n",
       "      <td>1</td>\n",
       "      <td>2</td>\n",
       "      <td>0.250</td>\n",
       "    </tr>\n",
       "    <tr>\n",
       "      <th>323796</th>\n",
       "      <td>1</td>\n",
       "      <td>2</td>\n",
       "      <td>1.000</td>\n",
       "    </tr>\n",
       "    <tr>\n",
       "      <th>323804</th>\n",
       "      <td>1</td>\n",
       "      <td>2</td>\n",
       "      <td>1.000</td>\n",
       "    </tr>\n",
       "  </tbody>\n",
       "</table>\n",
       "<p>17646 rows × 3 columns</p>\n",
       "</div>"
      ],
      "text/plain": [
       "        label  prediction    val\n",
       "5           1           2  0.333\n",
       "23          1           2  1.000\n",
       "41          1           0 -0.333\n",
       "50          1           0 -0.333\n",
       "58          1           2  1.000\n",
       "...       ...         ...    ...\n",
       "323726      1           2  0.143\n",
       "323730      1           2  1.000\n",
       "323795      1           2  0.250\n",
       "323796      1           2  1.000\n",
       "323804      1           2  1.000\n",
       "\n",
       "[17646 rows x 3 columns]"
      ]
     },
     "execution_count": 132,
     "metadata": {},
     "output_type": "execute_result"
    }
   ],
   "source": [
    "tmp"
   ]
  },
  {
   "cell_type": "code",
   "execution_count": 139,
   "id": "56fc66dd",
   "metadata": {},
   "outputs": [],
   "source": [
    "val = 0.4"
   ]
  },
  {
   "cell_type": "code",
   "execution_count": 140,
   "id": "110538d7",
   "metadata": {},
   "outputs": [
    {
     "data": {
      "text/html": [
       "<div>\n",
       "<style scoped>\n",
       "    .dataframe tbody tr th:only-of-type {\n",
       "        vertical-align: middle;\n",
       "    }\n",
       "\n",
       "    .dataframe tbody tr th {\n",
       "        vertical-align: top;\n",
       "    }\n",
       "\n",
       "    .dataframe thead th {\n",
       "        text-align: right;\n",
       "    }\n",
       "</style>\n",
       "<table border=\"1\" class=\"dataframe\">\n",
       "  <thead>\n",
       "    <tr style=\"text-align: right;\">\n",
       "      <th></th>\n",
       "      <th>label</th>\n",
       "      <th>prediction</th>\n",
       "      <th>val</th>\n",
       "    </tr>\n",
       "  </thead>\n",
       "  <tbody>\n",
       "    <tr>\n",
       "      <th>5</th>\n",
       "      <td>1</td>\n",
       "      <td>2</td>\n",
       "      <td>0.333</td>\n",
       "    </tr>\n",
       "    <tr>\n",
       "      <th>41</th>\n",
       "      <td>1</td>\n",
       "      <td>0</td>\n",
       "      <td>-0.333</td>\n",
       "    </tr>\n",
       "    <tr>\n",
       "      <th>50</th>\n",
       "      <td>1</td>\n",
       "      <td>0</td>\n",
       "      <td>-0.333</td>\n",
       "    </tr>\n",
       "    <tr>\n",
       "      <th>70</th>\n",
       "      <td>1</td>\n",
       "      <td>1</td>\n",
       "      <td>0.000</td>\n",
       "    </tr>\n",
       "    <tr>\n",
       "      <th>78</th>\n",
       "      <td>1</td>\n",
       "      <td>0</td>\n",
       "      <td>-0.333</td>\n",
       "    </tr>\n",
       "    <tr>\n",
       "      <th>...</th>\n",
       "      <td>...</td>\n",
       "      <td>...</td>\n",
       "      <td>...</td>\n",
       "    </tr>\n",
       "    <tr>\n",
       "      <th>323658</th>\n",
       "      <td>1</td>\n",
       "      <td>2</td>\n",
       "      <td>0.200</td>\n",
       "    </tr>\n",
       "    <tr>\n",
       "      <th>323713</th>\n",
       "      <td>1</td>\n",
       "      <td>0</td>\n",
       "      <td>-0.333</td>\n",
       "    </tr>\n",
       "    <tr>\n",
       "      <th>323715</th>\n",
       "      <td>1</td>\n",
       "      <td>2</td>\n",
       "      <td>0.250</td>\n",
       "    </tr>\n",
       "    <tr>\n",
       "      <th>323726</th>\n",
       "      <td>1</td>\n",
       "      <td>2</td>\n",
       "      <td>0.143</td>\n",
       "    </tr>\n",
       "    <tr>\n",
       "      <th>323795</th>\n",
       "      <td>1</td>\n",
       "      <td>2</td>\n",
       "      <td>0.250</td>\n",
       "    </tr>\n",
       "  </tbody>\n",
       "</table>\n",
       "<p>10865 rows × 3 columns</p>\n",
       "</div>"
      ],
      "text/plain": [
       "        label  prediction    val\n",
       "5           1           2  0.333\n",
       "41          1           0 -0.333\n",
       "50          1           0 -0.333\n",
       "70          1           1  0.000\n",
       "78          1           0 -0.333\n",
       "...       ...         ...    ...\n",
       "323658      1           2  0.200\n",
       "323713      1           0 -0.333\n",
       "323715      1           2  0.250\n",
       "323726      1           2  0.143\n",
       "323795      1           2  0.250\n",
       "\n",
       "[10865 rows x 3 columns]"
      ]
     },
     "execution_count": 140,
     "metadata": {},
     "output_type": "execute_result"
    }
   ],
   "source": [
    "tmp[(tmp['val']> val*-1) & (tmp['val']<val)]"
   ]
  },
  {
   "cell_type": "code",
   "execution_count": 142,
   "id": "f1ce47c3",
   "metadata": {},
   "outputs": [],
   "source": [
    "tmp = x[x['val']> 0.4]"
   ]
  },
  {
   "cell_type": "code",
   "execution_count": 143,
   "id": "a9b092ad",
   "metadata": {},
   "outputs": [
    {
     "data": {
      "text/plain": [
       "0.9478712501519915"
      ]
     },
     "execution_count": 143,
     "metadata": {},
     "output_type": "execute_result"
    }
   ],
   "source": [
    "tmp[tmp['label']== tmp['prediction']].shape[0]/tmp.shape[0]"
   ]
  },
  {
   "cell_type": "code",
   "execution_count": 150,
   "id": "de6c5778",
   "metadata": {},
   "outputs": [
    {
     "data": {
      "text/html": [
       "<div>\n",
       "<style scoped>\n",
       "    .dataframe tbody tr th:only-of-type {\n",
       "        vertical-align: middle;\n",
       "    }\n",
       "\n",
       "    .dataframe tbody tr th {\n",
       "        vertical-align: top;\n",
       "    }\n",
       "\n",
       "    .dataframe thead th {\n",
       "        text-align: right;\n",
       "    }\n",
       "</style>\n",
       "<table border=\"1\" class=\"dataframe\">\n",
       "  <thead>\n",
       "    <tr style=\"text-align: right;\">\n",
       "      <th></th>\n",
       "      <th>label</th>\n",
       "      <th>prediction</th>\n",
       "      <th>val</th>\n",
       "    </tr>\n",
       "  </thead>\n",
       "  <tbody>\n",
       "    <tr>\n",
       "      <th>11</th>\n",
       "      <td>2</td>\n",
       "      <td>0</td>\n",
       "      <td>-1.0</td>\n",
       "    </tr>\n",
       "    <tr>\n",
       "      <th>57</th>\n",
       "      <td>0</td>\n",
       "      <td>0</td>\n",
       "      <td>-1.0</td>\n",
       "    </tr>\n",
       "    <tr>\n",
       "      <th>63</th>\n",
       "      <td>2</td>\n",
       "      <td>0</td>\n",
       "      <td>-1.0</td>\n",
       "    </tr>\n",
       "    <tr>\n",
       "      <th>69</th>\n",
       "      <td>0</td>\n",
       "      <td>0</td>\n",
       "      <td>-1.0</td>\n",
       "    </tr>\n",
       "    <tr>\n",
       "      <th>74</th>\n",
       "      <td>0</td>\n",
       "      <td>0</td>\n",
       "      <td>-1.0</td>\n",
       "    </tr>\n",
       "    <tr>\n",
       "      <th>...</th>\n",
       "      <td>...</td>\n",
       "      <td>...</td>\n",
       "      <td>...</td>\n",
       "    </tr>\n",
       "    <tr>\n",
       "      <th>323594</th>\n",
       "      <td>1</td>\n",
       "      <td>0</td>\n",
       "      <td>-1.0</td>\n",
       "    </tr>\n",
       "    <tr>\n",
       "      <th>323611</th>\n",
       "      <td>2</td>\n",
       "      <td>0</td>\n",
       "      <td>-1.0</td>\n",
       "    </tr>\n",
       "    <tr>\n",
       "      <th>323725</th>\n",
       "      <td>2</td>\n",
       "      <td>0</td>\n",
       "      <td>-1.0</td>\n",
       "    </tr>\n",
       "    <tr>\n",
       "      <th>323754</th>\n",
       "      <td>0</td>\n",
       "      <td>0</td>\n",
       "      <td>-1.0</td>\n",
       "    </tr>\n",
       "    <tr>\n",
       "      <th>323798</th>\n",
       "      <td>0</td>\n",
       "      <td>0</td>\n",
       "      <td>-1.0</td>\n",
       "    </tr>\n",
       "  </tbody>\n",
       "</table>\n",
       "<p>10001 rows × 3 columns</p>\n",
       "</div>"
      ],
      "text/plain": [
       "        label  prediction  val\n",
       "11          2           0 -1.0\n",
       "57          0           0 -1.0\n",
       "63          2           0 -1.0\n",
       "69          0           0 -1.0\n",
       "74          0           0 -1.0\n",
       "...       ...         ...  ...\n",
       "323594      1           0 -1.0\n",
       "323611      2           0 -1.0\n",
       "323725      2           0 -1.0\n",
       "323754      0           0 -1.0\n",
       "323798      0           0 -1.0\n",
       "\n",
       "[10001 rows x 3 columns]"
      ]
     },
     "execution_count": 150,
     "metadata": {},
     "output_type": "execute_result"
    }
   ],
   "source": [
    "x[x['val'] < -0.99]"
   ]
  },
  {
   "cell_type": "code",
   "execution_count": 154,
   "id": "ce2e5bd6",
   "metadata": {},
   "outputs": [
    {
     "data": {
      "text/html": [
       "<div>\n",
       "<style scoped>\n",
       "    .dataframe tbody tr th:only-of-type {\n",
       "        vertical-align: middle;\n",
       "    }\n",
       "\n",
       "    .dataframe tbody tr th {\n",
       "        vertical-align: top;\n",
       "    }\n",
       "\n",
       "    .dataframe thead th {\n",
       "        text-align: right;\n",
       "    }\n",
       "</style>\n",
       "<table border=\"1\" class=\"dataframe\">\n",
       "  <thead>\n",
       "    <tr style=\"text-align: right;\">\n",
       "      <th></th>\n",
       "      <th>label</th>\n",
       "      <th>prediction</th>\n",
       "      <th>val</th>\n",
       "    </tr>\n",
       "  </thead>\n",
       "  <tbody>\n",
       "    <tr>\n",
       "      <th>1</th>\n",
       "      <td>0</td>\n",
       "      <td>0</td>\n",
       "      <td>-0.200</td>\n",
       "    </tr>\n",
       "    <tr>\n",
       "      <th>10</th>\n",
       "      <td>0</td>\n",
       "      <td>0</td>\n",
       "      <td>-0.333</td>\n",
       "    </tr>\n",
       "    <tr>\n",
       "      <th>20</th>\n",
       "      <td>0</td>\n",
       "      <td>2</td>\n",
       "      <td>0.250</td>\n",
       "    </tr>\n",
       "    <tr>\n",
       "      <th>33</th>\n",
       "      <td>0</td>\n",
       "      <td>2</td>\n",
       "      <td>0.333</td>\n",
       "    </tr>\n",
       "    <tr>\n",
       "      <th>48</th>\n",
       "      <td>0</td>\n",
       "      <td>2</td>\n",
       "      <td>0.200</td>\n",
       "    </tr>\n",
       "    <tr>\n",
       "      <th>...</th>\n",
       "      <td>...</td>\n",
       "      <td>...</td>\n",
       "      <td>...</td>\n",
       "    </tr>\n",
       "    <tr>\n",
       "      <th>323772</th>\n",
       "      <td>0</td>\n",
       "      <td>0</td>\n",
       "      <td>-0.600</td>\n",
       "    </tr>\n",
       "    <tr>\n",
       "      <th>323784</th>\n",
       "      <td>0</td>\n",
       "      <td>1</td>\n",
       "      <td>0.000</td>\n",
       "    </tr>\n",
       "    <tr>\n",
       "      <th>323786</th>\n",
       "      <td>0</td>\n",
       "      <td>2</td>\n",
       "      <td>0.200</td>\n",
       "    </tr>\n",
       "    <tr>\n",
       "      <th>323797</th>\n",
       "      <td>0</td>\n",
       "      <td>0</td>\n",
       "      <td>-0.333</td>\n",
       "    </tr>\n",
       "    <tr>\n",
       "      <th>323798</th>\n",
       "      <td>0</td>\n",
       "      <td>0</td>\n",
       "      <td>-1.000</td>\n",
       "    </tr>\n",
       "  </tbody>\n",
       "</table>\n",
       "<p>39571 rows × 3 columns</p>\n",
       "</div>"
      ],
      "text/plain": [
       "        label  prediction    val\n",
       "1           0           0 -0.200\n",
       "10          0           0 -0.333\n",
       "20          0           2  0.250\n",
       "33          0           2  0.333\n",
       "48          0           2  0.200\n",
       "...       ...         ...    ...\n",
       "323772      0           0 -0.600\n",
       "323784      0           1  0.000\n",
       "323786      0           2  0.200\n",
       "323797      0           0 -0.333\n",
       "323798      0           0 -1.000\n",
       "\n",
       "[39571 rows x 3 columns]"
      ]
     },
     "execution_count": 154,
     "metadata": {},
     "output_type": "execute_result"
    }
   ],
   "source": [
    "x[x['label'] == 0]"
   ]
  },
  {
   "cell_type": "code",
   "execution_count": 152,
   "id": "037fbe78",
   "metadata": {},
   "outputs": [
    {
     "data": {
      "text/plain": [
       "0.39766023397660233"
      ]
     },
     "execution_count": 152,
     "metadata": {},
     "output_type": "execute_result"
    }
   ],
   "source": [
    "tmp = x[x['val'] == -1]\n",
    "tmp[tmp['label']== tmp['prediction']].shape[0]/tmp.shape[0]"
   ]
  },
  {
   "cell_type": "code",
   "execution_count": null,
   "id": "4ba5f136",
   "metadata": {},
   "outputs": [],
   "source": [
    "x['prd'] = x[x['val']> 0.4]"
   ]
  },
  {
   "cell_type": "code",
   "execution_count": 106,
   "id": "99e06e09",
   "metadata": {},
   "outputs": [
    {
     "data": {
      "text/html": [
       "<div>\n",
       "<style scoped>\n",
       "    .dataframe tbody tr th:only-of-type {\n",
       "        vertical-align: middle;\n",
       "    }\n",
       "\n",
       "    .dataframe tbody tr th {\n",
       "        vertical-align: top;\n",
       "    }\n",
       "\n",
       "    .dataframe thead th {\n",
       "        text-align: right;\n",
       "    }\n",
       "</style>\n",
       "<table border=\"1\" class=\"dataframe\">\n",
       "  <thead>\n",
       "    <tr style=\"text-align: right;\">\n",
       "      <th></th>\n",
       "      <th>label</th>\n",
       "      <th>prediction</th>\n",
       "      <th>val</th>\n",
       "    </tr>\n",
       "  </thead>\n",
       "  <tbody>\n",
       "    <tr>\n",
       "      <th>27</th>\n",
       "      <td>2</td>\n",
       "      <td>1</td>\n",
       "      <td>0</td>\n",
       "    </tr>\n",
       "    <tr>\n",
       "      <th>42</th>\n",
       "      <td>2</td>\n",
       "      <td>1</td>\n",
       "      <td>0</td>\n",
       "    </tr>\n",
       "    <tr>\n",
       "      <th>52</th>\n",
       "      <td>0</td>\n",
       "      <td>1</td>\n",
       "      <td>0</td>\n",
       "    </tr>\n",
       "    <tr>\n",
       "      <th>53</th>\n",
       "      <td>2</td>\n",
       "      <td>1</td>\n",
       "      <td>0</td>\n",
       "    </tr>\n",
       "    <tr>\n",
       "      <th>56</th>\n",
       "      <td>2</td>\n",
       "      <td>1</td>\n",
       "      <td>0</td>\n",
       "    </tr>\n",
       "    <tr>\n",
       "      <th>...</th>\n",
       "      <td>...</td>\n",
       "      <td>...</td>\n",
       "      <td>...</td>\n",
       "    </tr>\n",
       "    <tr>\n",
       "      <th>323785</th>\n",
       "      <td>2</td>\n",
       "      <td>1</td>\n",
       "      <td>0</td>\n",
       "    </tr>\n",
       "    <tr>\n",
       "      <th>323801</th>\n",
       "      <td>2</td>\n",
       "      <td>1</td>\n",
       "      <td>0</td>\n",
       "    </tr>\n",
       "    <tr>\n",
       "      <th>323803</th>\n",
       "      <td>2</td>\n",
       "      <td>1</td>\n",
       "      <td>0</td>\n",
       "    </tr>\n",
       "    <tr>\n",
       "      <th>323815</th>\n",
       "      <td>2</td>\n",
       "      <td>1</td>\n",
       "      <td>0</td>\n",
       "    </tr>\n",
       "    <tr>\n",
       "      <th>323817</th>\n",
       "      <td>2</td>\n",
       "      <td>1</td>\n",
       "      <td>0</td>\n",
       "    </tr>\n",
       "  </tbody>\n",
       "</table>\n",
       "<p>34322 rows × 3 columns</p>\n",
       "</div>"
      ],
      "text/plain": [
       "        label  prediction  val\n",
       "27          2           1    0\n",
       "42          2           1    0\n",
       "52          0           1    0\n",
       "53          2           1    0\n",
       "56          2           1    0\n",
       "...       ...         ...  ...\n",
       "323785      2           1    0\n",
       "323801      2           1    0\n",
       "323803      2           1    0\n",
       "323815      2           1    0\n",
       "323817      2           1    0\n",
       "\n",
       "[34322 rows x 3 columns]"
      ]
     },
     "execution_count": 106,
     "metadata": {},
     "output_type": "execute_result"
    }
   ],
   "source": [
    "x[x['val']==0]"
   ]
  },
  {
   "cell_type": "code",
   "execution_count": 105,
   "id": "3703b91d",
   "metadata": {},
   "outputs": [
    {
     "data": {
      "text/html": [
       "<div>\n",
       "<style scoped>\n",
       "    .dataframe tbody tr th:only-of-type {\n",
       "        vertical-align: middle;\n",
       "    }\n",
       "\n",
       "    .dataframe tbody tr th {\n",
       "        vertical-align: top;\n",
       "    }\n",
       "\n",
       "    .dataframe thead th {\n",
       "        text-align: right;\n",
       "    }\n",
       "</style>\n",
       "<table border=\"1\" class=\"dataframe\">\n",
       "  <thead>\n",
       "    <tr style=\"text-align: right;\">\n",
       "      <th></th>\n",
       "      <th>label</th>\n",
       "      <th>prediction</th>\n",
       "      <th>val</th>\n",
       "    </tr>\n",
       "  </thead>\n",
       "  <tbody>\n",
       "    <tr>\n",
       "      <th>5</th>\n",
       "      <td>1</td>\n",
       "      <td>2</td>\n",
       "      <td>1</td>\n",
       "    </tr>\n",
       "    <tr>\n",
       "      <th>23</th>\n",
       "      <td>1</td>\n",
       "      <td>2</td>\n",
       "      <td>5</td>\n",
       "    </tr>\n",
       "    <tr>\n",
       "      <th>41</th>\n",
       "      <td>1</td>\n",
       "      <td>0</td>\n",
       "      <td>-1</td>\n",
       "    </tr>\n",
       "    <tr>\n",
       "      <th>50</th>\n",
       "      <td>1</td>\n",
       "      <td>0</td>\n",
       "      <td>-1</td>\n",
       "    </tr>\n",
       "    <tr>\n",
       "      <th>58</th>\n",
       "      <td>1</td>\n",
       "      <td>2</td>\n",
       "      <td>4</td>\n",
       "    </tr>\n",
       "    <tr>\n",
       "      <th>...</th>\n",
       "      <td>...</td>\n",
       "      <td>...</td>\n",
       "      <td>...</td>\n",
       "    </tr>\n",
       "    <tr>\n",
       "      <th>323726</th>\n",
       "      <td>1</td>\n",
       "      <td>2</td>\n",
       "      <td>2</td>\n",
       "    </tr>\n",
       "    <tr>\n",
       "      <th>323730</th>\n",
       "      <td>1</td>\n",
       "      <td>2</td>\n",
       "      <td>3</td>\n",
       "    </tr>\n",
       "    <tr>\n",
       "      <th>323795</th>\n",
       "      <td>1</td>\n",
       "      <td>2</td>\n",
       "      <td>2</td>\n",
       "    </tr>\n",
       "    <tr>\n",
       "      <th>323796</th>\n",
       "      <td>1</td>\n",
       "      <td>2</td>\n",
       "      <td>3</td>\n",
       "    </tr>\n",
       "    <tr>\n",
       "      <th>323804</th>\n",
       "      <td>1</td>\n",
       "      <td>2</td>\n",
       "      <td>2</td>\n",
       "    </tr>\n",
       "  </tbody>\n",
       "</table>\n",
       "<p>17646 rows × 3 columns</p>\n",
       "</div>"
      ],
      "text/plain": [
       "        label  prediction  val\n",
       "5           1           2    1\n",
       "23          1           2    5\n",
       "41          1           0   -1\n",
       "50          1           0   -1\n",
       "58          1           2    4\n",
       "...       ...         ...  ...\n",
       "323726      1           2    2\n",
       "323730      1           2    3\n",
       "323795      1           2    2\n",
       "323796      1           2    3\n",
       "323804      1           2    2\n",
       "\n",
       "[17646 rows x 3 columns]"
      ]
     },
     "execution_count": 105,
     "metadata": {},
     "output_type": "execute_result"
    }
   ],
   "source": [
    "x[x['label']==1]"
   ]
  },
  {
   "cell_type": "code",
   "execution_count": 112,
   "id": "09124be9",
   "metadata": {},
   "outputs": [
    {
     "data": {
      "text/plain": [
       "0.7450436039330006"
      ]
     },
     "execution_count": 112,
     "metadata": {},
     "output_type": "execute_result"
    }
   ],
   "source": [
    "x[x['label']== x['prediction']].shape[0]/x.shape[0]"
   ]
  },
  {
   "cell_type": "code",
   "execution_count": 98,
   "id": "f9ff858a",
   "metadata": {},
   "outputs": [
    {
     "data": {
      "text/html": [
       "<div>\n",
       "<style scoped>\n",
       "    .dataframe tbody tr th:only-of-type {\n",
       "        vertical-align: middle;\n",
       "    }\n",
       "\n",
       "    .dataframe tbody tr th {\n",
       "        vertical-align: top;\n",
       "    }\n",
       "\n",
       "    .dataframe thead th {\n",
       "        text-align: right;\n",
       "    }\n",
       "</style>\n",
       "<table border=\"1\" class=\"dataframe\">\n",
       "  <thead>\n",
       "    <tr style=\"text-align: right;\">\n",
       "      <th></th>\n",
       "      <th>label</th>\n",
       "      <th>prediction</th>\n",
       "    </tr>\n",
       "  </thead>\n",
       "  <tbody>\n",
       "    <tr>\n",
       "      <th>18</th>\n",
       "      <td>1</td>\n",
       "      <td>2</td>\n",
       "    </tr>\n",
       "    <tr>\n",
       "      <th>106</th>\n",
       "      <td>1</td>\n",
       "      <td>0</td>\n",
       "    </tr>\n",
       "    <tr>\n",
       "      <th>173</th>\n",
       "      <td>1</td>\n",
       "      <td>0</td>\n",
       "    </tr>\n",
       "    <tr>\n",
       "      <th>177</th>\n",
       "      <td>1</td>\n",
       "      <td>2</td>\n",
       "    </tr>\n",
       "    <tr>\n",
       "      <th>195</th>\n",
       "      <td>1</td>\n",
       "      <td>1</td>\n",
       "    </tr>\n",
       "    <tr>\n",
       "      <th>...</th>\n",
       "      <td>...</td>\n",
       "      <td>...</td>\n",
       "    </tr>\n",
       "    <tr>\n",
       "      <th>323726</th>\n",
       "      <td>1</td>\n",
       "      <td>2</td>\n",
       "    </tr>\n",
       "    <tr>\n",
       "      <th>323730</th>\n",
       "      <td>1</td>\n",
       "      <td>2</td>\n",
       "    </tr>\n",
       "    <tr>\n",
       "      <th>323795</th>\n",
       "      <td>1</td>\n",
       "      <td>2</td>\n",
       "    </tr>\n",
       "    <tr>\n",
       "      <th>323796</th>\n",
       "      <td>1</td>\n",
       "      <td>2</td>\n",
       "    </tr>\n",
       "    <tr>\n",
       "      <th>323804</th>\n",
       "      <td>1</td>\n",
       "      <td>2</td>\n",
       "    </tr>\n",
       "  </tbody>\n",
       "</table>\n",
       "<p>17646 rows × 2 columns</p>\n",
       "</div>"
      ],
      "text/plain": [
       "        label  prediction\n",
       "18          1           2\n",
       "106         1           0\n",
       "173         1           0\n",
       "177         1           2\n",
       "195         1           1\n",
       "...       ...         ...\n",
       "323726      1           2\n",
       "323730      1           2\n",
       "323795      1           2\n",
       "323796      1           2\n",
       "323804      1           2\n",
       "\n",
       "[17646 rows x 2 columns]"
      ]
     },
     "execution_count": 98,
     "metadata": {},
     "output_type": "execute_result"
    }
   ],
   "source": [
    "x[x['label']== 1]"
   ]
  },
  {
   "cell_type": "code",
   "execution_count": 119,
   "id": "90633562",
   "metadata": {},
   "outputs": [],
   "source": [
    "value = 2"
   ]
  },
  {
   "cell_type": "code",
   "execution_count": 115,
   "id": "73f8d209",
   "metadata": {},
   "outputs": [
    {
     "data": {
      "text/plain": [
       "0.192904907627791"
      ]
     },
     "execution_count": 115,
     "metadata": {},
     "output_type": "execute_result"
    }
   ],
   "source": [
    "e = x[x['label']== value]\n",
    "e[e['label']== e['prediction']].shape[0]/e[e['label']== value].shape[0]"
   ]
  },
  {
   "cell_type": "code",
   "execution_count": 118,
   "id": "9a86e80a",
   "metadata": {},
   "outputs": [
    {
     "data": {
      "text/plain": [
       "0.4451239544110586"
      ]
     },
     "execution_count": 118,
     "metadata": {},
     "output_type": "execute_result"
    }
   ],
   "source": [
    "e = x[x['label']== value]\n",
    "e[e['label']== e['prediction']].shape[0]/e[e['label']== value].shape[0]"
   ]
  },
  {
   "cell_type": "code",
   "execution_count": 120,
   "id": "90ab9909",
   "metadata": {},
   "outputs": [
    {
     "data": {
      "text/plain": [
       "0.8261035906784143"
      ]
     },
     "execution_count": 120,
     "metadata": {},
     "output_type": "execute_result"
    }
   ],
   "source": [
    "e = x[x['label']== value]\n",
    "e[e['label']== e['prediction']].shape[0]/e[e['label']== value].shape[0]"
   ]
  },
  {
   "cell_type": "code",
   "execution_count": 111,
   "id": "58fe3378",
   "metadata": {},
   "outputs": [
    {
     "data": {
      "text/plain": [
       "0.4451239544110586"
      ]
     },
     "execution_count": 111,
     "metadata": {},
     "output_type": "execute_result"
    }
   ],
   "source": [
    "x[x['label']== value][x['label']== x['prediction']].shape[0]/x[x['label']== value].shape[0]"
   ]
  },
  {
   "cell_type": "code",
   "execution_count": 97,
   "id": "a2da2a30",
   "metadata": {},
   "outputs": [
    {
     "data": {
      "text/plain": [
       "0.192904907627791"
      ]
     },
     "execution_count": 97,
     "metadata": {},
     "output_type": "execute_result"
    }
   ],
   "source": [
    "x[x['label']== 1][x['label']== x['prediction']].shape[0]/x[x['label']== 1].shape[0]"
   ]
  },
  {
   "cell_type": "code",
   "execution_count": 90,
   "id": "42fa10b2",
   "metadata": {},
   "outputs": [
    {
     "data": {
      "text/plain": [
       "(323824, 2)"
      ]
     },
     "execution_count": 90,
     "metadata": {},
     "output_type": "execute_result"
    }
   ],
   "source": [
    "x.shape"
   ]
  },
  {
   "cell_type": "code",
   "execution_count": 91,
   "id": "2056d05b",
   "metadata": {},
   "outputs": [
    {
     "data": {
      "text/plain": [
       "241263"
      ]
     },
     "execution_count": 91,
     "metadata": {},
     "output_type": "execute_result"
    }
   ],
   "source": [
    "x[x['label']== x['prediction']].shape[0]"
   ]
  },
  {
   "cell_type": "code",
   "execution_count": null,
   "id": "7765ca62",
   "metadata": {},
   "outputs": [],
   "source": []
  }
 ],
 "metadata": {
  "kernelspec": {
   "display_name": "Python 3 (ipykernel)",
   "language": "python",
   "name": "python3"
  },
  "language_info": {
   "codemirror_mode": {
    "name": "ipython",
    "version": 3
   },
   "file_extension": ".py",
   "mimetype": "text/x-python",
   "name": "python",
   "nbconvert_exporter": "python",
   "pygments_lexer": "ipython3",
   "version": "3.9.2"
  }
 },
 "nbformat": 4,
 "nbformat_minor": 5
}
