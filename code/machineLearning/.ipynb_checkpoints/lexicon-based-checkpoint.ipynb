{
 "cells": [
  {
   "cell_type": "code",
   "execution_count": 30,
   "id": "0669f902",
   "metadata": {},
   "outputs": [],
   "source": [
    "from json import loads\n",
    "from pyspark.sql import SparkSession\n",
    "import warnings\n",
    "import pandas as pd\n",
    "warnings.filterwarnings(\"ignore\")\n",
    "from pyspark.sql.functions import col,from_json,udf,split,explode,lit,array\n",
    "from pyspark.ml.feature import NGram\n",
    "from pyspark.sql.types import StructType,StructField, StringType, IntegerType,MapType,FloatType,ArrayType\n",
    "import numpy as np\n",
    "from sklearn.metrics import classification_report,accuracy_score,precision_score,recall_score,f1_score"
   ]
  },
  {
   "cell_type": "code",
   "execution_count": 2,
   "id": "6123fe81",
   "metadata": {},
   "outputs": [
    {
     "name": "stderr",
     "output_type": "stream",
     "text": [
      "22/12/10 08:41:17 WARN NativeCodeLoader: Unable to load native-hadoop library for your platform... using builtin-java classes where applicable\n",
      "Using Spark's default log4j profile: org/apache/spark/log4j-defaults.properties\n",
      "Setting default log level to \"WARN\".\n",
      "To adjust logging level use sc.setLogLevel(newLevel). For SparkR, use setLogLevel(newLevel).\n",
      "22/12/10 08:41:18 WARN Utils: Service 'SparkUI' could not bind on port 4040. Attempting port 4041.\n"
     ]
    }
   ],
   "source": [
    "spark = SparkSession.\\\n",
    "        builder.\\\n",
    "        appName(\"ml\").\\\n",
    "        master(\"spark://spark-master:7077\").\\\n",
    "        config(\"spark.executor.memory\", \"1024m\").\\\n",
    "        getOrCreate()"
   ]
  },
  {
   "cell_type": "markdown",
   "id": "56069785",
   "metadata": {},
   "source": [
    "# Load raw comment"
   ]
  },
  {
   "cell_type": "code",
   "execution_count": null,
   "id": "d3f0f051",
   "metadata": {},
   "outputs": [],
   "source": [
    "data = spark.read.parquet('hdfs://namenode:9000/TikiCleaned/Comment')\n",
    "data.createOrReplaceTempView('data')\n",
    "df = spark.sql(\"\"\"\n",
    "    select distinct clean_content,rating,sentiment,\n",
    "    case\n",
    "        when rating >= 4 then 2\n",
    "        when rating = 3 then 1\n",
    "        else 0\n",
    "    end as label\n",
    "    from data\n",
    "    where clean_content <> '' and clean_content is not null and clean_content <> ' '\n",
    "\"\"\")\n",
    "df.toPandas().to_csv('data/data.csv',index=False)"
   ]
  },
  {
   "cell_type": "markdown",
   "id": "acf2cadb",
   "metadata": {},
   "source": [
    "# Load labeling comment"
   ]
  },
  {
   "cell_type": "code",
   "execution_count": 7,
   "id": "f4d95ce4",
   "metadata": {},
   "outputs": [],
   "source": [
    "df = pd.read_csv('data/dataLabel.csv')"
   ]
  },
  {
   "cell_type": "code",
   "execution_count": 8,
   "id": "26d7bc83",
   "metadata": {},
   "outputs": [],
   "source": [
    "test = df[~pd.isna(df['true_label'])].reset_index(drop=True)\n",
    "train = df[pd.isna(df['true_label'])].reset_index(drop=True)"
   ]
  },
  {
   "cell_type": "code",
   "execution_count": 9,
   "id": "ad8ec57e",
   "metadata": {},
   "outputs": [],
   "source": [
    "test['true_label'] = test['true_label'].astype('int')"
   ]
  },
  {
   "cell_type": "code",
   "execution_count": 10,
   "id": "74d86b80",
   "metadata": {},
   "outputs": [],
   "source": [
    "train = train.drop(columns=['true_label'])"
   ]
  },
  {
   "cell_type": "code",
   "execution_count": 11,
   "id": "ce1fe024",
   "metadata": {},
   "outputs": [],
   "source": [
    "df_test = spark.createDataFrame(test)\n",
    "df_train = spark.createDataFrame(train)"
   ]
  },
  {
   "cell_type": "code",
   "execution_count": 10,
   "id": "6df69062",
   "metadata": {},
   "outputs": [
    {
     "name": "stderr",
     "output_type": "stream",
     "text": [
      "                                                                                \r"
     ]
    }
   ],
   "source": [
    "df_test.write.partitionBy(\"label\").mode('overwrite').parquet('hdfs://namenode:9000/ml/test_data')"
   ]
  },
  {
   "cell_type": "code",
   "execution_count": 11,
   "id": "d358b75b",
   "metadata": {},
   "outputs": [
    {
     "name": "stderr",
     "output_type": "stream",
     "text": [
      "22/12/08 15:07:42 WARN TaskSetManager: Stage 3 contains a task of very large size (22337 KiB). The maximum recommended task size is 1000 KiB.\n",
      "                                                                                \r"
     ]
    }
   ],
   "source": [
    "df_train.write.partitionBy(\"label\").mode('overwrite').parquet('hdfs://namenode:9000/ml/train_data')"
   ]
  },
  {
   "cell_type": "markdown",
   "id": "7a6368bf",
   "metadata": {},
   "source": [
    "## Lexicon-based sentiment analysis"
   ]
  },
  {
   "cell_type": "code",
   "execution_count": 12,
   "id": "d6ed63ca",
   "metadata": {},
   "outputs": [],
   "source": [
    "df = df_train.withColumn('comment_term',split(df_train.clean_content, ' ', -1))\n",
    "def getNGram(n):\n",
    "    ngram = NGram(n=n)\n",
    "    ngram.setInputCol(\"comment_term\")\n",
    "    ngram.setOutputCol(\"nGrams\")\n",
    "    df_nGram = ngram.transform(df)\n",
    "    result_nGram = df_nGram.withColumn('word',explode(df_nGram.nGrams))\\\n",
    "        .groupBy(['label','word'])\\\n",
    "        .count()\n",
    "    return result_nGram\n",
    "result_nGram = getNGram(1)"
   ]
  },
  {
   "cell_type": "code",
   "execution_count": 15,
   "id": "ca7e285e",
   "metadata": {},
   "outputs": [
    {
     "name": "stderr",
     "output_type": "stream",
     "text": [
      "22/12/08 15:11:03 WARN TaskSetManager: Stage 4 contains a task of very large size (22337 KiB). The maximum recommended task size is 1000 KiB.\n",
      "22/12/08 15:11:13 WARN TaskSetManager: Stage 9 contains a task of very large size (22337 KiB). The maximum recommended task size is 1000 KiB.\n",
      "22/12/08 15:11:18 WARN TaskSetManager: Stage 14 contains a task of very large size (22337 KiB). The maximum recommended task size is 1000 KiB.\n",
      "                                                                                \r"
     ]
    }
   ],
   "source": [
    "for i in range(3):\n",
    "    result_nGram.filter(result_nGram.label == i).orderBy(col(\"count\").desc()).toPandas().to_csv(f'sample/{i}.csv',index=False)"
   ]
  },
  {
   "cell_type": "code",
   "execution_count": 13,
   "id": "a36191e1",
   "metadata": {},
   "outputs": [],
   "source": [
    "pst_word = {}\n",
    "ngt_word = {}\n",
    "with open('vi_sentiment/positive_words_vi.txt','r') as f:\n",
    "    for line in f:\n",
    "        line = line.replace('\\n','')\n",
    "        if line not in pst_word:\n",
    "            pst_word[line] = 1\n",
    "with open('vi_sentiment/negative_words_vi.txt','r') as f:\n",
    "    for line in f:\n",
    "        line = line.replace('\\n','')\n",
    "        if line not in pst_word:\n",
    "            ngt_word[line] = 1"
   ]
  },
  {
   "cell_type": "code",
   "execution_count": 14,
   "id": "040b4328",
   "metadata": {},
   "outputs": [],
   "source": [
    "def check(sentent):\n",
    "    list_token = sentent.split(' ')\n",
    "    res = 0\n",
    "    for token in list_token:\n",
    "        if token in pst_word:\n",
    "            res += 1\n",
    "        elif token in ngt_word:\n",
    "            res -= 1\n",
    "    if res > 0:\n",
    "        return 2\n",
    "    elif res == 0:\n",
    "        return 1\n",
    "    else:\n",
    "        return 0"
   ]
  },
  {
   "cell_type": "code",
   "execution_count": 15,
   "id": "423894e7",
   "metadata": {},
   "outputs": [],
   "source": [
    "def value_check(sentent):\n",
    "    list_token = sentent.split(' ')\n",
    "    pos = 0\n",
    "    neg = 0\n",
    "    for token in list_token:\n",
    "        if token in pst_word:\n",
    "            pos += 1\n",
    "        elif token in ngt_word:\n",
    "            neg += 1\n",
    "    return round((pos - neg)/ (pos + neg + 1e-6),3)"
   ]
  },
  {
   "cell_type": "code",
   "execution_count": 16,
   "id": "30fee12b",
   "metadata": {},
   "outputs": [
    {
     "data": {
      "text/plain": [
       "<function __main__.value_check(sentent)>"
      ]
     },
     "execution_count": 16,
     "metadata": {},
     "output_type": "execute_result"
    }
   ],
   "source": [
    "spark.udf.register(\"check\", check,IntegerType())\n",
    "spark.udf.register(\"value_check\", value_check,FloatType())"
   ]
  },
  {
   "cell_type": "markdown",
   "id": "f346fd54",
   "metadata": {},
   "source": [
    "## Find Best Param"
   ]
  },
  {
   "cell_type": "code",
   "execution_count": 17,
   "id": "1c186bf8",
   "metadata": {},
   "outputs": [],
   "source": [
    "df_train.createOrReplaceTempView(\"train_data\")"
   ]
  },
  {
   "cell_type": "code",
   "execution_count": 18,
   "id": "6a755829",
   "metadata": {},
   "outputs": [],
   "source": [
    "result_train = spark.sql(\"\"\"\n",
    "    select label,value_check(clean_content) score from train_data\n",
    "\"\"\")"
   ]
  },
  {
   "cell_type": "code",
   "execution_count": 19,
   "id": "075b9a66",
   "metadata": {},
   "outputs": [
    {
     "name": "stderr",
     "output_type": "stream",
     "text": [
      "22/12/10 08:56:28 WARN TaskSchedulerImpl: Initial job has not accepted any resources; check your cluster UI to ensure that workers are registered and have sufficient resources\n",
      "22/12/10 08:56:43 WARN TaskSchedulerImpl: Initial job has not accepted any resources; check your cluster UI to ensure that workers are registered and have sufficient resources\n",
      "22/12/10 08:56:53 WARN TaskSetManager: Stage 0 contains a task of very large size (22337 KiB). The maximum recommended task size is 1000 KiB.\n",
      "                                                                                \r"
     ]
    }
   ],
   "source": [
    "result_train = result_train.toPandas()"
   ]
  },
  {
   "cell_type": "code",
   "execution_count": 20,
   "id": "aae17014",
   "metadata": {},
   "outputs": [],
   "source": [
    "def f(row,val):\n",
    "    if row['score'] > val:\n",
    "        res = 2\n",
    "    elif row['score'] < -val:\n",
    "        res = 0\n",
    "    else:\n",
    "        res = 1\n",
    "    return res"
   ]
  },
  {
   "cell_type": "code",
   "execution_count": 21,
   "id": "0c2fcc9e",
   "metadata": {},
   "outputs": [],
   "source": [
    "list_val = np.linspace(0,0.5,21)\n",
    "list_acc = []\n",
    "for val in list_val:\n",
    "    result_train['prediction'] = result_train.apply(f,val=val,axis=1)\n",
    "    list_acc.append(result_train[result_train['label']== result_train['prediction']].shape[0]*100/result_train.shape[0])"
   ]
  },
  {
   "cell_type": "code",
   "execution_count": 22,
   "id": "a59dfc67",
   "metadata": {},
   "outputs": [
    {
     "data": {
      "text/plain": [
       "([<matplotlib.axis.XTick at 0x7f8cb8932e20>,\n",
       "  <matplotlib.axis.XTick at 0x7f8cb8932df0>,\n",
       "  <matplotlib.axis.XTick at 0x7f8cb8932d30>,\n",
       "  <matplotlib.axis.XTick at 0x7f8cb88bba00>,\n",
       "  <matplotlib.axis.XTick at 0x7f8cb88ca4f0>,\n",
       "  <matplotlib.axis.XTick at 0x7f8cb88cafa0>,\n",
       "  <matplotlib.axis.XTick at 0x7f8cb88d3a90>,\n",
       "  <matplotlib.axis.XTick at 0x7f8cb88d3d90>,\n",
       "  <matplotlib.axis.XTick at 0x7f8cb88bbe20>,\n",
       "  <matplotlib.axis.XTick at 0x7f8cb8859cd0>,\n",
       "  <matplotlib.axis.XTick at 0x7f8cb885fb20>,\n",
       "  <matplotlib.axis.XTick at 0x7f8cb8863610>,\n",
       "  <matplotlib.axis.XTick at 0x7f8cb885fe80>,\n",
       "  <matplotlib.axis.XTick at 0x7f8cb8863fa0>,\n",
       "  <matplotlib.axis.XTick at 0x7f8cb886ca90>,\n",
       "  <matplotlib.axis.XTick at 0x7f8cb8872580>,\n",
       "  <matplotlib.axis.XTick at 0x7f8cb8872cd0>,\n",
       "  <matplotlib.axis.XTick at 0x7f8cb886c520>,\n",
       "  <matplotlib.axis.XTick at 0x7f8cb8876a90>,\n",
       "  <matplotlib.axis.XTick at 0x7f8cb8881580>,\n",
       "  <matplotlib.axis.XTick at 0x7f8cb8881cd0>],\n",
       " [Text(0, 0, '0.0'),\n",
       "  Text(1, 0, '0.025'),\n",
       "  Text(2, 0, '0.05'),\n",
       "  Text(3, 0, '0.075'),\n",
       "  Text(4, 0, '0.1'),\n",
       "  Text(5, 0, '0.125'),\n",
       "  Text(6, 0, '0.15'),\n",
       "  Text(7, 0, '0.175'),\n",
       "  Text(8, 0, '0.2'),\n",
       "  Text(9, 0, '0.225'),\n",
       "  Text(10, 0, '0.25'),\n",
       "  Text(11, 0, '0.275'),\n",
       "  Text(12, 0, '0.3'),\n",
       "  Text(13, 0, '0.325'),\n",
       "  Text(14, 0, '0.35'),\n",
       "  Text(15, 0, '0.375'),\n",
       "  Text(16, 0, '0.4'),\n",
       "  Text(17, 0, '0.425'),\n",
       "  Text(18, 0, '0.45'),\n",
       "  Text(19, 0, '0.475'),\n",
       "  Text(20, 0, '0.5')])"
      ]
     },
     "execution_count": 22,
     "metadata": {},
     "output_type": "execute_result"
    },
    {
     "data": {
      "image/png": "[encoded data removed]",
      "text/plain": [
       "<Figure size 1200x800 with 1 Axes>"
      ]
     },
     "metadata": {},
     "output_type": "display_data"
    }
   ],
   "source": [
    "import matplotlib.pyplot as plt\n",
    "from matplotlib.pyplot import figure\n",
    "\n",
    "figure(figsize=(15, 10), dpi=80)\n",
    "\n",
    "labels = [str(round(x,3)) for x in list_val]\n",
    "x = np.arange(len(labels))  # the label locations\n",
    "\n",
    "width = 0.35  # the width of the bars\n",
    "\n",
    "plt.bar(x - width/2,width=width,height= list_acc)\n",
    "plt.xticks(x,labels)"
   ]
  },
  {
   "cell_type": "code",
   "execution_count": 23,
   "id": "a31f43e1",
   "metadata": {},
   "outputs": [],
   "source": [
    "p_max = np.argmax(list_acc)"
   ]
  },
  {
   "cell_type": "code",
   "execution_count": 24,
   "id": "96c596de",
   "metadata": {},
   "outputs": [],
   "source": [
    "df_test.createOrReplaceTempView(\"test_data\")"
   ]
  },
  {
   "cell_type": "code",
   "execution_count": 26,
   "id": "60f21609",
   "metadata": {},
   "outputs": [],
   "source": [
    "result_test = spark.sql(\"\"\"\n",
    "    select true_label,label,value_check(clean_content) score from test_data\n",
    "\"\"\")"
   ]
  },
  {
   "cell_type": "code",
   "execution_count": 27,
   "id": "f8042e63",
   "metadata": {},
   "outputs": [],
   "source": [
    "result_test =  result_test.toPandas()"
   ]
  },
  {
   "cell_type": "code",
   "execution_count": 28,
   "id": "daaf9282",
   "metadata": {},
   "outputs": [],
   "source": [
    "result_test['prediction'] = result_test.apply(f,val=p_max,axis=1)"
   ]
  },
  {
   "cell_type": "code",
   "execution_count": 31,
   "id": "91864eac",
   "metadata": {},
   "outputs": [
    {
     "name": "stdout",
     "output_type": "stream",
     "text": [
      "accuracy_score:  0.7217199115933293\n",
      "prediction:  0.7081688945766338\n",
      "recall_score:  0.7217199115933293\n",
      "f1_score:  0.7142375841404099\n"
     ]
    }
   ],
   "source": [
    "print(f'accuracy_score: ',accuracy_score(result_test.true_label, result_test.prediction))\n",
    "print(f'prediction: ',precision_score(result_test.true_label, result_test.prediction, average='weighted'))\n",
    "print(f'recall_score: ',recall_score(result_test.true_label, result_test.prediction, average='weighted'))\n",
    "print(f'f1_score: ',f1_score(result_test.true_label, result_test.prediction, average='weighted'))"
   ]
  },
  {
   "cell_type": "code",
   "execution_count": 32,
   "id": "7464dcdc",
   "metadata": {},
   "outputs": [
    {
     "name": "stdout",
     "output_type": "stream",
     "text": [
      "              precision    recall  f1-score   support\n",
      "\n",
      "           0       0.50      0.43      0.46       805\n",
      "           1       0.15      0.13      0.14       538\n",
      "           2       0.84      0.87      0.86      3634\n",
      "\n",
      "    accuracy                           0.72      4977\n",
      "   macro avg       0.49      0.48      0.49      4977\n",
      "weighted avg       0.71      0.72      0.71      4977\n",
      "\n"
     ]
    }
   ],
   "source": [
    "print(classification_report(result_test.true_label, result_test.prediction))"
   ]
  },
  {
   "cell_type": "code",
   "execution_count": null,
   "id": "0435bedc",
   "metadata": {},
   "outputs": [],
   "source": []
  }
 ],
 "metadata": {
  "kernelspec": {
   "display_name": "Python 3 (ipykernel)",
   "language": "python",
   "name": "python3"
  },
  "language_info": {
   "codemirror_mode": {
    "name": "ipython",
    "version": 3
   },
   "file_extension": ".py",
   "mimetype": "text/x-python",
   "name": "python",
   "nbconvert_exporter": "python",
   "pygments_lexer": "ipython3",
   "version": "3.9.2"
  }
 },
 "nbformat": 4,
 "nbformat_minor": 5
}
