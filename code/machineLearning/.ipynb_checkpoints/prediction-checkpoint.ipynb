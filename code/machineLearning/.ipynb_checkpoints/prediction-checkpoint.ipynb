{
 "cells": [
  {
   "cell_type": "code",
   "execution_count": 1,
   "id": "3d3be487",
   "metadata": {},
   "outputs": [],
   "source": [
    "from json import loads\n",
    "from pyspark.sql import SparkSession\n",
    "import warnings\n",
    "import pandas as pd\n",
    "warnings.filterwarnings(\"ignore\")\n",
    "from pyspark.sql.functions import col,from_json,udf,split,explode,lit,array,lower\n",
    "from pyspark.ml.feature import NGram\n",
    "from pyspark.sql.types import StructType,StructField, StringType, IntegerType,MapType,FloatType,ArrayType\n",
    "import numpy as np\n",
    "from pyspark.sql import functions as F\n",
    "import re\n",
    "from itertools import chain\n",
    "from sklearn.metrics import classification_report"
   ]
  },
  {
   "cell_type": "code",
   "execution_count": 2,
   "id": "4b4989b5",
   "metadata": {},
   "outputs": [],
   "source": [
    "from pyspark.ml.classification import LogisticRegression\n",
    "from pyspark.ml.evaluation import MulticlassClassificationEvaluator\n",
    "from pyspark.ml.feature import CountVectorizer\n",
    "from pyspark.ml import Pipeline,PipelineModel\n",
    "from pyspark.ml.feature import IDF\n",
    "from pyspark.ml.classification import RandomForestClassifier\n",
    "from pyspark.ml.tuning import CrossValidator, ParamGridBuilder,CrossValidatorModel\n",
    "from sklearn.metrics import classification_report,accuracy_score,precision_score,recall_score,f1_score\n",
    "from pyspark.ml.evaluation import MulticlassClassificationEvaluator"
   ]
  },
  {
   "cell_type": "code",
   "execution_count": 3,
   "id": "f24a6773",
   "metadata": {},
   "outputs": [
    {
     "name": "stderr",
     "output_type": "stream",
     "text": [
      "23/01/20 17:04:52 WARN NativeCodeLoader: Unable to load native-hadoop library for your platform... using builtin-java classes where applicable\n",
      "Using Spark's default log4j profile: org/apache/spark/log4j-defaults.properties\n",
      "Setting default log level to \"WARN\".\n",
      "To adjust logging level use sc.setLogLevel(newLevel). For SparkR, use setLogLevel(newLevel).\n",
      "23/01/20 17:04:53 WARN Utils: Service 'SparkUI' could not bind on port 4040. Attempting port 4041.\n"
     ]
    }
   ],
   "source": [
    "spark = SparkSession.\\\n",
    "        builder.\\\n",
    "        appName(\"ml\").\\\n",
    "        master(\"spark://spark-master:7077\").\\\n",
    "        config(\"spark.executor.memory\", \"1024m\").\\\n",
    "        getOrCreate()"
   ]
  },
  {
   "cell_type": "code",
   "execution_count": 4,
   "id": "03a34704",
   "metadata": {},
   "outputs": [],
   "source": [
    "class Prediction:\n",
    "    \n",
    "    def __init__(self):\n",
    "        self.model = {}\n",
    "        self.load_model()\n",
    "        self.load_dictionary()\n",
    "    \n",
    "    def load_model(self):\n",
    "        list_model = ['lr_yes','lr_no','rf_yes','rf_no']\n",
    "        for model_name in list_model:\n",
    "            self.model[model_name] = CrossValidatorModel.load(f'hdfs://namenode:9000/save_model/{model_name}')\n",
    "            \n",
    "        self.model_tfidf = PipelineModel.load(f'hdfs://namenode:9000/save_model/model_tfidf')\n",
    "        \n",
    "        \n",
    "    def load_dictionary(self):\n",
    "        pst_word = {}\n",
    "        ngt_word = {}\n",
    "        with open('vi_sentiment/positive_words_vi.txt','r') as f:\n",
    "            for line in f:\n",
    "                line = line.replace('\\n','')\n",
    "                if line not in pst_word:\n",
    "                    pst_word[line] = 1\n",
    "        with open('vi_sentiment/negative_words_vi.txt','r') as f:\n",
    "            for line in f:\n",
    "                line = line.replace('\\n','')\n",
    "                if line not in pst_word:\n",
    "                    ngt_word[line] = 1\n",
    "        self.pst_word = pst_word\n",
    "        self.ngt_word = ngt_word\n",
    "        \n",
    "    \n",
    "    def cleanText(self,str_raw):\n",
    "        CLEANR = re.compile('<.*?>') \n",
    "        # remove tags html\n",
    "        str_raw = re.sub(CLEANR, ' ', str_raw)\n",
    "\n",
    "        # remove special character\n",
    "        str_raw = re.sub('\\W+', ' ', str_raw)\n",
    "\n",
    "        # remove number\n",
    "        str_raw = re.sub(\"[0-9]+\", \"\", str_raw)\n",
    "\n",
    "        # remove space\n",
    "        cleantext = re.sub(\" +\", \" \", str_raw)\n",
    "        return cleantext.lower()\n",
    "    \n",
    "    \n",
    "    def rule_lexicon_based(self,sentent):\n",
    "        list_token = sentent.split(' ')\n",
    "        pos = 0\n",
    "        neg = 0\n",
    "        for token in list_token:\n",
    "            if token in self.pst_word:\n",
    "                pos += 1\n",
    "            elif token in self.ngt_word:\n",
    "                neg += 1\n",
    "        score = pos - neg\n",
    "        if score > 0:\n",
    "            return 2\n",
    "        elif score == 0:\n",
    "            return 1\n",
    "        else:\n",
    "            return 0\n",
    "        \n",
    "    def predict(self, txt, model_name='lr',mode='yes'):\n",
    "        clean_text = self.cleanText(txt)\n",
    "        data = [(clean_text,)]\n",
    "        schema = StructType([ \\\n",
    "            StructField(\"clean_text\",StringType(),True),\n",
    "          ])\n",
    "        \n",
    "        input_data = spark.createDataFrame(data=data,schema=schema)\n",
    "        input_data = input_data.select(split(input_data.clean_text, ' ').alias('cmt_token'))\n",
    "        input_idf = model.model_tfidf.transform(input_data)\n",
    "        \n",
    "        \n",
    "        if model_name == 'lr':\n",
    "            if mode == 'yes':\n",
    "                result = self.model['lr_yes'].transform(input_idf).select('prediction').take(1)\n",
    "            else:\n",
    "                result = self.model['lr_no'].transform(input_idf).select('prediction').take(1)\n",
    "        elif model_name == 'rf':\n",
    "            if mode == 'yes':\n",
    "                result = self.model['rf_yes'].transform(input_idf).select('prediction').take(1)\n",
    "            else:\n",
    "                result = self.model['rf_no'].transform(input_idf).select('prediction').take(1)\n",
    "        elif model_name == 'rule_based':\n",
    "            result = self.rule_lexicon_based(clean_text)\n",
    "        \n",
    "        if model_name != 'rule_based':\n",
    "            result = result[0].prediction\n",
    "            \n",
    "        print('Input data:', txt)\n",
    "        print('='*40)\n",
    "        print('Prediction: ')\n",
    "        if result == 2:\n",
    "            print('Positive')\n",
    "        elif result == 1:\n",
    "            print('Neural')\n",
    "        else:\n",
    "            print('Negative')"
   ]
  },
  {
   "cell_type": "code",
   "execution_count": 5,
   "id": "7f770b2f",
   "metadata": {},
   "outputs": [
    {
     "name": "stderr",
     "output_type": "stream",
     "text": [
      "23/01/20 17:05:10 WARN TaskSchedulerImpl: Initial job has not accepted any resources; check your cluster UI to ensure that workers are registered and have sufficient resources\n",
      "23/01/20 17:05:25 WARN TaskSchedulerImpl: Initial job has not accepted any resources; check your cluster UI to ensure that workers are registered and have sufficient resources\n",
      "23/01/20 17:05:40 WARN TaskSchedulerImpl: Initial job has not accepted any resources; check your cluster UI to ensure that workers are registered and have sufficient resources\n",
      "23/01/20 17:05:55 WARN TaskSchedulerImpl: Initial job has not accepted any resources; check your cluster UI to ensure that workers are registered and have sufficient resources\n",
      "                                                                                \r"
     ]
    }
   ],
   "source": [
    "model = Prediction()"
   ]
  },
  {
   "cell_type": "code",
   "execution_count": 12,
   "id": "1a2f2371",
   "metadata": {},
   "outputs": [],
   "source": [
    "txt = 'quá đẹp'"
   ]
  },
  {
   "cell_type": "code",
   "execution_count": 13,
   "id": "9f6d0553",
   "metadata": {},
   "outputs": [
    {
     "name": "stdout",
     "output_type": "stream",
     "text": [
      "Input data: quá đẹp\n",
      "========================================\n",
      "Prediction: \n",
      "Positive\n"
     ]
    }
   ],
   "source": [
    "model.predict(txt)"
   ]
  },
  {
   "cell_type": "code",
   "execution_count": 14,
   "id": "f05ec014",
   "metadata": {},
   "outputs": [
    {
     "name": "stdout",
     "output_type": "stream",
     "text": [
      "Input data: quá đẹp\n",
      "========================================\n",
      "Prediction: \n",
      "Positive\n"
     ]
    }
   ],
   "source": [
    "model.predict(txt,'lr','no')"
   ]
  },
  {
   "cell_type": "code",
   "execution_count": 15,
   "id": "2c826ff4",
   "metadata": {},
   "outputs": [
    {
     "name": "stdout",
     "output_type": "stream",
     "text": [
      "Input data: quá đẹp\n",
      "========================================\n",
      "Prediction: \n",
      "Positive\n"
     ]
    }
   ],
   "source": [
    "model.predict(txt,'rf','yes')"
   ]
  },
  {
   "cell_type": "code",
   "execution_count": 16,
   "id": "8f16fb27",
   "metadata": {},
   "outputs": [
    {
     "name": "stdout",
     "output_type": "stream",
     "text": [
      "Input data: quá đẹp\n",
      "========================================\n",
      "Prediction: \n",
      "Positive\n"
     ]
    }
   ],
   "source": [
    "model.predict(txt,'rf','no')"
   ]
  },
  {
   "cell_type": "code",
   "execution_count": 17,
   "id": "204ba8d4",
   "metadata": {},
   "outputs": [
    {
     "name": "stdout",
     "output_type": "stream",
     "text": [
      "Input data: quá đẹp\n",
      "========================================\n",
      "Prediction: \n",
      "Positive\n"
     ]
    }
   ],
   "source": [
    "model.predict(txt,'rule_based','no')"
   ]
  },
  {
   "cell_type": "code",
   "execution_count": null,
   "id": "af464f23",
   "metadata": {},
   "outputs": [],
   "source": []
  },
  {
   "cell_type": "code",
   "execution_count": null,
   "id": "090faa84",
   "metadata": {},
   "outputs": [],
   "source": []
  }
 ],
 "metadata": {
  "kernelspec": {
   "display_name": "Python 3 (ipykernel)",
   "language": "python",
   "name": "python3"
  },
  "language_info": {
   "codemirror_mode": {
    "name": "ipython",
    "version": 3
   },
   "file_extension": ".py",
   "mimetype": "text/x-python",
   "name": "python",
   "nbconvert_exporter": "python",
   "pygments_lexer": "ipython3",
   "version": "3.9.2"
  }
 },
 "nbformat": 4,
 "nbformat_minor": 5
}
