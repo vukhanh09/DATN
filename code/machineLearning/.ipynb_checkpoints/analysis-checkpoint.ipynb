{
 "cells": [
  {
   "cell_type": "code",
   "execution_count": 1,
   "id": "b91cd575",
   "metadata": {},
   "outputs": [],
   "source": [
    "from json import loads\n",
    "from pyspark.sql import SparkSession\n",
    "import warnings\n",
    "import pandas as pd\n",
    "warnings.filterwarnings(\"ignore\")\n",
    "from pyspark.sql.functions import col,from_json,udf,split,explode,lit,array\n",
    "from pyspark.ml.feature import NGram\n",
    "from pyspark.sql.types import StructType,StructField, StringType, IntegerType,MapType,FloatType,ArrayType\n",
    "import numpy as np\n",
    "from sklearn.metrics import classification_report,accuracy_score,precision_score,recall_score,f1_score"
   ]
  },
  {
   "cell_type": "code",
   "execution_count": 2,
   "id": "74058bca",
   "metadata": {},
   "outputs": [
    {
     "name": "stderr",
     "output_type": "stream",
     "text": [
      "23/01/18 16:01:29 WARN NativeCodeLoader: Unable to load native-hadoop library for your platform... using builtin-java classes where applicable\n",
      "Using Spark's default log4j profile: org/apache/spark/log4j-defaults.properties\n",
      "Setting default log level to \"WARN\".\n",
      "To adjust logging level use sc.setLogLevel(newLevel). For SparkR, use setLogLevel(newLevel).\n"
     ]
    }
   ],
   "source": [
    "spark = SparkSession.\\\n",
    "        builder.\\\n",
    "        appName(\"ml\").\\\n",
    "        master(\"spark://spark-master:7077\").\\\n",
    "        config(\"spark.executor.memory\", \"1024m\").\\\n",
    "        getOrCreate()"
   ]
  },
  {
   "cell_type": "code",
   "execution_count": 3,
   "id": "cadb9932",
   "metadata": {},
   "outputs": [
    {
     "name": "stderr",
     "output_type": "stream",
     "text": [
      "                                                                                \r"
     ]
    }
   ],
   "source": [
    "df_train = spark.read.parquet('hdfs://namenode:9000/ml/train_data')"
   ]
  },
  {
   "cell_type": "code",
   "execution_count": 4,
   "id": "f68542a2",
   "metadata": {},
   "outputs": [],
   "source": [
    "df_train.createOrReplaceTempView('df_train')"
   ]
  },
  {
   "cell_type": "code",
   "execution_count": 5,
   "id": "91271403",
   "metadata": {},
   "outputs": [],
   "source": [
    "df = df_train.withColumn('comment_term',split(df_train.clean_content, ' ', -1))\n",
    "def getNGram(n):\n",
    "    ngram = NGram(n=n)\n",
    "    ngram.setInputCol(\"comment_term\")\n",
    "    ngram.setOutputCol(\"nGrams\")\n",
    "    df_nGram = ngram.transform(df)\n",
    "    result_nGram = df_nGram.withColumn('word',explode(df_nGram.nGrams))\\\n",
    "        .groupBy(['word'])\\\n",
    "        .count()\n",
    "    return result_nGram\n",
    "result_nGram = getNGram(1)"
   ]
  },
  {
   "cell_type": "code",
   "execution_count": 6,
   "id": "67b2c011",
   "metadata": {},
   "outputs": [
    {
     "name": "stderr",
     "output_type": "stream",
     "text": [
      "                                                                                \r"
     ]
    }
   ],
   "source": [
    "result_nGram_pd = result_nGram.orderBy(col(\"count\").desc()).toPandas()\n",
    "result_nGram_pd.to_csv(f'sample/train.csv',index=False)"
   ]
  },
  {
   "cell_type": "code",
   "execution_count": 7,
   "id": "cb1593b0",
   "metadata": {},
   "outputs": [],
   "source": [
    "result_nGram.createTempView('result_nGram')"
   ]
  },
  {
   "cell_type": "code",
   "execution_count": 8,
   "id": "ddea0fc7",
   "metadata": {},
   "outputs": [
    {
     "name": "stderr",
     "output_type": "stream",
     "text": [
      "                                                                                \r"
     ]
    }
   ],
   "source": [
    "stop_word = spark.sql(\"\"\"\n",
    "    select word from result_nGram\n",
    "    where count < 10\n",
    "\"\"\").toPandas()"
   ]
  },
  {
   "cell_type": "code",
   "execution_count": 9,
   "id": "d6cfe0f1",
   "metadata": {},
   "outputs": [],
   "source": [
    "stop_word = stop_word['word'].to_list()\n",
    "dict_stop_word = {x:1 for x in stop_word}"
   ]
  },
  {
   "cell_type": "code",
   "execution_count": 10,
   "id": "e09f1c60",
   "metadata": {},
   "outputs": [],
   "source": [
    "def remove_stop_word(txt):\n",
    "    txt = txt.strip()\n",
    "    ls_words = txt.split()\n",
    "    ls_new_words = []\n",
    "    for word in ls_words:\n",
    "        if dict_stop_word.get(word) == None:\n",
    "            ls_new_words.append(word)\n",
    "    return ' '.join(ls_new_words)"
   ]
  },
  {
   "cell_type": "code",
   "execution_count": 11,
   "id": "a2001d46",
   "metadata": {},
   "outputs": [
    {
     "data": {
      "text/plain": [
       "<function __main__.remove_stop_word(txt)>"
      ]
     },
     "execution_count": 11,
     "metadata": {},
     "output_type": "execute_result"
    }
   ],
   "source": [
    "spark.udf.register(\"remove_stop_word\", remove_stop_word,StringType())"
   ]
  },
  {
   "cell_type": "code",
   "execution_count": 16,
   "id": "f39cc4a3",
   "metadata": {},
   "outputs": [],
   "source": [
    "new_df = spark.sql(\"\"\"\n",
    "    select remove_stop_word(clean_content) clean_content,rating,sentiment,label \n",
    "    from df_train\n",
    "\"\"\")"
   ]
  },
  {
   "cell_type": "code",
   "execution_count": 17,
   "id": "a91a0615",
   "metadata": {},
   "outputs": [],
   "source": [
    "df = new_df.withColumn('comment_term',split(new_df.clean_content, ' ', -1))\n",
    "def getNGram(n):\n",
    "    ngram = NGram(n=n)\n",
    "    ngram.setInputCol(\"comment_term\")\n",
    "    ngram.setOutputCol(\"nGrams\")\n",
    "    df_nGram = ngram.transform(df)\n",
    "    result_nGram = df_nGram.withColumn('word',explode(df_nGram.nGrams))\\\n",
    "        .groupBy(['word'])\\\n",
    "        .count()\n",
    "    return result_nGram\n",
    "result_nGram = getNGram(1)"
   ]
  },
  {
   "cell_type": "code",
   "execution_count": 18,
   "id": "b2efef3c",
   "metadata": {},
   "outputs": [
    {
     "name": "stderr",
     "output_type": "stream",
     "text": [
      "                                                                                \r"
     ]
    }
   ],
   "source": [
    "result_nGram_pd = result_nGram.orderBy(col(\"count\").desc()).toPandas()\n",
    "result_nGram_pd.to_csv(f'sample/train1.csv',index=False)"
   ]
  },
  {
   "cell_type": "code",
   "execution_count": 20,
   "id": "32032f2f",
   "metadata": {},
   "outputs": [],
   "source": [
    "test = new_df.withColumn('comment_term',explode(split(new_df.clean_content, ' ', -1)))\n",
    "test.createOrReplaceTempView('test')"
   ]
  },
  {
   "cell_type": "code",
   "execution_count": 21,
   "id": "8bc9d504",
   "metadata": {},
   "outputs": [
    {
     "name": "stderr",
     "output_type": "stream",
     "text": [
      "[Stage 16:======================================>               (142 + 2) / 200]\r"
     ]
    },
    {
     "name": "stdout",
     "output_type": "stream",
     "text": [
      "+----------------------------+\n",
      "|count(DISTINCT comment_term)|\n",
      "+----------------------------+\n",
      "|                        9922|\n",
      "+----------------------------+\n",
      "\n"
     ]
    },
    {
     "name": "stderr",
     "output_type": "stream",
     "text": [
      "                                                                                \r"
     ]
    }
   ],
   "source": [
    "spark.sql(\"\"\"\n",
    "    select count(distinct comment_term) from \n",
    "    test\n",
    "\"\"\").show()"
   ]
  },
  {
   "cell_type": "code",
   "execution_count": null,
   "id": "49c8afed",
   "metadata": {},
   "outputs": [],
   "source": []
  }
 ],
 "metadata": {
  "kernelspec": {
   "display_name": "Python 3 (ipykernel)",
   "language": "python",
   "name": "python3"
  },
  "language_info": {
   "codemirror_mode": {
    "name": "ipython",
    "version": 3
   },
   "file_extension": ".py",
   "mimetype": "text/x-python",
   "name": "python",
   "nbconvert_exporter": "python",
   "pygments_lexer": "ipython3",
   "version": "3.9.2"
  }
 },
 "nbformat": 4,
 "nbformat_minor": 5
}
