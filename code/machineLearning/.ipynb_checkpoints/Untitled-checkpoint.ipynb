{
 "cells": [
  {
   "cell_type": "code",
   "execution_count": 1,
   "id": "517e72b7",
   "metadata": {},
   "outputs": [],
   "source": [
    "from json import loads\n",
    "from pyspark.sql import SparkSession\n",
    "import warnings\n",
    "warnings.filterwarnings(\"ignore\")\n",
    "from pyspark.sql.functions import col,from_json,udf\n",
    "from pyspark.sql.types import StructType,StructField, StringType, IntegerType,MapType,FloatType,ArrayType"
   ]
  },
  {
   "cell_type": "code",
   "execution_count": 2,
   "id": "600e1f29",
   "metadata": {},
   "outputs": [
    {
     "name": "stderr",
     "output_type": "stream",
     "text": [
      "22/12/03 15:40:02 WARN NativeCodeLoader: Unable to load native-hadoop library for your platform... using builtin-java classes where applicable\n",
      "Using Spark's default log4j profile: org/apache/spark/log4j-defaults.properties\n",
      "Setting default log level to \"WARN\".\n",
      "To adjust logging level use sc.setLogLevel(newLevel). For SparkR, use setLogLevel(newLevel).\n"
     ]
    }
   ],
   "source": [
    "spark = SparkSession.\\\n",
    "        builder.\\\n",
    "        appName(\"process-data\").\\\n",
    "        master(\"spark://spark-master:7077\").\\\n",
    "        config(\"spark.executor.memory\", \"1024m\").\\\n",
    "        getOrCreate()"
   ]
  },
  {
   "cell_type": "code",
   "execution_count": 3,
   "id": "6c5fd858",
   "metadata": {},
   "outputs": [
    {
     "name": "stderr",
     "output_type": "stream",
     "text": [
      "                                                                                \r"
     ]
    }
   ],
   "source": [
    "data = spark.read.parquet('hdfs://namenode:9000/TikiCleaned/Comment')"
   ]
  },
  {
   "cell_type": "code",
   "execution_count": 4,
   "id": "39a0afef",
   "metadata": {},
   "outputs": [],
   "source": [
    "data.createOrReplaceTempView('data')"
   ]
  },
  {
   "cell_type": "code",
   "execution_count": 37,
   "id": "ecb18a21",
   "metadata": {},
   "outputs": [
    {
     "name": "stderr",
     "output_type": "stream",
     "text": [
      "[Stage 156:======================================>                  (2 + 1) / 3]\r"
     ]
    },
    {
     "name": "stdout",
     "output_type": "stream",
     "text": [
      "+--------------------+------+---------+-----+\n",
      "|       clean_content|rating|sentiment|  tmp|\n",
      "+--------------------+------+---------+-----+\n",
      "|                  ok|     5| Positive|25449|\n",
      "|                 tốt|     5| Positive|13391|\n",
      "|        sản phẩm tốt|     5| Positive| 4831|\n",
      "|                good|     5| Positive| 4409|\n",
      "|                 đẹp|     5| Positive| 4396|\n",
      "|     giao hàng nhanh|     5| Positive| 3879|\n",
      "|            hài lòng|     5| Positive| 3031|\n",
      "|về giao hàng giao...|     5| Positive| 2887|\n",
      "|sản phẩm có chất ...|     5| Positive| 2845|\n",
      "|      chất lượng tốt|     5| Positive| 2406|\n",
      "|             rất tốt|     5| Positive| 2384|\n",
      "| sản phẩm rất xin...|     5| Positive| 2096|\n",
      "|giao hàng nhanh đ...|     5| Positive| 1896|\n",
      "|tôi rất thích hìn...|     5| Positive| 1866|\n",
      "|         sản phẩm ok|     5| Positive| 1737|\n",
      "|                ngon|     5| Positive| 1717|\n",
      "|           tuyệt vời|     5| Positive| 1703|\n",
      "|                  ok|     4| Positive| 1677|\n",
      "|sản phẩm có chất ...|     5| Positive| 1651|\n",
      "|        rất hài lòng|     5| Positive| 1583|\n",
      "+--------------------+------+---------+-----+\n",
      "only showing top 20 rows\n",
      "\n"
     ]
    },
    {
     "name": "stderr",
     "output_type": "stream",
     "text": [
      "                                                                                \r"
     ]
    }
   ],
   "source": [
    "spark.sql(\"\"\"\n",
    "    select clean_content,rating,sentiment,count(*) tmp from data\n",
    "    where clean_content <> '' and clean_content is not null and clean_content <> ' '\n",
    "    group by clean_content,rating,sentiment\n",
    "    order by tmp desc\n",
    "\"\"\").show()"
   ]
  },
  {
   "cell_type": "code",
   "execution_count": 58,
   "id": "113bbc21",
   "metadata": {},
   "outputs": [],
   "source": [
    "df = spark.sql(\"\"\"\n",
    "    select distinct clean_content,rating,\n",
    "    case\n",
    "        when rating >= 4 then 2\n",
    "        when rating = 3 then 1\n",
    "        else 0\n",
    "    end as label\n",
    "    from data\n",
    "    where clean_content <> '' and clean_content is not null and clean_content <> ' '\n",
    "\"\"\")"
   ]
  },
  {
   "cell_type": "code",
   "execution_count": 59,
   "id": "b3909be1",
   "metadata": {},
   "outputs": [
    {
     "name": "stderr",
     "output_type": "stream",
     "text": [
      "                                                                                \r"
     ]
    },
    {
     "data": {
      "text/plain": [
       "323824"
      ]
     },
     "execution_count": 59,
     "metadata": {},
     "output_type": "execute_result"
    }
   ],
   "source": [
    "df.count()"
   ]
  },
  {
   "cell_type": "code",
   "execution_count": 60,
   "id": "c3f45bd0",
   "metadata": {},
   "outputs": [
    {
     "name": "stderr",
     "output_type": "stream",
     "text": [
      "                                                                                \r"
     ]
    },
    {
     "name": "stdout",
     "output_type": "stream",
     "text": [
      "+------+------+\n",
      "|rating| count|\n",
      "+------+------+\n",
      "|     1| 29621|\n",
      "|     3| 17646|\n",
      "|     5|240672|\n",
      "|     4| 25935|\n",
      "|     2|  9950|\n",
      "+------+------+\n",
      "\n"
     ]
    }
   ],
   "source": [
    "df.groupby('rating').count().show()"
   ]
  },
  {
   "cell_type": "code",
   "execution_count": 61,
   "id": "ebc2fe86",
   "metadata": {},
   "outputs": [
    {
     "data": {
      "text/plain": [
       "DataFrame[clean_content: string, rating: int, label: int]"
      ]
     },
     "execution_count": 61,
     "metadata": {},
     "output_type": "execute_result"
    }
   ],
   "source": [
    "df"
   ]
  },
  {
   "cell_type": "code",
   "execution_count": 62,
   "id": "051c0514",
   "metadata": {},
   "outputs": [
    {
     "name": "stderr",
     "output_type": "stream",
     "text": [
      "[Stage 344:======================================>                  (2 + 1) / 3]\r"
     ]
    },
    {
     "name": "stdout",
     "output_type": "stream",
     "text": [
      "+--------------------+------+-----+--------------------+\n",
      "|           cmt_token|rating|label|            features|\n",
      "+--------------------+------+-----+--------------------+\n",
      "|[micro, nhỏ, gọn,...|     5|    2|[-0.0267339327861...|\n",
      "|[giao, dây, tróc,...|     2|    0|[0.06681648490484...|\n",
      "|[cối, thủy, tinh,...|     5|    2|[0.05081051501218...|\n",
      "|[mình, đả, nhận, ...|     5|    2|[-0.0172826757556...|\n",
      "|[ổn, trong, tầm, ...|     5|    2|[0.12487213272187...|\n",
      "|[giày, đẹp, nhìn,...|     5|    2|[0.27593742949622...|\n",
      "|[lõi, bằng, chất,...|     3|    1|[-0.0459786405448...|\n",
      "|[máy, chất, lượng...|     5|    2|[0.02319451328366...|\n",
      "|[bóng, đẹp, sờ, v...|     5|    2|[0.03539467820276...|\n",
      "|[dây, kính, thanh...|     5|    2|[0.03577601377261...|\n",
      "|[đa, nha, n, đu, ...|     5|    2|[-0.2365505701872...|\n",
      "|[máy, nghe, rất, ...|     5|    2|[-0.1609528772532...|\n",
      "|[tăng, che, rộng,...|     5|    2|[0.07171569915601...|\n",
      "|[hàng, dùng, chất...|     5|    2|[0.04758290760219...|\n",
      "|[nhà, mình, từng,...|     5|    2|[0.04608926177024...|\n",
      "|[giao, hàng, nhan...|     5|    2|[-0.0959785878658...|\n",
      "|[chất, lượng, tốt...|     5|    2|[0.02784334123134...|\n",
      "|[đẹp, xuất, sắc, ...|     5|    2|[6.06789519744259...|\n",
      "|[mình, mua, dây, ...|     5|    2|[-0.1086103154586...|\n",
      "|[lap, vua, y, chi...|     5|    2|[0.27993736714623...|\n",
      "+--------------------+------+-----+--------------------+\n",
      "only showing top 20 rows\n",
      "\n"
     ]
    },
    {
     "name": "stderr",
     "output_type": "stream",
     "text": [
      "                                                                                \r"
     ]
    }
   ],
   "source": [
    "from pyspark.ml.feature import Word2Vec\n",
    "from pyspark.sql.functions import lower, col, split\n",
    "\n",
    "dataset = df.select(split(df.clean_content, ' ').alias('cmt_token'),'rating', 'label')\n",
    "\n",
    "word2Vec = Word2Vec(vectorSize=100, seed=42, inputCol=\"cmt_token\", outputCol=\"features\")\n",
    "word2Vec.setMaxIter(5)\n",
    "model = word2Vec.fit(dataset)\n",
    "\n",
    "res = model.transform(dataset)\n",
    "res.show()"
   ]
  },
  {
   "cell_type": "code",
   "execution_count": 63,
   "id": "8b672bfa",
   "metadata": {},
   "outputs": [
    {
     "name": "stderr",
     "output_type": "stream",
     "text": [
      "                                                                                \r"
     ]
    }
   ],
   "source": [
    "from pyspark.ml.clustering import KMeans\n",
    "kmeans_val = KMeans(k=3, seed=1)\n",
    "model = kmeans_val.fit(res.select('features'))"
   ]
  },
  {
   "cell_type": "code",
   "execution_count": 64,
   "id": "40b17400",
   "metadata": {},
   "outputs": [],
   "source": [
    "transformed = model.transform(res)"
   ]
  },
  {
   "cell_type": "code",
   "execution_count": 66,
   "id": "35bc806b",
   "metadata": {},
   "outputs": [
    {
     "name": "stderr",
     "output_type": "stream",
     "text": [
      "                                                                                \r"
     ]
    },
    {
     "name": "stdout",
     "output_type": "stream",
     "text": [
      "+----------+-----------------+\n",
      "|prediction|      avg(rating)|\n",
      "+----------+-----------------+\n",
      "|         1|4.182274178738334|\n",
      "|         2|4.759746533007843|\n",
      "|         0|4.141603141603142|\n",
      "+----------+-----------------+\n",
      "\n"
     ]
    }
   ],
   "source": [
    "transformed.groupby('prediction').agg({'rating':'avg'}).show()"
   ]
  },
  {
   "cell_type": "code",
   "execution_count": 68,
   "id": "8d74f2fb",
   "metadata": {},
   "outputs": [
    {
     "name": "stderr",
     "output_type": "stream",
     "text": [
      "                                                                                \r"
     ]
    }
   ],
   "source": [
    "result = transformed.select(['rating','label','prediction']).toPandas()"
   ]
  },
  {
   "cell_type": "code",
   "execution_count": 80,
   "id": "5377c556",
   "metadata": {},
   "outputs": [
    {
     "data": {
      "text/html": [
       "<div>\n",
       "<style scoped>\n",
       "    .dataframe tbody tr th:only-of-type {\n",
       "        vertical-align: middle;\n",
       "    }\n",
       "\n",
       "    .dataframe tbody tr th {\n",
       "        vertical-align: top;\n",
       "    }\n",
       "\n",
       "    .dataframe thead th {\n",
       "        text-align: right;\n",
       "    }\n",
       "</style>\n",
       "<table border=\"1\" class=\"dataframe\">\n",
       "  <thead>\n",
       "    <tr style=\"text-align: right;\">\n",
       "      <th></th>\n",
       "      <th>rating</th>\n",
       "      <th>label</th>\n",
       "      <th>prediction</th>\n",
       "    </tr>\n",
       "  </thead>\n",
       "  <tbody>\n",
       "    <tr>\n",
       "      <th>0</th>\n",
       "      <td>5</td>\n",
       "      <td>2</td>\n",
       "      <td>1</td>\n",
       "    </tr>\n",
       "    <tr>\n",
       "      <th>1</th>\n",
       "      <td>5</td>\n",
       "      <td>2</td>\n",
       "      <td>2</td>\n",
       "    </tr>\n",
       "    <tr>\n",
       "      <th>2</th>\n",
       "      <td>5</td>\n",
       "      <td>2</td>\n",
       "      <td>1</td>\n",
       "    </tr>\n",
       "    <tr>\n",
       "      <th>3</th>\n",
       "      <td>2</td>\n",
       "      <td>0</td>\n",
       "      <td>1</td>\n",
       "    </tr>\n",
       "    <tr>\n",
       "      <th>4</th>\n",
       "      <td>5</td>\n",
       "      <td>2</td>\n",
       "      <td>2</td>\n",
       "    </tr>\n",
       "  </tbody>\n",
       "</table>\n",
       "</div>"
      ],
      "text/plain": [
       "   rating  label  prediction\n",
       "0       5      2           1\n",
       "1       5      2           2\n",
       "2       5      2           1\n",
       "3       2      0           1\n",
       "4       5      2           2"
      ]
     },
     "execution_count": 80,
     "metadata": {},
     "output_type": "execute_result"
    }
   ],
   "source": [
    "result.head()"
   ]
  },
  {
   "cell_type": "code",
   "execution_count": 83,
   "id": "b53d6870",
   "metadata": {},
   "outputs": [],
   "source": [
    "a = result['label'].values\n",
    "b = result['prediction'].values"
   ]
  },
  {
   "cell_type": "code",
   "execution_count": 84,
   "id": "d71373c1",
   "metadata": {},
   "outputs": [],
   "source": [
    "from numpy import dot\n",
    "from numpy.linalg import norm\n",
    "\n",
    "cos_sim = dot(a, b)/(norm(a)*norm(b))"
   ]
  },
  {
   "cell_type": "code",
   "execution_count": 85,
   "id": "ce059e0b",
   "metadata": {},
   "outputs": [
    {
     "data": {
      "text/plain": [
       "0.8900573664672334"
      ]
     },
     "execution_count": 85,
     "metadata": {},
     "output_type": "execute_result"
    }
   ],
   "source": [
    "cos_sim"
   ]
  },
  {
   "cell_type": "code",
   "execution_count": 71,
   "id": "0030b3eb",
   "metadata": {},
   "outputs": [],
   "source": [
    "import matplotlib.pyplot as plt"
   ]
  },
  {
   "cell_type": "code",
   "execution_count": 73,
   "id": "c459d828",
   "metadata": {},
   "outputs": [],
   "source": [
    "import seaborn as sns"
   ]
  },
  {
   "cell_type": "code",
   "execution_count": 75,
   "id": "9ddafd70",
   "metadata": {},
   "outputs": [
    {
     "data": {
      "text/plain": [
       "<seaborn.axisgrid.FacetGrid at 0x7f7894a82040>"
      ]
     },
     "execution_count": 75,
     "metadata": {},
     "output_type": "execute_result"
    },
    {
     "data": {
      "image/png": "[encoded data removed]",
      "text/plain": [
       "<Figure size 1500x500 with 3 Axes>"
      ]
     },
     "metadata": {},
     "output_type": "display_data"
    }
   ],
   "source": [
    "sns.displot(result, x=\"rating\", col=\"prediction\",stat=\"density\")"
   ]
  },
  {
   "cell_type": "code",
   "execution_count": 65,
   "id": "76f1513c",
   "metadata": {},
   "outputs": [
    {
     "name": "stderr",
     "output_type": "stream",
     "text": [
      "[Stage 424:======================================>                  (2 + 1) / 3]\r"
     ]
    },
    {
     "name": "stdout",
     "output_type": "stream",
     "text": [
      "+--------------------+------+-----+--------------------+----------+\n",
      "|           cmt_token|rating|label|            features|prediction|\n",
      "+--------------------+------+-----+--------------------+----------+\n",
      "|[micro, nhỏ, gọn,...|     5|    2|[-0.0267339327861...|         1|\n",
      "|[giao, dây, tróc,...|     2|    0|[0.06681648490484...|         1|\n",
      "|[cối, thủy, tinh,...|     5|    2|[0.05081051501218...|         1|\n",
      "|[mình, đả, nhận, ...|     5|    2|[-0.0172826757556...|         1|\n",
      "|[ổn, trong, tầm, ...|     5|    2|[0.12487213272187...|         1|\n",
      "|[giày, đẹp, nhìn,...|     5|    2|[0.27593742949622...|         2|\n",
      "|[lõi, bằng, chất,...|     3|    1|[-0.0459786405448...|         1|\n",
      "|[máy, chất, lượng...|     5|    2|[0.02319451328366...|         2|\n",
      "|[bóng, đẹp, sờ, v...|     5|    2|[0.03539467820276...|         1|\n",
      "|[dây, kính, thanh...|     5|    2|[0.03577601377261...|         1|\n",
      "|[đa, nha, n, đu, ...|     5|    2|[-0.2365505701872...|         0|\n",
      "|[máy, nghe, rất, ...|     5|    2|[-0.1609528772532...|         1|\n",
      "|[tăng, che, rộng,...|     5|    2|[0.07171569915601...|         1|\n",
      "|[hàng, dùng, chất...|     5|    2|[0.04758290760219...|         2|\n",
      "|[nhà, mình, từng,...|     5|    2|[0.04608926177024...|         1|\n",
      "|[giao, hàng, nhan...|     5|    2|[-0.0959785878658...|         2|\n",
      "|[chất, lượng, tốt...|     5|    2|[0.02784334123134...|         2|\n",
      "|[đẹp, xuất, sắc, ...|     5|    2|[6.06789519744259...|         1|\n",
      "|[mình, mua, dây, ...|     5|    2|[-0.1086103154586...|         1|\n",
      "|[lap, vua, y, chi...|     5|    2|[0.27993736714623...|         0|\n",
      "+--------------------+------+-----+--------------------+----------+\n",
      "only showing top 20 rows\n",
      "\n"
     ]
    },
    {
     "name": "stderr",
     "output_type": "stream",
     "text": [
      "                                                                                \r"
     ]
    }
   ],
   "source": [
    "transformed.show()"
   ]
  },
  {
   "cell_type": "code",
   "execution_count": null,
   "id": "4a44f330",
   "metadata": {},
   "outputs": [],
   "source": []
  }
 ],
 "metadata": {
  "kernelspec": {
   "display_name": "Python 3 (ipykernel)",
   "language": "python",
   "name": "python3"
  },
  "language_info": {
   "codemirror_mode": {
    "name": "ipython",
    "version": 3
   },
   "file_extension": ".py",
   "mimetype": "text/x-python",
   "name": "python",
   "nbconvert_exporter": "python",
   "pygments_lexer": "ipython3",
   "version": "3.9.2"
  }
 },
 "nbformat": 4,
 "nbformat_minor": 5
}
