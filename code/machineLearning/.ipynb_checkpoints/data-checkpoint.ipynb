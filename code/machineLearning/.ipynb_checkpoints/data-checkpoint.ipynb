{
 "cells": [
  {
   "cell_type": "code",
   "execution_count": 48,
   "id": "27d4fe09",
   "metadata": {},
   "outputs": [],
   "source": [
    "from json import loads\n",
    "from pyspark.sql import SparkSession\n",
    "import warnings\n",
    "import pandas as pd\n",
    "warnings.filterwarnings(\"ignore\")\n",
    "from pyspark.sql.functions import col,from_json,udf,split,explode,lit,array\n",
    "from pyspark.ml.feature import NGram\n",
    "from pyspark.sql.types import StructType,StructField, StringType, IntegerType,MapType,FloatType,ArrayType\n",
    "import numpy as np"
   ]
  },
  {
   "cell_type": "code",
   "execution_count": 3,
   "id": "79a831c1",
   "metadata": {},
   "outputs": [
    {
     "name": "stderr",
     "output_type": "stream",
     "text": [
      "22/12/08 15:07:09 WARN NativeCodeLoader: Unable to load native-hadoop library for your platform... using builtin-java classes where applicable\n",
      "Using Spark's default log4j profile: org/apache/spark/log4j-defaults.properties\n",
      "Setting default log level to \"WARN\".\n",
      "To adjust logging level use sc.setLogLevel(newLevel). For SparkR, use setLogLevel(newLevel).\n"
     ]
    }
   ],
   "source": [
    "spark = SparkSession.\\\n",
    "        builder.\\\n",
    "        appName(\"ml\").\\\n",
    "        master(\"spark://spark-master:7077\").\\\n",
    "        config(\"spark.executor.memory\", \"1024m\").\\\n",
    "        getOrCreate()"
   ]
  },
  {
   "cell_type": "code",
   "execution_count": 4,
   "id": "d77df01c",
   "metadata": {},
   "outputs": [],
   "source": [
    "df = pd.read_csv('data/dataLabel.csv')"
   ]
  },
  {
   "cell_type": "code",
   "execution_count": 5,
   "id": "6a4ea1ca",
   "metadata": {},
   "outputs": [],
   "source": [
    "test = df[~pd.isna(df['true_label'])].reset_index(drop=True)\n",
    "train = df[pd.isna(df['true_label'])].reset_index(drop=True)"
   ]
  },
  {
   "cell_type": "code",
   "execution_count": 6,
   "id": "1747a415",
   "metadata": {},
   "outputs": [],
   "source": [
    "test['true_label'] = test['true_label'].astype('int')"
   ]
  },
  {
   "cell_type": "code",
   "execution_count": 7,
   "id": "45977fb9",
   "metadata": {},
   "outputs": [],
   "source": [
    "train = train.drop(columns=['true_label'])"
   ]
  },
  {
   "cell_type": "code",
   "execution_count": 8,
   "id": "c218305e",
   "metadata": {},
   "outputs": [],
   "source": [
    "df_test = spark.createDataFrame(test)\n",
    "df_train = spark.createDataFrame(train)"
   ]
  },
  {
   "cell_type": "code",
   "execution_count": 10,
   "id": "2b52b1ca",
   "metadata": {},
   "outputs": [
    {
     "name": "stderr",
     "output_type": "stream",
     "text": [
      "                                                                                \r"
     ]
    }
   ],
   "source": [
    "df_test.write.partitionBy(\"label\").mode('overwrite').parquet('hdfs://namenode:9000/ml/test_data')"
   ]
  },
  {
   "cell_type": "code",
   "execution_count": 11,
   "id": "34c92adf",
   "metadata": {},
   "outputs": [
    {
     "name": "stderr",
     "output_type": "stream",
     "text": [
      "22/12/08 15:07:42 WARN TaskSetManager: Stage 3 contains a task of very large size (22337 KiB). The maximum recommended task size is 1000 KiB.\n",
      "                                                                                \r"
     ]
    }
   ],
   "source": [
    "df_train.write.partitionBy(\"label\").mode('overwrite').parquet('hdfs://namenode:9000/ml/train_data')"
   ]
  },
  {
   "cell_type": "markdown",
   "id": "fd1d1883",
   "metadata": {},
   "source": [
    "Lexicon-based sentiment analysis"
   ]
  },
  {
   "cell_type": "code",
   "execution_count": 14,
   "id": "3ea7a8e7",
   "metadata": {},
   "outputs": [],
   "source": [
    "df = df_train.withColumn('comment_term',split(df_train.clean_content, ' ', -1))\n",
    "def getNGram(n):\n",
    "    ngram = NGram(n=n)\n",
    "    ngram.setInputCol(\"comment_term\")\n",
    "    ngram.setOutputCol(\"nGrams\")\n",
    "    df_nGram = ngram.transform(df)\n",
    "    result_nGram = df_nGram.withColumn('word',explode(df_nGram.nGrams))\\\n",
    "        .groupBy(['label','word'])\\\n",
    "        .count()\n",
    "    return result_nGram\n",
    "result_nGram = getNGram(1)"
   ]
  },
  {
   "cell_type": "code",
   "execution_count": 15,
   "id": "0ce9fdb0",
   "metadata": {},
   "outputs": [
    {
     "name": "stderr",
     "output_type": "stream",
     "text": [
      "22/12/08 15:11:03 WARN TaskSetManager: Stage 4 contains a task of very large size (22337 KiB). The maximum recommended task size is 1000 KiB.\n",
      "22/12/08 15:11:13 WARN TaskSetManager: Stage 9 contains a task of very large size (22337 KiB). The maximum recommended task size is 1000 KiB.\n",
      "22/12/08 15:11:18 WARN TaskSetManager: Stage 14 contains a task of very large size (22337 KiB). The maximum recommended task size is 1000 KiB.\n",
      "                                                                                \r"
     ]
    }
   ],
   "source": [
    "for i in range(3):\n",
    "    result_nGram.filter(result_nGram.label == i).orderBy(col(\"count\").desc()).toPandas().to_csv(f'sample/{i}.csv',index=False)"
   ]
  },
  {
   "cell_type": "code",
   "execution_count": 16,
   "id": "146492f9",
   "metadata": {},
   "outputs": [],
   "source": [
    "pst_word = {}\n",
    "ngt_word = {}\n",
    "with open('vi_sentiment/positive_words_vi.txt','r') as f:\n",
    "    for line in f:\n",
    "        line = line.replace('\\n','')\n",
    "        if line not in pst_word:\n",
    "            pst_word[line] = 1\n",
    "with open('vi_sentiment/negative_words_vi.txt','r') as f:\n",
    "    for line in f:\n",
    "        line = line.replace('\\n','')\n",
    "        if line not in pst_word:\n",
    "            ngt_word[line] = 1"
   ]
  },
  {
   "cell_type": "code",
   "execution_count": 17,
   "id": "ed529c3e",
   "metadata": {},
   "outputs": [],
   "source": [
    "def check(sentent):\n",
    "    list_token = sentent.split(' ')\n",
    "    res = 0\n",
    "    for token in list_token:\n",
    "        if token in pst_word:\n",
    "            res += 1\n",
    "        elif token in ngt_word:\n",
    "            res -= 1\n",
    "    if res > 0:\n",
    "        return 2\n",
    "    elif res == 0:\n",
    "        return 1\n",
    "    else:\n",
    "        return 0"
   ]
  },
  {
   "cell_type": "code",
   "execution_count": 18,
   "id": "0e6053a6",
   "metadata": {},
   "outputs": [],
   "source": [
    "def value_check(sentent):\n",
    "    list_token = sentent.split(' ')\n",
    "    pos = 0\n",
    "    neg = 0\n",
    "    for token in list_token:\n",
    "        if token in pst_word:\n",
    "            pos += 1\n",
    "        elif token in ngt_word:\n",
    "            neg += 1\n",
    "    return round((pos - neg)/ (pos + neg + 1e-6),3)"
   ]
  },
  {
   "cell_type": "code",
   "execution_count": 19,
   "id": "18bb6aff",
   "metadata": {},
   "outputs": [
    {
     "data": {
      "text/plain": [
       "<function __main__.value_check(sentent)>"
      ]
     },
     "execution_count": 19,
     "metadata": {},
     "output_type": "execute_result"
    }
   ],
   "source": [
    "spark.udf.register(\"check\", check,IntegerType())\n",
    "spark.udf.register(\"value_check\", value_check,FloatType())"
   ]
  },
  {
   "cell_type": "markdown",
   "id": "af888ffc",
   "metadata": {},
   "source": [
    "Find Best Param"
   ]
  },
  {
   "cell_type": "code",
   "execution_count": 43,
   "id": "c913f1e3",
   "metadata": {},
   "outputs": [],
   "source": [
    "df_train.createOrReplaceTempView(\"train_data\")"
   ]
  },
  {
   "cell_type": "code",
   "execution_count": 65,
   "id": "5b8c9ee5",
   "metadata": {},
   "outputs": [],
   "source": [
    "result_train = spark.sql(\"\"\"\n",
    "    select label,value_check(clean_content) score from train_data\n",
    "\"\"\")"
   ]
  },
  {
   "cell_type": "code",
   "execution_count": 66,
   "id": "69f7d2f8",
   "metadata": {},
   "outputs": [
    {
     "name": "stderr",
     "output_type": "stream",
     "text": [
      "22/12/08 16:20:31 WARN TaskSetManager: Stage 23 contains a task of very large size (22337 KiB). The maximum recommended task size is 1000 KiB.\n",
      "                                                                                \r"
     ]
    }
   ],
   "source": [
    "result_train = result_train.toPandas()"
   ]
  },
  {
   "cell_type": "code",
   "execution_count": 67,
   "id": "2734e180",
   "metadata": {},
   "outputs": [],
   "source": [
    "def f(row,val):\n",
    "    if row['score'] > val:\n",
    "        res = 2\n",
    "    elif row['score'] < -val:\n",
    "        res = 0\n",
    "    else:\n",
    "        res = 1\n",
    "    return res"
   ]
  },
  {
   "cell_type": "code",
   "execution_count": 93,
   "id": "bbea9057",
   "metadata": {},
   "outputs": [],
   "source": [
    "list_val = np.linspace(0,0.5,21)\n",
    "list_acc = []\n",
    "for val in list_val:\n",
    "    result_train['prediction'] = result_train.apply(f,val=val,axis=1)\n",
    "    list_acc.append(result_train[result_train['label']== result_train['prediction']].shape[0]*100/result_train.shape[0])"
   ]
  },
  {
   "cell_type": "code",
   "execution_count": 96,
   "id": "b02fa5e1",
   "metadata": {},
   "outputs": [
    {
     "data": {
      "text/plain": [
       "([<matplotlib.axis.XTick at 0x7f6b6d41e130>,\n",
       "  <matplotlib.axis.XTick at 0x7f6b6d41e100>,\n",
       "  <matplotlib.axis.XTick at 0x7f6b6d414d00>,\n",
       "  <matplotlib.axis.XTick at 0x7f6b6d40e160>,\n",
       "  <matplotlib.axis.XTick at 0x7f6b6d3f5d90>,\n",
       "  <matplotlib.axis.XTick at 0x7f6b6d3fb5b0>,\n",
       "  <matplotlib.axis.XTick at 0x7f6b6d3fbd90>,\n",
       "  <matplotlib.axis.XTick at 0x7f6b6d3fb130>,\n",
       "  <matplotlib.axis.XTick at 0x7f6b6d3fbe50>,\n",
       "  <matplotlib.axis.XTick at 0x7f6b6d382a30>,\n",
       "  <matplotlib.axis.XTick at 0x7f6b6d382190>,\n",
       "  <matplotlib.axis.XTick at 0x7f6b6d38ca30>,\n",
       "  <matplotlib.axis.XTick at 0x7f6b6d38c580>,\n",
       "  <matplotlib.axis.XTick at 0x7f6b6d3e3e20>,\n",
       "  <matplotlib.axis.XTick at 0x7f6b6d393520>,\n",
       "  <matplotlib.axis.XTick at 0x7f6b6d393d00>,\n",
       "  <matplotlib.axis.XTick at 0x7f6b6d39f520>,\n",
       "  <matplotlib.axis.XTick at 0x7f6b6d39fd00>,\n",
       "  <matplotlib.axis.XTick at 0x7f6b6d3936a0>,\n",
       "  <matplotlib.axis.XTick at 0x7f6b6d39feb0>,\n",
       "  <matplotlib.axis.XTick at 0x7f6b6d3a96d0>],\n",
       " [Text(0, 0, '0.0'),\n",
       "  Text(1, 0, '0.025'),\n",
       "  Text(2, 0, '0.05'),\n",
       "  Text(3, 0, '0.075'),\n",
       "  Text(4, 0, '0.1'),\n",
       "  Text(5, 0, '0.125'),\n",
       "  Text(6, 0, '0.15'),\n",
       "  Text(7, 0, '0.175'),\n",
       "  Text(8, 0, '0.2'),\n",
       "  Text(9, 0, '0.225'),\n",
       "  Text(10, 0, '0.25'),\n",
       "  Text(11, 0, '0.275'),\n",
       "  Text(12, 0, '0.3'),\n",
       "  Text(13, 0, '0.325'),\n",
       "  Text(14, 0, '0.35'),\n",
       "  Text(15, 0, '0.375'),\n",
       "  Text(16, 0, '0.4'),\n",
       "  Text(17, 0, '0.425'),\n",
       "  Text(18, 0, '0.45'),\n",
       "  Text(19, 0, '0.475'),\n",
       "  Text(20, 0, '0.5')])"
      ]
     },
     "execution_count": 96,
     "metadata": {},
     "output_type": "execute_result"
    },
    {
     "data": {
      "image/png": "[encoded data removed]",
      "text/plain": [
       "<Figure size 1200x800 with 1 Axes>"
      ]
     },
     "metadata": {},
     "output_type": "display_data"
    }
   ],
   "source": [
    "import matplotlib.pyplot as plt\n",
    "from matplotlib.pyplot import figure\n",
    "\n",
    "figure(figsize=(15, 10), dpi=80)\n",
    "\n",
    "labels = [str(round(x,3)) for x in list_val]\n",
    "x = np.arange(len(labels))  # the label locations\n",
    "\n",
    "width = 0.35  # the width of the bars\n",
    "\n",
    "plt.bar(x - width/2,width=width,height= list_acc)\n",
    "plt.xticks(x,labels)"
   ]
  },
  {
   "cell_type": "code",
   "execution_count": 100,
   "id": "b15c9fd8",
   "metadata": {},
   "outputs": [],
   "source": [
    "p_max = np.argmax(list_acc)"
   ]
  },
  {
   "cell_type": "code",
   "execution_count": 102,
   "id": "e8a7b274",
   "metadata": {},
   "outputs": [],
   "source": [
    "df_test.createOrReplaceTempView(\"test_data\")"
   ]
  },
  {
   "cell_type": "code",
   "execution_count": 104,
   "id": "0c10a00d",
   "metadata": {},
   "outputs": [],
   "source": [
    "result_test = spark.sql(\"\"\"\n",
    "    select true_label,label,value_check(clean_content) score from tmp\n",
    "\"\"\")"
   ]
  },
  {
   "cell_type": "code",
   "execution_count": 105,
   "id": "2d6a04fe",
   "metadata": {},
   "outputs": [],
   "source": [
    "result_test =  result_test.toPandas()"
   ]
  },
  {
   "cell_type": "code",
   "execution_count": 106,
   "id": "6ded09d2",
   "metadata": {},
   "outputs": [],
   "source": [
    "result_test['prediction'] = result_test.apply(f,val=p_max,axis=1)"
   ]
  },
  {
   "cell_type": "code",
   "execution_count": 107,
   "id": "29f79774",
   "metadata": {},
   "outputs": [
    {
     "data": {
      "text/plain": [
       "0.7217199115933293"
      ]
     },
     "execution_count": 107,
     "metadata": {},
     "output_type": "execute_result"
    }
   ],
   "source": [
    "result_test[result_test['true_label']== result_test['prediction']].shape[0]/result_test.shape[0]"
   ]
  },
  {
   "cell_type": "code",
   "execution_count": 118,
   "id": "33c5cff8",
   "metadata": {},
   "outputs": [
    {
     "data": {
      "text/plain": [
       "0.7486437613019892"
      ]
     },
     "execution_count": 118,
     "metadata": {},
     "output_type": "execute_result"
    }
   ],
   "source": [
    "result_test[result_test['label']== result_test['prediction']].shape[0]/result_test.shape[0]"
   ]
  },
  {
   "cell_type": "code",
   "execution_count": 108,
   "id": "b22aa3e9",
   "metadata": {},
   "outputs": [
    {
     "name": "stdout",
     "output_type": "stream",
     "text": [
      "              precision    recall  f1-score   support\n",
      "\n",
      "           0       0.50      0.43      0.46       805\n",
      "           1       0.15      0.13      0.14       538\n",
      "           2       0.84      0.87      0.86      3634\n",
      "\n",
      "    accuracy                           0.72      4977\n",
      "   macro avg       0.49      0.48      0.49      4977\n",
      "weighted avg       0.71      0.72      0.71      4977\n",
      "\n"
     ]
    }
   ],
   "source": [
    "from sklearn.metrics import classification_report\n",
    "print(classification_report(result_test.true_label, result_test.prediction))"
   ]
  },
  {
   "cell_type": "code",
   "execution_count": 115,
   "id": "8d5b74e9",
   "metadata": {},
   "outputs": [],
   "source": [
    "result_train['prediction'] = result_train.apply(f,val=p_max,axis=1)"
   ]
  },
  {
   "cell_type": "code",
   "execution_count": 116,
   "id": "079f2a4f",
   "metadata": {},
   "outputs": [],
   "source": [
    "match_train = result_train[result_train['label']== result_train['prediction']].shape[0]\n",
    "match_test = result_test[result_test['label']== result_test['prediction']].shape[0]"
   ]
  },
  {
   "cell_type": "code",
   "execution_count": 117,
   "id": "5477888e",
   "metadata": {},
   "outputs": [
    {
     "data": {
      "text/plain": [
       "0.7443827511240674"
      ]
     },
     "execution_count": 117,
     "metadata": {},
     "output_type": "execute_result"
    }
   ],
   "source": [
    "(match_train + match_test)/(result_train.shape[0] + result_test.shape[0])"
   ]
  },
  {
   "cell_type": "code",
   "execution_count": 8,
   "id": "c2fbd58b",
   "metadata": {},
   "outputs": [],
   "source": [
    "dataset_train = df_train.select(split(df_train.clean_content, ' ').alias('cmt_token'),'rating', 'label')\n",
    "dataset_test = df_test.select(split(df_test.clean_content, ' ').alias('cmt_token'),'rating', 'label','true_label')"
   ]
  },
  {
   "cell_type": "code",
   "execution_count": 9,
   "id": "029f6dca",
   "metadata": {},
   "outputs": [
    {
     "name": "stderr",
     "output_type": "stream",
     "text": [
      "22/12/08 13:26:28 WARN TaskSetManager: Stage 0 contains a task of very large size (22335 KiB). The maximum recommended task size is 1000 KiB.\n",
      "22/12/08 13:26:37 WARN TaskSetManager: Stage 2 contains a task of very large size (22335 KiB). The maximum recommended task size is 1000 KiB.\n",
      "22/12/08 13:36:11 WARN BLAS: Failed to load implementation from: com.github.fommil.netlib.NativeSystemBLAS\n",
      "22/12/08 13:36:11 WARN BLAS: Failed to load implementation from: com.github.fommil.netlib.NativeRefBLAS\n"
     ]
    }
   ],
   "source": [
    "from pyspark.ml.feature import Word2Vec\n",
    "from pyspark.sql.functions import lower, col, split\n",
    "\n",
    "# dataset_train = df_train.select(split(df.clean_content, ' ').alias('cmt_token'),'rating', 'label')\n",
    "\n",
    "word2Vec = Word2Vec(vectorSize=100, seed=42, inputCol=\"cmt_token\", outputCol=\"features\")\n",
    "word2Vec.setMaxIter(5)\n",
    "model = word2Vec.fit(dataset_train)"
   ]
  },
  {
   "cell_type": "code",
   "execution_count": 11,
   "id": "bdf850e2",
   "metadata": {},
   "outputs": [],
   "source": [
    "train_set = model.transform(dataset_train)\n",
    "test_set = model.transform(dataset_test)"
   ]
  },
  {
   "cell_type": "code",
   "execution_count": 110,
   "id": "11cec3b0",
   "metadata": {},
   "outputs": [
    {
     "name": "stderr",
     "output_type": "stream",
     "text": [
      "22/12/07 17:02:19 WARN TaskSetManager: Stage 66 contains a task of very large size (22335 KiB). The maximum recommended task size is 1000 KiB.\n"
     ]
    },
    {
     "name": "stdout",
     "output_type": "stream",
     "text": [
      "+-----+------+\n",
      "|label| count|\n",
      "+-----+------+\n",
      "|    0| 38977|\n",
      "|    1| 17394|\n",
      "|    2|262518|\n",
      "+-----+------+\n",
      "\n"
     ]
    }
   ],
   "source": [
    "train_set.groupby('label').count().show()"
   ]
  },
  {
   "cell_type": "code",
   "execution_count": 12,
   "id": "4d25ac2f",
   "metadata": {},
   "outputs": [],
   "source": [
    "train_set_0 = train_set.filter(col('label') ==0)\n",
    "train_set_1 = train_set.filter(col('label') ==1)\n",
    "train_set_2 = train_set.filter(col('label') ==2)"
   ]
  },
  {
   "cell_type": "code",
   "execution_count": 13,
   "id": "fe3a5d2a",
   "metadata": {},
   "outputs": [
    {
     "name": "stderr",
     "output_type": "stream",
     "text": [
      "22/12/08 13:37:23 WARN TaskSetManager: Stage 17 contains a task of very large size (22335 KiB). The maximum recommended task size is 1000 KiB.\n",
      "22/12/08 13:37:23 WARN TaskSetManager: Stage 19 contains a task of very large size (22335 KiB). The maximum recommended task size is 1000 KiB.\n",
      "22/12/08 13:37:24 WARN TaskSetManager: Stage 21 contains a task of very large size (22335 KiB). The maximum recommended task size is 1000 KiB.\n",
      "                                                                                \r"
     ]
    }
   ],
   "source": [
    "cnt_0 = train_set.filter(col('label') ==0).count()\n",
    "cnt_1 = train_set.filter(col('label') ==1).count()\n",
    "cnt_2 = train_set.filter(col('label') ==2).count()"
   ]
  },
  {
   "cell_type": "code",
   "execution_count": 14,
   "id": "15bbeb32",
   "metadata": {},
   "outputs": [],
   "source": [
    "a = range(int(cnt_2/cnt_0) + 2)\n",
    "b = range(int(cnt_2/cnt_1) + 2)"
   ]
  },
  {
   "cell_type": "code",
   "execution_count": 15,
   "id": "84de582c",
   "metadata": {},
   "outputs": [
    {
     "data": {
      "text/plain": [
       "(range(0, 8), range(0, 17))"
      ]
     },
     "execution_count": 15,
     "metadata": {},
     "output_type": "execute_result"
    }
   ],
   "source": [
    "a,b"
   ]
  },
  {
   "cell_type": "code",
   "execution_count": 16,
   "id": "fb14dc06",
   "metadata": {},
   "outputs": [],
   "source": [
    "# duplicate the minority rows\n",
    "train_set_0 = train_set_0.withColumn(\"dummy\", explode(array([lit(x) for x in a]))).drop('dummy')\n",
    "train_set_1 = train_set_1.withColumn(\"dummy\", explode(array([lit(x) for x in b]))).drop('dummy')"
   ]
  },
  {
   "cell_type": "code",
   "execution_count": 17,
   "id": "34a97c47",
   "metadata": {},
   "outputs": [],
   "source": [
    "combined_df = train_set_0.unionAll(train_set_1).unionAll(train_set_2)"
   ]
  },
  {
   "cell_type": "code",
   "execution_count": 18,
   "id": "b445ca4f",
   "metadata": {},
   "outputs": [
    {
     "name": "stderr",
     "output_type": "stream",
     "text": [
      "22/12/08 13:37:26 WARN TaskSetManager: Stage 23 contains a task of very large size (22336 KiB). The maximum recommended task size is 1000 KiB.\n",
      "                                                                                \r"
     ]
    },
    {
     "name": "stdout",
     "output_type": "stream",
     "text": [
      "+-----+------+\n",
      "|label| count|\n",
      "+-----+------+\n",
      "|    0|311816|\n",
      "|    1|295698|\n",
      "|    2|262518|\n",
      "+-----+------+\n",
      "\n"
     ]
    }
   ],
   "source": [
    "combined_df.groupby('label').count().show()"
   ]
  },
  {
   "cell_type": "code",
   "execution_count": 82,
   "id": "bab75f5f",
   "metadata": {},
   "outputs": [],
   "source": [
    "from pyspark.ml import Pipeline\n",
    "from pyspark.ml.classification import RandomForestClassifier\n",
    "from pyspark.ml.feature import IndexToString, StringIndexer, VectorIndexer\n",
    "from pyspark.ml.evaluation import MulticlassClassificationEvaluator"
   ]
  },
  {
   "cell_type": "code",
   "execution_count": 84,
   "id": "0a99364c",
   "metadata": {},
   "outputs": [
    {
     "name": "stderr",
     "output_type": "stream",
     "text": [
      "22/12/08 12:39:56 WARN TaskSetManager: Stage 68 contains a task of very large size (22336 KiB). The maximum recommended task size is 1000 KiB.\n",
      "22/12/08 12:40:00 WARN TaskSetManager: Stage 70 contains a task of very large size (22264 KiB). The maximum recommended task size is 1000 KiB.\n",
      "22/12/08 12:40:26 WARN TaskSetManager: Stage 72 contains a task of very large size (22336 KiB). The maximum recommended task size is 1000 KiB.\n",
      "22/12/08 12:40:31 WARN TaskSetManager: Stage 74 contains a task of very large size (22264 KiB). The maximum recommended task size is 1000 KiB.\n",
      "22/12/08 12:41:07 WARN TaskSetManager: Stage 76 contains a task of very large size (22336 KiB). The maximum recommended task size is 1000 KiB.\n",
      "22/12/08 12:41:07 WARN TaskSetManager: Stage 77 contains a task of very large size (22336 KiB). The maximum recommended task size is 1000 KiB.\n",
      "22/12/08 12:41:12 WARN TaskSetManager: Stage 78 contains a task of very large size (22336 KiB). The maximum recommended task size is 1000 KiB.\n",
      "22/12/08 12:41:54 WARN TaskSetManager: Stage 80 contains a task of very large size (22336 KiB). The maximum recommended task size is 1000 KiB.\n",
      "22/12/08 12:42:02 WARN DAGScheduler: Broadcasting large task binary with size 1385.6 KiB\n",
      "22/12/08 12:42:02 WARN TaskSetManager: Stage 82 contains a task of very large size (22336 KiB). The maximum recommended task size is 1000 KiB.\n",
      "22/12/08 12:42:58 WARN TaskSetManager: Stage 84 contains a task of very large size (22336 KiB). The maximum recommended task size is 1000 KiB.\n",
      "22/12/08 12:43:14 WARN DAGScheduler: Broadcasting large task binary with size 2.6 MiB\n",
      "22/12/08 12:43:41 WARN TaskSetManager: Stage 86 contains a task of very large size (22264 KiB). The maximum recommended task size is 1000 KiB.\n",
      "22/12/08 12:44:57 WARN TaskSetManager: Stage 88 contains a task of very large size (22336 KiB). The maximum recommended task size is 1000 KiB.\n",
      "22/12/08 12:45:09 WARN DAGScheduler: Broadcasting large task binary with size 5.2 MiB\n",
      "22/12/08 12:45:28 WARN TaskSetManager: Stage 90 contains a task of very large size (22336 KiB). The maximum recommended task size is 1000 KiB.\n",
      "22/12/08 12:46:58 WARN TaskSetManager: Stage 92 contains a task of very large size (22264 KiB). The maximum recommended task size is 1000 KiB.\n",
      "22/12/08 12:47:00 WARN DAGScheduler: Broadcasting large task binary with size 1552.6 KiB\n",
      "22/12/08 12:47:16 WARN DAGScheduler: Broadcasting large task binary with size 10.5 MiB\n",
      "22/12/08 12:47:40 WARN TaskSetManager: Stage 94 contains a task of very large size (22336 KiB). The maximum recommended task size is 1000 KiB.\n",
      "22/12/08 12:49:37 WARN TaskSetManager: Stage 96 contains a task of very large size (22264 KiB). The maximum recommended task size is 1000 KiB.\n",
      "22/12/08 12:49:40 WARN DAGScheduler: Broadcasting large task binary with size 3.0 MiB\n",
      "22/12/08 12:50:01 WARN DAGScheduler: Broadcasting large task binary with size 11.3 MiB\n",
      "22/12/08 12:50:32 WARN TaskSetManager: Stage 98 contains a task of very large size (22336 KiB). The maximum recommended task size is 1000 KiB.\n",
      "22/12/08 12:50:52 WARN DAGScheduler: Broadcasting large task binary with size 1385.6 KiB\n",
      "22/12/08 12:51:38 WARN TaskSetManager: Stage 100 contains a task of very large size (22336 KiB). The maximum recommended task size is 1000 KiB.\n",
      "22/12/08 12:51:38 WARN DAGScheduler: Broadcasting large task binary with size 3.2 MiB\n",
      "22/12/08 12:52:05 WARN DAGScheduler: Broadcasting large task binary with size 11.7 MiB\n",
      "22/12/08 12:52:45 WARN TaskSetManager: Stage 102 contains a task of very large size (22336 KiB). The maximum recommended task size is 1000 KiB.\n",
      "22/12/08 12:52:58 WARN DAGScheduler: Broadcasting large task binary with size 2.6 MiB\n",
      "22/12/08 12:53:22 WARN TaskSetManager: Stage 104 contains a task of very large size (22264 KiB). The maximum recommended task size is 1000 KiB.\n",
      "22/12/08 12:53:23 WARN DAGScheduler: Broadcasting large task binary with size 3.2 MiB\n",
      "22/12/08 12:53:55 WARN DAGScheduler: Broadcasting large task binary with size 11.6 MiB\n",
      "22/12/08 12:54:42 WARN TaskSetManager: Stage 106 contains a task of very large size (22336 KiB). The maximum recommended task size is 1000 KiB.\n",
      "22/12/08 12:54:58 WARN DAGScheduler: Broadcasting large task binary with size 5.2 MiB\n",
      "22/12/08 12:55:24 WARN TaskSetManager: Stage 108 contains a task of very large size (22264 KiB). The maximum recommended task size is 1000 KiB.\n",
      "22/12/08 12:55:25 WARN DAGScheduler: Broadcasting large task binary with size 3.2 MiB\n",
      "22/12/08 12:56:00 WARN DAGScheduler: Broadcasting large task binary with size 10.7 MiB\n",
      "22/12/08 12:56:58 WARN TaskSetManager: Stage 110 contains a task of very large size (22336 KiB). The maximum recommended task size is 1000 KiB.\n",
      "22/12/08 12:57:01 WARN DAGScheduler: Broadcasting large task binary with size 1552.6 KiB\n",
      "22/12/08 12:57:20 WARN DAGScheduler: Broadcasting large task binary with size 10.5 MiB\n",
      "22/12/08 12:57:57 WARN TaskSetManager: Stage 112 contains a task of very large size (22264 KiB). The maximum recommended task size is 1000 KiB.\n",
      "22/12/08 12:57:58 WARN DAGScheduler: Broadcasting large task binary with size 3.0 MiB\n",
      "22/12/08 12:58:42 WARN DAGScheduler: Broadcasting large task binary with size 11.8 MiB\n",
      "22/12/08 12:59:58 WARN TaskSetManager: Stage 114 contains a task of very large size (22336 KiB). The maximum recommended task size is 1000 KiB.\n",
      "22/12/08 13:00:03 WARN DAGScheduler: Broadcasting large task binary with size 3.0 MiB\n",
      "22/12/08 13:00:20 WARN DAGScheduler: Broadcasting large task binary with size 11.3 MiB\n",
      "22/12/08 13:00:42 WARN TaskSetManager: Stage 116 contains a task of very large size (22336 KiB). The maximum recommended task size is 1000 KiB.\n",
      "22/12/08 13:00:44 WARN DAGScheduler: Broadcasting large task binary with size 3.2 MiB\n",
      "22/12/08 13:01:09 WARN DAGScheduler: Broadcasting large task binary with size 5.9 MiB\n",
      "22/12/08 13:01:52 WARN TaskSetManager: Stage 118 contains a task of very large size (22264 KiB). The maximum recommended task size is 1000 KiB.\n",
      "22/12/08 13:01:53 WARN DAGScheduler: Broadcasting large task binary with size 3.2 MiB\n",
      "22/12/08 13:02:04 WARN DAGScheduler: Broadcasting large task binary with size 11.7 MiB\n",
      "22/12/08 13:02:15 WARN TaskSetManager: Stage 120 contains a task of very large size (22336 KiB). The maximum recommended task size is 1000 KiB.\n",
      "22/12/08 13:02:15 WARN DAGScheduler: Broadcasting large task binary with size 1612.7 KiB\n",
      "22/12/08 13:02:54 WARN DAGScheduler: Broadcasting large task binary with size 3.2 MiB\n",
      "22/12/08 13:03:01 WARN DAGScheduler: Broadcasting large task binary with size 11.6 MiB\n",
      "22/12/08 13:03:01 WARN TaskSetManager: Stage 122 contains a task of very large size (22264 KiB). The maximum recommended task size is 1000 KiB.\n",
      "22/12/08 13:03:40 WARN DAGScheduler: Broadcasting large task binary with size 3.2 MiB\n",
      "22/12/08 13:03:47 WARN DAGScheduler: Broadcasting large task binary with size 10.7 MiB\n",
      "22/12/08 13:03:47 WARN TaskSetManager: Stage 124 contains a task of very large size (22264 KiB). The maximum recommended task size is 1000 KiB.\n",
      "22/12/08 13:04:42 WARN DAGScheduler: Broadcasting large task binary with size 3.0 MiB\n",
      "22/12/08 13:04:48 WARN DAGScheduler: Broadcasting large task binary with size 11.8 MiB\n",
      "22/12/08 13:04:48 WARN TaskSetManager: Stage 126 contains a task of very large size (22264 KiB). The maximum recommended task size is 1000 KiB.\n",
      "22/12/08 13:05:25 WARN DAGScheduler: Broadcasting large task binary with size 3.2 MiB\n",
      "22/12/08 13:05:31 WARN DAGScheduler: Broadcasting large task binary with size 5.9 MiB\n",
      "22/12/08 13:05:31 WARN TaskSetManager: Stage 128 contains a task of very large size (22336 KiB). The maximum recommended task size is 1000 KiB.\n",
      "22/12/08 13:05:48 WARN DAGScheduler: Broadcasting large task binary with size 1610.7 KiB\n",
      "                                                                                \r"
     ]
    }
   ],
   "source": [
    "labelIndexer = StringIndexer(inputCol=\"label\", outputCol=\"indexedLabel\").fit(combined_df)\n",
    "\n",
    "featureIndexer = VectorIndexer(inputCol=\"features\", outputCol=\"indexedFeatures\", maxCategories=4).fit(combined_df)\n",
    "\n",
    "# (trainingData, testData) = self.data.randomSplit([0.7, 0.3])\n",
    "\n",
    "rf = RandomForestClassifier(labelCol=\"indexedLabel\", featuresCol=\"indexedFeatures\", numTrees= 250 ,maxDepth = 10)\n",
    "\n",
    "labelConverter = IndexToString(inputCol=\"prediction\", outputCol=\"predictedLabel\", labels=labelIndexer.labels)\n",
    "\n",
    "pipeline = Pipeline(stages=[labelIndexer, featureIndexer, rf, labelConverter])\n",
    "\n",
    "model = pipeline.fit(combined_df)"
   ]
  },
  {
   "cell_type": "code",
   "execution_count": null,
   "id": "3ed78406",
   "metadata": {},
   "outputs": [],
   "source": [
    "from pyspark.ml import Pipeline\n",
    "from pyspark.ml.feature import OneHotEncoder, StringIndexer, VectorAssembler\n",
    "label_stringIdx = StringIndexer(inputCol = \"sentiment\", outputCol = \"label\")\n",
    "pipeline = Pipeline(stages=[regexTokenizer, stopwordsRemover, countVectors, label_stringIdx])\n",
    "# Fit the pipeline to training documents.\n",
    "pipelineFit = pipeline.fit(data)\n",
    "dataset = pipelineFit.transform(data)\n",
    "dataset.show(5)"
   ]
  },
  {
   "cell_type": "code",
   "execution_count": 35,
   "id": "5536ec10",
   "metadata": {},
   "outputs": [
    {
     "name": "stderr",
     "output_type": "stream",
     "text": [
      "22/12/08 13:45:18 WARN TaskSetManager: Stage 143 contains a task of very large size (22336 KiB). The maximum recommended task size is 1000 KiB.\n",
      "22/12/08 13:45:26 WARN TaskSetManager: Stage 145 contains a task of very large size (22264 KiB). The maximum recommended task size is 1000 KiB.\n",
      "22/12/08 13:45:30 WARN TaskSetManager: Stage 147 contains a task of very large size (22264 KiB). The maximum recommended task size is 1000 KiB.\n",
      "22/12/08 13:45:33 WARN TaskSetManager: Stage 149 contains a task of very large size (22264 KiB). The maximum recommended task size is 1000 KiB.\n",
      "22/12/08 13:45:37 WARN TaskSetManager: Stage 151 contains a task of very large size (22336 KiB). The maximum recommended task size is 1000 KiB.\n",
      "22/12/08 13:45:41 WARN TaskSetManager: Stage 153 contains a task of very large size (22336 KiB). The maximum recommended task size is 1000 KiB.\n",
      "22/12/08 13:45:45 WARN TaskSetManager: Stage 155 contains a task of very large size (22336 KiB). The maximum recommended task size is 1000 KiB.\n",
      "22/12/08 13:45:49 WARN TaskSetManager: Stage 157 contains a task of very large size (22336 KiB). The maximum recommended task size is 1000 KiB.\n",
      "22/12/08 13:45:52 WARN TaskSetManager: Stage 159 contains a task of very large size (22336 KiB). The maximum recommended task size is 1000 KiB.\n",
      "22/12/08 13:45:56 WARN TaskSetManager: Stage 161 contains a task of very large size (22336 KiB). The maximum recommended task size is 1000 KiB.\n",
      "22/12/08 13:46:00 WARN TaskSetManager: Stage 163 contains a task of very large size (22264 KiB). The maximum recommended task size is 1000 KiB.\n",
      "22/12/08 13:46:04 WARN TaskSetManager: Stage 165 contains a task of very large size (22336 KiB). The maximum recommended task size is 1000 KiB.\n",
      "                                                                                \r"
     ]
    }
   ],
   "source": [
    "from pyspark.ml.classification import LogisticRegression, OneVsRest\n",
    "from pyspark.ml.evaluation import MulticlassClassificationEvaluator\n",
    "\n",
    "\n",
    "lr = LogisticRegression(maxIter=10, tol=1E-6, fitIntercept=True)\n",
    "ovr = OneVsRest(classifier=lr)\n",
    "ovrModel = lr.fit(combined_df)\n",
    "predictions = ovrModel.transform(test_set)"
   ]
  },
  {
   "cell_type": "code",
   "execution_count": null,
   "id": "c29e9669",
   "metadata": {},
   "outputs": [],
   "source": [
    "lr"
   ]
  },
  {
   "cell_type": "code",
   "execution_count": 40,
   "id": "d7b65cd7",
   "metadata": {},
   "outputs": [],
   "source": [
    "predictions = ovrModel.transform(test_set)"
   ]
  },
  {
   "cell_type": "code",
   "execution_count": 43,
   "id": "a6af805a",
   "metadata": {},
   "outputs": [],
   "source": [
    "evaluator = MulticlassClassificationEvaluator(metricName=\"accuracy\")\n",
    "accuracy = evaluator.evaluate(predictions)"
   ]
  },
  {
   "cell_type": "code",
   "execution_count": 85,
   "id": "f599bdd8",
   "metadata": {},
   "outputs": [],
   "source": [
    "# predictioxns = model.transform(test_set)"
   ]
  },
  {
   "cell_type": "code",
   "execution_count": 45,
   "id": "79948eaf",
   "metadata": {},
   "outputs": [],
   "source": [
    "result_test = predictions.select('true_label', 'prediction')\n",
    "# result_test = result_test.withColumnRenamed('predictedLabel', 'prediction')"
   ]
  },
  {
   "cell_type": "code",
   "execution_count": 47,
   "id": "7b58d248",
   "metadata": {},
   "outputs": [],
   "source": [
    "# result_test = predictions.select('true_label', 'predictedLabel')\n",
    "# result_test = result_test.withColumnRenamed('predictedLabel', 'prediction')"
   ]
  },
  {
   "cell_type": "code",
   "execution_count": 48,
   "id": "1682c4d8",
   "metadata": {},
   "outputs": [
    {
     "data": {
      "text/html": [
       "<div>\n",
       "<style scoped>\n",
       "    .dataframe tbody tr th:only-of-type {\n",
       "        vertical-align: middle;\n",
       "    }\n",
       "\n",
       "    .dataframe tbody tr th {\n",
       "        vertical-align: top;\n",
       "    }\n",
       "\n",
       "    .dataframe thead th {\n",
       "        text-align: right;\n",
       "    }\n",
       "</style>\n",
       "<table border=\"1\" class=\"dataframe\">\n",
       "  <thead>\n",
       "    <tr style=\"text-align: right;\">\n",
       "      <th></th>\n",
       "      <th>true_label</th>\n",
       "      <th>prediction</th>\n",
       "    </tr>\n",
       "  </thead>\n",
       "  <tbody>\n",
       "    <tr>\n",
       "      <th>0</th>\n",
       "      <td>2</td>\n",
       "      <td>2.0</td>\n",
       "    </tr>\n",
       "    <tr>\n",
       "      <th>1</th>\n",
       "      <td>0</td>\n",
       "      <td>0.0</td>\n",
       "    </tr>\n",
       "    <tr>\n",
       "      <th>2</th>\n",
       "      <td>2</td>\n",
       "      <td>2.0</td>\n",
       "    </tr>\n",
       "    <tr>\n",
       "      <th>3</th>\n",
       "      <td>2</td>\n",
       "      <td>2.0</td>\n",
       "    </tr>\n",
       "    <tr>\n",
       "      <th>4</th>\n",
       "      <td>0</td>\n",
       "      <td>2.0</td>\n",
       "    </tr>\n",
       "    <tr>\n",
       "      <th>...</th>\n",
       "      <td>...</td>\n",
       "      <td>...</td>\n",
       "    </tr>\n",
       "    <tr>\n",
       "      <th>4930</th>\n",
       "      <td>2</td>\n",
       "      <td>2.0</td>\n",
       "    </tr>\n",
       "    <tr>\n",
       "      <th>4931</th>\n",
       "      <td>2</td>\n",
       "      <td>2.0</td>\n",
       "    </tr>\n",
       "    <tr>\n",
       "      <th>4932</th>\n",
       "      <td>2</td>\n",
       "      <td>2.0</td>\n",
       "    </tr>\n",
       "    <tr>\n",
       "      <th>4933</th>\n",
       "      <td>1</td>\n",
       "      <td>1.0</td>\n",
       "    </tr>\n",
       "    <tr>\n",
       "      <th>4934</th>\n",
       "      <td>2</td>\n",
       "      <td>2.0</td>\n",
       "    </tr>\n",
       "  </tbody>\n",
       "</table>\n",
       "<p>4935 rows × 2 columns</p>\n",
       "</div>"
      ],
      "text/plain": [
       "      true_label  prediction\n",
       "0              2         2.0\n",
       "1              0         0.0\n",
       "2              2         2.0\n",
       "3              2         2.0\n",
       "4              0         2.0\n",
       "...          ...         ...\n",
       "4930           2         2.0\n",
       "4931           2         2.0\n",
       "4932           2         2.0\n",
       "4933           1         1.0\n",
       "4934           2         2.0\n",
       "\n",
       "[4935 rows x 2 columns]"
      ]
     },
     "execution_count": 48,
     "metadata": {},
     "output_type": "execute_result"
    }
   ],
   "source": [
    "result_test[['true_label','prediction']].toPandas()"
   ]
  },
  {
   "cell_type": "code",
   "execution_count": 49,
   "id": "bd488b3c",
   "metadata": {},
   "outputs": [],
   "source": [
    "result_test =  result_test[['true_label','prediction']].toPandas()"
   ]
  },
  {
   "cell_type": "code",
   "execution_count": 50,
   "id": "ae2c88a8",
   "metadata": {},
   "outputs": [],
   "source": [
    "result_test['prediction'] = result_test['prediction'].astype('int')"
   ]
  },
  {
   "cell_type": "code",
   "execution_count": 51,
   "id": "e3a2e98f",
   "metadata": {},
   "outputs": [
    {
     "data": {
      "text/plain": [
       "0.7860182370820669"
      ]
     },
     "execution_count": 51,
     "metadata": {},
     "output_type": "execute_result"
    }
   ],
   "source": [
    "result_test[result_test['true_label']== result_test['prediction']].shape[0]/result_test.shape[0]"
   ]
  },
  {
   "cell_type": "code",
   "execution_count": 52,
   "id": "027d6c52",
   "metadata": {},
   "outputs": [],
   "source": [
    "from sklearn.metrics import classification_report"
   ]
  },
  {
   "cell_type": "code",
   "execution_count": 53,
   "id": "9e3d9c05",
   "metadata": {},
   "outputs": [
    {
     "name": "stdout",
     "output_type": "stream",
     "text": [
      "              precision    recall  f1-score   support\n",
      "\n",
      "           0       0.69      0.71      0.70       767\n",
      "           1       0.35      0.62      0.44       546\n",
      "           2       0.94      0.83      0.88      3622\n",
      "\n",
      "    accuracy                           0.79      4935\n",
      "   macro avg       0.66      0.72      0.68      4935\n",
      "weighted avg       0.84      0.79      0.81      4935\n",
      "\n"
     ]
    }
   ],
   "source": [
    "from sklearn.metrics import classification_report\n",
    "print(classification_report(result_test.true_label, result_test.prediction))"
   ]
  },
  {
   "cell_type": "code",
   "execution_count": null,
   "id": "1d877ffe",
   "metadata": {},
   "outputs": [],
   "source": []
  },
  {
   "cell_type": "code",
   "execution_count": null,
   "id": "d511e1b1",
   "metadata": {},
   "outputs": [],
   "source": []
  }
 ],
 "metadata": {
  "kernelspec": {
   "display_name": "Python 3 (ipykernel)",
   "language": "python",
   "name": "python3"
  },
  "language_info": {
   "codemirror_mode": {
    "name": "ipython",
    "version": 3
   },
   "file_extension": ".py",
   "mimetype": "text/x-python",
   "name": "python",
   "nbconvert_exporter": "python",
   "pygments_lexer": "ipython3",
   "version": "3.9.2"
  }
 },
 "nbformat": 4,
 "nbformat_minor": 5
}
