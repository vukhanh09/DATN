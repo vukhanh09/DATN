{
 "cells": [
  {
   "cell_type": "code",
   "execution_count": 1,
   "id": "37d2702c",
   "metadata": {},
   "outputs": [],
   "source": [
    "from json import loads\n",
    "from pyspark.sql import SparkSession\n",
    "import warnings\n",
    "import pandas as pd\n",
    "warnings.filterwarnings(\"ignore\")\n",
    "from pyspark.sql.functions import col,from_json,udf,split,explode,lit,array,lower\n",
    "from pyspark.ml.feature import NGram\n",
    "from pyspark.sql.types import StructType,StructField, StringType, IntegerType,MapType,FloatType,ArrayType\n",
    "import numpy as np\n",
    "from pyspark.sql import functions as F\n",
    "from itertools import chain\n",
    "from sklearn.metrics import classification_report"
   ]
  },
  {
   "cell_type": "code",
   "execution_count": 38,
   "id": "6267fc88",
   "metadata": {},
   "outputs": [],
   "source": [
    "from pyspark.ml.classification import LogisticRegression\n",
    "from pyspark.ml.evaluation import MulticlassClassificationEvaluator\n",
    "from pyspark.ml.feature import CountVectorizer\n",
    "from pyspark.ml import Pipeline\n",
    "from pyspark.ml.feature import IDF\n",
    "from pyspark.ml.classification import RandomForestClassifier\n",
    "from pyspark.ml.tuning import CrossValidator, ParamGridBuilder\n",
    "from sklearn.metrics import classification_report,accuracy_score,precision_score,recall_score,f1_score\n",
    "from pyspark.ml.evaluation import MulticlassClassificationEvaluator"
   ]
  },
  {
   "cell_type": "code",
   "execution_count": 3,
   "id": "e11a80a6",
   "metadata": {},
   "outputs": [
    {
     "name": "stderr",
     "output_type": "stream",
     "text": [
      "22/12/09 17:28:34 WARN NativeCodeLoader: Unable to load native-hadoop library for your platform... using builtin-java classes where applicable\n",
      "Using Spark's default log4j profile: org/apache/spark/log4j-defaults.properties\n",
      "Setting default log level to \"WARN\".\n",
      "To adjust logging level use sc.setLogLevel(newLevel). For SparkR, use setLogLevel(newLevel).\n"
     ]
    }
   ],
   "source": [
    "spark = SparkSession.\\\n",
    "        builder.\\\n",
    "        appName(\"ml\").\\\n",
    "        master(\"spark://spark-master:7077\").\\\n",
    "        config(\"spark.executor.memory\", \"1024m\").\\\n",
    "        getOrCreate()"
   ]
  },
  {
   "cell_type": "code",
   "execution_count": 94,
   "id": "2f2426fd",
   "metadata": {},
   "outputs": [],
   "source": [
    "class SentimentModel:\n",
    "    \n",
    "    def __init__(self):\n",
    "        self.df_test = spark.read.parquet('hdfs://namenode:9000/ml/test_data')\n",
    "        self.df_train = spark.read.parquet('hdfs://namenode:9000/ml/train_data')\n",
    "        self.split_content()\n",
    "        self.convert_feature()\n",
    "        self.model = {}\n",
    "        \n",
    "    def set_weight(self, w_a = 5,w_b = 5, w_c = 1):\n",
    "        class_weights_spark = {0:w_a,1:w_b,2:w_c}\n",
    "        mapping_expr = F.create_map([F.lit(x) for x in chain(*class_weights_spark.items())])\n",
    "        self.train_idf = self.train_idf.withColumn(\"weight\", mapping_expr.getItem(F.col(\"label\")))\n",
    "        \n",
    "    def split_content(self):\n",
    "        self.train_set = self.df_train.select(split(self.df_train.clean_content, ' ').alias('cmt_token'),'clean_content','rating', 'label')\n",
    "        self.test_set = self.df_test.select(split(self.df_test.clean_content, ' ').alias('cmt_token'),'clean_content','rating', 'label','true_label')\n",
    "    \n",
    "    def convert_feature(self):\n",
    "        count = CountVectorizer(inputCol=\"cmt_token\", outputCol=\"rawFeatures\")\n",
    "        idf = IDF(inputCol=\"rawFeatures\", outputCol=\"featuresTFIDF\")\n",
    "        pipeline = Pipeline(stages=[count, idf])\n",
    "        self.model_tfidf = pipeline.fit(self.train_set)\n",
    "        self.train_idf = self.model_tfidf.transform(self.train_set)\n",
    "        self.test_idf = self.model_tfidf.transform(self.test_set)\n",
    "    \n",
    "    def model_logistic(self,weight):\n",
    "        if weight == True:\n",
    "            lr = LogisticRegression(maxIter=20,featuresCol = \"featuresTFIDF\", tol=1E-6,regParam=0.3, elasticNetParam=0,weightCol=\"weight\")\n",
    "        else:\n",
    "            lr = LogisticRegression(maxIter=20,featuresCol = \"featuresTFIDF\", tol=1E-6,regParam=0.3, elasticNetParam=0)\n",
    "        \n",
    "        paramGrid = ParamGridBuilder()\\\n",
    "                    .addGrid(lr.maxIter, [10, 20, 50])\\\n",
    "                    .addGrid(lr.regParam, [0.1,0.3,0.5])\\\n",
    "                    .addGrid(lr.elasticNetParam,  [0.0, 0.1, 0.2])\\\n",
    "                    .build()\n",
    "        evaluator = MulticlassClassificationEvaluator(metricName=\"accuracy\")\n",
    "\n",
    "        crossval = CrossValidator(estimator=lr,\n",
    "                                  estimatorParamMaps=paramGrid,\n",
    "                                  evaluator=evaluator,\n",
    "                                  numFolds=5) \n",
    "        model = crossval.fit(self.train_idf)\n",
    "        if weight == True:\n",
    "            self.model['weight_balance'] = model\n",
    "        else:\n",
    "            self.model['no_weight_balance'] = model\n",
    "        predictions = model.transform(self.test_idf)\n",
    "        return predictions"
   ]
  },
  {
   "cell_type": "code",
   "execution_count": 107,
   "id": "9d0aa3ea",
   "metadata": {},
   "outputs": [
    {
     "name": "stderr",
     "output_type": "stream",
     "text": [
      "                                                                                \r"
     ]
    }
   ],
   "source": [
    "model = SentimentModel()"
   ]
  },
  {
   "cell_type": "markdown",
   "id": "316dd545",
   "metadata": {},
   "source": [
    "# Oversampling"
   ]
  },
  {
   "cell_type": "code",
   "execution_count": 108,
   "id": "b45f9ccd",
   "metadata": {},
   "outputs": [],
   "source": [
    "lb0_cnt = model.train_set.filter(col('label') == 0).count()\n",
    "lb1_cnt = model.train_set.filter(col('label') == 1).count()\n",
    "lb2_cnt = model.train_set.filter(col('label') == 2).count()"
   ]
  },
  {
   "cell_type": "code",
   "execution_count": 109,
   "id": "b58a6798",
   "metadata": {},
   "outputs": [],
   "source": [
    "w_a = int(lb2_cnt/lb0_cnt)\n",
    "w_b = int(lb2_cnt/lb1_cnt)"
   ]
  },
  {
   "cell_type": "code",
   "execution_count": 110,
   "id": "b61c3ebb",
   "metadata": {},
   "outputs": [],
   "source": [
    "model.set_weight(w_a,w_b)"
   ]
  },
  {
   "cell_type": "markdown",
   "id": "2bf8d53e",
   "metadata": {},
   "source": [
    "## Weight balance"
   ]
  },
  {
   "cell_type": "code",
   "execution_count": null,
   "id": "08935101",
   "metadata": {},
   "outputs": [],
   "source": [
    "predictions_wb = model.model_logistic(weight=True)"
   ]
  },
  {
   "cell_type": "code",
   "execution_count": 112,
   "id": "a906ae9d",
   "metadata": {},
   "outputs": [],
   "source": [
    "# model.model['weight_balance'].getEstimatorParamMaps()[ np.argmax(model.model['weight_balance'].avgMetrics) ]"
   ]
  },
  {
   "cell_type": "code",
   "execution_count": 113,
   "id": "db3a31d2",
   "metadata": {},
   "outputs": [],
   "source": [
    "# model.model['weight_balance'].avgMetrics"
   ]
  },
  {
   "cell_type": "code",
   "execution_count": 114,
   "id": "6491c4a2",
   "metadata": {},
   "outputs": [
    {
     "name": "stderr",
     "output_type": "stream",
     "text": [
      "22/12/10 07:13:43 WARN DAGScheduler: Broadcasting large task binary with size 1643.4 KiB\n"
     ]
    }
   ],
   "source": [
    "result_wb = predictions_wb.select('true_label', 'prediction')\n",
    "result_wb = result_wb[['true_label','prediction']].toPandas()"
   ]
  },
  {
   "cell_type": "code",
   "execution_count": 115,
   "id": "4a17df32",
   "metadata": {},
   "outputs": [
    {
     "name": "stdout",
     "output_type": "stream",
     "text": [
      "accuracy_score:  0.8065099457504521\n",
      "prediction:  0.8367066733814391\n",
      "recall_score:  0.8065099457504521\n",
      "f1_score:  0.8183025153512631\n"
     ]
    }
   ],
   "source": [
    "print(f'accuracy_score: ',accuracy_score(result_wb.true_label, result_wb.prediction))\n",
    "print(f'prediction: ',precision_score(result_wb.true_label, result_wb.prediction, average='weighted'))\n",
    "print(f'recall_score: ',recall_score(result_wb.true_label, result_wb.prediction, average='weighted'))\n",
    "print(f'f1_score: ',f1_score(result_wb.true_label, result_wb.prediction, average='weighted'))"
   ]
  },
  {
   "cell_type": "code",
   "execution_count": 116,
   "id": "01aac30e",
   "metadata": {},
   "outputs": [
    {
     "name": "stdout",
     "output_type": "stream",
     "text": [
      "              precision    recall  f1-score   support\n",
      "\n",
      "           0       0.79      0.65      0.71       805\n",
      "           1       0.33      0.50      0.40       538\n",
      "           2       0.92      0.89      0.90      3634\n",
      "\n",
      "    accuracy                           0.81      4977\n",
      "   macro avg       0.68      0.68      0.67      4977\n",
      "weighted avg       0.84      0.81      0.82      4977\n",
      "\n"
     ]
    }
   ],
   "source": [
    "print(classification_report(result_wb.true_label, result_wb.prediction))"
   ]
  },
  {
   "cell_type": "markdown",
   "id": "289526e1",
   "metadata": {},
   "source": [
    "# No balance"
   ]
  },
  {
   "cell_type": "code",
   "execution_count": null,
   "id": "3eefea66",
   "metadata": {},
   "outputs": [],
   "source": [
    "predictions_no_wb = model.model_logistic(weight=False)"
   ]
  },
  {
   "cell_type": "code",
   "execution_count": 118,
   "id": "93b7aaf6",
   "metadata": {},
   "outputs": [
    {
     "name": "stderr",
     "output_type": "stream",
     "text": [
      "22/12/10 07:40:43 WARN DAGScheduler: Broadcasting large task binary with size 1643.5 KiB\n"
     ]
    }
   ],
   "source": [
    "result_nwb = predictions_no_wb.select('true_label', 'prediction')\n",
    "result_nwb = result_nwb[['true_label','prediction']].toPandas()"
   ]
  },
  {
   "cell_type": "code",
   "execution_count": 119,
   "id": "242ed680",
   "metadata": {},
   "outputs": [
    {
     "name": "stdout",
     "output_type": "stream",
     "text": [
      "accuracy_score:  0.7980711271850512\n",
      "prediction:  0.784149411368234\n",
      "recall_score:  0.7980711271850512\n",
      "f1_score:  0.7414852595580866\n"
     ]
    }
   ],
   "source": [
    "print(f'accuracy_score: ',accuracy_score(result_nwb.true_label, result_nwb.prediction))\n",
    "print(f'prediction: ',precision_score(result_nwb.true_label, result_nwb.prediction, average='weighted'))\n",
    "print(f'recall_score: ',recall_score(result_nwb.true_label, result_nwb.prediction, average='weighted'))\n",
    "print(f'f1_score: ',f1_score(result_nwb.true_label, result_nwb.prediction, average='weighted'))"
   ]
  },
  {
   "cell_type": "code",
   "execution_count": 120,
   "id": "71b70207",
   "metadata": {},
   "outputs": [
    {
     "name": "stdout",
     "output_type": "stream",
     "text": [
      "              precision    recall  f1-score   support\n",
      "\n",
      "           0       0.88      0.43      0.58       805\n",
      "           1       0.59      0.02      0.04       538\n",
      "           2       0.79      0.99      0.88      3634\n",
      "\n",
      "    accuracy                           0.80      4977\n",
      "   macro avg       0.75      0.48      0.50      4977\n",
      "weighted avg       0.78      0.80      0.74      4977\n",
      "\n"
     ]
    }
   ],
   "source": [
    "print(classification_report(result_nwb.true_label, result_nwb.prediction))"
   ]
  },
  {
   "cell_type": "markdown",
   "id": "e91c2223",
   "metadata": {},
   "source": [
    "# Analysis result"
   ]
  },
  {
   "cell_type": "markdown",
   "id": "1f052006",
   "metadata": {},
   "source": [
    "## Save model "
   ]
  },
  {
   "cell_type": "code",
   "execution_count": 125,
   "id": "ea9c8239",
   "metadata": {},
   "outputs": [],
   "source": [
    "model.model['weight_balance'].save('hdfs://namenode:9000/save_model/weight_balance')\n",
    "model.model['no_weight_balance'].save('hdfs://namenode:9000/save_model/no_weight_balance')"
   ]
  },
  {
   "cell_type": "code",
   "execution_count": 126,
   "id": "4dc8fd70",
   "metadata": {},
   "outputs": [
    {
     "data": {
      "text/plain": [
       "{Param(parent='LogisticRegression_9a1c83f8064e', name='maxIter', doc='max number of iterations (>= 0).'): 10,\n",
       " Param(parent='LogisticRegression_9a1c83f8064e', name='regParam', doc='regularization parameter (>= 0).'): 0.1,\n",
       " Param(parent='LogisticRegression_9a1c83f8064e', name='elasticNetParam', doc='the ElasticNet mixing parameter, in range [0, 1]. For alpha = 0, the penalty is an L2 penalty. For alpha = 1, it is an L1 penalty.'): 0.0}"
      ]
     },
     "execution_count": 126,
     "metadata": {},
     "output_type": "execute_result"
    }
   ],
   "source": [
    "model.model['weight_balance'].getEstimatorParamMaps()[ np.argmax(model.model['weight_balance'].avgMetrics) ]"
   ]
  },
  {
   "cell_type": "code",
   "execution_count": 127,
   "id": "d3a7e600",
   "metadata": {},
   "outputs": [
    {
     "data": {
      "text/plain": [
       "{Param(parent='LogisticRegression_aac6323f5e82', name='maxIter', doc='max number of iterations (>= 0).'): 10,\n",
       " Param(parent='LogisticRegression_aac6323f5e82', name='regParam', doc='regularization parameter (>= 0).'): 0.1,\n",
       " Param(parent='LogisticRegression_aac6323f5e82', name='elasticNetParam', doc='the ElasticNet mixing parameter, in range [0, 1]. For alpha = 0, the penalty is an L2 penalty. For alpha = 1, it is an L1 penalty.'): 0.0}"
      ]
     },
     "execution_count": 127,
     "metadata": {},
     "output_type": "execute_result"
    }
   ],
   "source": [
    "model.model['no_weight_balance'].getEstimatorParamMaps()[ np.argmax(model.model['weight_balance'].avgMetrics) ]"
   ]
  },
  {
   "cell_type": "code",
   "execution_count": 128,
   "id": "056c6862",
   "metadata": {},
   "outputs": [
    {
     "data": {
      "text/plain": [
       "[0.8035300288830529,\n",
       " 0.7698339339286016,\n",
       " 0.698711878893849,\n",
       " 0.8001721040312308,\n",
       " 0.6614500521615891,\n",
       " 0.5856481907129361,\n",
       " 0.798380588940723,\n",
       " 0.6052631292869556,\n",
       " 0.3993787689234043,\n",
       " 0.7980602241801211,\n",
       " 0.7449175079517412,\n",
       " 0.6989599970521885,\n",
       " 0.7894914084436643,\n",
       " 0.6657093028837562,\n",
       " 0.5674217497526841,\n",
       " 0.7845162449972907,\n",
       " 0.6073500159029633,\n",
       " 0.3993787689234043,\n",
       " 0.7963729143768001,\n",
       " 0.7453964639314838,\n",
       " 0.6994437558777391,\n",
       " 0.7889888313346793,\n",
       " 0.6654169621294412,\n",
       " 0.5675347893341465,\n",
       " 0.7845349973469451,\n",
       " 0.6074916152295076,\n",
       " 0.3993787689234043]"
      ]
     },
     "execution_count": 128,
     "metadata": {},
     "output_type": "execute_result"
    }
   ],
   "source": [
    "model.model['weight_balance'].avgMetrics"
   ]
  },
  {
   "cell_type": "code",
   "execution_count": 129,
   "id": "9ecf21ac",
   "metadata": {},
   "outputs": [
    {
     "data": {
      "text/plain": [
       "[0.8721661133880132,\n",
       " 0.8456654007614444,\n",
       " 0.8319067080232899,\n",
       " 0.8577680083462371,\n",
       " 0.8248937199570823,\n",
       " 0.8233131186857944,\n",
       " 0.8487448789619101,\n",
       " 0.8233288055950398,\n",
       " 0.8233099763044979,\n",
       " 0.8736308318282516,\n",
       " 0.8462833560879324,\n",
       " 0.8329286918888472,\n",
       " 0.8587997635941289,\n",
       " 0.8248937114057653,\n",
       " 0.8233131186857944,\n",
       " 0.8496324185096447,\n",
       " 0.8233288055950398,\n",
       " 0.8233099763044979,\n",
       " 0.8735146780953845,\n",
       " 0.846255015013958,\n",
       " 0.8329759342804166,\n",
       " 0.8585583378775808,\n",
       " 0.8248905851845851,\n",
       " 0.8233131186857944,\n",
       " 0.8494253401798622,\n",
       " 0.8233288055950398,\n",
       " 0.8233099763044979]"
      ]
     },
     "execution_count": 129,
     "metadata": {},
     "output_type": "execute_result"
    }
   ],
   "source": [
    "model.model['no_weight_balance'].avgMetrics"
   ]
  },
  {
   "cell_type": "code",
   "execution_count": null,
   "id": "9552f649",
   "metadata": {},
   "outputs": [],
   "source": []
  }
 ],
 "metadata": {
  "kernelspec": {
   "display_name": "Python 3 (ipykernel)",
   "language": "python",
   "name": "python3"
  },
  "language_info": {
   "codemirror_mode": {
    "name": "ipython",
    "version": 3
   },
   "file_extension": ".py",
   "mimetype": "text/x-python",
   "name": "python",
   "nbconvert_exporter": "python",
   "pygments_lexer": "ipython3",
   "version": "3.9.2"
  }
 },
 "nbformat": 4,
 "nbformat_minor": 5
}
